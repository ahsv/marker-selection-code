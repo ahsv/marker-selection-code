{
 "cells": [
  {
   "cell_type": "markdown",
   "metadata": {},
   "source": [
    "# Run the scVI method on the Paul data set\n",
    "\n",
    "We can only get 8GB of RAM to work with a GPU.  Thus, to run this, we must (in general): \n",
    "\n",
    "1) Load the data for a fold and fit the scVI model\n",
    "\n",
    "2) Get the needed information for feature selection from the scVI model.  This is, in general, a very large, dense matrix.  I call it the `stuff` in the following.\n",
    "\n",
    "3) Load the `stuff` when you are not running on GPUs so that you have more memory to play with.  Then use scvi and the `stuff` to find the markers and the \"p values\""
   ]
  },
  {
   "cell_type": "code",
   "execution_count": 1,
   "metadata": {},
   "outputs": [],
   "source": [
    "%load_ext autoreload\n",
    "%autoreload 2"
   ]
  },
  {
   "cell_type": "code",
   "execution_count": 2,
   "metadata": {},
   "outputs": [],
   "source": [
    "import numpy as np\n",
    "import pandas as pd"
   ]
  },
  {
   "cell_type": "code",
   "execution_count": 3,
   "metadata": {},
   "outputs": [
    {
     "name": "stdout",
     "output_type": "stream",
     "text": [
      "scanpy==1.3.2+25.g8ac9c03 anndata==0.6.11 numpy==1.14.6 scipy==1.1.0 pandas==0.23.4 scikit-learn==0.20.0 statsmodels==0.9.0 python-igraph==0.7.1 louvain==0.6.1 \n"
     ]
    }
   ],
   "source": [
    "import scanpy.api as sc\n",
    "\n",
    "sc.settings.verbosity = 3  # verbosity: errors (0), warnings (1), info (2), hints (3)\n",
    "sc.settings.set_figure_params(dpi=80, color_map='viridis')  # low dpi (dots per inch) yields small inline figures\n",
    "sc.logging.print_versions()"
   ]
  },
  {
   "cell_type": "code",
   "execution_count": 4,
   "metadata": {},
   "outputs": [],
   "source": [
    "import sys\n",
    "sys.path.append('/home/ahsvargo/xvalid')\n",
    "sys.path.append('/home/ahsvargo/.local/bin')"
   ]
  },
  {
   "cell_type": "code",
   "execution_count": 5,
   "metadata": {},
   "outputs": [],
   "source": [
    "from picturedrocks import Rocks\n",
    "from picturedrocks.performance import FoldTester, PerformanceReport, NearestCentroidClassifier"
   ]
  },
  {
   "cell_type": "markdown",
   "metadata": {},
   "source": [
    "## Load all of the data\n",
    "\n",
    "Don't need to do this in general.  We have made separate data files for each fold further below"
   ]
  },
  {
   "cell_type": "code",
   "execution_count": 44,
   "metadata": {},
   "outputs": [
    {
     "name": "stdout",
     "output_type": "stream",
     "text": [
      "WARNING: In Scanpy 0.*, this returned logarithmized data. Now it returns non-logarithmized data.\n"
     ]
    },
    {
     "name": "stderr",
     "output_type": "stream",
     "text": [
      "... storing 'paul15_clusters' as categorical\n"
     ]
    }
   ],
   "source": [
    "adata = sc.datasets.paul15()"
   ]
  },
  {
   "cell_type": "code",
   "execution_count": 45,
   "metadata": {},
   "outputs": [
    {
     "name": "stdout",
     "output_type": "stream",
     "text": [
      "Memory usage: current 2.42 GB, difference +2.42 GB\n"
     ]
    }
   ],
   "source": [
    "sc.logging.print_memory_usage()"
   ]
  },
  {
   "cell_type": "code",
   "execution_count": 46,
   "metadata": {},
   "outputs": [
    {
     "data": {
      "text/plain": [
       "AnnData object with n_obs × n_vars = 2730 × 3451 \n",
       "    obs: 'paul15_clusters'\n",
       "    uns: 'iroot'"
      ]
     },
     "execution_count": 46,
     "metadata": {},
     "output_type": "execute_result"
    }
   ],
   "source": [
    "adata"
   ]
  },
  {
   "cell_type": "code",
   "execution_count": 8,
   "metadata": {},
   "outputs": [],
   "source": [
    "adata.write(\"paul15-scanpy.h5ad\")"
   ]
  },
  {
   "cell_type": "markdown",
   "metadata": {},
   "source": [
    "Sparsity:"
   ]
  },
  {
   "cell_type": "code",
   "execution_count": 274,
   "metadata": {},
   "outputs": [
    {
     "data": {
      "text/plain": [
       "0.253284125321216"
      ]
     },
     "execution_count": 274,
     "metadata": {},
     "output_type": "execute_result"
    }
   ],
   "source": [
    "((adata.X != 0.0)*1.0).sum()/(adata.X.shape[0]*adata.X.shape[1])"
   ]
  },
  {
   "cell_type": "code",
   "execution_count": 47,
   "metadata": {},
   "outputs": [],
   "source": [
    "lookup = list(adata.obs['paul15_clusters'].cat.categories)\n",
    "yVec = np.array([lookup.index( adata.obs['paul15_clusters'][i] ) for i in range(adata.obs['paul15_clusters'].shape[0]) ])"
   ]
  },
  {
   "cell_type": "code",
   "execution_count": 48,
   "metadata": {},
   "outputs": [],
   "source": [
    "# paul\n",
    "data = Rocks(adata.X, yVec)"
   ]
  },
  {
   "cell_type": "markdown",
   "metadata": {},
   "source": [
    "## Make some folds\n",
    "\n",
    "Make some new folds for scVI testing.  These functions copied from the PicturedRocks class"
   ]
  },
  {
   "cell_type": "code",
   "execution_count": 20,
   "metadata": {},
   "outputs": [],
   "source": [
    "def kfoldindices(n, k, random=False):\n",
    "    basearray = np.arange(n)\n",
    "    if random:\n",
    "        np.random.shuffle(basearray)\n",
    "    lengthfloor = n//k\n",
    "    extra = n % k\n",
    "    cur = 0\n",
    "    while cur < n:\n",
    "        thislength = lengthfloor + 1 if extra > 0 else lengthfloor\n",
    "        yield basearray[cur:cur + thislength]\n",
    "        cur += thislength\n",
    "        extra -= 1 # this should be extra = max(extra - 1, 0),\n",
    "        #            but it doesn't matter\n",
    "        \n",
    "def makefolds(N, k=5, random=False):\n",
    "    folds = list(kfoldindices(N, k, random))\n",
    "    return folds"
   ]
  },
  {
   "cell_type": "code",
   "execution_count": 22,
   "metadata": {},
   "outputs": [],
   "source": [
    "myFolds = makefolds(data.N, random=True)"
   ]
  },
  {
   "cell_type": "code",
   "execution_count": 63,
   "metadata": {},
   "outputs": [],
   "source": [
    "ft = FoldTester(data)\n",
    "#ft.loadfolds(\"paul/paul15-scviFolds.npz\")"
   ]
  },
  {
   "cell_type": "code",
   "execution_count": 64,
   "metadata": {},
   "outputs": [],
   "source": [
    "ft.folds = myFolds"
   ]
  },
  {
   "cell_type": "code",
   "execution_count": 65,
   "metadata": {},
   "outputs": [
    {
     "data": {
      "text/plain": [
       "True"
      ]
     },
     "execution_count": 65,
     "metadata": {},
     "output_type": "execute_result"
    }
   ],
   "source": [
    "ft.validatefolds()"
   ]
  },
  {
   "cell_type": "markdown",
   "metadata": {},
   "source": [
    "Save the folds as well"
   ]
  },
  {
   "cell_type": "code",
   "execution_count": 28,
   "metadata": {},
   "outputs": [
    {
     "data": {
      "text/plain": [
       "list"
      ]
     },
     "execution_count": 28,
     "metadata": {},
     "output_type": "execute_result"
    }
   ],
   "source": [
    "type(myFolds)"
   ]
  },
  {
   "cell_type": "code",
   "execution_count": 29,
   "metadata": {},
   "outputs": [],
   "source": [
    "np.savez(\"paul15-scviFolds\", folds=np.array(myFolds))"
   ]
  },
  {
   "cell_type": "markdown",
   "metadata": {},
   "source": [
    "## Make the data files\n",
    "\n",
    "Need a separate file for each fold in the data - we need to run each fold separately since otherwise we use too much memory.  Remember that we train on the data this is NOT in the fold."
   ]
  },
  {
   "cell_type": "code",
   "execution_count": 51,
   "metadata": {},
   "outputs": [],
   "source": [
    "myFolds = np.load(\"paul15-scviFolds.npz\")[\"folds\"]"
   ]
  },
  {
   "cell_type": "code",
   "execution_count": 18,
   "metadata": {},
   "outputs": [
    {
     "name": "stdout",
     "output_type": "stream",
     "text": [
      "Writing fold 0 to file paul15-fold0.h5ad\n",
      "(2184, 3451)\n",
      "Writing fold 1 to file paul15-fold1.h5ad\n",
      "(2184, 3451)\n",
      "Writing fold 2 to file paul15-fold2.h5ad\n",
      "(2184, 3451)\n",
      "Writing fold 3 to file paul15-fold3.h5ad\n",
      "(2184, 3451)\n",
      "Writing fold 4 to file paul15-fold4.h5ad\n",
      "(2184, 3451)\n"
     ]
    }
   ],
   "source": [
    "for i,fold in enumerate(myFolds):\n",
    "    mask = np.zeros(data.N, dtype=bool)\n",
    "    mask[fold] = True\n",
    "    \n",
    "    fname = \"paul15-fold\" + str(i) + \".h5ad\"\n",
    "    print(\"Writing fold {} to file {}\".format(i,fname), flush=True)\n",
    "    currAdata = adata[~mask]\n",
    "    print(currAdata.X.shape, flush=True)\n",
    "    \n",
    "    currAdata.write(fname)"
   ]
  },
  {
   "cell_type": "markdown",
   "metadata": {},
   "source": [
    "## Start the scVI stuff and make the model\n",
    "\n",
    "The Paul dataset is small enough that we can collect all of the `stuff` for the folds in 8GB without restarting the kernel (as long as we delete the `stuff` at each step).  "
   ]
  },
  {
   "cell_type": "code",
   "execution_count": 11,
   "metadata": {},
   "outputs": [],
   "source": [
    "import scvi\n",
    "from scvi.dataset import AnnDataset\n",
    "from scvi.models import *\n",
    "from scvi.inference import UnsupervisedTrainer"
   ]
  },
  {
   "cell_type": "code",
   "execution_count": 32,
   "metadata": {},
   "outputs": [],
   "source": [
    "myFolds = np.load(\"paul15-scviFolds.npz\")[\"folds\"]"
   ]
  },
  {
   "cell_type": "code",
   "execution_count": 109,
   "metadata": {},
   "outputs": [],
   "source": [
    "currFold=4"
   ]
  },
  {
   "cell_type": "code",
   "execution_count": 110,
   "metadata": {},
   "outputs": [
    {
     "name": "stdout",
     "output_type": "stream",
     "text": [
      "File paul/paul15-fold4.h5ad already downloaded\n",
      "Preprocessing dataset\n",
      "Finished preprocessing dataset\n"
     ]
    }
   ],
   "source": [
    "data = AnnDataset(\"paul15-fold{}.h5ad\".format(currFold), save_path=\"paul/\")"
   ]
  },
  {
   "cell_type": "code",
   "execution_count": 111,
   "metadata": {},
   "outputs": [
    {
     "data": {
      "text/plain": [
       "array(['0610007L01Rik', '0610009O20Rik', '0610010K14Rik', ...,\n",
       "       'mKIAA1994', 'rp9', 'slc43a2'], dtype='<U18')"
      ]
     },
     "execution_count": 111,
     "metadata": {},
     "output_type": "execute_result"
    }
   ],
   "source": [
    "data.gene_names"
   ]
  },
  {
   "cell_type": "markdown",
   "metadata": {},
   "source": [
    "### Side note: the scVI object does not re-order the genes (as far as I can tell)\n",
    "\n",
    "Thus, we can use the indices of the genes that scVI chooses as the markers in our marker evaluations."
   ]
  },
  {
   "cell_type": "code",
   "execution_count": 112,
   "metadata": {},
   "outputs": [
    {
     "data": {
      "text/plain": [
       "True"
      ]
     },
     "execution_count": 112,
     "metadata": {},
     "output_type": "execute_result"
    }
   ],
   "source": [
    "np.all(np.array(adata.var.index) == data.gene_names)"
   ]
  },
  {
   "cell_type": "markdown",
   "metadata": {},
   "source": [
    "### Continuting: finish setting up the scVI object\n",
    "\n",
    "The number of samples - we need to input the labels as well."
   ]
  },
  {
   "cell_type": "code",
   "execution_count": 113,
   "metadata": {},
   "outputs": [
    {
     "data": {
      "text/plain": [
       "(2184, 1)"
      ]
     },
     "execution_count": 113,
     "metadata": {},
     "output_type": "execute_result"
    }
   ],
   "source": [
    "data.labels.shape"
   ]
  },
  {
   "cell_type": "code",
   "execution_count": 114,
   "metadata": {},
   "outputs": [
    {
     "data": {
      "text/plain": [
       "array([0.])"
      ]
     },
     "execution_count": 114,
     "metadata": {},
     "output_type": "execute_result"
    }
   ],
   "source": [
    "np.unique(data.labels)"
   ]
  },
  {
   "cell_type": "code",
   "execution_count": 115,
   "metadata": {},
   "outputs": [],
   "source": [
    "mask = np.zeros(adata.X.shape[0], dtype=bool)\n",
    "mask[myFolds[currFold]] = True\n",
    "data.labels = yVec[~mask].reshape((2184,1))"
   ]
  },
  {
   "cell_type": "code",
   "execution_count": 116,
   "metadata": {},
   "outputs": [
    {
     "data": {
      "text/plain": [
       "True"
      ]
     },
     "execution_count": 116,
     "metadata": {},
     "output_type": "execute_result"
    }
   ],
   "source": [
    "np.all(adata.X[~mask] == data.X)"
   ]
  },
  {
   "cell_type": "markdown",
   "metadata": {},
   "source": [
    "Ideally, each fold will contain samples from each cluster.  Sometimes, this is not possible.  But we should check anyways.  Need to tell the scVI object the number of labels."
   ]
  },
  {
   "cell_type": "code",
   "execution_count": 118,
   "metadata": {},
   "outputs": [
    {
     "data": {
      "text/plain": [
       "(19,)"
      ]
     },
     "execution_count": 118,
     "metadata": {},
     "output_type": "execute_result"
    }
   ],
   "source": [
    "np.unique(yVec[~mask]).shape"
   ]
  },
  {
   "cell_type": "code",
   "execution_count": 120,
   "metadata": {},
   "outputs": [],
   "source": [
    "data.n_labels = 19"
   ]
  },
  {
   "cell_type": "code",
   "execution_count": 121,
   "metadata": {},
   "outputs": [],
   "source": [
    "n_epochs=400\n",
    "lr=1e-3\n",
    "use_batches=False\n",
    "use_cuda=True"
   ]
  },
  {
   "cell_type": "code",
   "execution_count": 122,
   "metadata": {},
   "outputs": [
    {
     "data": {
      "text/plain": [
       "True"
      ]
     },
     "execution_count": 122,
     "metadata": {},
     "output_type": "execute_result"
    }
   ],
   "source": [
    "import torch\n",
    "torch.cuda.is_available()"
   ]
  },
  {
   "cell_type": "code",
   "execution_count": 123,
   "metadata": {},
   "outputs": [
    {
     "data": {
      "text/plain": [
       "1"
      ]
     },
     "execution_count": 123,
     "metadata": {},
     "output_type": "execute_result"
    }
   ],
   "source": [
    "torch.cuda.device_count()"
   ]
  },
  {
   "cell_type": "code",
   "execution_count": 124,
   "metadata": {},
   "outputs": [
    {
     "name": "stdout",
     "output_type": "stream",
     "text": [
      "training: 100%|██████████| 400/400 [01:15<00:00,  4.92it/s]\n"
     ]
    }
   ],
   "source": [
    "vae = VAE(data.nb_genes, n_batch=data.n_batches * use_batches)\n",
    "trainer = UnsupervisedTrainer(vae,\n",
    "                              data,\n",
    "                              train_size=0.75,\n",
    "                              use_cuda=use_cuda,\n",
    "                              frequency=5)\n",
    "trainer.train(n_epochs=n_epochs, lr=lr)"
   ]
  },
  {
   "cell_type": "markdown",
   "metadata": {},
   "source": [
    "## find \"p values\" for their fold"
   ]
  },
  {
   "cell_type": "code",
   "execution_count": 125,
   "metadata": {},
   "outputs": [],
   "source": [
    "stuff=None"
   ]
  },
  {
   "cell_type": "code",
   "execution_count": 126,
   "metadata": {},
   "outputs": [
    {
     "name": "stdout",
     "output_type": "stream",
     "text": [
      "CPU times: user 9.49 s, sys: 1.12 s, total: 10.6 s\n",
      "Wall time: 10.6 s\n"
     ]
    }
   ],
   "source": [
    "%%time\n",
    "stuff = trainer.train_set.differential_expression_stats()"
   ]
  },
  {
   "cell_type": "code",
   "execution_count": 127,
   "metadata": {},
   "outputs": [
    {
     "data": {
      "text/plain": [
       "128"
      ]
     },
     "execution_count": 127,
     "metadata": {},
     "output_type": "execute_result"
    }
   ],
   "source": [
    "trainer.train_set.data_loader_kwargs['batch_size']"
   ]
  },
  {
   "cell_type": "code",
   "execution_count": 128,
   "metadata": {},
   "outputs": [
    {
     "data": {
      "text/plain": [
       "(163800, 3451)"
      ]
     },
     "execution_count": 128,
     "metadata": {},
     "output_type": "execute_result"
    }
   ],
   "source": [
    "stuff[0].shape"
   ]
  },
  {
   "cell_type": "code",
   "execution_count": 129,
   "metadata": {},
   "outputs": [
    {
     "data": {
      "text/plain": [
       "numpy.ndarray"
      ]
     },
     "execution_count": 129,
     "metadata": {},
     "output_type": "execute_result"
    }
   ],
   "source": [
    "type(stuff[1])"
   ]
  },
  {
   "cell_type": "markdown",
   "metadata": {},
   "source": [
    "Save the `stuff` so that we can load it later for further analysis if needed."
   ]
  },
  {
   "cell_type": "code",
   "execution_count": 130,
   "metadata": {},
   "outputs": [],
   "source": [
    "np.savez(\"paul-scvi-fold{}-stuff\".format(currFold), stuff0=stuff[0], stuff1=stuff[1])"
   ]
  },
  {
   "cell_type": "markdown",
   "metadata": {},
   "source": [
    "### Try to get an idea of how large the `stuff` object will be.\n",
    "\n",
    "The bold headings below correspond to the data that was run with the correct fold structure (training on the points that aren't in the fold).\n",
    "\n",
    "I can't see any definite patterns.  Larger clusters get more samples in `stuff`"
   ]
  },
  {
   "cell_type": "markdown",
   "metadata": {},
   "source": [
    "**Fold 0**:"
   ]
  },
  {
   "cell_type": "code",
   "execution_count": 29,
   "metadata": {},
   "outputs": [
    {
     "data": {
      "text/plain": [
       "(array([ 0,  1,  2,  3,  4,  5,  6,  7,  8,  9, 10, 11, 12, 13, 14, 15, 16,\n",
       "        17, 18]),\n",
       " array([ 2400, 18800, 14100,  8200,  9700,  9700, 10300,  3700,  3400,\n",
       "         9300,  1400,  4500, 18700, 24600, 11200, 10500,  1200,   500,\n",
       "         1600]))"
      ]
     },
     "execution_count": 29,
     "metadata": {},
     "output_type": "execute_result"
    }
   ],
   "source": [
    "np.unique(stuff[1], return_counts=True)"
   ]
  },
  {
   "cell_type": "code",
   "execution_count": 30,
   "metadata": {},
   "outputs": [
    {
     "data": {
      "text/plain": [
       "(array([ 0,  1,  2,  3,  4,  5,  6,  7,  8,  9, 10, 11, 12, 13, 14, 15, 16,\n",
       "        17, 18]),\n",
       " array([ 34, 261, 198, 102, 135, 141, 138,  55,  45, 125,  21,  57, 241,\n",
       "        301, 138, 140,  18,   7,  27]))"
      ]
     },
     "execution_count": 30,
     "metadata": {},
     "output_type": "execute_result"
    }
   ],
   "source": [
    "np.unique(yVec[~mask], return_counts=True)"
   ]
  },
  {
   "cell_type": "markdown",
   "metadata": {},
   "source": [
    "Fold 1:"
   ]
  },
  {
   "cell_type": "code",
   "execution_count": 160,
   "metadata": {},
   "outputs": [
    {
     "data": {
      "text/plain": [
       "(array([ 0,  1,  2,  3,  4,  5,  6,  7,  8,  9, 10, 11, 12, 13, 14, 15, 16,\n",
       "        17, 18]),\n",
       " array([ 600, 5400, 3400, 1700, 1900, 2800, 2100, 1400, 1100, 2500,  300,\n",
       "        1500, 4500, 5300, 2900, 2600,  300,  100,  500]))"
      ]
     },
     "execution_count": 160,
     "metadata": {},
     "output_type": "execute_result"
    }
   ],
   "source": [
    "np.unique(stuff[1], return_counts=True)"
   ]
  },
  {
   "cell_type": "code",
   "execution_count": 162,
   "metadata": {},
   "outputs": [
    {
     "data": {
      "text/plain": [
       "(array([ 0,  1,  2,  3,  4,  5,  6,  7,  8,  9, 10, 11, 12, 13, 14, 15, 16,\n",
       "        17, 18]),\n",
       " array([ 7, 78, 52, 25, 32, 34, 23, 16, 16, 30,  3, 16, 60, 71, 36, 32,  4,\n",
       "         2,  9]))"
      ]
     },
     "execution_count": 162,
     "metadata": {},
     "output_type": "execute_result"
    }
   ],
   "source": [
    "np.unique(yVec[myFolds[1]], return_counts=True)"
   ]
  },
  {
   "cell_type": "markdown",
   "metadata": {},
   "source": [
    "Fold 2:"
   ]
  },
  {
   "cell_type": "code",
   "execution_count": 185,
   "metadata": {},
   "outputs": [
    {
     "data": {
      "text/plain": [
       "(array([ 0,  1,  2,  3,  4,  5,  6,  7,  8,  9, 10, 11, 12, 13, 14, 15, 16,\n",
       "        18]),\n",
       " array([ 500, 4500, 2900, 1500, 2900, 2600, 2800,  600,  800, 2700,  700,\n",
       "        1400, 5000, 5500, 3000, 2300,  400,  800]))"
      ]
     },
     "execution_count": 185,
     "metadata": {},
     "output_type": "execute_result"
    }
   ],
   "source": [
    "np.unique(stuff[1], return_counts=True)"
   ]
  },
  {
   "cell_type": "code",
   "execution_count": 186,
   "metadata": {},
   "outputs": [
    {
     "data": {
      "text/plain": [
       "(array([ 0,  1,  2,  3,  4,  5,  6,  7,  8,  9, 10, 11, 12, 13, 14, 15, 16,\n",
       "        17, 18]),\n",
       " array([ 7, 62, 49, 22, 36, 36, 32,  8, 10, 34,  7, 16, 63, 76, 38, 35,  5,\n",
       "         2,  8]))"
      ]
     },
     "execution_count": 186,
     "metadata": {},
     "output_type": "execute_result"
    }
   ],
   "source": [
    "np.unique(yVec[myFolds[2]], return_counts=True)"
   ]
  },
  {
   "cell_type": "markdown",
   "metadata": {},
   "source": [
    "**Fold 3**:"
   ]
  },
  {
   "cell_type": "code",
   "execution_count": 107,
   "metadata": {},
   "outputs": [
    {
     "data": {
      "text/plain": [
       "(array([ 0,  1,  2,  3,  4,  5,  6,  7,  8,  9, 10, 11, 12, 13, 14, 15, 16,\n",
       "        17, 18]),\n",
       " array([ 2400, 19400, 15900,  7100, 11500, 10700,  8300,  3900,  3900,\n",
       "        10100,  1700,  3700, 17400, 22400, 11200, 10100,   900,   700,\n",
       "         2500]))"
      ]
     },
     "execution_count": 107,
     "metadata": {},
     "output_type": "execute_result"
    }
   ],
   "source": [
    "np.unique(stuff[1], return_counts=True)"
   ]
  },
  {
   "cell_type": "code",
   "execution_count": 108,
   "metadata": {},
   "outputs": [
    {
     "data": {
      "text/plain": [
       "(array([ 0,  1,  2,  3,  4,  5,  6,  7,  8,  9, 10, 11, 12, 13, 14, 15, 16,\n",
       "        17, 18]),\n",
       " array([ 34, 267, 202,  96, 147, 141, 118,  54,  52, 123,  22,  53, 242,\n",
       "        295, 157, 130,  15,   8,  28]))"
      ]
     },
     "execution_count": 108,
     "metadata": {},
     "output_type": "execute_result"
    }
   ],
   "source": [
    "np.unique(yVec[~mask], return_counts=True)"
   ]
  },
  {
   "cell_type": "markdown",
   "metadata": {},
   "source": [
    "**Fold 4**:"
   ]
  },
  {
   "cell_type": "code",
   "execution_count": 131,
   "metadata": {},
   "outputs": [
    {
     "data": {
      "text/plain": [
       "(array([ 0,  1,  2,  3,  4,  5,  6,  7,  8,  9, 10, 11, 12, 13, 14, 15, 16,\n",
       "        17, 18]),\n",
       " array([ 2500, 20600, 14700,  7600, 10700, 10200,  9300,  3900,  3700,\n",
       "         9400,  2100,  4600, 17500, 22700, 10800,  9300,  1600,   500,\n",
       "         2100]))"
      ]
     },
     "execution_count": 131,
     "metadata": {},
     "output_type": "execute_result"
    }
   ],
   "source": [
    "np.unique(stuff[1], return_counts=True)"
   ]
  },
  {
   "cell_type": "code",
   "execution_count": 132,
   "metadata": {},
   "outputs": [
    {
     "data": {
      "text/plain": [
       "(array([ 0,  1,  2,  3,  4,  5,  6,  7,  8,  9, 10, 11, 12, 13, 14, 15, 16,\n",
       "        17, 18]),\n",
       " array([ 32, 270, 193,  97, 146, 134, 133,  51,  55, 122,  27,  60, 240,\n",
       "        297, 151, 125,  20,   7,  24]))"
      ]
     },
     "execution_count": 132,
     "metadata": {},
     "output_type": "execute_result"
    }
   ],
   "source": [
    "np.unique(yVec[~mask], return_counts=True)"
   ]
  },
  {
   "cell_type": "markdown",
   "metadata": {},
   "source": [
    "In fold 2: We don't even sample for cluster 17... not sure how this works at all.  Certainly can't find markers for cluster 17 in this case.  I don't think this matters too much for our analysis but still... not the greatest situation"
   ]
  },
  {
   "cell_type": "markdown",
   "metadata": {},
   "source": [
    "The size of the matrix seems to be constant depending on the number of genes, but spread around the different clusters in a different way each time.  The way that it is spread out depends on the number of sample points from the cluster"
   ]
  },
  {
   "cell_type": "code",
   "execution_count": 133,
   "metadata": {},
   "outputs": [
    {
     "data": {
      "text/plain": [
       "(array([ 0,  1,  2,  3,  4,  5,  6,  7,  8,  9, 10, 11, 12, 13, 14, 15, 16,\n",
       "        17, 18]),\n",
       " array([ 43, 329, 246, 124, 180, 173, 167,  68,  63, 153,  30,  69, 300,\n",
       "        373, 186, 164,  22,   9,  31]))"
      ]
     },
     "execution_count": 133,
     "metadata": {},
     "output_type": "execute_result"
    }
   ],
   "source": [
    "np.unique(yVec, return_counts=True)"
   ]
  },
  {
   "cell_type": "markdown",
   "metadata": {},
   "source": [
    "## Process the `stuff` to find the p-values and markers\n",
    "\n",
    "You need about 8 GB to run this next part... Probably restart the kernel and run off of gpus if you want to do the following:"
   ]
  },
  {
   "cell_type": "code",
   "execution_count": 8,
   "metadata": {},
   "outputs": [],
   "source": [
    "dayta = np.load(\"paul15-scvi-markerData.npz\")\n",
    "stuff = (dayta['mat'], dayta['vec'])"
   ]
  },
  {
   "cell_type": "code",
   "execution_count": 6,
   "metadata": {},
   "outputs": [],
   "source": [
    "M_sampling = 100\n",
    "\n",
    "M_permutation = 100000\n",
    "permutation = False"
   ]
  },
  {
   "cell_type": "code",
   "execution_count": 35,
   "metadata": {},
   "outputs": [],
   "source": [
    "currFold = 4"
   ]
  },
  {
   "cell_type": "code",
   "execution_count": 36,
   "metadata": {},
   "outputs": [
    {
     "name": "stdout",
     "output_type": "stream",
     "text": [
      "Read data from paul-scvi-fold4-stuff.npz\n"
     ]
    }
   ],
   "source": [
    "fname = \"paul-scvi-fold{}-stuff.npz\".format(currFold)\n",
    "file = np.load(fname)\n",
    "stuff = (file[\"stuff0\"], file[\"stuff1\"])\n",
    "print(\"Read data from {}\".format(fname))"
   ]
  },
  {
   "cell_type": "code",
   "execution_count": 37,
   "metadata": {},
   "outputs": [
    {
     "data": {
      "text/plain": [
       "(163800, 3451)"
      ]
     },
     "execution_count": 37,
     "metadata": {},
     "output_type": "execute_result"
    }
   ],
   "source": [
    "stuff[0].shape"
   ]
  },
  {
   "cell_type": "markdown",
   "metadata": {},
   "source": [
    "Markers for one cluster:"
   ]
  },
  {
   "cell_type": "code",
   "execution_count": 222,
   "metadata": {},
   "outputs": [
    {
     "name": "stdout",
     "output_type": "stream",
     "text": [
      "CPU times: user 2.25 s, sys: 1.78 s, total: 4.03 s\n",
      "Wall time: 4.04 s\n"
     ]
    }
   ],
   "source": [
    "%%time\n",
    "pvals0 = scvi.inference.posterior.get_bayes_factors(stuff[0], stuff[1], 0, M_permutation=M_permutation,\n",
    "                                                   permutation=permutation)"
   ]
  },
  {
   "cell_type": "markdown",
   "metadata": {},
   "source": [
    "Markers for all clusters:"
   ]
  },
  {
   "cell_type": "code",
   "execution_count": 38,
   "metadata": {},
   "outputs": [
    {
     "name": "stdout",
     "output_type": "stream",
     "text": [
      "0\n",
      "1\n",
      "2\n",
      "3\n",
      "4\n",
      "5\n",
      "6\n",
      "7\n",
      "8\n",
      "9\n",
      "10\n",
      "11\n",
      "12\n",
      "13\n",
      "14\n",
      "15\n",
      "16\n",
      "17\n",
      "18\n",
      "CPU times: user 1min 34s, sys: 1min 13s, total: 2min 48s\n",
      "Wall time: 2min 49s\n"
     ]
    }
   ],
   "source": [
    "%%time\n",
    "allMarks = []\n",
    "allPvals = []\n",
    "\n",
    "for clust in np.unique(stuff[1]):\n",
    "    print(clust, flush=True)\n",
    "    \n",
    "    pvals = scvi.inference.posterior.get_bayes_factors(stuff[0], stuff[1], clust, M_permutation=M_permutation,\n",
    "                                                   permutation=permutation)\n",
    "    markers = np.flipud(np.argsort(np.abs(pvals)))\n",
    "    allMarks.append(markers)\n",
    "    \n",
    "    allPvals.append(pvals)\n",
    "    \n",
    "allMarks=np.array(allMarks)"
   ]
  },
  {
   "cell_type": "code",
   "execution_count": 39,
   "metadata": {},
   "outputs": [
    {
     "data": {
      "text/plain": [
       "array([[1421, 1422,  472, ..., 1352, 2530, 3295],\n",
       "       [2186, 1121, 1191, ..., 1798,  503, 1548],\n",
       "       [1978, 2290,  302, ..., 1714, 3273, 2514],\n",
       "       ...,\n",
       "       [2391, 1842,  402, ..., 2270, 2674, 1184],\n",
       "       [ 262, 1745, 1756, ...,   53, 2972, 1752],\n",
       "       [ 627,  609, 2758, ...,  928, 2234, 3302]])"
      ]
     },
     "execution_count": 39,
     "metadata": {},
     "output_type": "execute_result"
    }
   ],
   "source": [
    "allMarks"
   ]
  },
  {
   "cell_type": "code",
   "execution_count": 40,
   "metadata": {},
   "outputs": [],
   "source": [
    "np.savez(\"paul15-scvi-marks-fold{}\".format(currFold), allMarks)\n",
    "np.savez(\"paul15-scvi-pvals-fold{}\".format(currFold), allPvals)"
   ]
  },
  {
   "cell_type": "code",
   "execution_count": 75,
   "metadata": {},
   "outputs": [
    {
     "data": {
      "text/plain": [
       "-3.2278776806652867"
      ]
     },
     "execution_count": 75,
     "metadata": {},
     "output_type": "execute_result"
    }
   ],
   "source": [
    "pvals0[markers[102]]"
   ]
  },
  {
   "cell_type": "code",
   "execution_count": 58,
   "metadata": {},
   "outputs": [],
   "source": [
    "markers = np.flipud(np.argsort(np.abs(pvals0)))"
   ]
  },
  {
   "cell_type": "markdown",
   "metadata": {},
   "source": [
    "Looking at the cutoff method for selecting markers, as suggested in the scVI paper"
   ]
  },
  {
   "cell_type": "code",
   "execution_count": 67,
   "metadata": {},
   "outputs": [
    {
     "name": "stdout",
     "output_type": "stream",
     "text": [
      "141\n"
     ]
    }
   ],
   "source": [
    "mini = 0\n",
    "for i in range(markers.shape[0]):\n",
    "    if np.abs(pvals0[markers[i]]) >= 3.0:\n",
    "        if i > mini:\n",
    "            mini = i\n",
    "            \n",
    "print(mini)\n",
    "        "
   ]
  },
  {
   "cell_type": "code",
   "execution_count": 99,
   "metadata": {},
   "outputs": [
    {
     "data": {
      "text/plain": [
       "AnnData object with n_obs × n_vars = 2730 × 3451 \n",
       "    obs: 'paul15_clusters'\n",
       "    uns: 'iroot'"
      ]
     },
     "execution_count": 99,
     "metadata": {},
     "output_type": "execute_result"
    }
   ],
   "source": [
    "adata"
   ]
  },
  {
   "cell_type": "markdown",
   "metadata": {},
   "source": [
    "## Just look at these markers a little bit with picturedRocks\n",
    "\n",
    "We have not done any cross-validation, so we can't really make any conclusions based on this.  But it is nice to see it anyways."
   ]
  },
  {
   "cell_type": "code",
   "execution_count": 101,
   "metadata": {},
   "outputs": [],
   "source": [
    "from picturedrocks import Rocks\n",
    "from picturedrocks.performance import FoldTester, PerformanceReport, NearestCentroidClassifier"
   ]
  },
  {
   "cell_type": "code",
   "execution_count": 102,
   "metadata": {},
   "outputs": [],
   "source": [
    "test = Rocks(adata.X, yVec)"
   ]
  },
  {
   "cell_type": "code",
   "execution_count": 103,
   "metadata": {},
   "outputs": [],
   "source": [
    "test.normalize(totalexpr=10000, log=True)"
   ]
  },
  {
   "cell_type": "code",
   "execution_count": 264,
   "metadata": {},
   "outputs": [],
   "source": [
    "ft = FoldTester(test)\n",
    "ft.folds=myFolds"
   ]
  },
  {
   "cell_type": "code",
   "execution_count": 201,
   "metadata": {},
   "outputs": [
    {
     "name": "stdout",
     "output_type": "stream",
     "text": [
      "markers per cluster: 2\n",
      "markers per cluster: 4\n",
      "markers per cluster: 6\n",
      "markers per cluster: 8\n",
      "markers per cluster: 10\n",
      "markers per cluster: 12\n",
      "markers per cluster: 14\n",
      "markers per cluster: 16\n",
      "markers per cluster: 18\n",
      "markers per cluster: 20\n",
      "markers per cluster: 25\n",
      "markers per cluster: 30\n",
      "markers per cluster: 35\n",
      "markers per cluster: 40\n",
      "markers per cluster: 45\n",
      "markers per cluster: 50\n",
      "markers per cluster: 55\n",
      "markers per cluster: 60\n"
     ]
    }
   ],
   "source": [
    "marks_list = [2,4,6,8,10,12,14,16,18,20,25,30,35,40,45,50,55,60]\n",
    "xlist = []\n",
    "ylist = []\n",
    "\n",
    "for marks_per_clust in marks_list:\n",
    "    \n",
    "    print(\"markers per cluster: {}\".format(marks_per_clust))\n",
    "    myMarks = [list(table[:marks_per_clust]) for table in allMarks]\n",
    "    myMarks = list(set().union(*myMarks))\n",
    "    \n",
    "    xlist.append(len(myMarks))\n",
    "    \n",
    "    cla = NearestCentroidClassifier()\n",
    "    cla.train(Rocks(test.X[:, myMarks], test.y))\n",
    "    yTest = cla.test(test.X[:, myMarks], False)\n",
    "    \n",
    "    ylist.append(np.sum( (yVec.flatten() != yTest)*1.0))"
   ]
  },
  {
   "cell_type": "markdown",
   "metadata": {},
   "source": [
    "Compare the the values in `graphs.ipynb` to see how these compare.  This looks really bad.  "
   ]
  },
  {
   "cell_type": "code",
   "execution_count": 202,
   "metadata": {},
   "outputs": [
    {
     "data": {
      "text/plain": [
       "array([1597, 1228, 1062, 1048,  989,  959,  928,  890,  866,  851,  808,\n",
       "        752,  730,  719,  710,  698,  678,  655])"
      ]
     },
     "execution_count": 202,
     "metadata": {},
     "output_type": "execute_result"
    }
   ],
   "source": [
    "np.array(ylist, dtype=int)"
   ]
  },
  {
   "cell_type": "code",
   "execution_count": 203,
   "metadata": {},
   "outputs": [
    {
     "data": {
      "text/plain": [
       "array([ 36,  72, 106, 141, 177, 211, 246, 279, 310, 343, 425, 504, 583,\n",
       "       658, 731, 810, 882, 942])"
      ]
     },
     "execution_count": 203,
     "metadata": {},
     "output_type": "execute_result"
    }
   ],
   "source": [
    "np.array(xlist)"
   ]
  },
  {
   "cell_type": "code",
   "execution_count": 140,
   "metadata": {},
   "outputs": [
    {
     "data": {
      "text/plain": [
       "(2730, 3451)"
      ]
     },
     "execution_count": 140,
     "metadata": {},
     "output_type": "execute_result"
    }
   ],
   "source": [
    "test.X.shape"
   ]
  },
  {
   "cell_type": "markdown",
   "metadata": {},
   "source": [
    "So scVI seems to perform terribly on this data set.  Not sure what's going on here..."
   ]
  },
  {
   "cell_type": "markdown",
   "metadata": {},
   "source": [
    "Investigating more: it actually does quite well when you include more genes.  Not sure how well, since there is no cross-validation.  Take care of that soon.  But.  We (essentially) monotonically converge to the base rate as we increase the number of markers that we are looking at.\n",
    "\n",
    "It does seem to do worse when we are looking at small numbers of markers, however.  Interesting stuff."
   ]
  },
  {
   "cell_type": "markdown",
   "metadata": {},
   "source": [
    "Explore with the markers from one cluster - are we making mistakes?  We don't get many more cells correct when we include the markers for all clusters..."
   ]
  },
  {
   "cell_type": "code",
   "execution_count": 69,
   "metadata": {},
   "outputs": [],
   "source": [
    "cla = NearestCentroidClassifier()\n",
    "numMarks = 141\n",
    "currMarks = markers[:numMarks]\n",
    "\n",
    "cla.train(Rocks(test.X[:, currMarks], test.y))\n",
    "yTest = cla.test(test.X[:, currMarks], False)"
   ]
  },
  {
   "cell_type": "code",
   "execution_count": 70,
   "metadata": {},
   "outputs": [
    {
     "data": {
      "text/plain": [
       "0.41794871794871796"
      ]
     },
     "execution_count": 70,
     "metadata": {},
     "output_type": "execute_result"
    }
   ],
   "source": [
    "np.sum( (yVec.flatten() != yTest)*1.0)/2730."
   ]
  },
  {
   "cell_type": "code",
   "execution_count": 71,
   "metadata": {},
   "outputs": [
    {
     "data": {
      "text/plain": [
       "1141.0"
      ]
     },
     "execution_count": 71,
     "metadata": {},
     "output_type": "execute_result"
    }
   ],
   "source": [
    "np.sum( (yVec.flatten() != yTest)*1.0)"
   ]
  },
  {
   "cell_type": "markdown",
   "metadata": {},
   "source": [
    "## The full cross-validation analysis\n",
    "\n",
    "Finding the number of errors using the Rocks object.  You don't need to run this - all of this now taken care of in `pvalue-classification-errors.ipynb` "
   ]
  },
  {
   "cell_type": "code",
   "execution_count": 41,
   "metadata": {},
   "outputs": [],
   "source": [
    "path=\"./\"\n",
    "pvalMarkerList = []\n",
    "for fold in range(5):\n",
    "    dayta = np.load(path + \"paul15-scvi-marks-fold\" + str(fold) + \".npz\")\n",
    "    pvalMarkerList.append(dayta['arr_0'])"
   ]
  },
  {
   "cell_type": "code",
   "execution_count": 42,
   "metadata": {},
   "outputs": [
    {
     "data": {
      "text/plain": [
       "5"
      ]
     },
     "execution_count": 42,
     "metadata": {},
     "output_type": "execute_result"
    }
   ],
   "source": [
    "len(pvalMarkerList)"
   ]
  },
  {
   "cell_type": "markdown",
   "metadata": {},
   "source": [
    "`data` is a PicturedRocks object that is created at the start of this notebook"
   ]
  },
  {
   "cell_type": "code",
   "execution_count": 62,
   "metadata": {},
   "outputs": [],
   "source": [
    "data.normalize(totalexpr=10000, log=True)"
   ]
  },
  {
   "cell_type": "code",
   "execution_count": 250,
   "metadata": {},
   "outputs": [
    {
     "data": {
      "text/plain": [
       "[[647,\n",
       "  3211,\n",
       "  2707,\n",
       "  1953,\n",
       "  162,\n",
       "  1450,\n",
       "  2093,\n",
       "  2223,\n",
       "  561,\n",
       "  819,\n",
       "  1976,\n",
       "  2937,\n",
       "  1597,\n",
       "  1981,\n",
       "  1727,\n",
       "  2496,\n",
       "  1346,\n",
       "  1870,\n",
       "  724,\n",
       "  1876,\n",
       "  1751,\n",
       "  2264,\n",
       "  2647,\n",
       "  1367,\n",
       "  986,\n",
       "  2912,\n",
       "  2787,\n",
       "  100,\n",
       "  1386,\n",
       "  3179,\n",
       "  3052,\n",
       "  2667,\n",
       "  619,\n",
       "  1774,\n",
       "  2290,\n",
       "  2418,\n",
       "  631,\n",
       "  3449],\n",
       " [2307,\n",
       "  2824,\n",
       "  137,\n",
       "  266,\n",
       "  136,\n",
       "  142,\n",
       "  1935,\n",
       "  527,\n",
       "  2590,\n",
       "  1827,\n",
       "  2473,\n",
       "  1962,\n",
       "  2729,\n",
       "  1193,\n",
       "  1709,\n",
       "  302,\n",
       "  2350,\n",
       "  1588,\n",
       "  1212,\n",
       "  1344,\n",
       "  2245,\n",
       "  2250,\n",
       "  2763,\n",
       "  2642,\n",
       "  220,\n",
       "  1119,\n",
       "  2912,\n",
       "  225,\n",
       "  2400,\n",
       "  2273,\n",
       "  1764,\n",
       "  3429,\n",
       "  3052,\n",
       "  365,\n",
       "  1524,\n",
       "  1531,\n",
       "  2301,\n",
       "  1406],\n",
       " [2435,\n",
       "  1284,\n",
       "  1421,\n",
       "  1422,\n",
       "  2959,\n",
       "  911,\n",
       "  1429,\n",
       "  2331,\n",
       "  162,\n",
       "  2851,\n",
       "  803,\n",
       "  552,\n",
       "  1705,\n",
       "  173,\n",
       "  949,\n",
       "  1975,\n",
       "  2361,\n",
       "  1978,\n",
       "  316,\n",
       "  3261,\n",
       "  190,\n",
       "  2113,\n",
       "  2116,\n",
       "  2893,\n",
       "  80,\n",
       "  1745,\n",
       "  856,\n",
       "  475,\n",
       "  221,\n",
       "  1503,\n",
       "  483,\n",
       "  1636,\n",
       "  613,\n",
       "  1258,\n",
       "  2165,\n",
       "  2295],\n",
       " [262,\n",
       "  1550,\n",
       "  3219,\n",
       "  790,\n",
       "  793,\n",
       "  413,\n",
       "  1949,\n",
       "  1438,\n",
       "  290,\n",
       "  36,\n",
       "  2729,\n",
       "  171,\n",
       "  1707,\n",
       "  440,\n",
       "  827,\n",
       "  188,\n",
       "  3390,\n",
       "  713,\n",
       "  719,\n",
       "  2388,\n",
       "  2644,\n",
       "  854,\n",
       "  2390,\n",
       "  1367,\n",
       "  2906,\n",
       "  3290,\n",
       "  1119,\n",
       "  2658,\n",
       "  485,\n",
       "  1384,\n",
       "  2281,\n",
       "  1519,\n",
       "  1903,\n",
       "  624,\n",
       "  3315,\n",
       "  627,\n",
       "  2172,\n",
       "  125],\n",
       " [1538,\n",
       "  4,\n",
       "  262,\n",
       "  1287,\n",
       "  1926,\n",
       "  1418,\n",
       "  2958,\n",
       "  1935,\n",
       "  272,\n",
       "  1697,\n",
       "  419,\n",
       "  1061,\n",
       "  2472,\n",
       "  2473,\n",
       "  2348,\n",
       "  2093,\n",
       "  1076,\n",
       "  953,\n",
       "  2880,\n",
       "  2113,\n",
       "  577,\n",
       "  964,\n",
       "  1224,\n",
       "  2510,\n",
       "  850,\n",
       "  1878,\n",
       "  736,\n",
       "  1125,\n",
       "  1638,\n",
       "  1383,\n",
       "  490,\n",
       "  235,\n",
       "  1006,\n",
       "  1390,\n",
       "  632,\n",
       "  2431]]"
      ]
     },
     "execution_count": 250,
     "metadata": {},
     "output_type": "execute_result"
    }
   ],
   "source": [
    " [list(set().union(*table[:,:2])) for table in pvalMarkerList]"
   ]
  },
  {
   "cell_type": "code",
   "execution_count": 254,
   "metadata": {},
   "outputs": [
    {
     "data": {
      "text/plain": [
       "array([[1386, 2707],\n",
       "       [1597,  631],\n",
       "       [2290, 2912],\n",
       "       [1870,  561],\n",
       "       [3449, 1953],\n",
       "       [1751, 3211],\n",
       "       [ 724, 3052],\n",
       "       [2787, 3179],\n",
       "       [1976, 1346],\n",
       "       [2264, 2418],\n",
       "       [2667, 1727],\n",
       "       [2496, 1450],\n",
       "       [ 162,  619],\n",
       "       [2093, 1876],\n",
       "       [2223, 2647],\n",
       "       [1774, 1367],\n",
       "       [ 647, 1981],\n",
       "       [2937,  986],\n",
       "       [ 819,  100]])"
      ]
     },
     "execution_count": 254,
     "metadata": {},
     "output_type": "execute_result"
    }
   ],
   "source": [
    "[table[:,:2] for table in pvalMarkerList][0]"
   ]
  },
  {
   "cell_type": "code",
   "execution_count": 259,
   "metadata": {},
   "outputs": [
    {
     "data": {
      "text/plain": [
       "[[647,\n",
       "  3211,\n",
       "  2707,\n",
       "  1953,\n",
       "  162,\n",
       "  1450,\n",
       "  2093,\n",
       "  2223,\n",
       "  561,\n",
       "  819,\n",
       "  1976,\n",
       "  2937,\n",
       "  1597,\n",
       "  1981,\n",
       "  1727,\n",
       "  2496,\n",
       "  1346,\n",
       "  1870,\n",
       "  724,\n",
       "  1876,\n",
       "  1751,\n",
       "  2264,\n",
       "  2647,\n",
       "  1367,\n",
       "  986,\n",
       "  2912,\n",
       "  2787,\n",
       "  100,\n",
       "  1386,\n",
       "  3179,\n",
       "  3052,\n",
       "  2667,\n",
       "  619,\n",
       "  1774,\n",
       "  2290,\n",
       "  2418,\n",
       "  631,\n",
       "  3449],\n",
       " [2307,\n",
       "  2824,\n",
       "  137,\n",
       "  266,\n",
       "  136,\n",
       "  142,\n",
       "  1935,\n",
       "  527,\n",
       "  2590,\n",
       "  1827,\n",
       "  2473,\n",
       "  1962,\n",
       "  2729,\n",
       "  1193,\n",
       "  1709,\n",
       "  302,\n",
       "  2350,\n",
       "  1588,\n",
       "  1212,\n",
       "  1344,\n",
       "  2245,\n",
       "  2250,\n",
       "  2763,\n",
       "  2642,\n",
       "  220,\n",
       "  1119,\n",
       "  2912,\n",
       "  225,\n",
       "  2400,\n",
       "  2273,\n",
       "  1764,\n",
       "  3429,\n",
       "  3052,\n",
       "  365,\n",
       "  1524,\n",
       "  1531,\n",
       "  2301,\n",
       "  1406],\n",
       " [2435,\n",
       "  1284,\n",
       "  1421,\n",
       "  1422,\n",
       "  2959,\n",
       "  911,\n",
       "  1429,\n",
       "  2331,\n",
       "  162,\n",
       "  2851,\n",
       "  803,\n",
       "  552,\n",
       "  1705,\n",
       "  173,\n",
       "  949,\n",
       "  1975,\n",
       "  2361,\n",
       "  1978,\n",
       "  316,\n",
       "  3261,\n",
       "  190,\n",
       "  2113,\n",
       "  2116,\n",
       "  2893,\n",
       "  80,\n",
       "  1745,\n",
       "  856,\n",
       "  475,\n",
       "  221,\n",
       "  1503,\n",
       "  483,\n",
       "  1636,\n",
       "  613,\n",
       "  1258,\n",
       "  2165,\n",
       "  2295],\n",
       " [262,\n",
       "  1550,\n",
       "  3219,\n",
       "  790,\n",
       "  793,\n",
       "  413,\n",
       "  1949,\n",
       "  1438,\n",
       "  290,\n",
       "  36,\n",
       "  2729,\n",
       "  171,\n",
       "  1707,\n",
       "  440,\n",
       "  827,\n",
       "  188,\n",
       "  3390,\n",
       "  713,\n",
       "  719,\n",
       "  2388,\n",
       "  2644,\n",
       "  854,\n",
       "  2390,\n",
       "  1367,\n",
       "  2906,\n",
       "  3290,\n",
       "  1119,\n",
       "  2658,\n",
       "  485,\n",
       "  1384,\n",
       "  2281,\n",
       "  1519,\n",
       "  1903,\n",
       "  624,\n",
       "  3315,\n",
       "  627,\n",
       "  2172,\n",
       "  125],\n",
       " [1538,\n",
       "  4,\n",
       "  262,\n",
       "  1287,\n",
       "  1926,\n",
       "  1418,\n",
       "  2958,\n",
       "  1935,\n",
       "  272,\n",
       "  1697,\n",
       "  419,\n",
       "  1061,\n",
       "  2472,\n",
       "  2473,\n",
       "  2348,\n",
       "  2093,\n",
       "  1076,\n",
       "  953,\n",
       "  2880,\n",
       "  2113,\n",
       "  577,\n",
       "  964,\n",
       "  1224,\n",
       "  2510,\n",
       "  850,\n",
       "  1878,\n",
       "  736,\n",
       "  1125,\n",
       "  1638,\n",
       "  1383,\n",
       "  490,\n",
       "  235,\n",
       "  1006,\n",
       "  1390,\n",
       "  632,\n",
       "  2431]]"
      ]
     },
     "execution_count": 259,
     "metadata": {},
     "output_type": "execute_result"
    }
   ],
   "source": [
    "[list(set().union(*table[:,:2])) for table in pvalMarkerList]"
   ]
  },
  {
   "cell_type": "code",
   "execution_count": 253,
   "metadata": {},
   "outputs": [
    {
     "data": {
      "text/plain": [
       "(19, 3451)"
      ]
     },
     "execution_count": 253,
     "metadata": {},
     "output_type": "execute_result"
    }
   ],
   "source": [
    "pvalMarkerList[0].shape"
   ]
  },
  {
   "cell_type": "code",
   "execution_count": 74,
   "metadata": {},
   "outputs": [
    {
     "name": "stdout",
     "output_type": "stream",
     "text": [
      "markers per cluster: 2\n",
      "total markers: [38, 37, 38, 38, 38]\n",
      "markers per cluster: 4\n",
      "total markers: [76, 72, 75, 75, 76]\n",
      "markers per cluster: 6\n",
      "total markers: [114, 108, 112, 112, 110]\n",
      "markers per cluster: 8\n",
      "total markers: [151, 145, 149, 148, 144]\n",
      "markers per cluster: 10\n",
      "total markers: [186, 181, 183, 184, 180]\n",
      "markers per cluster: 12\n",
      "total markers: [221, 216, 218, 218, 217]\n",
      "markers per cluster: 14\n",
      "total markers: [257, 250, 252, 254, 251]\n",
      "markers per cluster: 16\n",
      "total markers: [290, 286, 288, 290, 284]\n",
      "markers per cluster: 18\n",
      "total markers: [324, 322, 321, 321, 313]\n",
      "markers per cluster: 20\n",
      "total markers: [356, 354, 353, 356, 345]\n",
      "markers per cluster: 25\n",
      "total markers: [432, 433, 433, 434, 425]\n",
      "markers per cluster: 30\n",
      "total markers: [507, 506, 509, 516, 497]\n",
      "markers per cluster: 35\n",
      "total markers: [582, 583, 585, 597, 566]\n",
      "markers per cluster: 40\n",
      "total markers: [650, 653, 654, 676, 645]\n",
      "markers per cluster: 45\n",
      "total markers: [723, 723, 721, 748, 716]\n",
      "markers per cluster: 50\n",
      "total markers: [798, 789, 788, 818, 784]\n",
      "markers per cluster: 55\n",
      "total markers: [864, 851, 858, 885, 845]\n",
      "markers per cluster: 60\n",
      "total markers: [932, 910, 927, 943, 914]\n",
      "CPU times: user 8.13 s, sys: 35.1 ms, total: 8.17 s\n",
      "Wall time: 8.16 s\n"
     ]
    }
   ],
   "source": [
    "%%time\n",
    "marks_list = [2,4,6,8,10,12,14,16,18,20,25,30,35,40,45,50,55,60]\n",
    "xlist = []\n",
    "ylist = []\n",
    "\n",
    "for marks_per_clust in marks_list:\n",
    "    \n",
    "    print(\"markers per cluster: {}\".format(marks_per_clust))\n",
    "    myMarks = [list(set().union(*table[:,:marks_per_clust])) for table in pvalMarkerList]\n",
    "    ft.markers = myMarks\n",
    "    print(\"total markers: {}\".format([len(a) for a in ft.markers]))\n",
    "    \n",
    "    xlist.append(np.array([len(a) for a in ft.markers]).mean())\n",
    "    \n",
    "    ft.classify(NearestCentroidClassifier)\n",
    "    ylist.append(np.sum( (yVec.flatten() != ft.yhat)*1.0))"
   ]
  },
  {
   "cell_type": "code",
   "execution_count": 72,
   "metadata": {},
   "outputs": [
    {
     "data": {
      "text/plain": [
       "array([1564., 1308., 1142., 1071., 1029.,  998.,  965.,  982.,  961.,\n",
       "        948.,  920.,  883.,  875.,  882.,  881.,  870.,  847.,  848.])"
      ]
     },
     "execution_count": 72,
     "metadata": {},
     "output_type": "execute_result"
    }
   ],
   "source": [
    "np.array(ylist)"
   ]
  },
  {
   "cell_type": "code",
   "execution_count": 73,
   "metadata": {},
   "outputs": [
    {
     "data": {
      "text/plain": [
       "array([ 37.8,  74.8, 111.2, 147.4, 182.8, 218. , 252.8, 287.6, 320.2,\n",
       "       352.8, 431.4, 507. , 582.6, 655.6, 726.2, 795.4, 860.6, 925.2])"
      ]
     },
     "execution_count": 73,
     "metadata": {},
     "output_type": "execute_result"
    }
   ],
   "source": [
    "np.array(xlist)"
   ]
  },
  {
   "cell_type": "code",
   "execution_count": null,
   "metadata": {},
   "outputs": [],
   "source": []
  }
 ],
 "metadata": {
  "kernelspec": {
   "display_name": "Python r35py37",
   "language": "python",
   "name": "r35py37"
  },
  "language_info": {
   "codemirror_mode": {
    "name": "ipython",
    "version": 3
   },
   "file_extension": ".py",
   "mimetype": "text/x-python",
   "name": "python",
   "nbconvert_exporter": "python",
   "pygments_lexer": "ipython3",
   "version": "3.7.1"
  }
 },
 "nbformat": 4,
 "nbformat_minor": 2
}
