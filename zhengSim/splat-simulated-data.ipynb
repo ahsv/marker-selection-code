{
 "cells": [
  {
   "cell_type": "markdown",
   "metadata": {},
   "source": [
    "# How to process and use the splatter simulated data\n",
    "\n",
    "Make folds and whatnot"
   ]
  },
  {
   "cell_type": "code",
   "execution_count": 1,
   "metadata": {},
   "outputs": [],
   "source": [
    "import numpy as np\n",
    "import pandas as pd"
   ]
  },
  {
   "cell_type": "code",
   "execution_count": 2,
   "metadata": {},
   "outputs": [],
   "source": [
    "import sys\n",
    "sys.path.append('/home/ahsvargo/xvalid')"
   ]
  },
  {
   "cell_type": "code",
   "execution_count": 3,
   "metadata": {},
   "outputs": [],
   "source": [
    "from picturedrocks import Rocks\n",
    "from picturedrocks.performance import FoldTester, PerformanceReport, NearestCentroidClassifier"
   ]
  },
  {
   "cell_type": "code",
   "execution_count": 4,
   "metadata": {},
   "outputs": [],
   "source": [
    "import plotly.graph_objs as go\n",
    "from plotly.offline import plot, iplot, init_notebook_mode"
   ]
  },
  {
   "cell_type": "code",
   "execution_count": 5,
   "metadata": {},
   "outputs": [
    {
     "data": {
      "text/html": [
       "<script>requirejs.config({paths: { 'plotly': ['https://cdn.plot.ly/plotly-latest.min']},});if(!window.Plotly) {{require(['plotly'],function(plotly) {window.Plotly=plotly;});}}</script>"
      ],
      "text/vnd.plotly.v1+html": [
       "<script>requirejs.config({paths: { 'plotly': ['https://cdn.plot.ly/plotly-latest.min']},});if(!window.Plotly) {{require(['plotly'],function(plotly) {window.Plotly=plotly;});}}</script>"
      ]
     },
     "metadata": {},
     "output_type": "display_data"
    }
   ],
   "source": [
    "init_notebook_mode(connected=True)"
   ]
  },
  {
   "cell_type": "code",
   "execution_count": 6,
   "metadata": {},
   "outputs": [
    {
     "name": "stdout",
     "output_type": "stream",
     "text": [
      "scanpy==1.3.7+56.gde16b79.dirty anndata==0.6.11 numpy==1.14.6 scipy==1.1.0 pandas==0.23.4 scikit-learn==0.20.0 statsmodels==0.9.0 python-igraph==0.7.1 louvain==0.6.1 \n"
     ]
    }
   ],
   "source": [
    "import scanpy.api as sc\n",
    "\n",
    "sc.settings.verbosity = 3  # verbosity: errors (0), warnings (1), info (2), hints (3)\n",
    "sc.settings.set_figure_params(dpi=80, color_map='viridis')  # low dpi (dots per inch) yields small inline figures\n",
    "sc.logging.print_versions()"
   ]
  },
  {
   "cell_type": "code",
   "execution_count": 7,
   "metadata": {},
   "outputs": [],
   "source": [
    "import anndata"
   ]
  },
  {
   "cell_type": "markdown",
   "metadata": {},
   "source": [
    "### Zheng Simulated"
   ]
  },
  {
   "cell_type": "markdown",
   "metadata": {},
   "source": [
    "## The full gene set"
   ]
  },
  {
   "cell_type": "code",
   "execution_count": 9,
   "metadata": {},
   "outputs": [],
   "source": [
    "path = \"/home/ahsvargo/turbo/scData/zheng17/splatter-bCells/allGenes/\""
   ]
  },
  {
   "cell_type": "code",
   "execution_count": 12,
   "metadata": {
    "collapsed": true
   },
   "outputs": [
    {
     "ename": "ValueError",
     "evalue": "invalid literal for int() with base 10: '\"Cell1\"'",
     "output_type": "error",
     "traceback": [
      "\u001b[0;31m---------------------------------------------------------------------------\u001b[0m",
      "\u001b[0;31mValueError\u001b[0m                                Traceback (most recent call last)",
      "\u001b[0;32m<ipython-input-12-17772d37aca5>\u001b[0m in \u001b[0;36m<module>\u001b[0;34m\u001b[0m\n\u001b[0;32m----> 1\u001b[0;31m \u001b[0mX\u001b[0m \u001b[0;34m=\u001b[0m \u001b[0mnp\u001b[0m\u001b[0;34m.\u001b[0m\u001b[0mloadtxt\u001b[0m\u001b[0;34m(\u001b[0m\u001b[0mpath\u001b[0m \u001b[0;34m+\u001b[0m \u001b[0;34m\"counts.dat\"\u001b[0m\u001b[0;34m,\u001b[0m \u001b[0mdtype\u001b[0m\u001b[0;34m=\u001b[0m\u001b[0;34m'int'\u001b[0m\u001b[0;34m)\u001b[0m\u001b[0;34m.\u001b[0m\u001b[0mT\u001b[0m\u001b[0;34m\u001b[0m\u001b[0m\n\u001b[0m\u001b[1;32m      2\u001b[0m \u001b[0my\u001b[0m \u001b[0;34m=\u001b[0m \u001b[0mnp\u001b[0m\u001b[0;34m.\u001b[0m\u001b[0mloadtxt\u001b[0m\u001b[0;34m(\u001b[0m\u001b[0mpath\u001b[0m \u001b[0;34m+\u001b[0m \u001b[0;34m\"y.dat\"\u001b[0m\u001b[0;34m,\u001b[0m \u001b[0mdtype\u001b[0m\u001b[0;34m=\u001b[0m\u001b[0;34m'int'\u001b[0m\u001b[0;34m)\u001b[0m\u001b[0;34m\u001b[0m\u001b[0m\n\u001b[1;32m      3\u001b[0m \u001b[0my\u001b[0m \u001b[0;34m=\u001b[0m \u001b[0my\u001b[0m \u001b[0;34m-\u001b[0m \u001b[0;36m1\u001b[0m\u001b[0;34m\u001b[0m\u001b[0m\n",
      "\u001b[0;32m~/miniconda3/envs/r35py37/lib/python3.7/site-packages/numpy/lib/npyio.py\u001b[0m in \u001b[0;36mloadtxt\u001b[0;34m(fname, dtype, comments, delimiter, converters, skiprows, usecols, unpack, ndmin, encoding)\u001b[0m\n\u001b[1;32m   1090\u001b[0m         \u001b[0;31m# converting the data\u001b[0m\u001b[0;34m\u001b[0m\u001b[0;34m\u001b[0m\u001b[0m\n\u001b[1;32m   1091\u001b[0m         \u001b[0mX\u001b[0m \u001b[0;34m=\u001b[0m \u001b[0;32mNone\u001b[0m\u001b[0;34m\u001b[0m\u001b[0m\n\u001b[0;32m-> 1092\u001b[0;31m         \u001b[0;32mfor\u001b[0m \u001b[0mx\u001b[0m \u001b[0;32min\u001b[0m \u001b[0mread_data\u001b[0m\u001b[0;34m(\u001b[0m\u001b[0m_loadtxt_chunksize\u001b[0m\u001b[0;34m)\u001b[0m\u001b[0;34m:\u001b[0m\u001b[0;34m\u001b[0m\u001b[0m\n\u001b[0m\u001b[1;32m   1093\u001b[0m             \u001b[0;32mif\u001b[0m \u001b[0mX\u001b[0m \u001b[0;32mis\u001b[0m \u001b[0;32mNone\u001b[0m\u001b[0;34m:\u001b[0m\u001b[0;34m\u001b[0m\u001b[0m\n\u001b[1;32m   1094\u001b[0m                 \u001b[0mX\u001b[0m \u001b[0;34m=\u001b[0m \u001b[0mnp\u001b[0m\u001b[0;34m.\u001b[0m\u001b[0marray\u001b[0m\u001b[0;34m(\u001b[0m\u001b[0mx\u001b[0m\u001b[0;34m,\u001b[0m \u001b[0mdtype\u001b[0m\u001b[0;34m)\u001b[0m\u001b[0;34m\u001b[0m\u001b[0m\n",
      "\u001b[0;32m~/miniconda3/envs/r35py37/lib/python3.7/site-packages/numpy/lib/npyio.py\u001b[0m in \u001b[0;36mread_data\u001b[0;34m(chunk_size)\u001b[0m\n\u001b[1;32m   1017\u001b[0m \u001b[0;34m\u001b[0m\u001b[0m\n\u001b[1;32m   1018\u001b[0m             \u001b[0;31m# Convert each value according to its column and store\u001b[0m\u001b[0;34m\u001b[0m\u001b[0;34m\u001b[0m\u001b[0m\n\u001b[0;32m-> 1019\u001b[0;31m             \u001b[0mitems\u001b[0m \u001b[0;34m=\u001b[0m \u001b[0;34m[\u001b[0m\u001b[0mconv\u001b[0m\u001b[0;34m(\u001b[0m\u001b[0mval\u001b[0m\u001b[0;34m)\u001b[0m \u001b[0;32mfor\u001b[0m \u001b[0;34m(\u001b[0m\u001b[0mconv\u001b[0m\u001b[0;34m,\u001b[0m \u001b[0mval\u001b[0m\u001b[0;34m)\u001b[0m \u001b[0;32min\u001b[0m \u001b[0mzip\u001b[0m\u001b[0;34m(\u001b[0m\u001b[0mconverters\u001b[0m\u001b[0;34m,\u001b[0m \u001b[0mvals\u001b[0m\u001b[0;34m)\u001b[0m\u001b[0;34m]\u001b[0m\u001b[0;34m\u001b[0m\u001b[0m\n\u001b[0m\u001b[1;32m   1020\u001b[0m \u001b[0;34m\u001b[0m\u001b[0m\n\u001b[1;32m   1021\u001b[0m             \u001b[0;31m# Then pack it according to the dtype's nesting\u001b[0m\u001b[0;34m\u001b[0m\u001b[0;34m\u001b[0m\u001b[0m\n",
      "\u001b[0;32m~/miniconda3/envs/r35py37/lib/python3.7/site-packages/numpy/lib/npyio.py\u001b[0m in \u001b[0;36m<listcomp>\u001b[0;34m(.0)\u001b[0m\n\u001b[1;32m   1017\u001b[0m \u001b[0;34m\u001b[0m\u001b[0m\n\u001b[1;32m   1018\u001b[0m             \u001b[0;31m# Convert each value according to its column and store\u001b[0m\u001b[0;34m\u001b[0m\u001b[0;34m\u001b[0m\u001b[0m\n\u001b[0;32m-> 1019\u001b[0;31m             \u001b[0mitems\u001b[0m \u001b[0;34m=\u001b[0m \u001b[0;34m[\u001b[0m\u001b[0mconv\u001b[0m\u001b[0;34m(\u001b[0m\u001b[0mval\u001b[0m\u001b[0;34m)\u001b[0m \u001b[0;32mfor\u001b[0m \u001b[0;34m(\u001b[0m\u001b[0mconv\u001b[0m\u001b[0;34m,\u001b[0m \u001b[0mval\u001b[0m\u001b[0;34m)\u001b[0m \u001b[0;32min\u001b[0m \u001b[0mzip\u001b[0m\u001b[0;34m(\u001b[0m\u001b[0mconverters\u001b[0m\u001b[0;34m,\u001b[0m \u001b[0mvals\u001b[0m\u001b[0;34m)\u001b[0m\u001b[0;34m]\u001b[0m\u001b[0;34m\u001b[0m\u001b[0m\n\u001b[0m\u001b[1;32m   1020\u001b[0m \u001b[0;34m\u001b[0m\u001b[0m\n\u001b[1;32m   1021\u001b[0m             \u001b[0;31m# Then pack it according to the dtype's nesting\u001b[0m\u001b[0;34m\u001b[0m\u001b[0;34m\u001b[0m\u001b[0m\n",
      "\u001b[0;31mValueError\u001b[0m: invalid literal for int() with base 10: '\"Cell1\"'"
     ]
    }
   ],
   "source": [
    "X = np.loadtxt(path + \"counts.dat\", dtype='int').T\n",
    "y = np.loadtxt(path + \"y.dat\", dtype='int')\n",
    "y = y - 1"
   ]
  },
  {
   "cell_type": "code",
   "execution_count": 12,
   "metadata": {},
   "outputs": [],
   "source": [
    "import scipy.sparse as spsp"
   ]
  },
  {
   "cell_type": "markdown",
   "metadata": {},
   "source": [
    "Do the whole filtering procedure for all 10 datasets - see below for filtering an individual data set"
   ]
  },
  {
   "cell_type": "code",
   "execution_count": 15,
   "metadata": {
    "scrolled": true
   },
   "outputs": [
    {
     "name": "stdout",
     "output_type": "stream",
     "text": [
      "Current path is:/home/ahsvargo/turbo/scData/zheng17/splatter-bCells/allGenes/1/\n",
      "Loading counts data\n",
      "Data loaded... sparsifying... Sparse data saved\n",
      "Filtering to find top variable genes\n",
      "filtered out 3718 genes that are detected in less than 1 counts\n",
      "Memory usage: current 2.04 GB, difference +0.01 GB\n",
      "Saving filtered subset\n",
      "filtered out 3718 genes that are detected in less than 1 counts\n",
      "Saving info about DE genes in the filtered subset\n",
      "497 genes out of 5000 are still DE after filtering\n",
      "Current path is:/home/ahsvargo/turbo/scData/zheng17/splatter-bCells/allGenes/2/\n",
      "Loading counts data\n",
      "Data loaded... sparsifying... Sparse data saved\n",
      "Filtering to find top variable genes\n",
      "filtered out 3466 genes that are detected in less than 1 counts\n",
      "Memory usage: current 2.04 GB, difference -0.00 GB\n",
      "Saving filtered subset\n",
      "filtered out 3466 genes that are detected in less than 1 counts\n",
      "Saving info about DE genes in the filtered subset\n",
      "534 genes out of 5000 are still DE after filtering\n",
      "Current path is:/home/ahsvargo/turbo/scData/zheng17/splatter-bCells/allGenes/3/\n",
      "Loading counts data\n",
      "Data loaded... sparsifying... Sparse data saved\n",
      "Filtering to find top variable genes\n",
      "filtered out 3417 genes that are detected in less than 1 counts\n",
      "Memory usage: current 2.05 GB, difference +0.01 GB\n",
      "Saving filtered subset\n",
      "filtered out 3417 genes that are detected in less than 1 counts\n",
      "Saving info about DE genes in the filtered subset\n",
      "533 genes out of 5000 are still DE after filtering\n",
      "Current path is:/home/ahsvargo/turbo/scData/zheng17/splatter-bCells/allGenes/4/\n",
      "Loading counts data\n",
      "Data loaded... sparsifying... Sparse data saved\n",
      "Filtering to find top variable genes\n",
      "filtered out 3618 genes that are detected in less than 1 counts\n",
      "Memory usage: current 2.04 GB, difference -0.00 GB\n",
      "Saving filtered subset\n",
      "filtered out 3618 genes that are detected in less than 1 counts\n",
      "Saving info about DE genes in the filtered subset\n",
      "516 genes out of 5000 are still DE after filtering\n",
      "Current path is:/home/ahsvargo/turbo/scData/zheng17/splatter-bCells/allGenes/5/\n",
      "Loading counts data\n",
      "Data loaded... sparsifying... Sparse data saved\n",
      "Filtering to find top variable genes\n",
      "filtered out 3520 genes that are detected in less than 1 counts\n",
      "Memory usage: current 2.04 GB, difference +0.00 GB\n",
      "Saving filtered subset\n",
      "filtered out 3520 genes that are detected in less than 1 counts\n",
      "Saving info about DE genes in the filtered subset\n",
      "516 genes out of 5000 are still DE after filtering\n",
      "Current path is:/home/ahsvargo/turbo/scData/zheng17/splatter-bCells/allGenes/6/\n",
      "Loading counts data\n",
      "Data loaded... sparsifying... Sparse data saved\n",
      "Filtering to find top variable genes\n",
      "filtered out 3576 genes that are detected in less than 1 counts\n",
      "Memory usage: current 2.04 GB, difference +0.00 GB\n",
      "Saving filtered subset\n",
      "filtered out 3576 genes that are detected in less than 1 counts\n",
      "Saving info about DE genes in the filtered subset\n",
      "495 genes out of 5000 are still DE after filtering\n",
      "Current path is:/home/ahsvargo/turbo/scData/zheng17/splatter-bCells/allGenes/7/\n",
      "Loading counts data\n",
      "Data loaded... sparsifying... Sparse data saved\n",
      "Filtering to find top variable genes\n",
      "filtered out 3619 genes that are detected in less than 1 counts\n",
      "Memory usage: current 2.05 GB, difference +0.00 GB\n",
      "Saving filtered subset\n",
      "filtered out 3619 genes that are detected in less than 1 counts\n",
      "Saving info about DE genes in the filtered subset\n",
      "496 genes out of 5000 are still DE after filtering\n",
      "Current path is:/home/ahsvargo/turbo/scData/zheng17/splatter-bCells/allGenes/8/\n",
      "Loading counts data\n",
      "Data loaded... sparsifying... Sparse data saved\n",
      "Filtering to find top variable genes\n",
      "filtered out 3631 genes that are detected in less than 1 counts\n",
      "Memory usage: current 2.05 GB, difference +0.00 GB\n",
      "Saving filtered subset\n",
      "filtered out 3631 genes that are detected in less than 1 counts\n",
      "Saving info about DE genes in the filtered subset\n",
      "507 genes out of 5000 are still DE after filtering\n",
      "Current path is:/home/ahsvargo/turbo/scData/zheng17/splatter-bCells/allGenes/9/\n",
      "Loading counts data\n",
      "Data loaded... sparsifying... Sparse data saved\n",
      "Filtering to find top variable genes\n",
      "filtered out 3574 genes that are detected in less than 1 counts\n",
      "Memory usage: current 2.05 GB, difference +0.01 GB\n",
      "Saving filtered subset\n",
      "filtered out 3574 genes that are detected in less than 1 counts\n",
      "Saving info about DE genes in the filtered subset\n",
      "490 genes out of 5000 are still DE after filtering\n"
     ]
    }
   ],
   "source": [
    "\n",
    "for i in range(1,10):\n",
    "    currPath = path + str(i) + \"/\"\n",
    "    print(\"Current path is:\" + currPath)\n",
    "    \n",
    "    print(\"Loading counts data\", flush=True)\n",
    "    X = np.loadtxt(currPath + \"counts.dat\", dtype='int').T\n",
    "    y = np.loadtxt(currPath + \"y.dat\", dtype='int')\n",
    "    y = y - 1\n",
    "    \n",
    "    print(\"Data loaded... sparsifying...\", end =\" \")\n",
    "    sX = spsp.coo_matrix(X)\n",
    "    sX.eliminate_zeros()\n",
    "    sX = sX.tocsr()\n",
    "    \n",
    "    # save the sparse data\n",
    "    spsp.save_npz(currPath + \"sparseCounts\", sX)\n",
    "    print(\"Sparse data saved\", flush=True)\n",
    "    \n",
    "    print(\"Filtering to find top variable genes\")\n",
    "    # filter the genes to find the top 5000 most variable\n",
    "    adata = anndata.AnnData(X=sX)\n",
    "    sc.pp.filter_genes(adata, min_counts=1)  # only consider genes with more than 1 count\n",
    "    sc.pp.normalize_per_cell(adata)          # normalize with total UMI count per cell\n",
    "    \n",
    "    filter_result = sc.pp.filter_genes_dispersion(\n",
    "        adata.X, \n",
    "        flavor='cell_ranger', \n",
    "        n_top_genes=5000, \n",
    "        log=False\n",
    "    )\n",
    "    sc.logging.print_memory_usage()\n",
    "    \n",
    "    print(\"Saving filtered subset\")\n",
    "    # the full dataset\n",
    "    adata = anndata.AnnData(X = sX)\n",
    "    sc.pp.filter_genes(adata, min_counts=1)      # only consider genes with more than 1 count\n",
    "    adata = adata[:, filter_result.gene_subset]  # filter genes\n",
    "    \n",
    "    # save the data from the filtered genes\n",
    "    adata.write(currPath + \"filtered-splat.h5ad\")\n",
    "    \n",
    "    print(\"Saving info about DE genes in the filtered subset\")\n",
    "    # also save information about the DE genes that remain\n",
    "    genesRemain = [int(gene) for gene in adata.var.index]\n",
    "    deInfo = np.loadtxt(currPath + \"deGenes.dat\")\n",
    "    genes = np.array([gene for gene in deInfo[:,0].astype(int) if gene in genesRemain])\n",
    "    args = [ np.where(deInfo[:,0] == gene)[0] for gene in genes ]\n",
    "    facs = deInfo[:,1][args].flatten()\n",
    "    \n",
    "    print(\"{} genes out of 5000 are still DE after filtering\".format(facs.shape[0]))\n",
    "    np.savez(currPath + \"filtered-splat-deInfo\", genes=genes, facs=facs)\n",
    "    "
   ]
  },
  {
   "cell_type": "code",
   "execution_count": 25,
   "metadata": {},
   "outputs": [],
   "source": [
    "sX = spsp.coo_matrix(X)\n",
    "sX.eliminate_zeros()\n",
    "sX = sX.tocsr()"
   ]
  },
  {
   "cell_type": "code",
   "execution_count": 26,
   "metadata": {},
   "outputs": [],
   "source": [
    "spsp.save_npz(path + \"sparseCounts\", sX)"
   ]
  },
  {
   "cell_type": "code",
   "execution_count": 27,
   "metadata": {},
   "outputs": [
    {
     "data": {
      "text/plain": [
       "0"
      ]
     },
     "execution_count": 27,
     "metadata": {},
     "output_type": "execute_result"
    }
   ],
   "source": [
    "data = Rocks(sX,y)\n",
    "ft = FoldTester(data)\n",
    "ft.loadfolds(path + \"bCells-5folds.npz\")\n",
    "\n",
    "ft.makerocks(verbose=0)"
   ]
  },
  {
   "cell_type": "markdown",
   "metadata": {},
   "source": [
    "We also need folds for each of the 10 datasets, since the y vector is different for each one.   We also may as well use different folds... this is probably closer to the point of fold testing.  You shouldn't run this more than once."
   ]
  },
  {
   "cell_type": "code",
   "execution_count": 19,
   "metadata": {},
   "outputs": [
    {
     "name": "stdout",
     "output_type": "stream",
     "text": [
      "Current path is:/home/ahsvargo/turbo/scData/zheng17/splatter-bCells/allGenes/0/\n",
      "Current path is:/home/ahsvargo/turbo/scData/zheng17/splatter-bCells/allGenes/1/\n",
      "Current path is:/home/ahsvargo/turbo/scData/zheng17/splatter-bCells/allGenes/2/\n",
      "Current path is:/home/ahsvargo/turbo/scData/zheng17/splatter-bCells/allGenes/3/\n",
      "Current path is:/home/ahsvargo/turbo/scData/zheng17/splatter-bCells/allGenes/4/\n",
      "Current path is:/home/ahsvargo/turbo/scData/zheng17/splatter-bCells/allGenes/5/\n",
      "Current path is:/home/ahsvargo/turbo/scData/zheng17/splatter-bCells/allGenes/6/\n",
      "Current path is:/home/ahsvargo/turbo/scData/zheng17/splatter-bCells/allGenes/7/\n",
      "Current path is:/home/ahsvargo/turbo/scData/zheng17/splatter-bCells/allGenes/8/\n",
      "Current path is:/home/ahsvargo/turbo/scData/zheng17/splatter-bCells/allGenes/9/\n",
      "CPU times: user 1.55 s, sys: 44 ms, total: 1.59 s\n",
      "Wall time: 2.17 s\n"
     ]
    }
   ],
   "source": [
    "%%time\n",
    "for i in range(10):\n",
    "    currPath = path + str(i) + \"/\"\n",
    "    print(\"Current path is:\" + currPath)\n",
    "    \n",
    "    sX = spsp.load_npz(currPath + \"sparseCounts.npz\")\n",
    "    y = np.loadtxt(currPath + \"y.dat\", dtype='int')\n",
    "    y = y - 1\n",
    "    \n",
    "    data = Rocks(sX,y)\n",
    "    ft = FoldTester(data)\n",
    "    #ft.makefolds(5, random=True)\n",
    "    #ft.savefolds(currPath + \"bCells-5folds.npz\")"
   ]
  },
  {
   "cell_type": "code",
   "execution_count": 13,
   "metadata": {},
   "outputs": [],
   "source": [
    "#making the original folds.... don't run this if not commented\n",
    "#ft.makefolds(5, random=True)\n",
    "#ft.savefolds(path + \"bCells-5folds.npz\")"
   ]
  },
  {
   "cell_type": "code",
   "execution_count": 9,
   "metadata": {},
   "outputs": [],
   "source": [
    "# the full dataset\n",
    "adata = anndata.AnnData(X = X)\n",
    "adata.obs['zhengsim_clusters'] = pd.Series(y, dtype=\"category\", index=adata.obs.index)"
   ]
  },
  {
   "cell_type": "code",
   "execution_count": 10,
   "metadata": {},
   "outputs": [
    {
     "ename": "NameError",
     "evalue": "name 'ft' is not defined",
     "output_type": "error",
     "traceback": [
      "\u001b[0;31m---------------------------------------------------------------------------\u001b[0m",
      "\u001b[0;31mNameError\u001b[0m                                 Traceback (most recent call last)",
      "\u001b[0;32m<ipython-input-10-e9c44f592cdc>\u001b[0m in \u001b[0;36m<module>\u001b[0;34m\u001b[0m\n\u001b[0;32m----> 1\u001b[0;31m \u001b[0mfolds\u001b[0m \u001b[0;34m=\u001b[0m \u001b[0mft\u001b[0m\u001b[0;34m.\u001b[0m\u001b[0mfolds\u001b[0m\u001b[0;34m\u001b[0m\u001b[0m\n\u001b[0m\u001b[1;32m      2\u001b[0m \u001b[0mdataset\u001b[0m \u001b[0;34m=\u001b[0m \u001b[0;34m\"zhengsim\"\u001b[0m\u001b[0;34m\u001b[0m\u001b[0m\n\u001b[1;32m      3\u001b[0m \u001b[0mlookup\u001b[0m \u001b[0;34m=\u001b[0m \u001b[0;34m[\u001b[0m \u001b[0mstr\u001b[0m\u001b[0;34m(\u001b[0m\u001b[0ma\u001b[0m\u001b[0;34m)\u001b[0m \u001b[0;32mfor\u001b[0m \u001b[0ma\u001b[0m \u001b[0;32min\u001b[0m \u001b[0mnp\u001b[0m\u001b[0;34m.\u001b[0m\u001b[0munique\u001b[0m\u001b[0;34m(\u001b[0m\u001b[0my\u001b[0m\u001b[0;34m)\u001b[0m\u001b[0;34m]\u001b[0m\u001b[0;34m\u001b[0m\u001b[0m\n",
      "\u001b[0;31mNameError\u001b[0m: name 'ft' is not defined"
     ]
    }
   ],
   "source": [
    "folds = ft.folds\n",
    "dataset = \"zhengsim\"\n",
    "lookup = [ str(a) for a in np.unique(y)]"
   ]
  },
  {
   "cell_type": "markdown",
   "metadata": {},
   "source": [
    "## The filtered gene set"
   ]
  },
  {
   "cell_type": "code",
   "execution_count": 10,
   "metadata": {},
   "outputs": [],
   "source": [
    "path = \"/home/ahsvargo/turbo/scData/zheng17/splatter-bCells/filtered/\""
   ]
  },
  {
   "cell_type": "code",
   "execution_count": null,
   "metadata": {},
   "outputs": [],
   "source": [
    "X = np.loadtxt(path + \"counts.dat\", dtype='int').T\n",
    "y = np.loadtxt(path + \"y.dat\", dtype='int')\n",
    "y = y - 1"
   ]
  },
  {
   "cell_type": "code",
   "execution_count": 17,
   "metadata": {},
   "outputs": [
    {
     "data": {
      "text/plain": [
       "0"
      ]
     },
     "execution_count": 17,
     "metadata": {},
     "output_type": "execute_result"
    }
   ],
   "source": [
    "data = Rocks(X,y)\n",
    "ft = FoldTester(data)\n",
    "ft.loadfolds(path + \"bCells-5folds.npz\")\n",
    "\n",
    "ft.makerocks(verbose=0)"
   ]
  },
  {
   "cell_type": "code",
   "execution_count": 18,
   "metadata": {},
   "outputs": [],
   "source": [
    "#making the original folds.... don't run this if not commented\n",
    "#ft.makefolds(5, random=True)\n",
    "#ft.savefolds(path + \"bCells-5folds.npz\")"
   ]
  },
  {
   "cell_type": "code",
   "execution_count": null,
   "metadata": {},
   "outputs": [],
   "source": [
    "# the full dataset\n",
    "adata = anndata.AnnData(X = X)\n",
    "adata.obs['zhengsim_clusters'] = pd.Series(y, dtype=\"category\", index=adata.obs.index)"
   ]
  },
  {
   "cell_type": "code",
   "execution_count": null,
   "metadata": {},
   "outputs": [],
   "source": [
    "folds = ft.folds\n",
    "dataset = \"zhengsim\"\n",
    "lookup = [ str(a) for a in np.unique(y)]"
   ]
  },
  {
   "cell_type": "code",
   "execution_count": 14,
   "metadata": {},
   "outputs": [
    {
     "name": "stdout",
     "output_type": "stream",
     "text": [
      "Current path is:/home/ahsvargo/turbo/scData/zheng17/splatter-bCells/filtered/0/\n",
      "Loading counts data\n",
      "Data loaded... sparsifying... Sparse data saved\n",
      "Create folds\n"
     ]
    }
   ],
   "source": [
    "# do it for all of the tests\n",
    "\n",
    "for i in range(1):\n",
    "    currPath = path + str(i) + \"/\"\n",
    "    print(\"Current path is:\" + currPath)\n",
    "    \n",
    "    print(\"Loading counts data\", flush=True)\n",
    "    X = np.loadtxt(currPath + \"counts.dat\", dtype='int').T\n",
    "    y = np.loadtxt(currPath + \"y.dat\", dtype='int')\n",
    "    y = y - 1\n",
    "    \n",
    "    print(\"Data loaded... sparsifying...\", end =\" \")\n",
    "    sX = spsp.coo_matrix(X)\n",
    "    sX.eliminate_zeros()\n",
    "    sX = sX.tocsr()\n",
    "    \n",
    "    # save the sparse data\n",
    "    spsp.save_npz(currPath + \"sparseCounts\", sX)\n",
    "    print(\"Sparse data saved\", flush=True)\n",
    "    \n",
    "    print(\"Create folds\")\n",
    "    data = Rocks(sX,y)\n",
    "    ft = FoldTester(data)\n",
    "    ft.makefolds(5, random=True)\n",
    "    ft.savefolds(currPath + \"bCells-5folds.npz\")"
   ]
  },
  {
   "cell_type": "markdown",
   "metadata": {},
   "source": [
    "## Process in scanpy to only look at the highly variable genes"
   ]
  },
  {
   "cell_type": "code",
   "execution_count": 11,
   "metadata": {},
   "outputs": [
    {
     "name": "stdout",
     "output_type": "stream",
     "text": [
      "filtered out 5432 genes that are detected in less than 1 counts\n",
      "CPU times: user 248 ms, sys: 216 ms, total: 465 ms\n",
      "Wall time: 469 ms\n"
     ]
    }
   ],
   "source": [
    "%%time\n",
    "sc.pp.filter_genes(adata, min_counts=1)  # only consider genes with more than 1 count"
   ]
  },
  {
   "cell_type": "markdown",
   "metadata": {},
   "source": [
    "Note that gene names are saved, so we will still be able to compare to the lists of differentially expressed genes.  We will want to filter down the original de lists to match the ones that are left, however."
   ]
  },
  {
   "cell_type": "code",
   "execution_count": 12,
   "metadata": {},
   "outputs": [
    {
     "data": {
      "text/plain": [
       "Index(['0', '1', '3', '4', '5', '6', '7', '8', '10', '11',\n",
       "       ...\n",
       "       '32722', '32723', '32725', '32726', '32727', '32728', '32729', '32730',\n",
       "       '32731', '32737'],\n",
       "      dtype='object', length=27306)"
      ]
     },
     "execution_count": 12,
     "metadata": {},
     "output_type": "execute_result"
    }
   ],
   "source": [
    "adata.var.index"
   ]
  },
  {
   "cell_type": "code",
   "execution_count": 13,
   "metadata": {},
   "outputs": [
    {
     "name": "stdout",
     "output_type": "stream",
     "text": [
      "CPU times: user 707 ms, sys: 109 ms, total: 816 ms\n",
      "Wall time: 820 ms\n"
     ]
    }
   ],
   "source": [
    "%%time\n",
    "sc.pp.normalize_per_cell(adata)          # normalize with total UMI count per cell"
   ]
  },
  {
   "cell_type": "code",
   "execution_count": 14,
   "metadata": {},
   "outputs": [
    {
     "name": "stdout",
     "output_type": "stream",
     "text": [
      "Memory usage: current 2.54 GB, difference +2.54 GB\n",
      "CPU times: user 336 ms, sys: 115 ms, total: 451 ms\n",
      "Wall time: 492 ms\n"
     ]
    }
   ],
   "source": [
    "%%time\n",
    "filter_result = sc.pp.filter_genes_dispersion(\n",
    "    adata.X, flavor='cell_ranger', n_top_genes=5000, log=False)\n",
    "sc.logging.print_memory_usage()"
   ]
  },
  {
   "cell_type": "code",
   "execution_count": 15,
   "metadata": {},
   "outputs": [
    {
     "data": {
      "image/png": "[encoded data removed]",
      "text/plain": [
       "<Figure size 864x288 with 2 Axes>"
      ]
     },
     "metadata": {
      "needs_background": "light"
     },
     "output_type": "display_data"
    }
   ],
   "source": [
    "sc.pl.filter_genes_dispersion(filter_result, log=True)"
   ]
  },
  {
   "cell_type": "markdown",
   "metadata": {},
   "source": [
    "Need to redefine the adata object here before filtering since we have already normalized by the cell size."
   ]
  },
  {
   "cell_type": "code",
   "execution_count": 16,
   "metadata": {},
   "outputs": [
    {
     "name": "stdout",
     "output_type": "stream",
     "text": [
      "filtered out 5432 genes that are detected in less than 1 counts\n"
     ]
    }
   ],
   "source": [
    "# the full dataset\n",
    "adata = anndata.AnnData(X = X)\n",
    "adata.obs['zhengsim_clusters'] = pd.Series(y, dtype=\"category\", index=adata.obs.index)\n",
    "sc.pp.filter_genes(adata, min_counts=1)  # only consider genes with more than 1 count"
   ]
  },
  {
   "cell_type": "code",
   "execution_count": 17,
   "metadata": {},
   "outputs": [],
   "source": [
    "adata = adata[:, filter_result.gene_subset]  # filter genes"
   ]
  },
  {
   "cell_type": "markdown",
   "metadata": {},
   "source": [
    "Write this filtered data to a file for easy reading.  Note that the y vector hasn't changed."
   ]
  },
  {
   "cell_type": "code",
   "execution_count": 18,
   "metadata": {},
   "outputs": [],
   "source": [
    "adata.write(path + \"filtered-splat.h5ad\")"
   ]
  },
  {
   "cell_type": "markdown",
   "metadata": {},
   "source": [
    "Also filter the genes and save that info."
   ]
  },
  {
   "cell_type": "code",
   "execution_count": 19,
   "metadata": {},
   "outputs": [],
   "source": [
    "genesRemain = [int(gene) for gene in adata.var.index]\n",
    "deInfo = np.loadtxt(path + \"deGenes.dat\")\n",
    "genes = np.array([gene for gene in deInfo[:,0].astype(int) if gene in genesRemain])\n",
    "args = [ np.where(deInfo[:,0] == gene)[0] for gene in genes ]\n",
    "facs = deInfo[:,1][args].flatten()"
   ]
  },
  {
   "cell_type": "code",
   "execution_count": 20,
   "metadata": {},
   "outputs": [
    {
     "data": {
      "text/plain": [
       "(477,)"
      ]
     },
     "execution_count": 20,
     "metadata": {},
     "output_type": "execute_result"
    }
   ],
   "source": [
    "facs.shape"
   ]
  },
  {
   "cell_type": "code",
   "execution_count": 21,
   "metadata": {},
   "outputs": [],
   "source": [
    "np.savez(path + \"filtered-splat-deInfo\", genes=genes, facs=facs)"
   ]
  },
  {
   "cell_type": "markdown",
   "metadata": {},
   "source": [
    "In this example data set, only ~500 of the ~3200 differentially expressed genes are saved by this normalization procedure.  It is foolish to look at recall in the full data set (without the filtering), but it still might be good to see the clustering error rates."
   ]
  },
  {
   "cell_type": "code",
   "execution_count": null,
   "metadata": {},
   "outputs": [],
   "source": []
  }
 ],
 "metadata": {
  "kernelspec": {
   "display_name": "Python r35py37",
   "language": "python",
   "name": "r35py37"
  },
  "language_info": {
   "codemirror_mode": {
    "name": "ipython",
    "version": 3
   },
   "file_extension": ".py",
   "mimetype": "text/x-python",
   "name": "python",
   "nbconvert_exporter": "python",
   "pygments_lexer": "ipython3",
   "version": "3.7.1"
  }
 },
 "nbformat": 4,
 "nbformat_minor": 2
}
