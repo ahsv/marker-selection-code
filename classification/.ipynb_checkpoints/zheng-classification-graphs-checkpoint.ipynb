{
 "cells": [
  {
   "cell_type": "code",
   "execution_count": 1,
   "metadata": {},
   "outputs": [],
   "source": [
    "%load_ext autoreload\n",
    "%autoreload 2"
   ]
  },
  {
   "cell_type": "code",
   "execution_count": 2,
   "metadata": {},
   "outputs": [],
   "source": [
    "import numpy as np\n",
    "import pandas as pd"
   ]
  },
  {
   "cell_type": "code",
   "execution_count": 3,
   "metadata": {},
   "outputs": [],
   "source": [
    "# replace this with your picturedRocks that was included in this repo\n",
    "import sys\n",
    "sys.path.append('/home/ahsvargo/xvalid')"
   ]
  },
  {
   "cell_type": "code",
   "execution_count": 4,
   "metadata": {},
   "outputs": [],
   "source": [
    "from picturedrocks import Rocks\n",
    "from picturedrocks.performance import FoldTester, PerformanceReport, NearestCentroidClassifier"
   ]
  },
  {
   "cell_type": "code",
   "execution_count": 5,
   "metadata": {},
   "outputs": [],
   "source": [
    "import plotly.graph_objs as go\n",
    "from plotly.offline import plot, iplot, init_notebook_mode"
   ]
  },
  {
   "cell_type": "code",
   "execution_count": 6,
   "metadata": {},
   "outputs": [],
   "source": [
    "import plotly.io as pio"
   ]
  },
  {
   "cell_type": "code",
   "execution_count": 7,
   "metadata": {},
   "outputs": [
    {
     "data": {
      "text/html": [
       "<script type=\"text/javascript\">window.PlotlyConfig = {MathJaxConfig: 'local'};</script><script type=\"text/javascript\">if (window.MathJax) {MathJax.Hub.Config({SVG: {font: \"STIX-Web\"}});}</script><script>requirejs.config({paths: { 'plotly': ['https://cdn.plot.ly/plotly-latest.min']},});if(!window._Plotly) {require(['plotly'],function(plotly) {window._Plotly=plotly;});}</script>"
      ],
      "text/vnd.plotly.v1+html": [
       "<script type=\"text/javascript\">window.PlotlyConfig = {MathJaxConfig: 'local'};</script><script type=\"text/javascript\">if (window.MathJax) {MathJax.Hub.Config({SVG: {font: \"STIX-Web\"}});}</script><script>requirejs.config({paths: { 'plotly': ['https://cdn.plot.ly/plotly-latest.min']},});if(!window._Plotly) {require(['plotly'],function(plotly) {window._Plotly=plotly;});}</script>"
      ]
     },
     "metadata": {},
     "output_type": "display_data"
    }
   ],
   "source": [
    "init_notebook_mode(connected=True)"
   ]
  },
  {
   "cell_type": "code",
   "execution_count": 8,
   "metadata": {},
   "outputs": [
    {
     "name": "stderr",
     "output_type": "stream",
     "text": [
      "/home/ahsvargo/miniconda3/envs/r35py37/lib/python3.7/site-packages/matplotlib/__init__.py:886: MatplotlibDeprecationWarning:\n",
      "\n",
      "\n",
      "examples.directory is deprecated; in the future, examples will be found relative to the 'datapath' directory.\n",
      "\n"
     ]
    }
   ],
   "source": [
    "import scanpy.api as sc\n",
    "import anndata"
   ]
  },
  {
   "cell_type": "code",
   "execution_count": 9,
   "metadata": {},
   "outputs": [
    {
     "name": "stdout",
     "output_type": "stream",
     "text": [
      "scanpy==1.3.7+56.gde16b79.dirty anndata==0.6.11 numpy==1.14.6 scipy==1.1.0 pandas==0.23.4 scikit-learn==0.20.0 statsmodels==0.9.0 python-igraph==0.7.1 louvain==0.6.1 \n"
     ]
    }
   ],
   "source": [
    "import loadData as ld"
   ]
  },
  {
   "cell_type": "markdown",
   "metadata": {},
   "source": [
    "## Random Forest Classifier"
   ]
  },
  {
   "cell_type": "code",
   "execution_count": 10,
   "metadata": {},
   "outputs": [],
   "source": [
    "from sklearn.ensemble import RandomForestClassifier"
   ]
  },
  {
   "cell_type": "code",
   "execution_count": 11,
   "metadata": {},
   "outputs": [],
   "source": [
    "class RandomForest:\n",
    "    def __init__(self):\n",
    "        self.traindata = None\n",
    "        self.RFC = RandomForestClassifier(n_estimators=100, n_jobs=-1)\n",
    "        \n",
    "    def train(self, data):\n",
    "        self.traindata = data\n",
    "        self.RFC.fit(data.X, data.y[:,0])\n",
    "        \n",
    "    def test(self, Xtest, sparse):\n",
    "        return self.RFC.predict(Xtest)\n",
    "    "
   ]
  },
  {
   "cell_type": "markdown",
   "metadata": {},
   "source": [
    "## Load data\n",
    "\n",
    "Also need to change these paths in order to load the data"
   ]
  },
  {
   "cell_type": "code",
   "execution_count": 12,
   "metadata": {},
   "outputs": [],
   "source": [
    "path= \"/home/ahsvargo/turbo/scData/zheng17/filtered_matrices_mex/hg19/\""
   ]
  },
  {
   "cell_type": "code",
   "execution_count": 13,
   "metadata": {},
   "outputs": [
    {
     "name": "stdout",
     "output_type": "stream",
     "text": [
      "Return object contains bulk labels under obs.('bulk_labels')\n",
      "and louvain labels under obs.('louv_labels')\n"
     ]
    }
   ],
   "source": [
    "allGenes=True\n",
    "labels='bulk'\n",
    "adata, folds = ld.load_zheng('adata', labels=labels, allGenes=allGenes)"
   ]
  },
  {
   "cell_type": "code",
   "execution_count": 14,
   "metadata": {},
   "outputs": [],
   "source": [
    "bulk_lookup = list(np.unique(adata.obs['bulk_labels'].values))\n",
    "louv_lookup = [str(a) for a in np.unique(adata.obs['louv_labels'].values)]"
   ]
  },
  {
   "cell_type": "code",
   "execution_count": 15,
   "metadata": {},
   "outputs": [],
   "source": [
    "bulky = np.array([bulk_lookup.index( adata.obs['bulk_labels'][i] ) for i in range(adata.obs['bulk_labels'].shape[0]) ]) \n",
    "louvy = np.load(path + 'zheng17_yVec_lvals.npz')['y']"
   ]
  },
  {
   "cell_type": "code",
   "execution_count": 16,
   "metadata": {},
   "outputs": [
    {
     "data": {
      "text/plain": [
       "0"
      ]
     },
     "execution_count": 16,
     "metadata": {},
     "output_type": "execute_result"
    }
   ],
   "source": [
    "labels = \"bulk\"\n",
    "sc.pp.normalize_per_cell(adata, counts_per_cell_after=10000)\n",
    "sc.pp.log1p( adata )\n",
    "\n",
    "data = Rocks(adata.X, bulky)\n",
    "ft = FoldTester(data)\n",
    "\n",
    "ft.folds = folds\n",
    "ft.validatefolds()\n",
    "\n",
    "ft.makerocks(1)"
   ]
  },
  {
   "cell_type": "code",
   "execution_count": 14,
   "metadata": {},
   "outputs": [],
   "source": [
    "dataset = \"zheng\"\n",
    "if not allGenes: dataset += \"Filt\"\n",
    "path = \"../zheng/plot\"\n",
    "patht = \"/home/ahsvargo/turbo/scData/zheng17/filtered_matrices_mex/hg19/\""
   ]
  },
  {
   "cell_type": "code",
   "execution_count": 20,
   "metadata": {},
   "outputs": [
    {
     "data": {
      "text/plain": [
       "Index(['AL627309.1', 'AP006222.2', 'RP11-206L10.3', 'RP11-206L10.2',\n",
       "       'RP11-206L10.9', 'FAM87B', 'LINC00115', 'FAM41C', 'RP11-54O7.1',\n",
       "       'SAMD11',\n",
       "       ...\n",
       "       'AC145212.1', 'MGC39584', 'AC011043.1', 'ZNF84-1', 'AL592183.1',\n",
       "       'AC011841.1', 'AL354822.1', 'KIR2DL2', 'PNRC2-1', 'SRSF10-1'],\n",
       "      dtype='object', name='index', length=20387)"
      ]
     },
     "execution_count": 20,
     "metadata": {},
     "output_type": "execute_result"
    }
   ],
   "source": [
    "adata.var.index"
   ]
  },
  {
   "cell_type": "markdown",
   "metadata": {},
   "source": [
    "## Load markers\n",
    "\n",
    "Only scanpy methods right now (April 30 2019)\n",
    "\n",
    "May 09 2019 added edgeR and MAST (without the det versions)\n",
    "\n",
    "June 09 2019 These paths won't work in relation to the repo.  You can't really load the markers as written - see further below in the notebook for how to process the classification results (the yhats) or copy this information with the correct paths to play with the markers."
   ]
  },
  {
   "cell_type": "code",
   "execution_count": 15,
   "metadata": {},
   "outputs": [],
   "source": [
    "methods = ['wilcoxon', 't-test_overestim_var', 'logreg', 'edgeR', 'MAST']\n",
    "method = methods[3]"
   ]
  },
  {
   "cell_type": "code",
   "execution_count": 30,
   "metadata": {},
   "outputs": [],
   "source": [
    "def load_markers(method, dataset, path, labels=\"\"):\n",
    "    \n",
    "    # scanpy methods\n",
    "    if method in ['wilcoxon', 't-test_overestim_var', 'logreg']:\n",
    "        fname = path + dataset + \"-\" + method + \"-markerList\"\n",
    "        if labels is \"\":\n",
    "            fname += \".npz\"\n",
    "        else:\n",
    "            fname += \"-\" + labels + \".npz\"\n",
    "        \n",
    "        print(\"Loading markers from \" + fname)\n",
    "        \n",
    "        pvalMarkerList = np.load(fname)['marks']\n",
    "        pvalScoreList = np.load(fname)['pvals']\n",
    "       \n",
    "    # R based methods\n",
    "    elif method in ['edgeR', 'edgeRdet', 'MAST', 'MASTdet']:\n",
    "\n",
    "        if 'zheng' in dataset and method in ['edgeRdet', 'MASTdet']:\n",
    "            print(\"Error: R det methods only run on datasets 'paul15' and 'zeisel'\")\n",
    "            return\n",
    "        \n",
    "        pmethods = [\"edgeR/\", 'edgeRdet/', 'MASTtpm/', 'MASTtpmDet/']\n",
    "        zmethods = [\"edgeR/\", 'edgeRdet/', 'MAST/', 'MASTdet/']\n",
    "        zhmethods = ['edgeR/', 'q', 'mast/', 'q']\n",
    "        ind = [\"edgeR\", 'edgeRdet', 'MAST', 'MASTdet'].index(method)\n",
    "        \n",
    "        \n",
    "        \n",
    "        if dataset is \"paul15\":\n",
    "            method  = pmethods[ind]\n",
    "        elif dataset is \"zeisel\":\n",
    "            method = zmethods[ind]\n",
    "        elif \"zheng\" in dataset:\n",
    "            method = zhmethods[ind]\n",
    "            \n",
    "        pvalMarkerList = []\n",
    "        for fold in range(5):\n",
    "            dayta = np.load(path + method + \"markerList-fold\" + str(fold) + \".npz\")\n",
    "            pvalMarkerList.append(dayta['arr_0'])\n",
    "            \n",
    "    # random markers\n",
    "    elif method is \"random\":\n",
    "        pvalMarkerList = np.load(dataset + \"-randomMarkers.npz\")['arr_0']\n",
    "        \n",
    "    # scvi    \n",
    "    elif method is \"scvi\":\n",
    "        path=\"./scvi/\"\n",
    "        pvalMarkerList = []\n",
    "        for fold in range(5):\n",
    "            dayta = np.load(path + dataset + \"-scvi-marks-fold\" + str(fold) + \".npz\")\n",
    "            pvalMarkerList.append(dayta['arr_0'])\n",
    "            \n",
    "    # elastic nets\n",
    "    elif method is \"enets\":\n",
    "        path = \"./enets/\"\n",
    "        pvalMarkerList = []\n",
    "        for fold in range(5):\n",
    "            dayta = np.load(path + dataset + \"-nets-fold\" + str(fold) + \"-marks.npz\")\n",
    "            pvalMarkerList.append(dayta['arr_0'])\n",
    "            \n",
    "    else: \n",
    "        print(\"Error: Method must be one of the following:\")\n",
    "        print(\"'wilcoxon', 't-test_overestim_var', 'logreg', 'edgeR', 'edgeRdet', 'MAST', 'MASTdet', 'random', 'scvi', 'enets'\")\n",
    "        print(\"Return None\")\n",
    "        return None\n",
    "    \n",
    "    return pvalMarkerList"
   ]
  },
  {
   "cell_type": "code",
   "execution_count": 20,
   "metadata": {},
   "outputs": [],
   "source": [
    "methods = ['wilcoxon', 't-test_overestim_var', 'logreg']\n",
    "method = methods[2]"
   ]
  },
  {
   "cell_type": "code",
   "execution_count": 97,
   "metadata": {},
   "outputs": [
    {
     "name": "stdout",
     "output_type": "stream",
     "text": [
      "Loading markers from zheng/zhengFilt-logreg-markerList-bulk.npz\n"
     ]
    }
   ],
   "source": [
    "labels = 'bulk'\n",
    "pvalMarkerList = load_markers(method, dataset=dataset, path=path, labels=labels)"
   ]
  },
  {
   "cell_type": "code",
   "execution_count": 76,
   "metadata": {},
   "outputs": [
    {
     "data": {
      "text/plain": [
       "(5, 11, 5000)"
      ]
     },
     "execution_count": 76,
     "metadata": {},
     "output_type": "execute_result"
    }
   ],
   "source": [
    "np.array(pvalMarkerList).shape"
   ]
  },
  {
   "cell_type": "code",
   "execution_count": 88,
   "metadata": {},
   "outputs": [
    {
     "data": {
      "text/plain": [
       "[606, 596, 593, 592, 588]"
      ]
     },
     "execution_count": 88,
     "metadata": {},
     "output_type": "execute_result"
    }
   ],
   "source": [
    "marks_per_clust=15\n",
    "[len(a) for a in [list(set().union(*[marks[:marks_per_clust] for marks in table])) for table in pvalMarkerList]]"
   ]
  },
  {
   "cell_type": "code",
   "execution_count": 99,
   "metadata": {},
   "outputs": [
    {
     "data": {
      "text/plain": [
       "array([ 18.8,  27.2,  36.2,  45.2,  53.8,  60.4,  69.6,  78.4,  87.2,\n",
       "       104.2, 121.4, 137.8, 154.8, 173. , 214.6, 255.4, 295.2, 332.4,\n",
       "       368.6, 406.4, 442. , 477. , 513.6, 548.2, 581.8])"
      ]
     },
     "execution_count": 99,
     "metadata": {},
     "output_type": "execute_result"
    }
   ],
   "source": [
    "marks_list_test = [2,3,4,5,6,7,8,9,10,12,14,16,18,20,25,30,35,40,45,50,55,60,65,70,75]\n",
    "\n",
    "testXvals = [ np.array(\n",
    "        [ len(a) for a in \n",
    "            [list(set().union(*[marks[:marks_per_clust] for marks in table])) \n",
    "            for table in pvalMarkerList]\n",
    "        ]\n",
    "        ).mean() for marks_per_clust in marks_list_test]\n",
    "\n",
    "np.array(testXvals)"
   ]
  },
  {
   "cell_type": "markdown",
   "metadata": {},
   "source": [
    "## Classify using the markers"
   ]
  },
  {
   "cell_type": "code",
   "execution_count": null,
   "metadata": {},
   "outputs": [],
   "source": [
    "#ylist.append(perf.wrong())\n",
    "#ylist.append(skm.recall_score(data.y.astype(int), ft.yhat, average='weighted'))"
   ]
  },
  {
   "cell_type": "code",
   "execution_count": 100,
   "metadata": {},
   "outputs": [
    {
     "data": {
      "text/plain": [
       "'logreg'"
      ]
     },
     "execution_count": 100,
     "metadata": {},
     "output_type": "execute_result"
    }
   ],
   "source": [
    "method"
   ]
  },
  {
   "cell_type": "code",
   "execution_count": 101,
   "metadata": {},
   "outputs": [
    {
     "name": "stdout",
     "output_type": "stream",
     "text": [
      "markers per cluster: 2\n",
      "Number of markers per fold: [18, 18, 19, 20, 19]\n",
      "markers per cluster: 3\n",
      "Number of markers per fold: [26, 29, 26, 27, 28]\n",
      "markers per cluster: 4\n",
      "Number of markers per fold: [35, 38, 36, 35, 37]\n",
      "markers per cluster: 5\n",
      "Number of markers per fold: [43, 47, 45, 44, 47]\n",
      "markers per cluster: 6\n",
      "Number of markers per fold: [52, 56, 55, 52, 54]\n",
      "markers per cluster: 7\n",
      "Number of markers per fold: [59, 61, 62, 59, 61]\n",
      "markers per cluster: 8\n",
      "Number of markers per fold: [69, 70, 71, 68, 70]\n",
      "markers per cluster: 9\n",
      "Number of markers per fold: [79, 80, 80, 76, 77]\n",
      "markers per cluster: 10\n",
      "Number of markers per fold: [87, 90, 88, 84, 87]\n",
      "markers per cluster: 12\n",
      "Number of markers per fold: [107, 106, 106, 101, 101]\n",
      "markers per cluster: 14\n",
      "Number of markers per fold: [125, 122, 121, 121, 118]\n",
      "markers per cluster: 16\n",
      "Number of markers per fold: [138, 141, 137, 138, 135]\n",
      "markers per cluster: 18\n",
      "Number of markers per fold: [155, 155, 154, 157, 153]\n",
      "markers per cluster: 20\n",
      "Number of markers per fold: [172, 175, 173, 173, 172]\n",
      "markers per cluster: 25\n",
      "Number of markers per fold: [213, 218, 210, 214, 218]\n",
      "markers per cluster: 30\n",
      "Number of markers per fold: [255, 255, 254, 256, 257]\n",
      "markers per cluster: 35\n",
      "Number of markers per fold: [301, 297, 295, 290, 293]\n",
      "markers per cluster: 40\n",
      "Number of markers per fold: [331, 337, 333, 333, 328]\n",
      "markers per cluster: 45\n",
      "Number of markers per fold: [368, 371, 370, 366, 368]\n",
      "markers per cluster: 50\n",
      "Number of markers per fold: [405, 411, 406, 402, 408]\n",
      "markers per cluster: 55\n",
      "Number of markers per fold: [444, 447, 445, 435, 439]\n",
      "markers per cluster: 60\n",
      "Number of markers per fold: [473, 482, 479, 470, 481]\n",
      "markers per cluster: 65\n",
      "Number of markers per fold: [510, 522, 515, 504, 517]\n",
      "markers per cluster: 70\n",
      "Number of markers per fold: [545, 557, 550, 536, 553]\n",
      "markers per cluster: 75\n",
      "Number of markers per fold: [581, 591, 582, 568, 587]\n",
      "CPU times: user 3h 23min 29s, sys: 1min 28s, total: 3h 24min 57s\n",
      "Wall time: 41min 8s\n"
     ]
    }
   ],
   "source": [
    "%%time\n",
    "#zheng bulk labels\n",
    "marks_list_wc = [2,4,6,10,14,30,48,51,54,57,60,66,72,78,84,100,115,130,145,160,175,190]\n",
    "marks_list_wc5 = [2,4,6,8,10,12,16,20,24,30,36,44,52,60,68,90,112,130,144,166,188,200]\n",
    "marks_list_wc5rf = [2,4,6,8,10,12,16,20,24,30,36,44,52,60,68,80,92,104,128,152,176,200]\n",
    "marks_list_tt = [2,4,6,8,10,12,14,16,18,20,25,30,35,40,45,58,70,82,94,106,118,130]\n",
    "marks_list_tt5 = [2,4,6,8,10,12,14,16,20,25,30,35,40,48,56,68,80,94,110,126,142,156]\n",
    "marks_list_lr = [2,3,4,5,6,7,8,9,10,12,14,16,18,20,25,30,35,40,45,50,55,60]\n",
    "marks_list_lr5 = [2,3,4,5,6,7,8,9,10,12,14,16,18,20,25,30,35,40,45,50,55,60,65,70,75]\n",
    "marks_list_mast5 = [2,4,6,8,10,12,14,16,18,20,25,30,35,40,45,50,60,70,80,90,100,110,120,130]\n",
    "marks_list_edge5 = [2,4,6,8,10,12,14,16,18,20,25,30,35,40,45,50,60,70,80,90,100,110,120,130]\n",
    "#zheng louv labels\n",
    "#marks_list_wc = [2,4,6,10,14,18,22,26,30,39,48,51,54,57,60,66,72,78,84,100,115,130,145,160,175]\n",
    "#marks_list_wc5 = [2,4,6,8,10,12,16,20,24,30,36,44,52,60,68,90,112,130,144,166,188,210]\n",
    "#marks_list_tt = [2,4,6,8,10,12,14,16,18,20,25,30,35,40,45,58,70,82,94,106,118,130,142,150]\n",
    "#marks_list_tt5 = [2,4,6,8,10,12,14,16,20,25,30,35,40,48,56,68,80,94,110,126,142,156]\n",
    "#marks_list_lr = [2,3,4,5,6,7,8,9,10,12,14,16,18,20,25,30,35,40,45,50,55,60,65]\n",
    "\n",
    "marks_list = marks_list_lr5\n",
    "\n",
    "xvals = []\n",
    "yhats = []\n",
    "\n",
    "for marks_per_clust in marks_list:\n",
    "    \n",
    "    print(\"markers per cluster: {}\".format(marks_per_clust), flush=True)\n",
    "    # every method other than elastic nets:\n",
    "    #myMarks = [list(set().union(*table[:,:marks_per_clust])) for table in pvalMarkerList]\n",
    "    # elastic nets:\n",
    "    myMarks = [list(set().union(*[marks[:marks_per_clust] for marks in table])) for table in pvalMarkerList]\n",
    "    ft.markers = myMarks\n",
    "    \n",
    "    print(\"Number of markers per fold: {}\".format([len(a) for a in ft.markers]))\n",
    "    xvals.append([len(a) for a in ft.markers])\n",
    "    \n",
    "    ft.classify(RandomForest)\n",
    "    #perf = PerformanceReport(data.y.astype(int), ft.yhat)\n",
    "    yhats.append(ft.yhat)\n",
    "    "
   ]
  },
  {
   "cell_type": "code",
   "execution_count": 102,
   "metadata": {},
   "outputs": [
    {
     "data": {
      "text/plain": [
       "array([ 18.8,  27.2,  36.2,  45.2,  53.8,  60.4,  69.6,  78.4,  87.2,\n",
       "       104.2, 121.4, 137.8, 154.8, 173. , 214.6, 255.4, 295.2, 332.4,\n",
       "       368.6, 406.4, 442. , 477. , 513.6, 548.2, 581.8])"
      ]
     },
     "execution_count": 102,
     "metadata": {},
     "output_type": "execute_result"
    }
   ],
   "source": [
    "np.array([np.array(a).mean() for a in xvals])"
   ]
  },
  {
   "cell_type": "code",
   "execution_count": 103,
   "metadata": {},
   "outputs": [
    {
     "data": {
      "text/plain": [
       "array([31403, 28040, 26309, 25254, 23612, 22843, 21804, 20712, 19749,\n",
       "       18212, 17511, 17150, 16321, 16087, 15594, 15113, 14781, 14846,\n",
       "       14740, 14579, 14634, 14544, 14646, 14444, 14586])"
      ]
     },
     "execution_count": 103,
     "metadata": {},
     "output_type": "execute_result"
    }
   ],
   "source": [
    "errs = np.array(list( map(lambda yhat: adata.X.shape[0] - np.where(yhat == bulky)[0].shape[0], yhats) ))\n",
    "errs"
   ]
  },
  {
   "cell_type": "code",
   "execution_count": 104,
   "metadata": {},
   "outputs": [
    {
     "name": "stdout",
     "output_type": "stream",
     "text": [
      "Save data to zhengFilt-logreg-bulk-plotInfo-RF.npz?\n"
     ]
    }
   ],
   "source": [
    "fname = \"zhengFilt-\" + method + \"-\" + labels + \"-plotInfo-RF.npz\"\n",
    "print(\"Save data to \" + fname + \"?\")"
   ]
  },
  {
   "cell_type": "code",
   "execution_count": 105,
   "metadata": {},
   "outputs": [],
   "source": [
    "np.savez(fname, xvals=xvals, yhats=yhats, ytrue=bulky, marks=marks_list, errs=errs)"
   ]
  },
  {
   "cell_type": "markdown",
   "metadata": {},
   "source": [
    "Below: They are the same file?"
   ]
  },
  {
   "cell_type": "code",
   "execution_count": 45,
   "metadata": {},
   "outputs": [
    {
     "data": {
      "text/plain": [
       "array([25805, 20776, 18403, 17367, 16879, 16550, 16293, 16086, 15429,\n",
       "       15493, 15198, 15096, 15102, 15137, 15208, 15345, 15322, 15323,\n",
       "       15340, 15242, 15421])"
      ]
     },
     "execution_count": 45,
     "metadata": {},
     "output_type": "execute_result"
    }
   ],
   "source": [
    "stuff = np.load(\"zhengFilt-rankCorr-bulk-plotInfo-RF.npz\")\n",
    "stuff['errs']"
   ]
  },
  {
   "cell_type": "code",
   "execution_count": 48,
   "metadata": {},
   "outputs": [
    {
     "data": {
      "text/plain": [
       "array([25805, 20776, 18403, 17367, 16879, 16550, 16293, 16086, 15429,\n",
       "       15493, 15198, 15096, 15102, 15137, 15208, 15345, 15322, 15323,\n",
       "       15340, 15242, 15421])"
      ]
     },
     "execution_count": 48,
     "metadata": {},
     "output_type": "execute_result"
    }
   ],
   "source": [
    "stuff = np.load(\"/home/ahsvargo/turbo/scData/zheng17/filtered_matrices_mex/hg19/zhengFilt-rankCorr-bulk-plotInfo-RF.npz\")\n",
    "stuff['errs']"
   ]
  },
  {
   "cell_type": "code",
   "execution_count": 50,
   "metadata": {},
   "outputs": [
    {
     "data": {
      "text/plain": [
       "array([ 11.6,  23.2,  33.4,  45.2,  59.8,  78. ,  95.8, 113.8, 140.8,\n",
       "       168.4, 191.8, 222.4, 251.2, 282. , 316.4, 353.2, 388.4, 430.8,\n",
       "       478. , 524.6, 568.2])"
      ]
     },
     "execution_count": 50,
     "metadata": {},
     "output_type": "execute_result"
    }
   ],
   "source": [
    "np.array([np.array(a).mean() for a in stuff['xvals']])"
   ]
  },
  {
   "cell_type": "markdown",
   "metadata": {},
   "source": [
    "## Aggregate the data and compute the values mentioned in the paper."
   ]
  },
  {
   "cell_type": "code",
   "execution_count": 21,
   "metadata": {},
   "outputs": [],
   "source": [
    "import sklearn.metrics as skm"
   ]
  },
  {
   "cell_type": "code",
   "execution_count": 20,
   "metadata": {},
   "outputs": [],
   "source": [
    "methods = ['wilcoxon', 't-test_overestim_var', 'logreg']"
   ]
  },
  {
   "cell_type": "code",
   "execution_count": 22,
   "metadata": {},
   "outputs": [],
   "source": [
    "meths = ['rankCorr'] + methods"
   ]
  },
  {
   "cell_type": "code",
   "execution_count": 23,
   "metadata": {},
   "outputs": [
    {
     "data": {
      "text/plain": [
       "['rankCorr', 'wilcoxon', 't-test_overestim_var', 'logreg']"
      ]
     },
     "execution_count": 23,
     "metadata": {},
     "output_type": "execute_result"
    }
   ],
   "source": [
    "meths"
   ]
  },
  {
   "cell_type": "code",
   "execution_count": 24,
   "metadata": {},
   "outputs": [],
   "source": [
    "filtMeths = ['rankCorr'] + methods + ['edgeR', 'MAST']"
   ]
  },
  {
   "cell_type": "code",
   "execution_count": 25,
   "metadata": {
    "collapsed": true
   },
   "outputs": [
    {
     "ename": "NameError",
     "evalue": "name 'bulky' is not defined",
     "output_type": "error",
     "traceback": [
      "\u001b[0;31m---------------------------------------------------------------------------\u001b[0m",
      "\u001b[0;31mNameError\u001b[0m                                 Traceback (most recent call last)",
      "\u001b[0;32m<ipython-input-25-c80aac604742>\u001b[0m in \u001b[0;36m<module>\u001b[0;34m\u001b[0m\n\u001b[1;32m      3\u001b[0m \u001b[0;34m\u001b[0m\u001b[0m\n\u001b[1;32m      4\u001b[0m \u001b[0;32mif\u001b[0m \u001b[0mlabels\u001b[0m \u001b[0;32mis\u001b[0m \u001b[0;34m'bulk'\u001b[0m\u001b[0;34m:\u001b[0m\u001b[0;34m\u001b[0m\u001b[0;34m\u001b[0m\u001b[0m\n\u001b[0;32m----> 5\u001b[0;31m     \u001b[0myTrue\u001b[0m \u001b[0;34m=\u001b[0m \u001b[0mbulky\u001b[0m\u001b[0;34m\u001b[0m\u001b[0;34m\u001b[0m\u001b[0m\n\u001b[0m\u001b[1;32m      6\u001b[0m \u001b[0;32melif\u001b[0m \u001b[0mlabels\u001b[0m \u001b[0;32mis\u001b[0m \u001b[0;34m'louv'\u001b[0m\u001b[0;34m:\u001b[0m\u001b[0;34m\u001b[0m\u001b[0;34m\u001b[0m\u001b[0m\n\u001b[1;32m      7\u001b[0m     \u001b[0myTrue\u001b[0m \u001b[0;34m=\u001b[0m \u001b[0mlouvy\u001b[0m\u001b[0;34m\u001b[0m\u001b[0;34m\u001b[0m\u001b[0m\n",
      "\u001b[0;31mNameError\u001b[0m: name 'bulky' is not defined"
     ]
    }
   ],
   "source": [
    "allGenes = False\n",
    "labels = 'bulk'\n",
    "\n",
    "if labels is 'bulk':\n",
    "    yTrue = bulky\n",
    "elif labels is 'louv':\n",
    "    yTrue = louvy\n",
    "    \n",
    "if not allGenes and labels is 'bulk':\n",
    "    currMeths = filtMeths\n",
    "else:\n",
    "    currMeths = meths"
   ]
  },
  {
   "cell_type": "code",
   "execution_count": 169,
   "metadata": {},
   "outputs": [
    {
     "data": {
      "text/plain": [
       "['rankCorr', 'wilcoxon', 't-test_overestim_var', 'logreg', 'edgeR', 'MAST']"
      ]
     },
     "execution_count": 169,
     "metadata": {},
     "output_type": "execute_result"
    }
   ],
   "source": [
    "currMeths"
   ]
  },
  {
   "cell_type": "code",
   "execution_count": 119,
   "metadata": {},
   "outputs": [
    {
     "data": {
      "text/plain": [
       "(array([ 0,  1,  2,  3,  4,  5,  6,  7,  8,  9, 10]),\n",
       " array([ 3306,  3817,   262,    19, 14112,  2793,  3126,  5859, 11445,\n",
       "        21975,  1865]))"
      ]
     },
     "execution_count": 119,
     "metadata": {},
     "output_type": "execute_result"
    }
   ],
   "source": [
    "np.unique(bulky, return_counts=True)"
   ]
  },
  {
   "cell_type": "code",
   "execution_count": 170,
   "metadata": {},
   "outputs": [
    {
     "name": "stdout",
     "output_type": "stream",
     "text": [
      "PROCESSING DATA FROM zhengFilt-rankCorr-bulk-plotInfo.npz\n",
      "PROCESSING DATA FROM zhengFilt-wilcoxon-bulk-plotInfo.npz\n",
      "PROCESSING DATA FROM zhengFilt-t-test_overestim_var-bulk-plotInfo.npz\n",
      "PROCESSING DATA FROM zhengFilt-logreg-bulk-plotInfo.npz\n",
      "PROCESSING DATA FROM zhengFilt-edgeR-bulk-plotInfo.npz\n",
      "PROCESSING DATA FROM zhengFilt-MAST-bulk-plotInfo.npz\n",
      "Saving all processed data to zhengFilt-bulkscores-all.npz\n"
     ]
    }
   ],
   "source": [
    "dayta = []\n",
    "accs = []\n",
    "prec = []\n",
    "recs = []\n",
    "mccs = []\n",
    "xvals = []\n",
    "\n",
    "for method in currMeths:\n",
    "    \n",
    "    fname = \"zheng\"\n",
    "    if not allGenes: fname += \"Filt-\"\n",
    "    else: fname += \"-\"\n",
    "    \n",
    "    fname += method + \"-\" + labels + \"-plotInfo.npz\"\n",
    "    print(\"PROCESSING DATA FROM {}\".format(fname))\n",
    "    \n",
    "    dayta = np.load(fname) \n",
    "    \n",
    "    accs.append( list(map(lambda yhat: 1-skm.accuracy_score(yTrue, yhat), dayta['yhats'])) )\n",
    "    prec.append( list(map(lambda yhat: skm.precision_score(yTrue, yhat, average='weighted'), dayta['yhats'])) )\n",
    "    recs.append( list(map(lambda yhat: skm.recall_score(yTrue, yhat, average='weighted'), dayta['yhats'])) )\n",
    "    mccs.append( list(map(lambda yhat: skm.matthews_corrcoef(yTrue, yhat), dayta['yhats'])) )\n",
    "    \n",
    "    xvals.append( np.array([np.array(a).mean() for a in dayta['xvals']]) )\n",
    "    \n",
    "    dayta.close()\n",
    "    \n",
    "outname = \"zheng\"\n",
    "if not allGenes: outname += \"Filt-\"\n",
    "else: outname += \"-\"\n",
    "\n",
    "outname += labels + \"scores-all.npz\"\n",
    "print(\"Saving all processed data to {}\".format(outname))\n",
    "\n",
    "np.savez(outname, accs=accs, prec=prec, recs=recs, mccs=mccs, xvals=xvals)"
   ]
  },
  {
   "cell_type": "markdown",
   "metadata": {},
   "source": [
    "## Plot the data\n",
    "\n",
    "These plots should all run without needing to change any paths.  To make things work easily, head down to the end of the file and define `layout` before continuing here."
   ]
  },
  {
   "cell_type": "code",
   "execution_count": 20,
   "metadata": {},
   "outputs": [],
   "source": [
    "methods = ['wilcoxon', 't-test_overestim_var', 'logreg']"
   ]
  },
  {
   "cell_type": "code",
   "execution_count": 22,
   "metadata": {},
   "outputs": [],
   "source": [
    "meths = ['rankCorr'] + methods"
   ]
  },
  {
   "cell_type": "code",
   "execution_count": 23,
   "metadata": {},
   "outputs": [
    {
     "data": {
      "text/plain": [
       "['rankCorr', 'wilcoxon', 't-test_overestim_var', 'logreg']"
      ]
     },
     "execution_count": 23,
     "metadata": {},
     "output_type": "execute_result"
    }
   ],
   "source": [
    "meths"
   ]
  },
  {
   "cell_type": "code",
   "execution_count": 24,
   "metadata": {},
   "outputs": [],
   "source": [
    "filtMeths = ['rankCorr'] + methods + ['edgeR', 'MAST']"
   ]
  },
  {
   "cell_type": "code",
   "execution_count": 27,
   "metadata": {},
   "outputs": [],
   "source": [
    "allGenes = False\n",
    "labels = 'bulk'\n",
    "\n",
    "if not allGenes and labels is 'bulk':\n",
    "    currMeths = filtMeths\n",
    "else:\n",
    "    currMeths = meths"
   ]
  },
  {
   "cell_type": "code",
   "execution_count": 28,
   "metadata": {},
   "outputs": [],
   "source": [
    "colorMap = {\n",
    "    \n",
    "    'rankCorr' : \"#3366cc\",\n",
    "#    methods[0] : \"#ef3774\", # nice pink\n",
    "    methods[0] : \"#d62728\", # red\n",
    "    methods[1] : \"#ff9900\",\n",
    "#    methods[2] : \"#22aa99\",  # green-blue (close to green)\n",
    "    methods[2] : \"#2ca02c\",  #chalkboard\n",
    "    'edgeR' :  \"#9467bd\",\n",
    "    'edgeRdet' : \"#c5b0d5\",\n",
    "    'MAST' : '#17becf',\n",
    "    'MASTdet': '#9edae5',\n",
    "    'enets': \"#8c564b\",\n",
    "#    'genzel' : \"#0099c6\", # blueish\n",
    "    'genzel' : \"#bcbd22\", #vom\n",
    "    'scvi' : \"#f032e6\",\n",
    "    'random' : '#808080'\n",
    "    \n",
    "}"
   ]
  },
  {
   "cell_type": "code",
   "execution_count": 29,
   "metadata": {},
   "outputs": [],
   "source": [
    "path = '../zheng17/plot/'"
   ]
  },
  {
   "cell_type": "code",
   "execution_count": 30,
   "metadata": {},
   "outputs": [],
   "source": [
    "score = 'accs'\n",
    "\n",
    "daytaname = \"zheng\"\n",
    "if not allGenes: daytaname += \"Filt-\"\n",
    "else: daytaname += \"-\"\n",
    "    \n",
    "daytaname += labels + \"scores-all.npz\"\n",
    "dayta = np.load(path + daytaname)\n",
    "\n",
    "methNames = {\n",
    "    'rankCorr': \"RankCorr\",\n",
    "    methods[0]: \"Wilcoxon\",\n",
    "    methods[1]: \"t-test\",\n",
    "    methods[2]: \"Log. Reg.\",\n",
    "    'edgeR' : 'edgeR',\n",
    "    'MAST' : 'MAST'\n",
    "}\n",
    "\n",
    "traces = []\n",
    "for i,method in enumerate(currMeths):\n",
    "    traces.append(\n",
    "        go.Scatter(x=dayta['xvals'][i], y=dayta[score][i], name=methNames[method], mode=\"lines+markers\")\n",
    "    )\n",
    "    \n",
    "    "
   ]
  },
  {
   "cell_type": "code",
   "execution_count": 34,
   "metadata": {},
   "outputs": [
    {
     "data": {
      "application/vnd.plotly.v1+json": {
       "config": {
        "linkText": "Export to plot.ly",
        "plotlyServerURL": "https://plot.ly",
        "showLink": false
       },
       "data": [
        {
         "mode": "lines+markers",
         "name": "RankCorr",
         "type": "scatter",
         "uid": "42cdb874-5362-4099-b309-257131684cb0",
         "x": [
          11.6,
          22.6,
          34,
          50.6,
          70.4,
          90.8,
          113.4,
          137,
          174.4,
          210.4,
          239.8,
          276.6,
          310.8,
          345.6,
          384.4,
          416.6,
          453.2,
          489.4,
          531.6,
          568.6,
          606
         ],
         "y": [
          0.5453710319485556,
          0.4916665451523061,
          0.47066886364630567,
          0.46119074352206946,
          0.45658291896936376,
          0.4458361889208067,
          0.4411846191982969,
          0.4335437962058356,
          0.4214555476166173,
          0.41823298677437704,
          0.4159582379445603,
          0.41534580556730194,
          0.4140480321964449,
          0.41307105673748523,
          0.412998148121145,
          0.4128669126117325,
          0.41190451887604074,
          0.41124834132897825,
          0.4095568614298838,
          0.40580935854999345,
          0.403607518336517
         ]
        },
        {
         "mode": "lines+markers",
         "name": "Wilcoxon",
         "type": "scatter",
         "uid": "824f8595-f823-49b7-b7a0-e53f7d396919",
         "x": [
          17.8,
          30.2,
          45.6,
          56.4,
          71.8,
          83.8,
          103.4,
          121.8,
          138.2,
          160.6,
          181.8,
          201,
          218.4,
          238.2,
          255.8,
          308.2,
          353.2,
          406.8,
          445.2,
          496.8,
          555.2,
          591
         ],
         "y": [
          0.5161346767961037,
          0.495034923227227,
          0.4823779874305545,
          0.4789658641858294,
          0.47104798845127516,
          0.4644278860875778,
          0.45532889076831096,
          0.4434156228583094,
          0.43436037270884675,
          0.4316919173507925,
          0.4285860102946967,
          0.42501348809402295,
          0.4240656760815993,
          0.4198369763338632,
          0.41705186718966447,
          0.4094547893670074,
          0.4080257804867379,
          0.40719462226045877,
          0.40580935854999345,
          0.4049927820469823,
          0.4042636958835796,
          0.40325755697808363
         ]
        },
        {
         "mode": "lines+markers",
         "name": "t-test",
         "type": "scatter",
         "uid": "6d204198-04e8-495f-83cf-6444d49705bc",
         "x": [
          15,
          28.2,
          42,
          54.2,
          68.4,
          79.4,
          94.2,
          106.2,
          127.6,
          151.4,
          175.4,
          195.6,
          216.2,
          244.4,
          270.2,
          313.8,
          354.4,
          400.8,
          449.4,
          500.2,
          547.6,
          595
         ],
         "y": [
          0.5279458726432289,
          0.4630280406538445,
          0.4630426223771126,
          0.44956911007742895,
          0.4395368844690065,
          0.43837034660756213,
          0.4376850056139635,
          0.4364747225827148,
          0.42860059201796463,
          0.41878709225856314,
          0.41260444159290743,
          0.4111316875428338,
          0.4102859475932866,
          0.4087548666501407,
          0.4067571705624171,
          0.40572186821038514,
          0.40449700345586836,
          0.40328672042461977,
          0.40404497003455864,
          0.4044240948395281,
          0.4038262441855378,
          0.40236807185873225
         ]
        },
        {
         "mode": "lines+markers",
         "name": "Log. Reg.",
         "type": "scatter",
         "uid": "ff61eec2-7c6a-48ba-8050-1442bd2955fd",
         "x": [
          18.8,
          27.2,
          36.2,
          45.2,
          53.8,
          60.4,
          69.6,
          78.4,
          87.2,
          104.2,
          121.4,
          137.8,
          154.8,
          173,
          214.6,
          255.4,
          295.2,
          332.4,
          368.6,
          406.4,
          442,
          477,
          513.6,
          548.2,
          581.8
         ],
         "y": [
          0.558771635631899,
          0.5044838799049272,
          0.48872103705215886,
          0.5057670715525161,
          0.4801907289403462,
          0.4810656323364295,
          0.4693565085521807,
          0.4627072427419472,
          0.45435191530935126,
          0.44649236646786916,
          0.43231893145131894,
          0.42883389959025353,
          0.41910789017046035,
          0.41167121130375184,
          0.4045407486256726,
          0.39939340031204884,
          0.39646247393516965,
          0.39529593607372515,
          0.39535426296679743,
          0.39618542119307665,
          0.39417314338208487,
          0.3956021522623544,
          0.39589378672771547,
          0.3933565668790737,
          0.3930066055206405
         ]
        },
        {
         "mode": "lines+markers",
         "name": "edgeR",
         "type": "scatter",
         "uid": "175b60dc-ae50-456e-a3d6-703f901a1284",
         "x": [
          15,
          25.8,
          36.8,
          46.6,
          56.6,
          63.4,
          71.6,
          80.8,
          89,
          97.8,
          122.6,
          146.2,
          174.6,
          193.8,
          223.4,
          248,
          295.8,
          342.6,
          391.2,
          439.4,
          486,
          523.6,
          558.6,
          590.2
         ],
         "y": [
          0.6469327345105644,
          0.5034923227226994,
          0.52141326061914,
          0.5537555228276878,
          0.467081759722364,
          0.44627364061884833,
          0.4453112468831566,
          0.43472491579054817,
          0.4321876959419064,
          0.4272590734773035,
          0.4166289972148909,
          0.4151708248880853,
          0.41237113402061853,
          0.40878403009667685,
          0.40394289797168226,
          0.40264512460082535,
          0.39967045305414195,
          0.39920383790956415,
          0.39975794339375026,
          0.4022076729027837,
          0.4030096676825268,
          0.40343253765730036,
          0.40370959039939336,
          0.4028638504498462
         ]
        },
        {
         "mode": "lines+markers",
         "name": "MAST",
         "type": "scatter",
         "uid": "4600a5ee-e98d-430d-94ad-ca66124d265a",
         "x": [
          19.6,
          39.2,
          57.2,
          73.6,
          90,
          106,
          119.8,
          134.2,
          147.2,
          159,
          189.2,
          215.6,
          239.8,
          262.4,
          282.2,
          301.2,
          343.8,
          385.2,
          422,
          449.4,
          473.6,
          502.6,
          533.4,
          561.2
         ],
         "y": [
          0.5411860773706236,
          0.4753204333688156,
          0.4577786202773444,
          0.4474401784802928,
          0.43729129908572595,
          0.4330917627845259,
          0.43026290847052306,
          0.42696743901194245,
          0.4238761136791146,
          0.42171801863544234,
          0.4170956123594687,
          0.4117878650898963,
          0.41324603741670196,
          0.4103005293165546,
          0.40869653975706854,
          0.40817159771941847,
          0.4062905554178393,
          0.40572186821038514,
          0.40473031102815726,
          0.40455533034894064,
          0.4050802723865906,
          0.40567812304058093,
          0.4062030650782309,
          0.40493445515391013
         ]
        }
       ],
       "layout": {
        "font": {
         "family": "CMU Serif"
        },
        "legend": {
         "font": {
          "size": 16
         }
        },
        "margin": {
         "t": 20
        },
        "xaxis": {
         "range": [
          0,
          550
         ],
         "tickfont": {
          "size": 16
         },
         "title": {
          "font": {
           "size": 20
          },
          "text": "Number of markers"
         }
        },
        "yaxis": {
         "tickfont": {
          "size": 16
         },
         "title": {
          "font": {
           "size": 20
          },
          "text": "Matthews correlation coefficient"
         }
        }
       }
      },
      "text/html": [
       "<div id=\"01e862bf-382f-4fb3-9e5a-931d90167c75\" style=\"height: 525px; width: 100%;\" class=\"plotly-graph-div\"></div><script type=\"text/javascript\">require([\"plotly\"], function(Plotly) { window.PLOTLYENV=window.PLOTLYENV || {};window.PLOTLYENV.BASE_URL=\"https://plot.ly\";\n",
       "if (document.getElementById(\"01e862bf-382f-4fb3-9e5a-931d90167c75\")) {\n",
       "    Plotly.newPlot(\"01e862bf-382f-4fb3-9e5a-931d90167c75\", [{\"mode\": \"lines+markers\", \"name\": \"RankCorr\", \"x\": [11.6, 22.6, 34.0, 50.6, 70.4, 90.8, 113.4, 137.0, 174.4, 210.4, 239.8, 276.6, 310.8, 345.6, 384.4, 416.6, 453.2, 489.4, 531.6, 568.6, 606.0], \"y\": [0.5453710319485556, 0.4916665451523061, 0.47066886364630567, 0.46119074352206946, 0.45658291896936376, 0.4458361889208067, 0.4411846191982969, 0.4335437962058356, 0.4214555476166173, 0.41823298677437704, 0.4159582379445603, 0.41534580556730194, 0.4140480321964449, 0.41307105673748523, 0.412998148121145, 0.4128669126117325, 0.41190451887604074, 0.41124834132897825, 0.4095568614298838, 0.40580935854999345, 0.403607518336517], \"type\": \"scatter\", \"uid\": \"c8edd1dd-9f9c-4766-a309-92ce4e195dc6\"}, {\"mode\": \"lines+markers\", \"name\": \"Wilcoxon\", \"x\": [17.8, 30.2, 45.6, 56.4, 71.8, 83.8, 103.4, 121.8, 138.2, 160.6, 181.8, 201.0, 218.4, 238.2, 255.8, 308.2, 353.2, 406.8, 445.2, 496.8, 555.2, 591.0], \"y\": [0.5161346767961037, 0.495034923227227, 0.4823779874305545, 0.4789658641858294, 0.47104798845127516, 0.4644278860875778, 0.45532889076831096, 0.4434156228583094, 0.43436037270884675, 0.4316919173507925, 0.4285860102946967, 0.42501348809402295, 0.4240656760815993, 0.4198369763338632, 0.41705186718966447, 0.4094547893670074, 0.4080257804867379, 0.40719462226045877, 0.40580935854999345, 0.4049927820469823, 0.4042636958835796, 0.40325755697808363], \"type\": \"scatter\", \"uid\": \"8a97a70f-525a-4675-95e4-30f94a9a183b\"}, {\"mode\": \"lines+markers\", \"name\": \"t-test\", \"x\": [15.0, 28.2, 42.0, 54.2, 68.4, 79.4, 94.2, 106.2, 127.6, 151.4, 175.4, 195.6, 216.2, 244.4, 270.2, 313.8, 354.4, 400.8, 449.4, 500.2, 547.6, 595.0], \"y\": [0.5279458726432289, 0.4630280406538445, 0.4630426223771126, 0.44956911007742895, 0.4395368844690065, 0.43837034660756213, 0.4376850056139635, 0.4364747225827148, 0.42860059201796463, 0.41878709225856314, 0.41260444159290743, 0.4111316875428338, 0.4102859475932866, 0.4087548666501407, 0.4067571705624171, 0.40572186821038514, 0.40449700345586836, 0.40328672042461977, 0.40404497003455864, 0.4044240948395281, 0.4038262441855378, 0.40236807185873225], \"type\": \"scatter\", \"uid\": \"b2348adb-3328-4d31-91bb-75b30b704bf0\"}, {\"mode\": \"lines+markers\", \"name\": \"Log. Reg.\", \"x\": [18.8, 27.2, 36.2, 45.2, 53.8, 60.4, 69.6, 78.4, 87.2, 104.2, 121.4, 137.8, 154.8, 173.0, 214.6, 255.4, 295.2, 332.4, 368.6, 406.4, 442.0, 477.0, 513.6, 548.2, 581.8], \"y\": [0.558771635631899, 0.5044838799049272, 0.48872103705215886, 0.5057670715525161, 0.4801907289403462, 0.4810656323364295, 0.4693565085521807, 0.4627072427419472, 0.45435191530935126, 0.44649236646786916, 0.43231893145131894, 0.42883389959025353, 0.41910789017046035, 0.41167121130375184, 0.4045407486256726, 0.39939340031204884, 0.39646247393516965, 0.39529593607372515, 0.39535426296679743, 0.39618542119307665, 0.39417314338208487, 0.3956021522623544, 0.39589378672771547, 0.3933565668790737, 0.3930066055206405], \"type\": \"scatter\", \"uid\": \"4597467a-24b5-4dcd-b227-e6b79ef9aec5\"}, {\"mode\": \"lines+markers\", \"name\": \"edgeR\", \"x\": [15.0, 25.8, 36.8, 46.6, 56.6, 63.4, 71.6, 80.8, 89.0, 97.8, 122.6, 146.2, 174.6, 193.8, 223.4, 248.0, 295.8, 342.6, 391.2, 439.4, 486.0, 523.6, 558.6, 590.2], \"y\": [0.6469327345105644, 0.5034923227226994, 0.52141326061914, 0.5537555228276878, 0.467081759722364, 0.44627364061884833, 0.4453112468831566, 0.43472491579054817, 0.4321876959419064, 0.4272590734773035, 0.4166289972148909, 0.4151708248880853, 0.41237113402061853, 0.40878403009667685, 0.40394289797168226, 0.40264512460082535, 0.39967045305414195, 0.39920383790956415, 0.39975794339375026, 0.4022076729027837, 0.4030096676825268, 0.40343253765730036, 0.40370959039939336, 0.4028638504498462], \"type\": \"scatter\", \"uid\": \"0b6e97d6-556b-496f-a166-d7dd39e68786\"}, {\"mode\": \"lines+markers\", \"name\": \"MAST\", \"x\": [19.6, 39.2, 57.2, 73.6, 90.0, 106.0, 119.8, 134.2, 147.2, 159.0, 189.2, 215.6, 239.8, 262.4, 282.2, 301.2, 343.8, 385.2, 422.0, 449.4, 473.6, 502.6, 533.4, 561.2], \"y\": [0.5411860773706236, 0.4753204333688156, 0.4577786202773444, 0.4474401784802928, 0.43729129908572595, 0.4330917627845259, 0.43026290847052306, 0.42696743901194245, 0.4238761136791146, 0.42171801863544234, 0.4170956123594687, 0.4117878650898963, 0.41324603741670196, 0.4103005293165546, 0.40869653975706854, 0.40817159771941847, 0.4062905554178393, 0.40572186821038514, 0.40473031102815726, 0.40455533034894064, 0.4050802723865906, 0.40567812304058093, 0.4062030650782309, 0.40493445515391013], \"type\": \"scatter\", \"uid\": \"6ade8073-2b48-4ac7-864a-4b965ddd3e19\"}], {\"font\": {\"family\": \"CMU Serif\"}, \"legend\": {\"font\": {\"size\": 16}}, \"margin\": {\"t\": 20}, \"xaxis\": {\"range\": [0, 550], \"tickfont\": {\"size\": 16}, \"title\": {\"font\": {\"size\": 20}, \"text\": \"Number of markers\"}}, \"yaxis\": {\"tickfont\": {\"size\": 16}, \"title\": {\"font\": {\"size\": 20}, \"text\": \"Matthews correlation coefficient\"}}}, {\"showLink\": false, \"linkText\": \"Export to plot.ly\", \"plotlyServerURL\": \"https://plot.ly\"}); \n",
       "}\n",
       "});</script><script type=\"text/javascript\">window.addEventListener(\"resize\", function(){if (document.getElementById(\"01e862bf-382f-4fb3-9e5a-931d90167c75\")) {window._Plotly.Plots.resize(document.getElementById(\"01e862bf-382f-4fb3-9e5a-931d90167c75\"));};})</script>"
      ],
      "text/vnd.plotly.v1+html": [
       "<div id=\"01e862bf-382f-4fb3-9e5a-931d90167c75\" style=\"height: 525px; width: 100%;\" class=\"plotly-graph-div\"></div><script type=\"text/javascript\">require([\"plotly\"], function(Plotly) { window.PLOTLYENV=window.PLOTLYENV || {};window.PLOTLYENV.BASE_URL=\"https://plot.ly\";\n",
       "if (document.getElementById(\"01e862bf-382f-4fb3-9e5a-931d90167c75\")) {\n",
       "    Plotly.newPlot(\"01e862bf-382f-4fb3-9e5a-931d90167c75\", [{\"mode\": \"lines+markers\", \"name\": \"RankCorr\", \"x\": [11.6, 22.6, 34.0, 50.6, 70.4, 90.8, 113.4, 137.0, 174.4, 210.4, 239.8, 276.6, 310.8, 345.6, 384.4, 416.6, 453.2, 489.4, 531.6, 568.6, 606.0], \"y\": [0.5453710319485556, 0.4916665451523061, 0.47066886364630567, 0.46119074352206946, 0.45658291896936376, 0.4458361889208067, 0.4411846191982969, 0.4335437962058356, 0.4214555476166173, 0.41823298677437704, 0.4159582379445603, 0.41534580556730194, 0.4140480321964449, 0.41307105673748523, 0.412998148121145, 0.4128669126117325, 0.41190451887604074, 0.41124834132897825, 0.4095568614298838, 0.40580935854999345, 0.403607518336517], \"type\": \"scatter\", \"uid\": \"c8edd1dd-9f9c-4766-a309-92ce4e195dc6\"}, {\"mode\": \"lines+markers\", \"name\": \"Wilcoxon\", \"x\": [17.8, 30.2, 45.6, 56.4, 71.8, 83.8, 103.4, 121.8, 138.2, 160.6, 181.8, 201.0, 218.4, 238.2, 255.8, 308.2, 353.2, 406.8, 445.2, 496.8, 555.2, 591.0], \"y\": [0.5161346767961037, 0.495034923227227, 0.4823779874305545, 0.4789658641858294, 0.47104798845127516, 0.4644278860875778, 0.45532889076831096, 0.4434156228583094, 0.43436037270884675, 0.4316919173507925, 0.4285860102946967, 0.42501348809402295, 0.4240656760815993, 0.4198369763338632, 0.41705186718966447, 0.4094547893670074, 0.4080257804867379, 0.40719462226045877, 0.40580935854999345, 0.4049927820469823, 0.4042636958835796, 0.40325755697808363], \"type\": \"scatter\", \"uid\": \"8a97a70f-525a-4675-95e4-30f94a9a183b\"}, {\"mode\": \"lines+markers\", \"name\": \"t-test\", \"x\": [15.0, 28.2, 42.0, 54.2, 68.4, 79.4, 94.2, 106.2, 127.6, 151.4, 175.4, 195.6, 216.2, 244.4, 270.2, 313.8, 354.4, 400.8, 449.4, 500.2, 547.6, 595.0], \"y\": [0.5279458726432289, 0.4630280406538445, 0.4630426223771126, 0.44956911007742895, 0.4395368844690065, 0.43837034660756213, 0.4376850056139635, 0.4364747225827148, 0.42860059201796463, 0.41878709225856314, 0.41260444159290743, 0.4111316875428338, 0.4102859475932866, 0.4087548666501407, 0.4067571705624171, 0.40572186821038514, 0.40449700345586836, 0.40328672042461977, 0.40404497003455864, 0.4044240948395281, 0.4038262441855378, 0.40236807185873225], \"type\": \"scatter\", \"uid\": \"b2348adb-3328-4d31-91bb-75b30b704bf0\"}, {\"mode\": \"lines+markers\", \"name\": \"Log. Reg.\", \"x\": [18.8, 27.2, 36.2, 45.2, 53.8, 60.4, 69.6, 78.4, 87.2, 104.2, 121.4, 137.8, 154.8, 173.0, 214.6, 255.4, 295.2, 332.4, 368.6, 406.4, 442.0, 477.0, 513.6, 548.2, 581.8], \"y\": [0.558771635631899, 0.5044838799049272, 0.48872103705215886, 0.5057670715525161, 0.4801907289403462, 0.4810656323364295, 0.4693565085521807, 0.4627072427419472, 0.45435191530935126, 0.44649236646786916, 0.43231893145131894, 0.42883389959025353, 0.41910789017046035, 0.41167121130375184, 0.4045407486256726, 0.39939340031204884, 0.39646247393516965, 0.39529593607372515, 0.39535426296679743, 0.39618542119307665, 0.39417314338208487, 0.3956021522623544, 0.39589378672771547, 0.3933565668790737, 0.3930066055206405], \"type\": \"scatter\", \"uid\": \"4597467a-24b5-4dcd-b227-e6b79ef9aec5\"}, {\"mode\": \"lines+markers\", \"name\": \"edgeR\", \"x\": [15.0, 25.8, 36.8, 46.6, 56.6, 63.4, 71.6, 80.8, 89.0, 97.8, 122.6, 146.2, 174.6, 193.8, 223.4, 248.0, 295.8, 342.6, 391.2, 439.4, 486.0, 523.6, 558.6, 590.2], \"y\": [0.6469327345105644, 0.5034923227226994, 0.52141326061914, 0.5537555228276878, 0.467081759722364, 0.44627364061884833, 0.4453112468831566, 0.43472491579054817, 0.4321876959419064, 0.4272590734773035, 0.4166289972148909, 0.4151708248880853, 0.41237113402061853, 0.40878403009667685, 0.40394289797168226, 0.40264512460082535, 0.39967045305414195, 0.39920383790956415, 0.39975794339375026, 0.4022076729027837, 0.4030096676825268, 0.40343253765730036, 0.40370959039939336, 0.4028638504498462], \"type\": \"scatter\", \"uid\": \"0b6e97d6-556b-496f-a166-d7dd39e68786\"}, {\"mode\": \"lines+markers\", \"name\": \"MAST\", \"x\": [19.6, 39.2, 57.2, 73.6, 90.0, 106.0, 119.8, 134.2, 147.2, 159.0, 189.2, 215.6, 239.8, 262.4, 282.2, 301.2, 343.8, 385.2, 422.0, 449.4, 473.6, 502.6, 533.4, 561.2], \"y\": [0.5411860773706236, 0.4753204333688156, 0.4577786202773444, 0.4474401784802928, 0.43729129908572595, 0.4330917627845259, 0.43026290847052306, 0.42696743901194245, 0.4238761136791146, 0.42171801863544234, 0.4170956123594687, 0.4117878650898963, 0.41324603741670196, 0.4103005293165546, 0.40869653975706854, 0.40817159771941847, 0.4062905554178393, 0.40572186821038514, 0.40473031102815726, 0.40455533034894064, 0.4050802723865906, 0.40567812304058093, 0.4062030650782309, 0.40493445515391013], \"type\": \"scatter\", \"uid\": \"6ade8073-2b48-4ac7-864a-4b965ddd3e19\"}], {\"font\": {\"family\": \"CMU Serif\"}, \"legend\": {\"font\": {\"size\": 16}}, \"margin\": {\"t\": 20}, \"xaxis\": {\"range\": [0, 550], \"tickfont\": {\"size\": 16}, \"title\": {\"font\": {\"size\": 20}, \"text\": \"Number of markers\"}}, \"yaxis\": {\"tickfont\": {\"size\": 16}, \"title\": {\"font\": {\"size\": 20}, \"text\": \"Matthews correlation coefficient\"}}}, {\"showLink\": false, \"linkText\": \"Export to plot.ly\", \"plotlyServerURL\": \"https://plot.ly\"}); \n",
       "}\n",
       "});</script><script type=\"text/javascript\">window.addEventListener(\"resize\", function(){if (document.getElementById(\"01e862bf-382f-4fb3-9e5a-931d90167c75\")) {window._Plotly.Plots.resize(document.getElementById(\"01e862bf-382f-4fb3-9e5a-931d90167c75\"));};})</script>"
      ]
     },
     "metadata": {},
     "output_type": "display_data"
    }
   ],
   "source": [
    "iplot({'data':traces, 'layout': layout})"
   ]
  },
  {
   "cell_type": "code",
   "execution_count": 174,
   "metadata": {},
   "outputs": [
    {
     "data": {
      "application/vnd.plotly.v1+json": {
       "config": {
        "linkText": "Export to plot.ly",
        "plotlyServerURL": "https://plot.ly",
        "showLink": false
       },
       "data": [
        {
         "mode": "lines+markers",
         "name": "RankCorr",
         "type": "scatter",
         "uid": "f8008b7c-41e3-4cf7-9329-ad03c63550c8",
         "x": [
          11.6,
          22.6,
          34,
          50.6,
          70.4,
          90.8,
          113.4,
          137,
          174.4,
          210.4,
          239.8,
          276.6,
          310.8,
          345.6,
          384.4,
          416.6,
          453.2,
          489.4,
          531.6,
          568.6,
          606
         ],
         "y": [
          0.5989883245270721,
          0.7016459806655858,
          0.7213463748898536,
          0.7270352790826646,
          0.727242803937613,
          0.7341681999746675,
          0.7377209552065601,
          0.7427204483897029,
          0.7546032741247022,
          0.7564186044555504,
          0.7567339994365903,
          0.7572623117467975,
          0.758392666662805,
          0.7585231312606506,
          0.7584506250703656,
          0.7585736487906514,
          0.7577140466362389,
          0.7576616286180144,
          0.757950967927298,
          0.761097146002788,
          0.7608275212272928
         ]
        },
        {
         "mode": "lines+markers",
         "name": "Wilcoxon",
         "type": "scatter",
         "uid": "448cf1b4-5f78-41e5-8928-352c92c21caf",
         "x": [
          17.8,
          30.2,
          45.6,
          56.4,
          71.8,
          83.8,
          103.4,
          121.8,
          138.2,
          160.6,
          181.8,
          201,
          218.4,
          238.2,
          255.8,
          308.2,
          353.2,
          406.8,
          445.2,
          496.8,
          555.2,
          591
         ],
         "y": [
          0.6428245400194141,
          0.6724219173481388,
          0.6865317513487513,
          0.6926962721513449,
          0.6963047691057724,
          0.6993004928934048,
          0.7034079978777255,
          0.7281459263052684,
          0.7406593381535603,
          0.7390080857481593,
          0.7381622736623851,
          0.7382759945700897,
          0.7377046830308042,
          0.7423789079198677,
          0.7454065212467479,
          0.7462478838949723,
          0.7500867695922997,
          0.7506517008556532,
          0.7518867550486396,
          0.7535972478906307,
          0.7535764233398415,
          0.7542824878740395
         ]
        },
        {
         "mode": "lines+markers",
         "name": "t-test",
         "type": "scatter",
         "uid": "127eacd9-afe6-4723-9d3f-461cc7f5d6ba",
         "x": [
          15,
          28.2,
          42,
          54.2,
          68.4,
          79.4,
          94.2,
          106.2,
          127.6,
          151.4,
          175.4,
          195.6,
          216.2,
          244.4,
          270.2,
          313.8,
          354.4,
          400.8,
          449.4,
          500.2,
          547.6,
          595
         ],
         "y": [
          0.6357893711856568,
          0.7206259769548372,
          0.7249172755678502,
          0.7360604252083374,
          0.7430257825459493,
          0.7427888901395878,
          0.7416987000612388,
          0.7408980439297709,
          0.7453498933397524,
          0.7492007366727044,
          0.7545937087204083,
          0.7555764249532574,
          0.7559379089103406,
          0.7546430411386009,
          0.7556452468946714,
          0.7555104753087293,
          0.7538709307390148,
          0.7544612235537782,
          0.7548158818368752,
          0.754234842544041,
          0.7547522422405574,
          0.7548478730102598
         ]
        },
        {
         "mode": "lines+markers",
         "name": "Log. Reg.",
         "type": "scatter",
         "uid": "bb48021d-5acb-407c-b997-0bfdf990aab2",
         "x": [
          18.8,
          27.2,
          36.2,
          45.2,
          53.8,
          60.4,
          69.6,
          78.4,
          87.2,
          104.2,
          121.4,
          137.8,
          154.8,
          173,
          214.6,
          255.4,
          295.2,
          332.4,
          368.6,
          406.4,
          442,
          477,
          513.6,
          548.2,
          581.8
         ],
         "y": [
          0.6273725257331764,
          0.6518277499040348,
          0.6616901943137121,
          0.6690860564734527,
          0.6966750127731423,
          0.6977342723723939,
          0.7044963973577943,
          0.7094914356783789,
          0.7131108606124775,
          0.7235210374454134,
          0.730085858962564,
          0.7322250250138811,
          0.7379946427742279,
          0.7407912087569823,
          0.7500221529369137,
          0.7532592883284859,
          0.7568880934205625,
          0.7583932556533546,
          0.758882416045418,
          0.7598838203483675,
          0.7623507773904153,
          0.762991297799936,
          0.7610988938671039,
          0.7622717266706437,
          0.7619072874073587
         ]
        },
        {
         "mode": "lines+markers",
         "name": "edgeR",
         "type": "scatter",
         "uid": "d5aed900-b669-4364-96ec-0c79ca9772eb",
         "x": [
          15,
          25.8,
          36.8,
          46.6,
          56.6,
          63.4,
          71.6,
          80.8,
          89,
          97.8,
          122.6,
          146.2,
          174.6,
          193.8,
          223.4,
          248,
          295.8,
          342.6,
          391.2,
          439.4,
          486,
          523.6,
          558.6,
          590.2
         ],
         "y": [
          0.6069793027816837,
          0.6014753280378928,
          0.6075318087673361,
          0.6278697662235201,
          0.7485329285970463,
          0.7438614793250159,
          0.7424186548600817,
          0.7470533875585561,
          0.7479086180115413,
          0.7496225767136594,
          0.7603525389336298,
          0.7611089819277838,
          0.7649101518661705,
          0.7652386569666598,
          0.7696225484472204,
          0.7690683508537975,
          0.7682393108706078,
          0.7690186821543731,
          0.7683530506895866,
          0.7656686259025852,
          0.761484762670043,
          0.7565509011096947,
          0.7548747662040879,
          0.755721299481739
         ]
        },
        {
         "mode": "lines+markers",
         "name": "MAST",
         "type": "scatter",
         "uid": "65bfcd34-f2bd-4b9c-82de-0580b76a11e3",
         "x": [
          19.6,
          39.2,
          57.2,
          73.6,
          90,
          106,
          119.8,
          134.2,
          147.2,
          159,
          189.2,
          215.6,
          239.8,
          262.4,
          282.2,
          301.2,
          343.8,
          385.2,
          422,
          449.4,
          473.6,
          502.6,
          533.4,
          561.2
         ],
         "y": [
          0.6112705834164871,
          0.7102683872566936,
          0.728151727391285,
          0.7333029010548476,
          0.7431872002409631,
          0.7447306423594349,
          0.745973962564293,
          0.7480249144343698,
          0.7495579775247887,
          0.7508325888896047,
          0.7553203363173732,
          0.7589624957703567,
          0.7571382612178468,
          0.7585495149141744,
          0.760008841573369,
          0.7604285133341283,
          0.7591443474255225,
          0.7592373364346815,
          0.7596173341181346,
          0.7592394751838725,
          0.7577611569747141,
          0.7570615087069472,
          0.7561830945264905,
          0.7564908993937514
         ]
        }
       ],
       "layout": {
        "font": {
         "family": "CMU Serif"
        },
        "legend": {
         "font": {
          "size": 16
         }
        },
        "margin": {
         "t": 20
        },
        "xaxis": {
         "range": [
          0,
          550
         ],
         "tickfont": {
          "size": 16
         },
         "title": {
          "font": {
           "size": 20
          },
          "text": "Number of markers"
         }
        },
        "yaxis": {
         "tickfont": {
          "size": 16
         },
         "title": {
          "font": {
           "size": 20
          },
          "text": "Classification error rate"
         }
        }
       }
      },
      "text/html": [
       "<div id=\"5d8a387d-de7d-41f4-8dac-8295c902aaaf\" style=\"height: 525px; width: 100%;\" class=\"plotly-graph-div\"></div><script type=\"text/javascript\">require([\"plotly\"], function(Plotly) { window.PLOTLYENV=window.PLOTLYENV || {};window.PLOTLYENV.BASE_URL=\"https://plot.ly\";\n",
       "if (document.getElementById(\"5d8a387d-de7d-41f4-8dac-8295c902aaaf\")) {\n",
       "    Plotly.newPlot(\"5d8a387d-de7d-41f4-8dac-8295c902aaaf\", [{\"mode\": \"lines+markers\", \"name\": \"RankCorr\", \"x\": [11.6, 22.6, 34.0, 50.6, 70.4, 90.8, 113.4, 137.0, 174.4, 210.4, 239.8, 276.6, 310.8, 345.6, 384.4, 416.6, 453.2, 489.4, 531.6, 568.6, 606.0], \"y\": [0.5989883245270721, 0.7016459806655858, 0.7213463748898536, 0.7270352790826646, 0.727242803937613, 0.7341681999746675, 0.7377209552065601, 0.7427204483897029, 0.7546032741247022, 0.7564186044555504, 0.7567339994365903, 0.7572623117467975, 0.758392666662805, 0.7585231312606506, 0.7584506250703656, 0.7585736487906514, 0.7577140466362389, 0.7576616286180144, 0.757950967927298, 0.761097146002788, 0.7608275212272928], \"type\": \"scatter\", \"uid\": \"55caa336-9efe-4098-bac3-866bcfd8c73b\"}, {\"mode\": \"lines+markers\", \"name\": \"Wilcoxon\", \"x\": [17.8, 30.2, 45.6, 56.4, 71.8, 83.8, 103.4, 121.8, 138.2, 160.6, 181.8, 201.0, 218.4, 238.2, 255.8, 308.2, 353.2, 406.8, 445.2, 496.8, 555.2, 591.0], \"y\": [0.6428245400194141, 0.6724219173481388, 0.6865317513487513, 0.6926962721513449, 0.6963047691057724, 0.6993004928934048, 0.7034079978777255, 0.7281459263052684, 0.7406593381535603, 0.7390080857481593, 0.7381622736623851, 0.7382759945700897, 0.7377046830308042, 0.7423789079198677, 0.7454065212467479, 0.7462478838949723, 0.7500867695922997, 0.7506517008556532, 0.7518867550486396, 0.7535972478906307, 0.7535764233398415, 0.7542824878740395], \"type\": \"scatter\", \"uid\": \"dc1b93dd-08bb-4a03-b5f1-efd195d0db22\"}, {\"mode\": \"lines+markers\", \"name\": \"t-test\", \"x\": [15.0, 28.2, 42.0, 54.2, 68.4, 79.4, 94.2, 106.2, 127.6, 151.4, 175.4, 195.6, 216.2, 244.4, 270.2, 313.8, 354.4, 400.8, 449.4, 500.2, 547.6, 595.0], \"y\": [0.6357893711856568, 0.7206259769548372, 0.7249172755678502, 0.7360604252083374, 0.7430257825459493, 0.7427888901395878, 0.7416987000612388, 0.7408980439297709, 0.7453498933397524, 0.7492007366727044, 0.7545937087204083, 0.7555764249532574, 0.7559379089103406, 0.7546430411386009, 0.7556452468946714, 0.7555104753087293, 0.7538709307390148, 0.7544612235537782, 0.7548158818368752, 0.754234842544041, 0.7547522422405574, 0.7548478730102598], \"type\": \"scatter\", \"uid\": \"8434e732-4202-4f43-8eb0-553f1a969c9e\"}, {\"mode\": \"lines+markers\", \"name\": \"Log. Reg.\", \"x\": [18.8, 27.2, 36.2, 45.2, 53.8, 60.4, 69.6, 78.4, 87.2, 104.2, 121.4, 137.8, 154.8, 173.0, 214.6, 255.4, 295.2, 332.4, 368.6, 406.4, 442.0, 477.0, 513.6, 548.2, 581.8], \"y\": [0.6273725257331764, 0.6518277499040348, 0.6616901943137121, 0.6690860564734527, 0.6966750127731423, 0.6977342723723939, 0.7044963973577943, 0.7094914356783789, 0.7131108606124775, 0.7235210374454134, 0.730085858962564, 0.7322250250138811, 0.7379946427742279, 0.7407912087569823, 0.7500221529369137, 0.7532592883284859, 0.7568880934205625, 0.7583932556533546, 0.758882416045418, 0.7598838203483675, 0.7623507773904153, 0.762991297799936, 0.7610988938671039, 0.7622717266706437, 0.7619072874073587], \"type\": \"scatter\", \"uid\": \"6d744012-21c5-4f97-a732-27926df18a2f\"}, {\"mode\": \"lines+markers\", \"name\": \"edgeR\", \"x\": [15.0, 25.8, 36.8, 46.6, 56.6, 63.4, 71.6, 80.8, 89.0, 97.8, 122.6, 146.2, 174.6, 193.8, 223.4, 248.0, 295.8, 342.6, 391.2, 439.4, 486.0, 523.6, 558.6, 590.2], \"y\": [0.6069793027816837, 0.6014753280378928, 0.6075318087673361, 0.6278697662235201, 0.7485329285970463, 0.7438614793250159, 0.7424186548600817, 0.7470533875585561, 0.7479086180115413, 0.7496225767136594, 0.7603525389336298, 0.7611089819277838, 0.7649101518661705, 0.7652386569666598, 0.7696225484472204, 0.7690683508537975, 0.7682393108706078, 0.7690186821543731, 0.7683530506895866, 0.7656686259025852, 0.761484762670043, 0.7565509011096947, 0.7548747662040879, 0.755721299481739], \"type\": \"scatter\", \"uid\": \"ebf53d0d-f506-421e-9951-7bee4362343d\"}, {\"mode\": \"lines+markers\", \"name\": \"MAST\", \"x\": [19.6, 39.2, 57.2, 73.6, 90.0, 106.0, 119.8, 134.2, 147.2, 159.0, 189.2, 215.6, 239.8, 262.4, 282.2, 301.2, 343.8, 385.2, 422.0, 449.4, 473.6, 502.6, 533.4, 561.2], \"y\": [0.6112705834164871, 0.7102683872566936, 0.728151727391285, 0.7333029010548476, 0.7431872002409631, 0.7447306423594349, 0.745973962564293, 0.7480249144343698, 0.7495579775247887, 0.7508325888896047, 0.7553203363173732, 0.7589624957703567, 0.7571382612178468, 0.7585495149141744, 0.760008841573369, 0.7604285133341283, 0.7591443474255225, 0.7592373364346815, 0.7596173341181346, 0.7592394751838725, 0.7577611569747141, 0.7570615087069472, 0.7561830945264905, 0.7564908993937514], \"type\": \"scatter\", \"uid\": \"0081e8db-8e85-424b-b969-c253393595bc\"}], {\"font\": {\"family\": \"CMU Serif\"}, \"legend\": {\"font\": {\"size\": 16}}, \"margin\": {\"t\": 20}, \"xaxis\": {\"range\": [0, 550], \"tickfont\": {\"size\": 16}, \"title\": {\"font\": {\"size\": 20}, \"text\": \"Number of markers\"}}, \"yaxis\": {\"tickfont\": {\"size\": 16}, \"title\": {\"font\": {\"size\": 20}, \"text\": \"Classification error rate\"}}}, {\"showLink\": false, \"linkText\": \"Export to plot.ly\", \"plotlyServerURL\": \"https://plot.ly\"}); \n",
       "}\n",
       "});</script><script type=\"text/javascript\">window.addEventListener(\"resize\", function(){if (document.getElementById(\"5d8a387d-de7d-41f4-8dac-8295c902aaaf\")) {window._Plotly.Plots.resize(document.getElementById(\"5d8a387d-de7d-41f4-8dac-8295c902aaaf\"));};})</script>"
      ],
      "text/vnd.plotly.v1+html": [
       "<div id=\"5d8a387d-de7d-41f4-8dac-8295c902aaaf\" style=\"height: 525px; width: 100%;\" class=\"plotly-graph-div\"></div><script type=\"text/javascript\">require([\"plotly\"], function(Plotly) { window.PLOTLYENV=window.PLOTLYENV || {};window.PLOTLYENV.BASE_URL=\"https://plot.ly\";\n",
       "if (document.getElementById(\"5d8a387d-de7d-41f4-8dac-8295c902aaaf\")) {\n",
       "    Plotly.newPlot(\"5d8a387d-de7d-41f4-8dac-8295c902aaaf\", [{\"mode\": \"lines+markers\", \"name\": \"RankCorr\", \"x\": [11.6, 22.6, 34.0, 50.6, 70.4, 90.8, 113.4, 137.0, 174.4, 210.4, 239.8, 276.6, 310.8, 345.6, 384.4, 416.6, 453.2, 489.4, 531.6, 568.6, 606.0], \"y\": [0.5989883245270721, 0.7016459806655858, 0.7213463748898536, 0.7270352790826646, 0.727242803937613, 0.7341681999746675, 0.7377209552065601, 0.7427204483897029, 0.7546032741247022, 0.7564186044555504, 0.7567339994365903, 0.7572623117467975, 0.758392666662805, 0.7585231312606506, 0.7584506250703656, 0.7585736487906514, 0.7577140466362389, 0.7576616286180144, 0.757950967927298, 0.761097146002788, 0.7608275212272928], \"type\": \"scatter\", \"uid\": \"55caa336-9efe-4098-bac3-866bcfd8c73b\"}, {\"mode\": \"lines+markers\", \"name\": \"Wilcoxon\", \"x\": [17.8, 30.2, 45.6, 56.4, 71.8, 83.8, 103.4, 121.8, 138.2, 160.6, 181.8, 201.0, 218.4, 238.2, 255.8, 308.2, 353.2, 406.8, 445.2, 496.8, 555.2, 591.0], \"y\": [0.6428245400194141, 0.6724219173481388, 0.6865317513487513, 0.6926962721513449, 0.6963047691057724, 0.6993004928934048, 0.7034079978777255, 0.7281459263052684, 0.7406593381535603, 0.7390080857481593, 0.7381622736623851, 0.7382759945700897, 0.7377046830308042, 0.7423789079198677, 0.7454065212467479, 0.7462478838949723, 0.7500867695922997, 0.7506517008556532, 0.7518867550486396, 0.7535972478906307, 0.7535764233398415, 0.7542824878740395], \"type\": \"scatter\", \"uid\": \"dc1b93dd-08bb-4a03-b5f1-efd195d0db22\"}, {\"mode\": \"lines+markers\", \"name\": \"t-test\", \"x\": [15.0, 28.2, 42.0, 54.2, 68.4, 79.4, 94.2, 106.2, 127.6, 151.4, 175.4, 195.6, 216.2, 244.4, 270.2, 313.8, 354.4, 400.8, 449.4, 500.2, 547.6, 595.0], \"y\": [0.6357893711856568, 0.7206259769548372, 0.7249172755678502, 0.7360604252083374, 0.7430257825459493, 0.7427888901395878, 0.7416987000612388, 0.7408980439297709, 0.7453498933397524, 0.7492007366727044, 0.7545937087204083, 0.7555764249532574, 0.7559379089103406, 0.7546430411386009, 0.7556452468946714, 0.7555104753087293, 0.7538709307390148, 0.7544612235537782, 0.7548158818368752, 0.754234842544041, 0.7547522422405574, 0.7548478730102598], \"type\": \"scatter\", \"uid\": \"8434e732-4202-4f43-8eb0-553f1a969c9e\"}, {\"mode\": \"lines+markers\", \"name\": \"Log. Reg.\", \"x\": [18.8, 27.2, 36.2, 45.2, 53.8, 60.4, 69.6, 78.4, 87.2, 104.2, 121.4, 137.8, 154.8, 173.0, 214.6, 255.4, 295.2, 332.4, 368.6, 406.4, 442.0, 477.0, 513.6, 548.2, 581.8], \"y\": [0.6273725257331764, 0.6518277499040348, 0.6616901943137121, 0.6690860564734527, 0.6966750127731423, 0.6977342723723939, 0.7044963973577943, 0.7094914356783789, 0.7131108606124775, 0.7235210374454134, 0.730085858962564, 0.7322250250138811, 0.7379946427742279, 0.7407912087569823, 0.7500221529369137, 0.7532592883284859, 0.7568880934205625, 0.7583932556533546, 0.758882416045418, 0.7598838203483675, 0.7623507773904153, 0.762991297799936, 0.7610988938671039, 0.7622717266706437, 0.7619072874073587], \"type\": \"scatter\", \"uid\": \"6d744012-21c5-4f97-a732-27926df18a2f\"}, {\"mode\": \"lines+markers\", \"name\": \"edgeR\", \"x\": [15.0, 25.8, 36.8, 46.6, 56.6, 63.4, 71.6, 80.8, 89.0, 97.8, 122.6, 146.2, 174.6, 193.8, 223.4, 248.0, 295.8, 342.6, 391.2, 439.4, 486.0, 523.6, 558.6, 590.2], \"y\": [0.6069793027816837, 0.6014753280378928, 0.6075318087673361, 0.6278697662235201, 0.7485329285970463, 0.7438614793250159, 0.7424186548600817, 0.7470533875585561, 0.7479086180115413, 0.7496225767136594, 0.7603525389336298, 0.7611089819277838, 0.7649101518661705, 0.7652386569666598, 0.7696225484472204, 0.7690683508537975, 0.7682393108706078, 0.7690186821543731, 0.7683530506895866, 0.7656686259025852, 0.761484762670043, 0.7565509011096947, 0.7548747662040879, 0.755721299481739], \"type\": \"scatter\", \"uid\": \"ebf53d0d-f506-421e-9951-7bee4362343d\"}, {\"mode\": \"lines+markers\", \"name\": \"MAST\", \"x\": [19.6, 39.2, 57.2, 73.6, 90.0, 106.0, 119.8, 134.2, 147.2, 159.0, 189.2, 215.6, 239.8, 262.4, 282.2, 301.2, 343.8, 385.2, 422.0, 449.4, 473.6, 502.6, 533.4, 561.2], \"y\": [0.6112705834164871, 0.7102683872566936, 0.728151727391285, 0.7333029010548476, 0.7431872002409631, 0.7447306423594349, 0.745973962564293, 0.7480249144343698, 0.7495579775247887, 0.7508325888896047, 0.7553203363173732, 0.7589624957703567, 0.7571382612178468, 0.7585495149141744, 0.760008841573369, 0.7604285133341283, 0.7591443474255225, 0.7592373364346815, 0.7596173341181346, 0.7592394751838725, 0.7577611569747141, 0.7570615087069472, 0.7561830945264905, 0.7564908993937514], \"type\": \"scatter\", \"uid\": \"0081e8db-8e85-424b-b969-c253393595bc\"}], {\"font\": {\"family\": \"CMU Serif\"}, \"legend\": {\"font\": {\"size\": 16}}, \"margin\": {\"t\": 20}, \"xaxis\": {\"range\": [0, 550], \"tickfont\": {\"size\": 16}, \"title\": {\"font\": {\"size\": 20}, \"text\": \"Number of markers\"}}, \"yaxis\": {\"tickfont\": {\"size\": 16}, \"title\": {\"font\": {\"size\": 20}, \"text\": \"Classification error rate\"}}}, {\"showLink\": false, \"linkText\": \"Export to plot.ly\", \"plotlyServerURL\": \"https://plot.ly\"}); \n",
       "}\n",
       "});</script><script type=\"text/javascript\">window.addEventListener(\"resize\", function(){if (document.getElementById(\"5d8a387d-de7d-41f4-8dac-8295c902aaaf\")) {window._Plotly.Plots.resize(document.getElementById(\"5d8a387d-de7d-41f4-8dac-8295c902aaaf\"));};})</script>"
      ]
     },
     "metadata": {},
     "output_type": "display_data"
    }
   ],
   "source": [
    "iplot({'data':traces, 'layout': layout})"
   ]
  },
  {
   "cell_type": "code",
   "execution_count": 176,
   "metadata": {},
   "outputs": [
    {
     "data": {
      "application/vnd.plotly.v1+json": {
       "config": {
        "linkText": "Export to plot.ly",
        "plotlyServerURL": "https://plot.ly",
        "showLink": false
       },
       "data": [
        {
         "mode": "lines+markers",
         "name": "RankCorr",
         "type": "scatter",
         "uid": "d724e59a-4140-4dba-8bcc-4d6534567841",
         "x": [
          11.6,
          22.6,
          34,
          50.6,
          70.4,
          90.8,
          113.4,
          137,
          174.4,
          210.4,
          239.8,
          276.6,
          310.8,
          345.6,
          384.4,
          416.6,
          453.2,
          489.4,
          531.6,
          568.6,
          606
         ],
         "y": [
          0.4060951331351745,
          0.4679192247551763,
          0.4902762755532546,
          0.5007525955077058,
          0.5047699452180836,
          0.5155928750712163,
          0.5206555229955733,
          0.5290247922575458,
          0.5424160492694146,
          0.5458673703858593,
          0.5478401778126978,
          0.5484844799595139,
          0.5498761808887821,
          0.5508095960272855,
          0.5508574785658181,
          0.5509594890868952,
          0.5516507052685942,
          0.5521943052621268,
          0.5537079158626794,
          0.5574610500132551,
          0.5593148752328013
         ]
        },
        {
         "mode": "lines+markers",
         "name": "Wilcoxon",
         "type": "scatter",
         "uid": "7e14382e-c997-4e36-81ab-8e4db945353b",
         "x": [
          17.8,
          30.2,
          45.6,
          56.4,
          71.8,
          83.8,
          103.4,
          121.8,
          138.2,
          160.6,
          181.8,
          201,
          218.4,
          238.2,
          255.8,
          308.2,
          353.2,
          406.8,
          445.2,
          496.8,
          555.2,
          591
         ],
         "y": [
          0.4406701452350128,
          0.4641095931975287,
          0.4776624423249639,
          0.48128456510548523,
          0.4885869089969846,
          0.49470821120035063,
          0.503487386693611,
          0.5180722772249604,
          0.5279550738386545,
          0.5297908154103317,
          0.5320069459971742,
          0.5347330883468882,
          0.5353955243148522,
          0.5403217155669746,
          0.5434530030715293,
          0.5497738105810749,
          0.5521527592499134,
          0.5531234920550284,
          0.5546688005065322,
          0.5557632483013274,
          0.5563963445644425,
          0.5574675001474719
         ]
        },
        {
         "mode": "lines+markers",
         "name": "t-test",
         "type": "scatter",
         "uid": "ea8bd3dc-1b97-4cd0-83d3-355bec91e53a",
         "x": [
          15,
          28.2,
          42,
          54.2,
          68.4,
          79.4,
          94.2,
          106.2,
          127.6,
          151.4,
          175.4,
          195.6,
          216.2,
          244.4,
          270.2,
          313.8,
          354.4,
          400.8,
          449.4,
          500.2,
          547.6,
          595
         ],
         "y": [
          0.4295544595386166,
          0.4978358344016009,
          0.4982919541052257,
          0.5127748562532094,
          0.5236742986150265,
          0.524769698346013,
          0.5253366211155255,
          0.5260887887042878,
          0.5337123721009825,
          0.5426931863137616,
          0.5492076448115066,
          0.5506490093840121,
          0.5516070704044833,
          0.5527760674969296,
          0.5549486259353736,
          0.5556357306708595,
          0.5560974661860982,
          0.5573189301622717,
          0.5568138884678904,
          0.5562952514924079,
          0.5570343656634694,
          0.5583831766310149
         ]
        },
        {
         "mode": "lines+markers",
         "name": "Log. Reg.",
         "type": "scatter",
         "uid": "59ab38e7-69eb-41db-b0ef-4ce9e5453b40",
         "x": [
          18.8,
          27.2,
          36.2,
          45.2,
          53.8,
          60.4,
          69.6,
          78.4,
          87.2,
          104.2,
          121.4,
          137.8,
          154.8,
          173,
          214.6,
          255.4,
          295.2,
          332.4,
          368.6,
          406.4,
          442,
          477,
          513.6,
          548.2,
          581.8
         ],
         "y": [
          0.365076888836252,
          0.42393265299447147,
          0.44253900050897116,
          0.43295775748472765,
          0.46160971757089614,
          0.4649045734848961,
          0.47845745735005124,
          0.48644515238446057,
          0.49568768598597157,
          0.5060699487449933,
          0.5207865371903548,
          0.5248307645289692,
          0.5361645380592786,
          0.5436755180831628,
          0.5533202214949802,
          0.5589892378192304,
          0.5632694697452812,
          0.5647964607940181,
          0.5648936744874712,
          0.5647810935349961,
          0.5671642797070844,
          0.566078334723911,
          0.5655396844673741,
          0.5681607828566947,
          0.5682879470292121
         ]
        },
        {
         "mode": "lines+markers",
         "name": "edgeR",
         "type": "scatter",
         "uid": "7a36686a-72ff-4fdc-8e9a-2a6092ad73f2",
         "x": [
          15,
          25.8,
          36.8,
          46.6,
          56.6,
          63.4,
          71.6,
          80.8,
          89,
          97.8,
          122.6,
          146.2,
          174.6,
          193.8,
          223.4,
          248,
          295.8,
          342.6,
          391.2,
          439.4,
          486,
          523.6,
          558.6,
          590.2
         ],
         "y": [
          0.36001759338179457,
          0.451560840461366,
          0.4345760471793085,
          0.42315692873115107,
          0.49996484441174016,
          0.5157908944103642,
          0.5164106896924607,
          0.527041921605419,
          0.5298482852349579,
          0.5355236595859858,
          0.5483132973777998,
          0.5496542271168132,
          0.5529609336371041,
          0.55575827658856,
          0.5607580503745455,
          0.561840298378514,
          0.564337764375902,
          0.564859076904782,
          0.5642409284644286,
          0.561548528698138,
          0.5597747619986512,
          0.5579885407630153,
          0.5574055836410892,
          0.5582963197527706
         ]
        },
        {
         "mode": "lines+markers",
         "name": "MAST",
         "type": "scatter",
         "uid": "57e4a7c3-fc5a-4b7a-9045-8647e7a1d21d",
         "x": [
          19.6,
          39.2,
          57.2,
          73.6,
          90,
          106,
          119.8,
          134.2,
          147.2,
          159,
          189.2,
          215.6,
          239.8,
          262.4,
          282.2,
          301.2,
          343.8,
          385.2,
          422,
          449.4,
          473.6,
          502.6,
          533.4,
          561.2
         ],
         "y": [
          0.4153605915531,
          0.48504218420155615,
          0.504540485497463,
          0.514824469853437,
          0.5258327944912522,
          0.5295274930870331,
          0.5319580269962272,
          0.5355412528948731,
          0.5387006594262623,
          0.5407566079757599,
          0.5457548543898377,
          0.55139474347026,
          0.549695596268841,
          0.5527490578634613,
          0.5543351757643696,
          0.5548694319324454,
          0.5562529096461545,
          0.5565987684949832,
          0.5576467002069012,
          0.5576840173290589,
          0.5569184521782781,
          0.5563076167487557,
          0.5556177200208835,
          0.556824388459997
         ]
        }
       ],
       "layout": {
        "font": {
         "family": "CMU Serif"
        },
        "legend": {
         "font": {
          "size": 16
         }
        },
        "margin": {
         "t": 20
        },
        "xaxis": {
         "range": [
          0,
          550
         ],
         "tickfont": {
          "size": 16
         },
         "title": {
          "font": {
           "size": 20
          },
          "text": "Number of markers"
         }
        },
        "yaxis": {
         "tickfont": {
          "size": 16
         },
         "title": {
          "font": {
           "size": 20
          },
          "text": "Classification error rate"
         }
        }
       }
      },
      "text/html": [
       "<div id=\"9e25e781-716a-4e9b-89eb-d46dc55afa77\" style=\"height: 525px; width: 100%;\" class=\"plotly-graph-div\"></div><script type=\"text/javascript\">require([\"plotly\"], function(Plotly) { window.PLOTLYENV=window.PLOTLYENV || {};window.PLOTLYENV.BASE_URL=\"https://plot.ly\";\n",
       "if (document.getElementById(\"9e25e781-716a-4e9b-89eb-d46dc55afa77\")) {\n",
       "    Plotly.newPlot(\"9e25e781-716a-4e9b-89eb-d46dc55afa77\", [{\"mode\": \"lines+markers\", \"name\": \"RankCorr\", \"x\": [11.6, 22.6, 34.0, 50.6, 70.4, 90.8, 113.4, 137.0, 174.4, 210.4, 239.8, 276.6, 310.8, 345.6, 384.4, 416.6, 453.2, 489.4, 531.6, 568.6, 606.0], \"y\": [0.4060951331351745, 0.4679192247551763, 0.4902762755532546, 0.5007525955077058, 0.5047699452180836, 0.5155928750712163, 0.5206555229955733, 0.5290247922575458, 0.5424160492694146, 0.5458673703858593, 0.5478401778126978, 0.5484844799595139, 0.5498761808887821, 0.5508095960272855, 0.5508574785658181, 0.5509594890868952, 0.5516507052685942, 0.5521943052621268, 0.5537079158626794, 0.5574610500132551, 0.5593148752328013], \"type\": \"scatter\", \"uid\": \"ca49aab2-cae8-4b62-acf1-4fccd042e0ff\"}, {\"mode\": \"lines+markers\", \"name\": \"Wilcoxon\", \"x\": [17.8, 30.2, 45.6, 56.4, 71.8, 83.8, 103.4, 121.8, 138.2, 160.6, 181.8, 201.0, 218.4, 238.2, 255.8, 308.2, 353.2, 406.8, 445.2, 496.8, 555.2, 591.0], \"y\": [0.4406701452350128, 0.4641095931975287, 0.4776624423249639, 0.48128456510548523, 0.4885869089969846, 0.49470821120035063, 0.503487386693611, 0.5180722772249604, 0.5279550738386545, 0.5297908154103317, 0.5320069459971742, 0.5347330883468882, 0.5353955243148522, 0.5403217155669746, 0.5434530030715293, 0.5497738105810749, 0.5521527592499134, 0.5531234920550284, 0.5546688005065322, 0.5557632483013274, 0.5563963445644425, 0.5574675001474719], \"type\": \"scatter\", \"uid\": \"699ba790-74cf-4573-8db3-bd0d1d7654c5\"}, {\"mode\": \"lines+markers\", \"name\": \"t-test\", \"x\": [15.0, 28.2, 42.0, 54.2, 68.4, 79.4, 94.2, 106.2, 127.6, 151.4, 175.4, 195.6, 216.2, 244.4, 270.2, 313.8, 354.4, 400.8, 449.4, 500.2, 547.6, 595.0], \"y\": [0.4295544595386166, 0.4978358344016009, 0.4982919541052257, 0.5127748562532094, 0.5236742986150265, 0.524769698346013, 0.5253366211155255, 0.5260887887042878, 0.5337123721009825, 0.5426931863137616, 0.5492076448115066, 0.5506490093840121, 0.5516070704044833, 0.5527760674969296, 0.5549486259353736, 0.5556357306708595, 0.5560974661860982, 0.5573189301622717, 0.5568138884678904, 0.5562952514924079, 0.5570343656634694, 0.5583831766310149], \"type\": \"scatter\", \"uid\": \"3bbed4d7-bf45-4e07-938f-15c5ba39926b\"}, {\"mode\": \"lines+markers\", \"name\": \"Log. Reg.\", \"x\": [18.8, 27.2, 36.2, 45.2, 53.8, 60.4, 69.6, 78.4, 87.2, 104.2, 121.4, 137.8, 154.8, 173.0, 214.6, 255.4, 295.2, 332.4, 368.6, 406.4, 442.0, 477.0, 513.6, 548.2, 581.8], \"y\": [0.365076888836252, 0.42393265299447147, 0.44253900050897116, 0.43295775748472765, 0.46160971757089614, 0.4649045734848961, 0.47845745735005124, 0.48644515238446057, 0.49568768598597157, 0.5060699487449933, 0.5207865371903548, 0.5248307645289692, 0.5361645380592786, 0.5436755180831628, 0.5533202214949802, 0.5589892378192304, 0.5632694697452812, 0.5647964607940181, 0.5648936744874712, 0.5647810935349961, 0.5671642797070844, 0.566078334723911, 0.5655396844673741, 0.5681607828566947, 0.5682879470292121], \"type\": \"scatter\", \"uid\": \"4f68cfb1-3317-4e14-b516-55d49933a322\"}, {\"mode\": \"lines+markers\", \"name\": \"edgeR\", \"x\": [15.0, 25.8, 36.8, 46.6, 56.6, 63.4, 71.6, 80.8, 89.0, 97.8, 122.6, 146.2, 174.6, 193.8, 223.4, 248.0, 295.8, 342.6, 391.2, 439.4, 486.0, 523.6, 558.6, 590.2], \"y\": [0.36001759338179457, 0.451560840461366, 0.4345760471793085, 0.42315692873115107, 0.49996484441174016, 0.5157908944103642, 0.5164106896924607, 0.527041921605419, 0.5298482852349579, 0.5355236595859858, 0.5483132973777998, 0.5496542271168132, 0.5529609336371041, 0.55575827658856, 0.5607580503745455, 0.561840298378514, 0.564337764375902, 0.564859076904782, 0.5642409284644286, 0.561548528698138, 0.5597747619986512, 0.5579885407630153, 0.5574055836410892, 0.5582963197527706], \"type\": \"scatter\", \"uid\": \"22ea6931-4764-48c2-9f99-71e797e5a91e\"}, {\"mode\": \"lines+markers\", \"name\": \"MAST\", \"x\": [19.6, 39.2, 57.2, 73.6, 90.0, 106.0, 119.8, 134.2, 147.2, 159.0, 189.2, 215.6, 239.8, 262.4, 282.2, 301.2, 343.8, 385.2, 422.0, 449.4, 473.6, 502.6, 533.4, 561.2], \"y\": [0.4153605915531, 0.48504218420155615, 0.504540485497463, 0.514824469853437, 0.5258327944912522, 0.5295274930870331, 0.5319580269962272, 0.5355412528948731, 0.5387006594262623, 0.5407566079757599, 0.5457548543898377, 0.55139474347026, 0.549695596268841, 0.5527490578634613, 0.5543351757643696, 0.5548694319324454, 0.5562529096461545, 0.5565987684949832, 0.5576467002069012, 0.5576840173290589, 0.5569184521782781, 0.5563076167487557, 0.5556177200208835, 0.556824388459997], \"type\": \"scatter\", \"uid\": \"11819fc4-136b-4f25-8c88-94009ce3c4bc\"}], {\"font\": {\"family\": \"CMU Serif\"}, \"legend\": {\"font\": {\"size\": 16}}, \"margin\": {\"t\": 20}, \"xaxis\": {\"range\": [0, 550], \"tickfont\": {\"size\": 16}, \"title\": {\"font\": {\"size\": 20}, \"text\": \"Number of markers\"}}, \"yaxis\": {\"tickfont\": {\"size\": 16}, \"title\": {\"font\": {\"size\": 20}, \"text\": \"Classification error rate\"}}}, {\"showLink\": false, \"linkText\": \"Export to plot.ly\", \"plotlyServerURL\": \"https://plot.ly\"}); \n",
       "}\n",
       "});</script><script type=\"text/javascript\">window.addEventListener(\"resize\", function(){if (document.getElementById(\"9e25e781-716a-4e9b-89eb-d46dc55afa77\")) {window._Plotly.Plots.resize(document.getElementById(\"9e25e781-716a-4e9b-89eb-d46dc55afa77\"));};})</script>"
      ],
      "text/vnd.plotly.v1+html": [
       "<div id=\"9e25e781-716a-4e9b-89eb-d46dc55afa77\" style=\"height: 525px; width: 100%;\" class=\"plotly-graph-div\"></div><script type=\"text/javascript\">require([\"plotly\"], function(Plotly) { window.PLOTLYENV=window.PLOTLYENV || {};window.PLOTLYENV.BASE_URL=\"https://plot.ly\";\n",
       "if (document.getElementById(\"9e25e781-716a-4e9b-89eb-d46dc55afa77\")) {\n",
       "    Plotly.newPlot(\"9e25e781-716a-4e9b-89eb-d46dc55afa77\", [{\"mode\": \"lines+markers\", \"name\": \"RankCorr\", \"x\": [11.6, 22.6, 34.0, 50.6, 70.4, 90.8, 113.4, 137.0, 174.4, 210.4, 239.8, 276.6, 310.8, 345.6, 384.4, 416.6, 453.2, 489.4, 531.6, 568.6, 606.0], \"y\": [0.4060951331351745, 0.4679192247551763, 0.4902762755532546, 0.5007525955077058, 0.5047699452180836, 0.5155928750712163, 0.5206555229955733, 0.5290247922575458, 0.5424160492694146, 0.5458673703858593, 0.5478401778126978, 0.5484844799595139, 0.5498761808887821, 0.5508095960272855, 0.5508574785658181, 0.5509594890868952, 0.5516507052685942, 0.5521943052621268, 0.5537079158626794, 0.5574610500132551, 0.5593148752328013], \"type\": \"scatter\", \"uid\": \"ca49aab2-cae8-4b62-acf1-4fccd042e0ff\"}, {\"mode\": \"lines+markers\", \"name\": \"Wilcoxon\", \"x\": [17.8, 30.2, 45.6, 56.4, 71.8, 83.8, 103.4, 121.8, 138.2, 160.6, 181.8, 201.0, 218.4, 238.2, 255.8, 308.2, 353.2, 406.8, 445.2, 496.8, 555.2, 591.0], \"y\": [0.4406701452350128, 0.4641095931975287, 0.4776624423249639, 0.48128456510548523, 0.4885869089969846, 0.49470821120035063, 0.503487386693611, 0.5180722772249604, 0.5279550738386545, 0.5297908154103317, 0.5320069459971742, 0.5347330883468882, 0.5353955243148522, 0.5403217155669746, 0.5434530030715293, 0.5497738105810749, 0.5521527592499134, 0.5531234920550284, 0.5546688005065322, 0.5557632483013274, 0.5563963445644425, 0.5574675001474719], \"type\": \"scatter\", \"uid\": \"699ba790-74cf-4573-8db3-bd0d1d7654c5\"}, {\"mode\": \"lines+markers\", \"name\": \"t-test\", \"x\": [15.0, 28.2, 42.0, 54.2, 68.4, 79.4, 94.2, 106.2, 127.6, 151.4, 175.4, 195.6, 216.2, 244.4, 270.2, 313.8, 354.4, 400.8, 449.4, 500.2, 547.6, 595.0], \"y\": [0.4295544595386166, 0.4978358344016009, 0.4982919541052257, 0.5127748562532094, 0.5236742986150265, 0.524769698346013, 0.5253366211155255, 0.5260887887042878, 0.5337123721009825, 0.5426931863137616, 0.5492076448115066, 0.5506490093840121, 0.5516070704044833, 0.5527760674969296, 0.5549486259353736, 0.5556357306708595, 0.5560974661860982, 0.5573189301622717, 0.5568138884678904, 0.5562952514924079, 0.5570343656634694, 0.5583831766310149], \"type\": \"scatter\", \"uid\": \"3bbed4d7-bf45-4e07-938f-15c5ba39926b\"}, {\"mode\": \"lines+markers\", \"name\": \"Log. Reg.\", \"x\": [18.8, 27.2, 36.2, 45.2, 53.8, 60.4, 69.6, 78.4, 87.2, 104.2, 121.4, 137.8, 154.8, 173.0, 214.6, 255.4, 295.2, 332.4, 368.6, 406.4, 442.0, 477.0, 513.6, 548.2, 581.8], \"y\": [0.365076888836252, 0.42393265299447147, 0.44253900050897116, 0.43295775748472765, 0.46160971757089614, 0.4649045734848961, 0.47845745735005124, 0.48644515238446057, 0.49568768598597157, 0.5060699487449933, 0.5207865371903548, 0.5248307645289692, 0.5361645380592786, 0.5436755180831628, 0.5533202214949802, 0.5589892378192304, 0.5632694697452812, 0.5647964607940181, 0.5648936744874712, 0.5647810935349961, 0.5671642797070844, 0.566078334723911, 0.5655396844673741, 0.5681607828566947, 0.5682879470292121], \"type\": \"scatter\", \"uid\": \"4f68cfb1-3317-4e14-b516-55d49933a322\"}, {\"mode\": \"lines+markers\", \"name\": \"edgeR\", \"x\": [15.0, 25.8, 36.8, 46.6, 56.6, 63.4, 71.6, 80.8, 89.0, 97.8, 122.6, 146.2, 174.6, 193.8, 223.4, 248.0, 295.8, 342.6, 391.2, 439.4, 486.0, 523.6, 558.6, 590.2], \"y\": [0.36001759338179457, 0.451560840461366, 0.4345760471793085, 0.42315692873115107, 0.49996484441174016, 0.5157908944103642, 0.5164106896924607, 0.527041921605419, 0.5298482852349579, 0.5355236595859858, 0.5483132973777998, 0.5496542271168132, 0.5529609336371041, 0.55575827658856, 0.5607580503745455, 0.561840298378514, 0.564337764375902, 0.564859076904782, 0.5642409284644286, 0.561548528698138, 0.5597747619986512, 0.5579885407630153, 0.5574055836410892, 0.5582963197527706], \"type\": \"scatter\", \"uid\": \"22ea6931-4764-48c2-9f99-71e797e5a91e\"}, {\"mode\": \"lines+markers\", \"name\": \"MAST\", \"x\": [19.6, 39.2, 57.2, 73.6, 90.0, 106.0, 119.8, 134.2, 147.2, 159.0, 189.2, 215.6, 239.8, 262.4, 282.2, 301.2, 343.8, 385.2, 422.0, 449.4, 473.6, 502.6, 533.4, 561.2], \"y\": [0.4153605915531, 0.48504218420155615, 0.504540485497463, 0.514824469853437, 0.5258327944912522, 0.5295274930870331, 0.5319580269962272, 0.5355412528948731, 0.5387006594262623, 0.5407566079757599, 0.5457548543898377, 0.55139474347026, 0.549695596268841, 0.5527490578634613, 0.5543351757643696, 0.5548694319324454, 0.5562529096461545, 0.5565987684949832, 0.5576467002069012, 0.5576840173290589, 0.5569184521782781, 0.5563076167487557, 0.5556177200208835, 0.556824388459997], \"type\": \"scatter\", \"uid\": \"11819fc4-136b-4f25-8c88-94009ce3c4bc\"}], {\"font\": {\"family\": \"CMU Serif\"}, \"legend\": {\"font\": {\"size\": 16}}, \"margin\": {\"t\": 20}, \"xaxis\": {\"range\": [0, 550], \"tickfont\": {\"size\": 16}, \"title\": {\"font\": {\"size\": 20}, \"text\": \"Number of markers\"}}, \"yaxis\": {\"tickfont\": {\"size\": 16}, \"title\": {\"font\": {\"size\": 20}, \"text\": \"Classification error rate\"}}}, {\"showLink\": false, \"linkText\": \"Export to plot.ly\", \"plotlyServerURL\": \"https://plot.ly\"}); \n",
       "}\n",
       "});</script><script type=\"text/javascript\">window.addEventListener(\"resize\", function(){if (document.getElementById(\"9e25e781-716a-4e9b-89eb-d46dc55afa77\")) {window._Plotly.Plots.resize(document.getElementById(\"9e25e781-716a-4e9b-89eb-d46dc55afa77\"));};})</script>"
      ]
     },
     "metadata": {},
     "output_type": "display_data"
    }
   ],
   "source": [
    "iplot({'data':traces, 'layout': layout})"
   ]
  },
  {
   "cell_type": "code",
   "execution_count": 186,
   "metadata": {},
   "outputs": [
    {
     "data": {
      "application/vnd.plotly.v1+json": {
       "config": {
        "linkText": "Export to plot.ly",
        "plotlyServerURL": "https://plot.ly",
        "showLink": false
       },
       "data": [
        {
         "mode": "lines+markers",
         "name": "RankCorr",
         "type": "scatter",
         "uid": "cc1d6b4a-371b-4878-9d07-552424d3f6be",
         "x": [
          11.6,
          22.6,
          34,
          50.6,
          70.4,
          90.8,
          113.4,
          137,
          174.4,
          210.4,
          239.8,
          276.6,
          310.8,
          345.6,
          384.4,
          416.6,
          453.2,
          489.4,
          531.6,
          568.6,
          606
         ],
         "y": [
          0.5453710319485556,
          0.4916665451523061,
          0.47066886364630567,
          0.46119074352206946,
          0.45658291896936376,
          0.4458361889208067,
          0.4411846191982969,
          0.4335437962058356,
          0.4214555476166173,
          0.41823298677437704,
          0.4159582379445603,
          0.41534580556730194,
          0.4140480321964449,
          0.41307105673748523,
          0.412998148121145,
          0.4128669126117325,
          0.41190451887604074,
          0.41124834132897825,
          0.4095568614298838,
          0.40580935854999345,
          0.403607518336517
         ]
        },
        {
         "mode": "lines+markers",
         "name": "Wilcoxon",
         "type": "scatter",
         "uid": "34b2baca-acf2-4445-8634-bf5ecc874140",
         "x": [
          17.8,
          30.2,
          45.6,
          56.4,
          71.8,
          83.8,
          103.4,
          121.8,
          138.2,
          160.6,
          181.8,
          201,
          218.4,
          238.2,
          255.8,
          308.2,
          353.2,
          406.8,
          445.2,
          496.8,
          555.2,
          591
         ],
         "y": [
          0.5161346767961037,
          0.495034923227227,
          0.4823779874305545,
          0.4789658641858294,
          0.47104798845127516,
          0.4644278860875778,
          0.45532889076831096,
          0.4434156228583094,
          0.43436037270884675,
          0.4316919173507925,
          0.4285860102946967,
          0.42501348809402295,
          0.4240656760815993,
          0.4198369763338632,
          0.41705186718966447,
          0.4094547893670074,
          0.4080257804867379,
          0.40719462226045877,
          0.40580935854999345,
          0.4049927820469823,
          0.4042636958835796,
          0.40325755697808363
         ]
        },
        {
         "mode": "lines+markers",
         "name": "t-test",
         "type": "scatter",
         "uid": "486a24ad-2569-41b7-8712-01a5c6b45555",
         "x": [
          15,
          28.2,
          42,
          54.2,
          68.4,
          79.4,
          94.2,
          106.2,
          127.6,
          151.4,
          175.4,
          195.6,
          216.2,
          244.4,
          270.2,
          313.8,
          354.4,
          400.8,
          449.4,
          500.2,
          547.6,
          595
         ],
         "y": [
          0.5279458726432289,
          0.4630280406538445,
          0.4630426223771126,
          0.44956911007742895,
          0.4395368844690065,
          0.43837034660756213,
          0.4376850056139635,
          0.4364747225827148,
          0.42860059201796463,
          0.41878709225856314,
          0.41260444159290743,
          0.4111316875428338,
          0.4102859475932866,
          0.4087548666501407,
          0.4067571705624171,
          0.40572186821038514,
          0.40449700345586836,
          0.40328672042461977,
          0.40404497003455864,
          0.4044240948395281,
          0.4038262441855378,
          0.40236807185873225
         ]
        },
        {
         "mode": "lines+markers",
         "name": "Log. Reg.",
         "type": "scatter",
         "uid": "e3bad9b2-4a44-4cf5-8bd2-b07a8a15cb34",
         "x": [
          18.8,
          27.2,
          36.2,
          45.2,
          53.8,
          60.4,
          69.6,
          78.4,
          87.2,
          104.2,
          121.4,
          137.8,
          154.8,
          173,
          214.6,
          255.4,
          295.2,
          332.4,
          368.6,
          406.4,
          442,
          477,
          513.6,
          548.2,
          581.8
         ],
         "y": [
          0.558771635631899,
          0.5044838799049272,
          0.48872103705215886,
          0.5057670715525161,
          0.4801907289403462,
          0.4810656323364295,
          0.4693565085521807,
          0.4627072427419472,
          0.45435191530935126,
          0.44649236646786916,
          0.43231893145131894,
          0.42883389959025353,
          0.41910789017046035,
          0.41167121130375184,
          0.4045407486256726,
          0.39939340031204884,
          0.39646247393516965,
          0.39529593607372515,
          0.39535426296679743,
          0.39618542119307665,
          0.39417314338208487,
          0.3956021522623544,
          0.39589378672771547,
          0.3933565668790737,
          0.3930066055206405
         ]
        },
        {
         "mode": "lines+markers",
         "name": "edgeR",
         "type": "scatter",
         "uid": "a03aa1ba-b4c3-4139-9ac6-ded4f8afcee7",
         "x": [
          15,
          25.8,
          36.8,
          46.6,
          56.6,
          63.4,
          71.6,
          80.8,
          89,
          97.8,
          122.6,
          146.2,
          174.6,
          193.8,
          223.4,
          248,
          295.8,
          342.6,
          391.2,
          439.4,
          486,
          523.6,
          558.6,
          590.2
         ],
         "y": [
          0.6469327345105644,
          0.5034923227226994,
          0.52141326061914,
          0.5537555228276878,
          0.467081759722364,
          0.44627364061884833,
          0.4453112468831566,
          0.43472491579054817,
          0.4321876959419064,
          0.4272590734773035,
          0.4166289972148909,
          0.4151708248880853,
          0.41237113402061853,
          0.40878403009667685,
          0.40394289797168226,
          0.40264512460082535,
          0.39967045305414195,
          0.39920383790956415,
          0.39975794339375026,
          0.4022076729027837,
          0.4030096676825268,
          0.40343253765730036,
          0.40370959039939336,
          0.4028638504498462
         ]
        },
        {
         "mode": "lines+markers",
         "name": "MAST",
         "type": "scatter",
         "uid": "573d9ed0-eb43-433f-a34a-7d2282f30254",
         "x": [
          19.6,
          39.2,
          57.2,
          73.6,
          90,
          106,
          119.8,
          134.2,
          147.2,
          159,
          189.2,
          215.6,
          239.8,
          262.4,
          282.2,
          301.2,
          343.8,
          385.2,
          422,
          449.4,
          473.6,
          502.6,
          533.4,
          561.2
         ],
         "y": [
          0.5411860773706236,
          0.4753204333688156,
          0.4577786202773444,
          0.4474401784802928,
          0.43729129908572595,
          0.4330917627845259,
          0.43026290847052306,
          0.42696743901194245,
          0.4238761136791146,
          0.42171801863544234,
          0.4170956123594687,
          0.4117878650898963,
          0.41324603741670196,
          0.4103005293165546,
          0.40869653975706854,
          0.40817159771941847,
          0.4062905554178393,
          0.40572186821038514,
          0.40473031102815726,
          0.40455533034894064,
          0.4050802723865906,
          0.40567812304058093,
          0.4062030650782309,
          0.40493445515391013
         ]
        }
       ],
       "layout": {
        "colorway": [
         "#3366cc",
         "#d62728",
         "#ff9900",
         "#2ca02c",
         "#9467bd",
         "#17becf"
        ],
        "font": {
         "family": "CMU Serif"
        },
        "legend": {
         "font": {
          "size": 20
         }
        },
        "margin": {
         "b": 90,
         "l": 100,
         "r": 10,
         "t": 10
        },
        "showlegend": false,
        "xaxis": {
         "mirror": "ticks",
         "range": [
          0,
          420
         ],
         "showgrid": false,
         "showline": true,
         "tickfont": {
          "color": "#000",
          "size": 24
         },
         "ticks": "inside",
         "title": {
          "font": {
           "color": "#000",
           "size": 30
          },
          "text": "Number of markers"
         }
        },
        "yaxis": {
         "mirror": "ticks",
         "showgrid": false,
         "showline": true,
         "tickfont": {
          "color": "#000",
          "size": 24
         },
         "ticks": "inside",
         "title": {
          "font": {
           "color": "#000",
           "size": 30
          },
          "text": "Classification error rate"
         }
        }
       }
      },
      "text/html": [
       "<div id=\"50e32ebd-985f-4314-ac2a-beee3c45522f\" style=\"height: 525px; width: 100%;\" class=\"plotly-graph-div\"></div><script type=\"text/javascript\">require([\"plotly\"], function(Plotly) { window.PLOTLYENV=window.PLOTLYENV || {};window.PLOTLYENV.BASE_URL=\"https://plot.ly\";\n",
       "if (document.getElementById(\"50e32ebd-985f-4314-ac2a-beee3c45522f\")) {\n",
       "    Plotly.newPlot(\"50e32ebd-985f-4314-ac2a-beee3c45522f\", [{\"mode\": \"lines+markers\", \"name\": \"RankCorr\", \"x\": [11.6, 22.6, 34.0, 50.6, 70.4, 90.8, 113.4, 137.0, 174.4, 210.4, 239.8, 276.6, 310.8, 345.6, 384.4, 416.6, 453.2, 489.4, 531.6, 568.6, 606.0], \"y\": [0.5453710319485556, 0.4916665451523061, 0.47066886364630567, 0.46119074352206946, 0.45658291896936376, 0.4458361889208067, 0.4411846191982969, 0.4335437962058356, 0.4214555476166173, 0.41823298677437704, 0.4159582379445603, 0.41534580556730194, 0.4140480321964449, 0.41307105673748523, 0.412998148121145, 0.4128669126117325, 0.41190451887604074, 0.41124834132897825, 0.4095568614298838, 0.40580935854999345, 0.403607518336517], \"type\": \"scatter\", \"uid\": \"95de8479-d83b-416f-ab5e-e648036632b7\"}, {\"mode\": \"lines+markers\", \"name\": \"Wilcoxon\", \"x\": [17.8, 30.2, 45.6, 56.4, 71.8, 83.8, 103.4, 121.8, 138.2, 160.6, 181.8, 201.0, 218.4, 238.2, 255.8, 308.2, 353.2, 406.8, 445.2, 496.8, 555.2, 591.0], \"y\": [0.5161346767961037, 0.495034923227227, 0.4823779874305545, 0.4789658641858294, 0.47104798845127516, 0.4644278860875778, 0.45532889076831096, 0.4434156228583094, 0.43436037270884675, 0.4316919173507925, 0.4285860102946967, 0.42501348809402295, 0.4240656760815993, 0.4198369763338632, 0.41705186718966447, 0.4094547893670074, 0.4080257804867379, 0.40719462226045877, 0.40580935854999345, 0.4049927820469823, 0.4042636958835796, 0.40325755697808363], \"type\": \"scatter\", \"uid\": \"cc3acb9f-41a1-40a4-8c5e-97858804a532\"}, {\"mode\": \"lines+markers\", \"name\": \"t-test\", \"x\": [15.0, 28.2, 42.0, 54.2, 68.4, 79.4, 94.2, 106.2, 127.6, 151.4, 175.4, 195.6, 216.2, 244.4, 270.2, 313.8, 354.4, 400.8, 449.4, 500.2, 547.6, 595.0], \"y\": [0.5279458726432289, 0.4630280406538445, 0.4630426223771126, 0.44956911007742895, 0.4395368844690065, 0.43837034660756213, 0.4376850056139635, 0.4364747225827148, 0.42860059201796463, 0.41878709225856314, 0.41260444159290743, 0.4111316875428338, 0.4102859475932866, 0.4087548666501407, 0.4067571705624171, 0.40572186821038514, 0.40449700345586836, 0.40328672042461977, 0.40404497003455864, 0.4044240948395281, 0.4038262441855378, 0.40236807185873225], \"type\": \"scatter\", \"uid\": \"18fb4530-8a9d-4ea0-9cd5-be7ac1417284\"}, {\"mode\": \"lines+markers\", \"name\": \"Log. Reg.\", \"x\": [18.8, 27.2, 36.2, 45.2, 53.8, 60.4, 69.6, 78.4, 87.2, 104.2, 121.4, 137.8, 154.8, 173.0, 214.6, 255.4, 295.2, 332.4, 368.6, 406.4, 442.0, 477.0, 513.6, 548.2, 581.8], \"y\": [0.558771635631899, 0.5044838799049272, 0.48872103705215886, 0.5057670715525161, 0.4801907289403462, 0.4810656323364295, 0.4693565085521807, 0.4627072427419472, 0.45435191530935126, 0.44649236646786916, 0.43231893145131894, 0.42883389959025353, 0.41910789017046035, 0.41167121130375184, 0.4045407486256726, 0.39939340031204884, 0.39646247393516965, 0.39529593607372515, 0.39535426296679743, 0.39618542119307665, 0.39417314338208487, 0.3956021522623544, 0.39589378672771547, 0.3933565668790737, 0.3930066055206405], \"type\": \"scatter\", \"uid\": \"9b262416-7e64-4594-8084-abb6dfbb9f0e\"}, {\"mode\": \"lines+markers\", \"name\": \"edgeR\", \"x\": [15.0, 25.8, 36.8, 46.6, 56.6, 63.4, 71.6, 80.8, 89.0, 97.8, 122.6, 146.2, 174.6, 193.8, 223.4, 248.0, 295.8, 342.6, 391.2, 439.4, 486.0, 523.6, 558.6, 590.2], \"y\": [0.6469327345105644, 0.5034923227226994, 0.52141326061914, 0.5537555228276878, 0.467081759722364, 0.44627364061884833, 0.4453112468831566, 0.43472491579054817, 0.4321876959419064, 0.4272590734773035, 0.4166289972148909, 0.4151708248880853, 0.41237113402061853, 0.40878403009667685, 0.40394289797168226, 0.40264512460082535, 0.39967045305414195, 0.39920383790956415, 0.39975794339375026, 0.4022076729027837, 0.4030096676825268, 0.40343253765730036, 0.40370959039939336, 0.4028638504498462], \"type\": \"scatter\", \"uid\": \"bcb5df3a-b0fe-4d84-9700-5bb28736d79d\"}, {\"mode\": \"lines+markers\", \"name\": \"MAST\", \"x\": [19.6, 39.2, 57.2, 73.6, 90.0, 106.0, 119.8, 134.2, 147.2, 159.0, 189.2, 215.6, 239.8, 262.4, 282.2, 301.2, 343.8, 385.2, 422.0, 449.4, 473.6, 502.6, 533.4, 561.2], \"y\": [0.5411860773706236, 0.4753204333688156, 0.4577786202773444, 0.4474401784802928, 0.43729129908572595, 0.4330917627845259, 0.43026290847052306, 0.42696743901194245, 0.4238761136791146, 0.42171801863544234, 0.4170956123594687, 0.4117878650898963, 0.41324603741670196, 0.4103005293165546, 0.40869653975706854, 0.40817159771941847, 0.4062905554178393, 0.40572186821038514, 0.40473031102815726, 0.40455533034894064, 0.4050802723865906, 0.40567812304058093, 0.4062030650782309, 0.40493445515391013], \"type\": \"scatter\", \"uid\": \"ffa2388f-19e0-4de1-bfaf-9043dee27c6e\"}], {\"colorway\": [\"#3366cc\", \"#d62728\", \"#ff9900\", \"#2ca02c\", \"#9467bd\", \"#17becf\"], \"font\": {\"family\": \"CMU Serif\"}, \"legend\": {\"font\": {\"size\": 20}}, \"margin\": {\"b\": 90, \"l\": 100, \"r\": 10, \"t\": 10}, \"showlegend\": false, \"xaxis\": {\"mirror\": \"ticks\", \"range\": [0, 420], \"showgrid\": false, \"showline\": true, \"tickfont\": {\"color\": \"#000\", \"size\": 24}, \"ticks\": \"inside\", \"title\": {\"font\": {\"color\": \"#000\", \"size\": 30}, \"text\": \"Number of markers\"}}, \"yaxis\": {\"mirror\": \"ticks\", \"showgrid\": false, \"showline\": true, \"tickfont\": {\"color\": \"#000\", \"size\": 24}, \"ticks\": \"inside\", \"title\": {\"font\": {\"color\": \"#000\", \"size\": 30}, \"text\": \"Classification error rate\"}}}, {\"showLink\": false, \"linkText\": \"Export to plot.ly\", \"plotlyServerURL\": \"https://plot.ly\"}); \n",
       "}\n",
       "});</script><script type=\"text/javascript\">window.addEventListener(\"resize\", function(){if (document.getElementById(\"50e32ebd-985f-4314-ac2a-beee3c45522f\")) {window._Plotly.Plots.resize(document.getElementById(\"50e32ebd-985f-4314-ac2a-beee3c45522f\"));};})</script>"
      ],
      "text/vnd.plotly.v1+html": [
       "<div id=\"50e32ebd-985f-4314-ac2a-beee3c45522f\" style=\"height: 525px; width: 100%;\" class=\"plotly-graph-div\"></div><script type=\"text/javascript\">require([\"plotly\"], function(Plotly) { window.PLOTLYENV=window.PLOTLYENV || {};window.PLOTLYENV.BASE_URL=\"https://plot.ly\";\n",
       "if (document.getElementById(\"50e32ebd-985f-4314-ac2a-beee3c45522f\")) {\n",
       "    Plotly.newPlot(\"50e32ebd-985f-4314-ac2a-beee3c45522f\", [{\"mode\": \"lines+markers\", \"name\": \"RankCorr\", \"x\": [11.6, 22.6, 34.0, 50.6, 70.4, 90.8, 113.4, 137.0, 174.4, 210.4, 239.8, 276.6, 310.8, 345.6, 384.4, 416.6, 453.2, 489.4, 531.6, 568.6, 606.0], \"y\": [0.5453710319485556, 0.4916665451523061, 0.47066886364630567, 0.46119074352206946, 0.45658291896936376, 0.4458361889208067, 0.4411846191982969, 0.4335437962058356, 0.4214555476166173, 0.41823298677437704, 0.4159582379445603, 0.41534580556730194, 0.4140480321964449, 0.41307105673748523, 0.412998148121145, 0.4128669126117325, 0.41190451887604074, 0.41124834132897825, 0.4095568614298838, 0.40580935854999345, 0.403607518336517], \"type\": \"scatter\", \"uid\": \"95de8479-d83b-416f-ab5e-e648036632b7\"}, {\"mode\": \"lines+markers\", \"name\": \"Wilcoxon\", \"x\": [17.8, 30.2, 45.6, 56.4, 71.8, 83.8, 103.4, 121.8, 138.2, 160.6, 181.8, 201.0, 218.4, 238.2, 255.8, 308.2, 353.2, 406.8, 445.2, 496.8, 555.2, 591.0], \"y\": [0.5161346767961037, 0.495034923227227, 0.4823779874305545, 0.4789658641858294, 0.47104798845127516, 0.4644278860875778, 0.45532889076831096, 0.4434156228583094, 0.43436037270884675, 0.4316919173507925, 0.4285860102946967, 0.42501348809402295, 0.4240656760815993, 0.4198369763338632, 0.41705186718966447, 0.4094547893670074, 0.4080257804867379, 0.40719462226045877, 0.40580935854999345, 0.4049927820469823, 0.4042636958835796, 0.40325755697808363], \"type\": \"scatter\", \"uid\": \"cc3acb9f-41a1-40a4-8c5e-97858804a532\"}, {\"mode\": \"lines+markers\", \"name\": \"t-test\", \"x\": [15.0, 28.2, 42.0, 54.2, 68.4, 79.4, 94.2, 106.2, 127.6, 151.4, 175.4, 195.6, 216.2, 244.4, 270.2, 313.8, 354.4, 400.8, 449.4, 500.2, 547.6, 595.0], \"y\": [0.5279458726432289, 0.4630280406538445, 0.4630426223771126, 0.44956911007742895, 0.4395368844690065, 0.43837034660756213, 0.4376850056139635, 0.4364747225827148, 0.42860059201796463, 0.41878709225856314, 0.41260444159290743, 0.4111316875428338, 0.4102859475932866, 0.4087548666501407, 0.4067571705624171, 0.40572186821038514, 0.40449700345586836, 0.40328672042461977, 0.40404497003455864, 0.4044240948395281, 0.4038262441855378, 0.40236807185873225], \"type\": \"scatter\", \"uid\": \"18fb4530-8a9d-4ea0-9cd5-be7ac1417284\"}, {\"mode\": \"lines+markers\", \"name\": \"Log. Reg.\", \"x\": [18.8, 27.2, 36.2, 45.2, 53.8, 60.4, 69.6, 78.4, 87.2, 104.2, 121.4, 137.8, 154.8, 173.0, 214.6, 255.4, 295.2, 332.4, 368.6, 406.4, 442.0, 477.0, 513.6, 548.2, 581.8], \"y\": [0.558771635631899, 0.5044838799049272, 0.48872103705215886, 0.5057670715525161, 0.4801907289403462, 0.4810656323364295, 0.4693565085521807, 0.4627072427419472, 0.45435191530935126, 0.44649236646786916, 0.43231893145131894, 0.42883389959025353, 0.41910789017046035, 0.41167121130375184, 0.4045407486256726, 0.39939340031204884, 0.39646247393516965, 0.39529593607372515, 0.39535426296679743, 0.39618542119307665, 0.39417314338208487, 0.3956021522623544, 0.39589378672771547, 0.3933565668790737, 0.3930066055206405], \"type\": \"scatter\", \"uid\": \"9b262416-7e64-4594-8084-abb6dfbb9f0e\"}, {\"mode\": \"lines+markers\", \"name\": \"edgeR\", \"x\": [15.0, 25.8, 36.8, 46.6, 56.6, 63.4, 71.6, 80.8, 89.0, 97.8, 122.6, 146.2, 174.6, 193.8, 223.4, 248.0, 295.8, 342.6, 391.2, 439.4, 486.0, 523.6, 558.6, 590.2], \"y\": [0.6469327345105644, 0.5034923227226994, 0.52141326061914, 0.5537555228276878, 0.467081759722364, 0.44627364061884833, 0.4453112468831566, 0.43472491579054817, 0.4321876959419064, 0.4272590734773035, 0.4166289972148909, 0.4151708248880853, 0.41237113402061853, 0.40878403009667685, 0.40394289797168226, 0.40264512460082535, 0.39967045305414195, 0.39920383790956415, 0.39975794339375026, 0.4022076729027837, 0.4030096676825268, 0.40343253765730036, 0.40370959039939336, 0.4028638504498462], \"type\": \"scatter\", \"uid\": \"bcb5df3a-b0fe-4d84-9700-5bb28736d79d\"}, {\"mode\": \"lines+markers\", \"name\": \"MAST\", \"x\": [19.6, 39.2, 57.2, 73.6, 90.0, 106.0, 119.8, 134.2, 147.2, 159.0, 189.2, 215.6, 239.8, 262.4, 282.2, 301.2, 343.8, 385.2, 422.0, 449.4, 473.6, 502.6, 533.4, 561.2], \"y\": [0.5411860773706236, 0.4753204333688156, 0.4577786202773444, 0.4474401784802928, 0.43729129908572595, 0.4330917627845259, 0.43026290847052306, 0.42696743901194245, 0.4238761136791146, 0.42171801863544234, 0.4170956123594687, 0.4117878650898963, 0.41324603741670196, 0.4103005293165546, 0.40869653975706854, 0.40817159771941847, 0.4062905554178393, 0.40572186821038514, 0.40473031102815726, 0.40455533034894064, 0.4050802723865906, 0.40567812304058093, 0.4062030650782309, 0.40493445515391013], \"type\": \"scatter\", \"uid\": \"ffa2388f-19e0-4de1-bfaf-9043dee27c6e\"}], {\"colorway\": [\"#3366cc\", \"#d62728\", \"#ff9900\", \"#2ca02c\", \"#9467bd\", \"#17becf\"], \"font\": {\"family\": \"CMU Serif\"}, \"legend\": {\"font\": {\"size\": 20}}, \"margin\": {\"b\": 90, \"l\": 100, \"r\": 10, \"t\": 10}, \"showlegend\": false, \"xaxis\": {\"mirror\": \"ticks\", \"range\": [0, 420], \"showgrid\": false, \"showline\": true, \"tickfont\": {\"color\": \"#000\", \"size\": 24}, \"ticks\": \"inside\", \"title\": {\"font\": {\"color\": \"#000\", \"size\": 30}, \"text\": \"Number of markers\"}}, \"yaxis\": {\"mirror\": \"ticks\", \"showgrid\": false, \"showline\": true, \"tickfont\": {\"color\": \"#000\", \"size\": 24}, \"ticks\": \"inside\", \"title\": {\"font\": {\"color\": \"#000\", \"size\": 30}, \"text\": \"Classification error rate\"}}}, {\"showLink\": false, \"linkText\": \"Export to plot.ly\", \"plotlyServerURL\": \"https://plot.ly\"}); \n",
       "}\n",
       "});</script><script type=\"text/javascript\">window.addEventListener(\"resize\", function(){if (document.getElementById(\"50e32ebd-985f-4314-ac2a-beee3c45522f\")) {window._Plotly.Plots.resize(document.getElementById(\"50e32ebd-985f-4314-ac2a-beee3c45522f\"));};})</script>"
      ]
     },
     "metadata": {},
     "output_type": "display_data"
    }
   ],
   "source": [
    "iplot({'data':traces, 'layout': layout1})"
   ]
  },
  {
   "cell_type": "code",
   "execution_count": 187,
   "metadata": {},
   "outputs": [],
   "source": [
    "pio.write_json({'data': traces, 'layout': layout1}, \"pics2/zhengfilt-nc-acc-bulk-all.json\")"
   ]
  },
  {
   "cell_type": "code",
   "execution_count": 32,
   "metadata": {},
   "outputs": [],
   "source": [
    "layout1 = go.Layout(\n",
    "    colorway = [colorMap[meth] for meth in currMeths],\n",
    "    font = dict(\n",
    "            family='CMU Serif'\n",
    "    ),\n",
    "    showlegend=False,\n",
    "    xaxis=dict(\n",
    "        title='Number of markers',\n",
    "        showgrid=False,\n",
    "        ticks='inside',\n",
    "        showline=True,\n",
    "        mirror='ticks',\n",
    "        #range=[10,170],\n",
    "        range=[0,420],\n",
    "        titlefont=dict(\n",
    "            #family='Computer Modern',\n",
    "            size=30,\n",
    "            color='#000'\n",
    "        ),\n",
    "        tickfont=dict(\n",
    "            size=24,\n",
    "            color='#000'\n",
    "        )\n",
    "    ),\n",
    "    yaxis=dict(\n",
    "        title='Classification error rate',\n",
    "        #title='Average precision',\n",
    "        #title='Matthews correlation coefficient',\n",
    "        showgrid=False,\n",
    "        ticks='inside',\n",
    "        showline=True,\n",
    "        mirror='ticks',\n",
    "        #range=[0.03,0.16],\n",
    "        titlefont=dict(\n",
    "            #family='Computer Modern',\n",
    "            size=30,\n",
    "            color='#000'\n",
    "        ),\n",
    "        tickfont=dict(\n",
    "            size=24,\n",
    "            color='#000'\n",
    "        )\n",
    "    ),\n",
    "    legend=dict(\n",
    "        #x=0,\n",
    "        #y=1,\n",
    "        #traceorder='normal',\n",
    "        font=dict(\n",
    "            #family='Computer Modern',\n",
    "            size=20,\n",
    "            #color='#000'\n",
    "        ),\n",
    "        #bgcolor='#E2E2E2',\n",
    "        #bordercolor='#FFFFFF',\n",
    "        #borderwidth=2\n",
    "    ),\n",
    "    margin=go.layout.Margin(\n",
    "        l=100,\n",
    "        r=10,\n",
    "        b=90,\n",
    "        t=10,\n",
    "        #pad=4\n",
    "    ),\n",
    ")"
   ]
  },
  {
   "cell_type": "code",
   "execution_count": 33,
   "metadata": {},
   "outputs": [],
   "source": [
    "layout = go.Layout(\n",
    "    \n",
    "    font = dict(\n",
    "            family='CMU Serif'\n",
    "    ),\n",
    "    #showlegend=False,\n",
    "    xaxis=dict(\n",
    "        title='Number of markers',\n",
    "        range=[0,550],\n",
    "        titlefont=dict(\n",
    "            #family='Computer Modern',\n",
    "            size=20,\n",
    "        ),\n",
    "        tickfont=dict(\n",
    "            size=16,\n",
    "        )\n",
    "    ),\n",
    "    yaxis=dict(\n",
    "        title='Matthews correlation coefficient',\n",
    "        #title='Average precision',\n",
    "        titlefont=dict(\n",
    "            #family='Computer Modern',\n",
    "            size=20,\n",
    "        ),\n",
    "        tickfont=dict(\n",
    "            size=16,\n",
    "        )\n",
    "    ),\n",
    "    legend=dict(\n",
    "        #x=0,\n",
    "        #y=1,\n",
    "        #traceorder='normal',\n",
    "        font=dict(\n",
    "            #family='Computer Modern',\n",
    "            size=16,\n",
    "            #color='#000'\n",
    "        ),\n",
    "        #bgcolor='#E2E2E2',\n",
    "        #bordercolor='#FFFFFF',\n",
    "        #borderwidth=2\n",
    "    ),\n",
    "    margin=go.layout.Margin(\n",
    "        #l=50,\n",
    "        #r=50,\n",
    "        #b=100,\n",
    "        t=20,\n",
    "        #pad=4\n",
    "    ),\n",
    ")"
   ]
  },
  {
   "cell_type": "code",
   "execution_count": null,
   "metadata": {},
   "outputs": [],
   "source": []
  }
 ],
 "metadata": {
  "kernelspec": {
   "display_name": "Python r35py37",
   "language": "python",
   "name": "r35py37"
  },
  "language_info": {
   "codemirror_mode": {
    "name": "ipython",
    "version": 3
   },
   "file_extension": ".py",
   "mimetype": "text/x-python",
   "name": "python",
   "nbconvert_exporter": "python",
   "pygments_lexer": "ipython3",
   "version": "3.7.1"
  }
 },
 "nbformat": 4,
 "nbformat_minor": 2
}
