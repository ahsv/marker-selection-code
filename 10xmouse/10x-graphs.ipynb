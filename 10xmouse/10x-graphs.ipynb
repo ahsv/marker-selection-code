{
 "cells": [
  {
   "cell_type": "code",
   "execution_count": 7,
   "metadata": {},
   "outputs": [],
   "source": [
    "%load_ext autoreload\n",
    "%autoreload 2"
   ]
  },
  {
   "cell_type": "code",
   "execution_count": 1,
   "metadata": {},
   "outputs": [],
   "source": [
    "import numpy as np"
   ]
  },
  {
   "cell_type": "code",
   "execution_count": 2,
   "metadata": {},
   "outputs": [],
   "source": [
    "import sklearn"
   ]
  },
  {
   "cell_type": "code",
   "execution_count": 3,
   "metadata": {},
   "outputs": [
    {
     "data": {
      "text/plain": [
       "'0.20.0'"
      ]
     },
     "execution_count": 3,
     "metadata": {},
     "output_type": "execute_result"
    }
   ],
   "source": [
    "sklearn.__version__"
   ]
  },
  {
   "cell_type": "code",
   "execution_count": 4,
   "metadata": {},
   "outputs": [],
   "source": [
    "import plotly.graph_objs as go\n",
    "from plotly.offline import plot, iplot, init_notebook_mode\n",
    "import plotly.io as pio"
   ]
  },
  {
   "cell_type": "code",
   "execution_count": 5,
   "metadata": {},
   "outputs": [
    {
     "data": {
      "text/html": [
       "<script type=\"text/javascript\">window.PlotlyConfig = {MathJaxConfig: 'local'};</script><script type=\"text/javascript\">if (window.MathJax) {MathJax.Hub.Config({SVG: {font: \"STIX-Web\"}});}</script><script>requirejs.config({paths: { 'plotly': ['https://cdn.plot.ly/plotly-latest.min']},});if(!window._Plotly) {require(['plotly'],function(plotly) {window._Plotly=plotly;});}</script>"
      ],
      "text/vnd.plotly.v1+html": [
       "<script type=\"text/javascript\">window.PlotlyConfig = {MathJaxConfig: 'local'};</script><script type=\"text/javascript\">if (window.MathJax) {MathJax.Hub.Config({SVG: {font: \"STIX-Web\"}});}</script><script>requirejs.config({paths: { 'plotly': ['https://cdn.plot.ly/plotly-latest.min']},});if(!window._Plotly) {require(['plotly'],function(plotly) {window._Plotly=plotly;});}</script>"
      ]
     },
     "metadata": {},
     "output_type": "display_data"
    }
   ],
   "source": [
    "init_notebook_mode(connected=True)"
   ]
  },
  {
   "cell_type": "code",
   "execution_count": 6,
   "metadata": {},
   "outputs": [],
   "source": [
    "yVec = np.load(\"1M-yVec.npz\")['yVec']"
   ]
  },
  {
   "cell_type": "markdown",
   "metadata": {},
   "source": [
    "### Load the 1bcs data"
   ]
  },
  {
   "cell_type": "code",
   "execution_count": 8,
   "metadata": {},
   "outputs": [],
   "source": [
    "cs_flink = np.load(\"NC-1bcs-1-2.npz\")\n",
    "times = [1+56/60, 2+21/60, 2+22/60, 2+28/60, 2+31/60, 2 + 41/60, 2 + 49/60, 3, 3 + 13/60, \n",
    "         3 + 37/60, 4 + 19/60, 4 + 54/60, 5 + 33/60, 6.5, 7 + 18/60, 8 + 11/60, 9.1, 9 + 52/60,\n",
    "        11 + 2/60, 12 + 17/60, 13 + 7/60]"
   ]
  },
  {
   "cell_type": "code",
   "execution_count": 9,
   "metadata": {},
   "outputs": [],
   "source": [
    "bigYhats = []\n",
    "for val in range(1,10):\n",
    "    bigYhats.append(np.load(\"NC-1bcs-2.{}.npz\".format(val))['yhat'])\n",
    "    \n",
    "bigYhats.append(np.load(\"NC-1bcs-3.0.npz\")['yhat'])"
   ]
  },
  {
   "cell_type": "code",
   "execution_count": 10,
   "metadata": {},
   "outputs": [],
   "source": [
    "svals = np.load(\"rc-svals-map.npz\")['svals']"
   ]
  },
  {
   "cell_type": "code",
   "execution_count": 11,
   "metadata": {},
   "outputs": [],
   "source": [
    "# svals should be a folds x clusters x genes array\n",
    "def findMarkers(svals, lamb):\n",
    "    # Stay consistent with the Rocks code\n",
    "    lamb = np.sqrt(lamb)\n",
    "    \n",
    "    # only want the positions in each row\n",
    "    marks = []\n",
    "    for fold in svals:\n",
    "        foldMarks = list(set().union(*[np.where(clust < lamb)[0] for clust in fold]))\n",
    "        marks.append(foldMarks)\n",
    "    \n",
    "    return marks"
   ]
  },
  {
   "cell_type": "code",
   "execution_count": 12,
   "metadata": {},
   "outputs": [],
   "source": [
    "bigXvals = []\n",
    "for val in range(1,10):\n",
    "    bigXvals.append([len(a) for a in findMarkers( svals, float(\"2.{}\".format(val))**2 )])\n",
    "    \n",
    "bigXvals.append([len(a) for a in findMarkers( svals, 3.0**2 )])"
   ]
  },
  {
   "cell_type": "markdown",
   "metadata": {},
   "source": [
    "### Load the scanpy data"
   ]
  },
  {
   "cell_type": "code",
   "execution_count": 14,
   "metadata": {},
   "outputs": [],
   "source": [
    "methods = ['wilcoxon', 't-test_overestim_var', 'logreg']"
   ]
  },
  {
   "cell_type": "code",
   "execution_count": 23,
   "metadata": {},
   "outputs": [],
   "source": [
    "sc_xvals = []\n",
    "sc_errs = []\n",
    "sc_yhats = []\n",
    "for method in methods:\n",
    "    mfile = np.load(\"NC-{}-small.npz\".format(method))\n",
    "    \n",
    "    sc_yhats.append(mfile['yhats'])\n",
    "    \n",
    "    sc_xvals.append([np.array(a).mean() for a in mfile['xvals']])\n",
    "    sc_errs.append( list(map( lambda yhat: np.where(yhat == yVec)[0].shape[0]/yVec.shape[0], mfile['yhats'])) )"
   ]
  },
  {
   "cell_type": "code",
   "execution_count": 21,
   "metadata": {},
   "outputs": [
    {
     "data": {
      "text/plain": [
       "3"
      ]
     },
     "execution_count": 21,
     "metadata": {},
     "output_type": "execute_result"
    }
   ],
   "source": [
    "len(sc_xvals)"
   ]
  },
  {
   "cell_type": "code",
   "execution_count": 26,
   "metadata": {},
   "outputs": [
    {
     "data": {
      "text/plain": [
       "array([[ 37,  37,  37,  37,  37],\n",
       "       [ 78,  77,  77,  77,  79],\n",
       "       [ 79,  79,  79,  79,  82],\n",
       "       [ 83,  84,  84,  83,  86],\n",
       "       [ 95,  90,  91,  91,  94],\n",
       "       [105, 103, 104, 107, 102],\n",
       "       [117, 115, 111, 122, 118],\n",
       "       [128, 131, 130, 148, 137],\n",
       "       [141, 153, 149, 173, 160],\n",
       "       [162, 178, 172, 209, 188],\n",
       "       [183, 208, 194, 248, 221],\n",
       "       [207, 248, 218, 280, 256],\n",
       "       [234, 287, 251, 307, 294],\n",
       "       [269, 319, 289, 347, 332],\n",
       "       [310, 365, 328, 388, 366],\n",
       "       [347, 417, 372, 436, 412],\n",
       "       [398, 461, 422, 483, 461],\n",
       "       [442, 505, 464, 541, 509],\n",
       "       [494, 568, 518, 594, 566],\n",
       "       [546, 624, 579, 656, 628],\n",
       "       [608, 686, 642, 712, 698]])"
      ]
     },
     "execution_count": 26,
     "metadata": {},
     "output_type": "execute_result"
    }
   ],
   "source": [
    "cs_flink['xvals']"
   ]
  },
  {
   "cell_type": "markdown",
   "metadata": {},
   "source": [
    "### Analysis of the timing of the Nearest Centroid classifier on 1bcs data\n",
    "\n",
    "x-axis is average number of markers\n",
    "y-axis is time\n",
    "Looks pretty linear so do a regression to predict the times for working with more markers"
   ]
  },
  {
   "cell_type": "code",
   "execution_count": 20,
   "metadata": {},
   "outputs": [],
   "source": [
    "traces = [\n",
    "    go.Scatter(x = cs_xvals, y=times, name='Timing')\n",
    "]\n",
    "\n",
    "fig = go.Figure(data=traces)"
   ]
  },
  {
   "cell_type": "code",
   "execution_count": 21,
   "metadata": {},
   "outputs": [
    {
     "data": {
      "application/vnd.plotly.v1+json": {
       "config": {
        "linkText": "Export to plot.ly",
        "plotlyServerURL": "https://plot.ly",
        "showLink": false
       },
       "data": [
        {
         "name": "Timing",
         "type": "scatter",
         "uid": "7106b7d1-a619-4ff6-bc14-d9a8608c5247",
         "x": [
          37,
          77.6,
          79.6,
          84,
          92.2,
          104.2,
          116.6,
          134.8,
          155.2,
          181.8,
          210.8,
          241.8,
          274.6,
          311.2,
          351.4,
          396.8,
          445,
          492.2,
          548,
          606.6,
          669.2
         ],
         "y": [
          1.9333333333333333,
          2.35,
          2.3666666666666667,
          2.466666666666667,
          2.5166666666666666,
          2.6833333333333336,
          2.8166666666666664,
          3,
          3.216666666666667,
          3.6166666666666667,
          4.316666666666666,
          4.9,
          5.55,
          6.5,
          7.3,
          8.183333333333334,
          9.1,
          9.866666666666667,
          11.033333333333333,
          12.283333333333333,
          13.116666666666667
         ]
        }
       ],
       "layout": {}
      },
      "text/html": [
       "<div id=\"210ff195-f672-4759-9b5e-92b821275eef\" style=\"height: 525px; width: 100%;\" class=\"plotly-graph-div\"></div><script type=\"text/javascript\">require([\"plotly\"], function(Plotly) { window.PLOTLYENV=window.PLOTLYENV || {};window.PLOTLYENV.BASE_URL=\"https://plot.ly\";\n",
       "if (document.getElementById(\"210ff195-f672-4759-9b5e-92b821275eef\")) {\n",
       "    Plotly.newPlot(\"210ff195-f672-4759-9b5e-92b821275eef\", [{\"name\": \"Timing\", \"x\": [37.0, 77.6, 79.6, 84.0, 92.2, 104.2, 116.6, 134.8, 155.2, 181.8, 210.8, 241.8, 274.6, 311.2, 351.4, 396.8, 445.0, 492.2, 548.0, 606.6, 669.2], \"y\": [1.9333333333333333, 2.35, 2.3666666666666667, 2.466666666666667, 2.5166666666666666, 2.6833333333333336, 2.8166666666666664, 3, 3.216666666666667, 3.6166666666666667, 4.316666666666666, 4.9, 5.55, 6.5, 7.3, 8.183333333333334, 9.1, 9.866666666666667, 11.033333333333333, 12.283333333333333, 13.116666666666667], \"type\": \"scatter\", \"uid\": \"7106b7d1-a619-4ff6-bc14-d9a8608c5247\"}], {}, {\"showLink\": false, \"linkText\": \"Export to plot.ly\", \"plotlyServerURL\": \"https://plot.ly\"}); \n",
       "}\n",
       "});</script><script type=\"text/javascript\">window.addEventListener(\"resize\", function(){if (document.getElementById(\"210ff195-f672-4759-9b5e-92b821275eef\")) {window._Plotly.Plots.resize(document.getElementById(\"210ff195-f672-4759-9b5e-92b821275eef\"));};})</script>"
      ],
      "text/vnd.plotly.v1+html": [
       "<div id=\"210ff195-f672-4759-9b5e-92b821275eef\" style=\"height: 525px; width: 100%;\" class=\"plotly-graph-div\"></div><script type=\"text/javascript\">require([\"plotly\"], function(Plotly) { window.PLOTLYENV=window.PLOTLYENV || {};window.PLOTLYENV.BASE_URL=\"https://plot.ly\";\n",
       "if (document.getElementById(\"210ff195-f672-4759-9b5e-92b821275eef\")) {\n",
       "    Plotly.newPlot(\"210ff195-f672-4759-9b5e-92b821275eef\", [{\"name\": \"Timing\", \"x\": [37.0, 77.6, 79.6, 84.0, 92.2, 104.2, 116.6, 134.8, 155.2, 181.8, 210.8, 241.8, 274.6, 311.2, 351.4, 396.8, 445.0, 492.2, 548.0, 606.6, 669.2], \"y\": [1.9333333333333333, 2.35, 2.3666666666666667, 2.466666666666667, 2.5166666666666666, 2.6833333333333336, 2.8166666666666664, 3, 3.216666666666667, 3.6166666666666667, 4.316666666666666, 4.9, 5.55, 6.5, 7.3, 8.183333333333334, 9.1, 9.866666666666667, 11.033333333333333, 12.283333333333333, 13.116666666666667], \"type\": \"scatter\", \"uid\": \"7106b7d1-a619-4ff6-bc14-d9a8608c5247\"}], {}, {\"showLink\": false, \"linkText\": \"Export to plot.ly\", \"plotlyServerURL\": \"https://plot.ly\"}); \n",
       "}\n",
       "});</script><script type=\"text/javascript\">window.addEventListener(\"resize\", function(){if (document.getElementById(\"210ff195-f672-4759-9b5e-92b821275eef\")) {window._Plotly.Plots.resize(document.getElementById(\"210ff195-f672-4759-9b5e-92b821275eef\"));};})</script>"
      ]
     },
     "metadata": {},
     "output_type": "display_data"
    }
   ],
   "source": [
    "iplot(fig)"
   ]
  },
  {
   "cell_type": "code",
   "execution_count": 12,
   "metadata": {},
   "outputs": [],
   "source": [
    "from sklearn import linear_model"
   ]
  },
  {
   "cell_type": "code",
   "execution_count": 14,
   "metadata": {},
   "outputs": [
    {
     "data": {
      "text/plain": [
       "LinearRegression(copy_X=True, fit_intercept=True, n_jobs=None,\n",
       "         normalize=False)"
      ]
     },
     "execution_count": 14,
     "metadata": {},
     "output_type": "execute_result"
    }
   ],
   "source": [
    "regr = linear_model.LinearRegression()\n",
    "regr.fit(np.array(xvals).reshape(-1,1), times)"
   ]
  },
  {
   "cell_type": "code",
   "execution_count": 17,
   "metadata": {},
   "outputs": [],
   "source": [
    "slope = regr.coef_[0]"
   ]
  },
  {
   "cell_type": "code",
   "execution_count": 18,
   "metadata": {},
   "outputs": [
    {
     "data": {
      "text/plain": [
       "0.018667386267288234"
      ]
     },
     "execution_count": 18,
     "metadata": {},
     "output_type": "execute_result"
    }
   ],
   "source": [
    "slope"
   ]
  },
  {
   "cell_type": "code",
   "execution_count": 23,
   "metadata": {},
   "outputs": [
    {
     "data": {
      "text/plain": [
       "4.619914990640517"
      ]
     },
     "execution_count": 23,
     "metadata": {},
     "output_type": "execute_result"
    }
   ],
   "source": [
    "\n",
    "slope* + regr.intercept_"
   ]
  },
  {
   "cell_type": "code",
   "execution_count": 25,
   "metadata": {},
   "outputs": [],
   "source": [
    "predTimes = list(map( lambda x : x*slope + regr.intercept_, [ 783.8,  910.8, 1035.2, 1166.4, 1299.6, 1439. , 1580.2, 1727.6,\n",
    "       1866.6, 2002.8]))"
   ]
  },
  {
   "cell_type": "code",
   "execution_count": 28,
   "metadata": {},
   "outputs": [
    {
     "data": {
      "text/plain": [
       "171.48236869359664"
      ]
     },
     "execution_count": 28,
     "metadata": {},
     "output_type": "execute_result"
    }
   ],
   "source": [
    "np.array(predTimes).sum() - predTimes[4] - predTimes[6] - predTimes[-1]"
   ]
  },
  {
   "cell_type": "code",
   "execution_count": 27,
   "metadata": {
    "scrolled": true
   },
   "outputs": [
    {
     "data": {
      "text/plain": [
       "[15.316327321796674,\n",
       " 17.687085377742278,\n",
       " 20.00930822939294,\n",
       " 22.458469307661154,\n",
       " 24.944965158463944,\n",
       " 27.547198804123926,\n",
       " 30.183033745065025,\n",
       " 32.93460648086331,\n",
       " 35.52937317201637,\n",
       " 38.071871181621034]"
      ]
     },
     "execution_count": 27,
     "metadata": {},
     "output_type": "execute_result"
    }
   ],
   "source": [
    "predTimes"
   ]
  },
  {
   "cell_type": "code",
   "execution_count": null,
   "metadata": {},
   "outputs": [],
   "source": []
  },
  {
   "cell_type": "markdown",
   "metadata": {},
   "source": [
    "## Compute various classification metrics"
   ]
  },
  {
   "cell_type": "code",
   "execution_count": 18,
   "metadata": {},
   "outputs": [],
   "source": [
    "import sklearn.metrics as skm"
   ]
  },
  {
   "cell_type": "code",
   "execution_count": 19,
   "metadata": {},
   "outputs": [],
   "source": [
    "meths = ['rankCorr'] + methods"
   ]
  },
  {
   "cell_type": "code",
   "execution_count": 20,
   "metadata": {},
   "outputs": [
    {
     "data": {
      "text/plain": [
       "['rankCorr', 'wilcoxon', 't-test_overestim_var', 'logreg']"
      ]
     },
     "execution_count": 20,
     "metadata": {},
     "output_type": "execute_result"
    }
   ],
   "source": [
    "meths"
   ]
  },
  {
   "cell_type": "code",
   "execution_count": 33,
   "metadata": {},
   "outputs": [
    {
     "data": {
      "text/plain": [
       "0"
      ]
     },
     "execution_count": 33,
     "metadata": {},
     "output_type": "execute_result"
    }
   ],
   "source": [
    "methods.index('wilcoxon')"
   ]
  },
  {
   "cell_type": "code",
   "execution_count": 39,
   "metadata": {},
   "outputs": [],
   "source": [
    "yTrue = yVec"
   ]
  },
  {
   "cell_type": "code",
   "execution_count": 40,
   "metadata": {},
   "outputs": [
    {
     "name": "stdout",
     "output_type": "stream",
     "text": [
      "PROCESSING DATA FOR rankCorr\n",
      "PROCESSING DATA FOR wilcoxon\n",
      "PROCESSING DATA FOR t-test_overestim_var\n",
      "PROCESSING DATA FOR logreg\n",
      "Saving all processed data to 10x-class-scores.npz\n"
     ]
    }
   ],
   "source": [
    "dayta = []\n",
    "accs = []\n",
    "prec = []\n",
    "recs = []\n",
    "mccs = []\n",
    "xvals = []\n",
    "\n",
    "for method in meths:\n",
    "    \n",
    "    # all data is already loaded\n",
    "    print(\"PROCESSING DATA FOR {}\".format(method))\n",
    "    \n",
    "    if method is 'rankCorr':\n",
    "        dayta = cs_flink\n",
    "    else: \n",
    "        dayta = {\n",
    "            'xvals' : sc_xvals[ methods.index(method) ],\n",
    "            'yhats' : sc_yhats[ methods.index(method) ]\n",
    "        }\n",
    "    \n",
    "    \n",
    "\n",
    "    \n",
    "    accs.append( list(map(lambda yhat: 1-skm.accuracy_score(yTrue, yhat), dayta['yhats'])) )\n",
    "    prec.append( list(map(lambda yhat: skm.precision_score(yTrue, yhat, average='weighted'), dayta['yhats'])) )\n",
    "    recs.append( list(map(lambda yhat: skm.recall_score(yTrue, yhat, average='weighted'), dayta['yhats'])) )\n",
    "    mccs.append( list(map(lambda yhat: skm.matthews_corrcoef(yTrue, yhat), dayta['yhats'])) )\n",
    "    \n",
    "    xvals.append( np.array([np.array(a).mean() for a in dayta['xvals']]) )\n",
    "    \n",
    "    \n",
    "\n",
    "outname = \"10x-class-scores.npz\"\n",
    "print(\"Saving all processed data to {}\".format(outname))\n",
    "\n",
    "np.savez(outname, accs=accs, prec=prec, recs=recs, mccs=mccs, xvals=xvals)"
   ]
  },
  {
   "cell_type": "markdown",
   "metadata": {},
   "source": [
    "## Plot the 10x clustering error data\n",
    "\n",
    "The scanpy data is loaded in the section above"
   ]
  },
  {
   "cell_type": "code",
   "execution_count": 43,
   "metadata": {},
   "outputs": [
    {
     "data": {
      "text/plain": [
       "['rankCorr', 'wilcoxon', 't-test_overestim_var', 'logreg']"
      ]
     },
     "execution_count": 43,
     "metadata": {},
     "output_type": "execute_result"
    }
   ],
   "source": [
    "meths"
   ]
  },
  {
   "cell_type": "code",
   "execution_count": 41,
   "metadata": {},
   "outputs": [],
   "source": [
    "colorMap = {\n",
    "    \n",
    "    'rankCorr' : \"#3366cc\",\n",
    "#    methods[0] : \"#ef3774\", # nice pink\n",
    "    methods[0] : \"#d62728\", # red\n",
    "    methods[1] : \"#ff9900\",\n",
    "#    methods[2] : \"#22aa99\",  # green-blue (close to green)\n",
    "    methods[2] : \"#2ca02c\",  #chalkboard\n",
    "    'edgeR' :  \"#9467bd\",\n",
    "    'edgeRdet' : \"#c5b0d5\",\n",
    "    'MAST' : '#17becf',\n",
    "    'MASTdet': '#9edae5',\n",
    "    'enets': \"#8c564b\",\n",
    "#    'genzel' : \"#0099c6\", # blueish\n",
    "    'genzel' : \"#bcbd22\", #vom\n",
    "    'scvi' : \"#f032e6\",\n",
    "    'random' : '#808080'\n",
    "    \n",
    "}"
   ]
  },
  {
   "cell_type": "code",
   "execution_count": 102,
   "metadata": {},
   "outputs": [],
   "source": [
    "layout1 = go.Layout(\n",
    "    colorway = [colorMap[meth] for meth in meths],\n",
    "    font = dict(\n",
    "            family='CMU Serif'\n",
    "    ),\n",
    "    #showlegend=False,\n",
    "    xaxis=dict(\n",
    "        title='Number of markers',\n",
    "        showgrid=False,\n",
    "        ticks='inside',\n",
    "        showline=True,\n",
    "        mirror='ticks',\n",
    "        #range=[10,170],\n",
    "        range=[0,1620],\n",
    "        titlefont=dict(\n",
    "            #family='Computer Modern',\n",
    "            size=30,\n",
    "            color='#000'\n",
    "        ),\n",
    "        tickfont=dict(\n",
    "            size=24,\n",
    "            color='#000'\n",
    "        )\n",
    "    ),\n",
    "    yaxis=dict(\n",
    "        title='Classification error rate',\n",
    "        #title='Average precision',\n",
    "        #title='Matthews correlation coefficient',\n",
    "        showgrid=False,\n",
    "        ticks='inside',\n",
    "        showline=True,\n",
    "        mirror='ticks',\n",
    "        #range=[0.03,0.16],\n",
    "        titlefont=dict(\n",
    "            #family='Computer Modern',\n",
    "            size=30,\n",
    "            color='#000'\n",
    "        ),\n",
    "        tickfont=dict(\n",
    "            size=24,\n",
    "            color='#000'\n",
    "        )\n",
    "    ),\n",
    "    legend=dict(\n",
    "        #x=0,\n",
    "        #y=1,\n",
    "        #traceorder='normal',\n",
    "        font=dict(\n",
    "            #family='Computer Modern',\n",
    "            size=24,\n",
    "            #color='#000'\n",
    "        ),\n",
    "        #bgcolor='#E2E2E2',\n",
    "        #bordercolor='#FFFFFF',\n",
    "        #borderwidth=2\n",
    "    ),\n",
    "    margin=go.layout.Margin(\n",
    "        l=100,\n",
    "        r=20,\n",
    "        b=90,\n",
    "        t=10,\n",
    "        #pad=4\n",
    "    ),\n",
    ")"
   ]
  },
  {
   "cell_type": "code",
   "execution_count": 66,
   "metadata": {},
   "outputs": [],
   "source": [
    "scores = ['accs', 'prec', 'mccs']\n",
    "score = 'accs'\n",
    "\n",
    "\n",
    "dayta = np.load(\"10x-class-scores.npz\")\n",
    "\n",
    "methNames = {\n",
    "    'rankCorr': \"RankCorr\",\n",
    "    methods[0]: \"Wilcoxon\",\n",
    "    methods[1]: \"t-test\",\n",
    "    methods[2]: \"Log. Reg.\",\n",
    "    'edgeR' : 'edgeR',\n",
    "    'MAST' : 'MAST'\n",
    "}\n",
    "\n",
    "traces = []\n",
    "for i,method in enumerate(meths):\n",
    "    traces.append(\n",
    "        go.Scatter(x=dayta['xvals'][i], y=dayta[score][i], name=methNames[method], mode=\"lines+markers\")\n",
    "    )\n",
    "    \n",
    "    "
   ]
  },
  {
   "cell_type": "code",
   "execution_count": 67,
   "metadata": {},
   "outputs": [
    {
     "data": {
      "application/vnd.plotly.v1+json": {
       "config": {
        "linkText": "Export to plot.ly",
        "plotlyServerURL": "https://plot.ly",
        "showLink": false
       },
       "data": [
        {
         "mode": "lines+markers",
         "name": "RankCorr",
         "type": "scatter",
         "uid": "0da0c8b2-67da-4825-ac24-85514f3adbcb",
         "x": [
          37,
          77.6,
          79.6,
          84,
          92.2,
          104.2,
          116.6,
          134.8,
          155.2,
          181.8,
          210.8,
          241.8,
          274.6,
          311.2,
          351.4,
          396.8,
          445,
          492.2,
          548,
          606.6,
          669.2
         ],
         "y": [
          0.4507034920800198,
          0.34828466144563275,
          0.34587601358826514,
          0.3367727640574002,
          0.32841216818885144,
          0.3172800194774321,
          0.3126533637234358,
          0.3061478707660128,
          0.3002296101374522,
          0.2882078082759181,
          0.2779798595389269,
          0.27301556433639307,
          0.2702241053128831,
          0.26597337012403843,
          0.26302495852241015,
          0.2600711875644558,
          0.2588530824337909,
          0.2574703685016847,
          0.25429380144503555,
          0.2525887605110376,
          0.2506900171269716
         ]
        },
        {
         "mode": "lines+markers",
         "name": "Wilcoxon",
         "type": "scatter",
         "uid": "12d6a4b9-7ef4-428d-96b1-907aaa6010ae",
         "x": [
          34.8,
          86.2,
          128.8,
          176,
          222.2,
          261.6,
          294.6,
          331,
          367,
          398,
          432,
          456.6,
          482.6,
          502.2,
          528.4,
          554.2,
          580.6,
          610.4,
          633.4,
          657.6,
          678.6
         ],
         "y": [
          0.40330764159993626,
          0.30667461893062464,
          0.28084711517333305,
          0.26863620459572457,
          0.25995098485828716,
          0.25656463728259193,
          0.25423408290311733,
          0.25207349668141,
          0.24658781267059027,
          0.24566523776018723,
          0.2418424854550898,
          0.24186775099205515,
          0.2419305320233025,
          0.24110212865977043,
          0.24021170988732332,
          0.2399866169216317,
          0.24067797388768475,
          0.24052178693189863,
          0.24103551951686164,
          0.2404498184326639,
          0.24007619473450892
         ]
        },
        {
         "mode": "lines+markers",
         "name": "t-test",
         "type": "scatter",
         "uid": "5de25816-d81c-4ff5-9454-69d4002536f2",
         "x": [
          35.8,
          95.4,
          147.6,
          192,
          243.8,
          295.2,
          337.2,
          366,
          403.6,
          446.8,
          482,
          519.2,
          553.4,
          583.6,
          612.4,
          637,
          668.2
         ],
         "y": [
          0.4137078553616915,
          0.2999187674705446,
          0.2815070816237625,
          0.2704691044592141,
          0.26231216413105307,
          0.2586509581380677,
          0.25611292010654396,
          0.25384897486997815,
          0.2524226204649318,
          0.25218680878658817,
          0.24989147303439863,
          0.2483426190561867,
          0.24584056527428033,
          0.24410796193632012,
          0.2432251993871959,
          0.24280410710443934,
          0.2423761242206922
         ]
        },
        {
         "mode": "lines+markers",
         "name": "Log. Reg.",
         "type": "scatter",
         "uid": "10173760-6a43-475f-a2fd-600b9e5d166e",
         "x": [
          25,
          83.4,
          120.6,
          144.2,
          178.4,
          211.2,
          239.8,
          269.8,
          298.6,
          339.2,
          371,
          401.6,
          432.6,
          455,
          474,
          496.8,
          517,
          538.2,
          568.8,
          597.2,
          624.4,
          647.6,
          665.6,
          685.2
         ],
         "y": [
          0.42441584930102505,
          0.2977834467858026,
          0.2777938133121818,
          0.26911778104273165,
          0.25555248455931157,
          0.25160646705871637,
          0.24698057692705222,
          0.24618279845681168,
          0.24395789995919237,
          0.24197187562924583,
          0.24163500180304054,
          0.24148876793757423,
          0.24186775099205515,
          0.2405370993785444,
          0.24042991225202448,
          0.24003638237323022,
          0.23976994580159505,
          0.2399590545176694,
          0.23923707265832495,
          0.23770889048308474,
          0.23758103155359322,
          0.23739957906084175,
          0.23722807965840997,
          0.23742101648614566
         ]
        }
       ],
       "layout": {
        "colorway": [
         "#3366cc",
         "#d62728",
         "#ff9900",
         "#2ca02c"
        ],
        "font": {
         "family": "CMU Serif"
        },
        "legend": {
         "font": {
          "size": 20
         }
        },
        "margin": {
         "b": 90,
         "l": 100,
         "r": 10,
         "t": 10
        },
        "showlegend": false,
        "xaxis": {
         "mirror": "ticks",
         "range": [
          0,
          620
         ],
         "showgrid": false,
         "showline": true,
         "tickfont": {
          "color": "#000",
          "size": 24
         },
         "ticks": "inside",
         "title": {
          "font": {
           "color": "#000",
           "size": 30
          },
          "text": "Number of markers"
         }
        },
        "yaxis": {
         "mirror": "ticks",
         "showgrid": false,
         "showline": true,
         "tickfont": {
          "color": "#000",
          "size": 24
         },
         "ticks": "inside",
         "title": {
          "font": {
           "color": "#000",
           "size": 30
          },
          "text": "Classification error rate"
         }
        }
       }
      },
      "text/html": [
       "<div id=\"62625b7f-5b49-492e-a9bb-218fda6f4e30\" style=\"height: 525px; width: 100%;\" class=\"plotly-graph-div\"></div><script type=\"text/javascript\">require([\"plotly\"], function(Plotly) { window.PLOTLYENV=window.PLOTLYENV || {};window.PLOTLYENV.BASE_URL=\"https://plot.ly\";\n",
       "if (document.getElementById(\"62625b7f-5b49-492e-a9bb-218fda6f4e30\")) {\n",
       "    Plotly.newPlot(\"62625b7f-5b49-492e-a9bb-218fda6f4e30\", [{\"mode\": \"lines+markers\", \"name\": \"RankCorr\", \"x\": [37.0, 77.6, 79.6, 84.0, 92.2, 104.2, 116.6, 134.8, 155.2, 181.8, 210.8, 241.8, 274.6, 311.2, 351.4, 396.8, 445.0, 492.2, 548.0, 606.6, 669.2], \"y\": [0.4507034920800198, 0.34828466144563275, 0.34587601358826514, 0.3367727640574002, 0.32841216818885144, 0.3172800194774321, 0.3126533637234358, 0.3061478707660128, 0.3002296101374522, 0.2882078082759181, 0.2779798595389269, 0.27301556433639307, 0.2702241053128831, 0.26597337012403843, 0.26302495852241015, 0.2600711875644558, 0.2588530824337909, 0.2574703685016847, 0.25429380144503555, 0.2525887605110376, 0.2506900171269716], \"type\": \"scatter\", \"uid\": \"af837d0d-4e62-4b7e-8848-0c08f929f760\"}, {\"mode\": \"lines+markers\", \"name\": \"Wilcoxon\", \"x\": [34.8, 86.2, 128.8, 176.0, 222.2, 261.6, 294.6, 331.0, 367.0, 398.0, 432.0, 456.6, 482.6, 502.2, 528.4, 554.2, 580.6, 610.4, 633.4, 657.6, 678.6], \"y\": [0.40330764159993626, 0.30667461893062464, 0.28084711517333305, 0.26863620459572457, 0.25995098485828716, 0.25656463728259193, 0.25423408290311733, 0.25207349668141, 0.24658781267059027, 0.24566523776018723, 0.2418424854550898, 0.24186775099205515, 0.2419305320233025, 0.24110212865977043, 0.24021170988732332, 0.2399866169216317, 0.24067797388768475, 0.24052178693189863, 0.24103551951686164, 0.2404498184326639, 0.24007619473450892], \"type\": \"scatter\", \"uid\": \"6db768b1-4e86-4e50-b759-9256dd0a31b9\"}, {\"mode\": \"lines+markers\", \"name\": \"t-test\", \"x\": [35.8, 95.4, 147.6, 192.0, 243.8, 295.2, 337.2, 366.0, 403.6, 446.8, 482.0, 519.2, 553.4, 583.6, 612.4, 637.0, 668.2], \"y\": [0.4137078553616915, 0.2999187674705446, 0.2815070816237625, 0.2704691044592141, 0.26231216413105307, 0.2586509581380677, 0.25611292010654396, 0.25384897486997815, 0.2524226204649318, 0.25218680878658817, 0.24989147303439863, 0.2483426190561867, 0.24584056527428033, 0.24410796193632012, 0.2432251993871959, 0.24280410710443934, 0.2423761242206922], \"type\": \"scatter\", \"uid\": \"e1ab94c4-e315-44d2-baf5-9e33059b44d0\"}, {\"mode\": \"lines+markers\", \"name\": \"Log. Reg.\", \"x\": [25.0, 83.4, 120.6, 144.2, 178.4, 211.2, 239.8, 269.8, 298.6, 339.2, 371.0, 401.6, 432.6, 455.0, 474.0, 496.8, 517.0, 538.2, 568.8, 597.2, 624.4, 647.6, 665.6, 685.2], \"y\": [0.42441584930102505, 0.2977834467858026, 0.2777938133121818, 0.26911778104273165, 0.25555248455931157, 0.25160646705871637, 0.24698057692705222, 0.24618279845681168, 0.24395789995919237, 0.24197187562924583, 0.24163500180304054, 0.24148876793757423, 0.24186775099205515, 0.2405370993785444, 0.24042991225202448, 0.24003638237323022, 0.23976994580159505, 0.2399590545176694, 0.23923707265832495, 0.23770889048308474, 0.23758103155359322, 0.23739957906084175, 0.23722807965840997, 0.23742101648614566], \"type\": \"scatter\", \"uid\": \"8dabc3ae-9a79-41f1-b27a-2c3afc34b875\"}], {\"colorway\": [\"#3366cc\", \"#d62728\", \"#ff9900\", \"#2ca02c\"], \"font\": {\"family\": \"CMU Serif\"}, \"legend\": {\"font\": {\"size\": 20}}, \"margin\": {\"b\": 90, \"l\": 100, \"r\": 10, \"t\": 10}, \"showlegend\": false, \"xaxis\": {\"mirror\": \"ticks\", \"range\": [0, 620], \"showgrid\": false, \"showline\": true, \"tickfont\": {\"color\": \"#000\", \"size\": 24}, \"ticks\": \"inside\", \"title\": {\"font\": {\"color\": \"#000\", \"size\": 30}, \"text\": \"Number of markers\"}}, \"yaxis\": {\"mirror\": \"ticks\", \"showgrid\": false, \"showline\": true, \"tickfont\": {\"color\": \"#000\", \"size\": 24}, \"ticks\": \"inside\", \"title\": {\"font\": {\"color\": \"#000\", \"size\": 30}, \"text\": \"Classification error rate\"}}}, {\"showLink\": false, \"linkText\": \"Export to plot.ly\", \"plotlyServerURL\": \"https://plot.ly\"}); \n",
       "}\n",
       "});</script><script type=\"text/javascript\">window.addEventListener(\"resize\", function(){if (document.getElementById(\"62625b7f-5b49-492e-a9bb-218fda6f4e30\")) {window._Plotly.Plots.resize(document.getElementById(\"62625b7f-5b49-492e-a9bb-218fda6f4e30\"));};})</script>"
      ],
      "text/vnd.plotly.v1+html": [
       "<div id=\"62625b7f-5b49-492e-a9bb-218fda6f4e30\" style=\"height: 525px; width: 100%;\" class=\"plotly-graph-div\"></div><script type=\"text/javascript\">require([\"plotly\"], function(Plotly) { window.PLOTLYENV=window.PLOTLYENV || {};window.PLOTLYENV.BASE_URL=\"https://plot.ly\";\n",
       "if (document.getElementById(\"62625b7f-5b49-492e-a9bb-218fda6f4e30\")) {\n",
       "    Plotly.newPlot(\"62625b7f-5b49-492e-a9bb-218fda6f4e30\", [{\"mode\": \"lines+markers\", \"name\": \"RankCorr\", \"x\": [37.0, 77.6, 79.6, 84.0, 92.2, 104.2, 116.6, 134.8, 155.2, 181.8, 210.8, 241.8, 274.6, 311.2, 351.4, 396.8, 445.0, 492.2, 548.0, 606.6, 669.2], \"y\": [0.4507034920800198, 0.34828466144563275, 0.34587601358826514, 0.3367727640574002, 0.32841216818885144, 0.3172800194774321, 0.3126533637234358, 0.3061478707660128, 0.3002296101374522, 0.2882078082759181, 0.2779798595389269, 0.27301556433639307, 0.2702241053128831, 0.26597337012403843, 0.26302495852241015, 0.2600711875644558, 0.2588530824337909, 0.2574703685016847, 0.25429380144503555, 0.2525887605110376, 0.2506900171269716], \"type\": \"scatter\", \"uid\": \"af837d0d-4e62-4b7e-8848-0c08f929f760\"}, {\"mode\": \"lines+markers\", \"name\": \"Wilcoxon\", \"x\": [34.8, 86.2, 128.8, 176.0, 222.2, 261.6, 294.6, 331.0, 367.0, 398.0, 432.0, 456.6, 482.6, 502.2, 528.4, 554.2, 580.6, 610.4, 633.4, 657.6, 678.6], \"y\": [0.40330764159993626, 0.30667461893062464, 0.28084711517333305, 0.26863620459572457, 0.25995098485828716, 0.25656463728259193, 0.25423408290311733, 0.25207349668141, 0.24658781267059027, 0.24566523776018723, 0.2418424854550898, 0.24186775099205515, 0.2419305320233025, 0.24110212865977043, 0.24021170988732332, 0.2399866169216317, 0.24067797388768475, 0.24052178693189863, 0.24103551951686164, 0.2404498184326639, 0.24007619473450892], \"type\": \"scatter\", \"uid\": \"6db768b1-4e86-4e50-b759-9256dd0a31b9\"}, {\"mode\": \"lines+markers\", \"name\": \"t-test\", \"x\": [35.8, 95.4, 147.6, 192.0, 243.8, 295.2, 337.2, 366.0, 403.6, 446.8, 482.0, 519.2, 553.4, 583.6, 612.4, 637.0, 668.2], \"y\": [0.4137078553616915, 0.2999187674705446, 0.2815070816237625, 0.2704691044592141, 0.26231216413105307, 0.2586509581380677, 0.25611292010654396, 0.25384897486997815, 0.2524226204649318, 0.25218680878658817, 0.24989147303439863, 0.2483426190561867, 0.24584056527428033, 0.24410796193632012, 0.2432251993871959, 0.24280410710443934, 0.2423761242206922], \"type\": \"scatter\", \"uid\": \"e1ab94c4-e315-44d2-baf5-9e33059b44d0\"}, {\"mode\": \"lines+markers\", \"name\": \"Log. Reg.\", \"x\": [25.0, 83.4, 120.6, 144.2, 178.4, 211.2, 239.8, 269.8, 298.6, 339.2, 371.0, 401.6, 432.6, 455.0, 474.0, 496.8, 517.0, 538.2, 568.8, 597.2, 624.4, 647.6, 665.6, 685.2], \"y\": [0.42441584930102505, 0.2977834467858026, 0.2777938133121818, 0.26911778104273165, 0.25555248455931157, 0.25160646705871637, 0.24698057692705222, 0.24618279845681168, 0.24395789995919237, 0.24197187562924583, 0.24163500180304054, 0.24148876793757423, 0.24186775099205515, 0.2405370993785444, 0.24042991225202448, 0.24003638237323022, 0.23976994580159505, 0.2399590545176694, 0.23923707265832495, 0.23770889048308474, 0.23758103155359322, 0.23739957906084175, 0.23722807965840997, 0.23742101648614566], \"type\": \"scatter\", \"uid\": \"8dabc3ae-9a79-41f1-b27a-2c3afc34b875\"}], {\"colorway\": [\"#3366cc\", \"#d62728\", \"#ff9900\", \"#2ca02c\"], \"font\": {\"family\": \"CMU Serif\"}, \"legend\": {\"font\": {\"size\": 20}}, \"margin\": {\"b\": 90, \"l\": 100, \"r\": 10, \"t\": 10}, \"showlegend\": false, \"xaxis\": {\"mirror\": \"ticks\", \"range\": [0, 620], \"showgrid\": false, \"showline\": true, \"tickfont\": {\"color\": \"#000\", \"size\": 24}, \"ticks\": \"inside\", \"title\": {\"font\": {\"color\": \"#000\", \"size\": 30}, \"text\": \"Number of markers\"}}, \"yaxis\": {\"mirror\": \"ticks\", \"showgrid\": false, \"showline\": true, \"tickfont\": {\"color\": \"#000\", \"size\": 24}, \"ticks\": \"inside\", \"title\": {\"font\": {\"color\": \"#000\", \"size\": 30}, \"text\": \"Classification error rate\"}}}, {\"showLink\": false, \"linkText\": \"Export to plot.ly\", \"plotlyServerURL\": \"https://plot.ly\"}); \n",
       "}\n",
       "});</script><script type=\"text/javascript\">window.addEventListener(\"resize\", function(){if (document.getElementById(\"62625b7f-5b49-492e-a9bb-218fda6f4e30\")) {window._Plotly.Plots.resize(document.getElementById(\"62625b7f-5b49-492e-a9bb-218fda6f4e30\"));};})</script>"
      ]
     },
     "metadata": {},
     "output_type": "display_data"
    }
   ],
   "source": [
    "iplot({'data':traces, 'layout': layout1})"
   ]
  },
  {
   "cell_type": "code",
   "execution_count": 68,
   "metadata": {},
   "outputs": [],
   "source": [
    "pio.write_json({'data': traces, 'layout': layout1}, \"/home/ahsvargo/publicData/pics2/10x/10x-ncc-acc.json\")"
   ]
  },
  {
   "cell_type": "markdown",
   "metadata": {},
   "source": [
    "### Old plots - before colorMaps"
   ]
  },
  {
   "cell_type": "code",
   "execution_count": 71,
   "metadata": {},
   "outputs": [],
   "source": [
    "cs_xvals = [np.array(a).mean() for a in cs_flink['xvals']]"
   ]
  },
  {
   "cell_type": "code",
   "execution_count": 72,
   "metadata": {},
   "outputs": [],
   "source": [
    "cs_errs = list(map( lambda yhat: np.where(yhat == yVec)[0].shape[0]/yVec.shape[0], cs_flink['yhats'])) "
   ]
  },
  {
   "cell_type": "code",
   "execution_count": 15,
   "metadata": {},
   "outputs": [],
   "source": [
    "traces = [\n",
    "    go.Scatter(x = cs_xvals, y=list(100-100*np.array(cs_errs)), name='RankCorr', mode='lines+markers')\n",
    "]\n",
    "\n",
    "for i, method in enumerate(methods):\n",
    "    traces.append(\n",
    "        go.Scatter( x = sc_xvals[i], y=list(100-100*np.array(sc_errs[i])), name=method, mode='lines+markers' )\n",
    "    )\n",
    "\n",
    "layout = go.Layout(\n",
    "    font = dict(\n",
    "            family='CMU Serif'\n",
    "    ),\n",
    "    xaxis=dict(\n",
    "        title='Number of markers',\n",
    "        titlefont=dict(\n",
    "            #family='Computer Modern',\n",
    "            size=18,\n",
    "        ),\n",
    "        tickfont=dict(\n",
    "            #family='Computer Modern',\n",
    "            size=14,\n",
    "        )\n",
    "    ),\n",
    "    yaxis=dict(\n",
    "        title='Percent error',\n",
    "        titlefont=dict(\n",
    "            #family='Computer Modern',\n",
    "            size=18,\n",
    "        ),\n",
    "        tickfont=dict(\n",
    "            #family='Computer Modern',\n",
    "            size=14,\n",
    "        )\n",
    "    ),\n",
    "    legend=dict(\n",
    "        #x=0,\n",
    "        #y=1,\n",
    "        #traceorder='normal',\n",
    "        font=dict(\n",
    "            #family='Computer Modern',\n",
    "            size=14,\n",
    "            #color='#000'\n",
    "        ),\n",
    "        #bgcolor='#E2E2E2',\n",
    "        #bordercolor='#FFFFFF',\n",
    "        #borderwidth=2\n",
    "    )\n",
    ")\n",
    "\n",
    "fig = go.Figure(data=traces, layout=layout)"
   ]
  },
  {
   "cell_type": "code",
   "execution_count": 16,
   "metadata": {},
   "outputs": [
    {
     "data": {
      "application/vnd.plotly.v1+json": {
       "config": {
        "linkText": "Export to plot.ly",
        "plotlyServerURL": "https://plot.ly",
        "showLink": false
       },
       "data": [
        {
         "mode": "lines+markers",
         "name": "RankCorr",
         "type": "scatter",
         "uid": "caf9e8c1-2d2c-431c-b7d6-73d277c79cbf",
         "x": [
          37,
          77.6,
          79.6,
          84,
          92.2,
          104.2,
          116.6,
          134.8,
          155.2,
          181.8,
          210.8,
          241.8,
          274.6,
          311.2,
          351.4,
          396.8,
          445,
          492.2,
          548,
          606.6,
          669.2
         ],
         "y": [
          45.07034920800198,
          34.82846614456328,
          34.58760135882652,
          33.67727640574002,
          32.841216818885144,
          31.72800194774321,
          31.265336372343583,
          30.614787076601274,
          30.022961013745217,
          28.820780827591804,
          27.79798595389269,
          27.301556433639306,
          27.022410531288315,
          26.59733701240384,
          26.30249585224101,
          26.00711875644558,
          25.885308243379086,
          25.74703685016847,
          25.429380144503554,
          25.25887605110377,
          25.06900171269716
         ]
        },
        {
         "mode": "lines+markers",
         "name": "wilcoxon",
         "type": "scatter",
         "uid": "5227cdce-5f99-4183-a8b2-794275bf85f6",
         "x": [
          34.8,
          86.2,
          128.8,
          176,
          222.2,
          261.6,
          294.6,
          331,
          367,
          398,
          432,
          456.6,
          482.6,
          502.2,
          528.4,
          554.2,
          580.6,
          610.4,
          633.4,
          657.6,
          678.6
         ],
         "y": [
          40.33076415999363,
          30.667461893062466,
          28.084711517333304,
          26.86362045957246,
          25.99509848582872,
          25.656463728259197,
          25.423408290311727,
          25.207349668141006,
          24.658781267059027,
          24.566523776018727,
          24.18424854550898,
          24.18677509920552,
          24.193053202330248,
          24.110212865977047,
          24.021170988732337,
          23.998661692163168,
          24.06779738876847,
          24.05217869318986,
          24.10355195168617,
          24.044981843266385,
          24.007619473450887
         ]
        },
        {
         "mode": "lines+markers",
         "name": "t-test_overestim_var",
         "type": "scatter",
         "uid": "35cf7932-1b67-4ea2-a1df-5a7d46e8d50d",
         "x": [
          35.8,
          95.4,
          147.6,
          192,
          243.8,
          295.2,
          337.2,
          366,
          403.6,
          446.8,
          482,
          519.2,
          553.4,
          583.6,
          612.4,
          637,
          668.2
         ],
         "y": [
          41.37078553616915,
          29.991876747054462,
          28.150708162376247,
          27.046910445921412,
          26.2312164131053,
          25.865095813806775,
          25.611292010654395,
          25.384897486997815,
          25.24226204649318,
          25.218680878658816,
          24.989147303439864,
          24.834261905618675,
          24.584056527428032,
          24.41079619363201,
          24.322519938719594,
          24.28041071044393,
          24.23761242206922
         ]
        },
        {
         "mode": "lines+markers",
         "name": "logreg",
         "type": "scatter",
         "uid": "2a5d7162-ba4f-410d-b0f8-6b12b03c1877",
         "x": [
          25,
          83.4,
          120.6,
          144.2,
          178.4,
          211.2,
          239.8,
          269.8,
          298.6,
          339.2,
          371,
          401.6,
          432.6,
          455,
          474,
          496.8,
          517,
          538.2,
          568.8,
          597.2,
          624.4,
          647.6,
          665.6,
          685.2
         ],
         "y": [
          42.44158493010251,
          29.778344678580254,
          27.779381331218175,
          26.911778104273168,
          25.55524845593115,
          25.160646705871642,
          24.69805769270522,
          24.618279845681172,
          24.39578999591923,
          24.197187562924583,
          24.163500180304055,
          24.148876793757424,
          24.18677509920552,
          24.053709937854435,
          24.042991225202442,
          24.003638237323017,
          23.9769945801595,
          23.995905451766944,
          23.92370726583249,
          23.770889048308476,
          23.758103155359322,
          23.73995790608417,
          23.722807965841,
          23.742101648614565
         ]
        }
       ],
       "layout": {
        "font": {
         "family": "CMU Serif"
        },
        "legend": {
         "font": {
          "size": 14
         }
        },
        "xaxis": {
         "tickfont": {
          "size": 14
         },
         "title": {
          "font": {
           "size": 18
          },
          "text": "Number of markers"
         }
        },
        "yaxis": {
         "tickfont": {
          "size": 14
         },
         "title": {
          "font": {
           "size": 18
          },
          "text": "Percent error"
         }
        }
       }
      },
      "text/html": [
       "<div id=\"8e2bdf27-6e96-42fe-870c-112d6d26d1b6\" style=\"height: 525px; width: 100%;\" class=\"plotly-graph-div\"></div><script type=\"text/javascript\">require([\"plotly\"], function(Plotly) { window.PLOTLYENV=window.PLOTLYENV || {};window.PLOTLYENV.BASE_URL=\"https://plot.ly\";\n",
       "if (document.getElementById(\"8e2bdf27-6e96-42fe-870c-112d6d26d1b6\")) {\n",
       "    Plotly.newPlot(\"8e2bdf27-6e96-42fe-870c-112d6d26d1b6\", [{\"mode\": \"lines+markers\", \"name\": \"RankCorr\", \"x\": [37.0, 77.6, 79.6, 84.0, 92.2, 104.2, 116.6, 134.8, 155.2, 181.8, 210.8, 241.8, 274.6, 311.2, 351.4, 396.8, 445.0, 492.2, 548.0, 606.6, 669.2], \"y\": [45.07034920800198, 34.82846614456328, 34.58760135882652, 33.67727640574002, 32.841216818885144, 31.72800194774321, 31.265336372343583, 30.614787076601274, 30.022961013745217, 28.820780827591804, 27.79798595389269, 27.301556433639306, 27.022410531288315, 26.59733701240384, 26.30249585224101, 26.00711875644558, 25.885308243379086, 25.74703685016847, 25.429380144503554, 25.25887605110377, 25.06900171269716], \"type\": \"scatter\", \"uid\": \"86d05591-7f55-41eb-85ee-5b673c929fbc\"}, {\"mode\": \"lines+markers\", \"name\": \"wilcoxon\", \"x\": [34.8, 86.2, 128.8, 176.0, 222.2, 261.6, 294.6, 331.0, 367.0, 398.0, 432.0, 456.6, 482.6, 502.2, 528.4, 554.2, 580.6, 610.4, 633.4, 657.6, 678.6], \"y\": [40.33076415999363, 30.667461893062466, 28.084711517333304, 26.86362045957246, 25.99509848582872, 25.656463728259197, 25.423408290311727, 25.207349668141006, 24.658781267059027, 24.566523776018727, 24.18424854550898, 24.18677509920552, 24.193053202330248, 24.110212865977047, 24.021170988732337, 23.998661692163168, 24.06779738876847, 24.05217869318986, 24.10355195168617, 24.044981843266385, 24.007619473450887], \"type\": \"scatter\", \"uid\": \"e9feb118-cce8-4fbc-8823-9c9f69ae8abb\"}, {\"mode\": \"lines+markers\", \"name\": \"t-test_overestim_var\", \"x\": [35.8, 95.4, 147.6, 192.0, 243.8, 295.2, 337.2, 366.0, 403.6, 446.8, 482.0, 519.2, 553.4, 583.6, 612.4, 637.0, 668.2], \"y\": [41.37078553616915, 29.991876747054462, 28.150708162376247, 27.046910445921412, 26.2312164131053, 25.865095813806775, 25.611292010654395, 25.384897486997815, 25.24226204649318, 25.218680878658816, 24.989147303439864, 24.834261905618675, 24.584056527428032, 24.41079619363201, 24.322519938719594, 24.28041071044393, 24.23761242206922], \"type\": \"scatter\", \"uid\": \"b50d0e5b-f145-48a2-80b3-ad99d9afc56d\"}, {\"mode\": \"lines+markers\", \"name\": \"logreg\", \"x\": [25.0, 83.4, 120.6, 144.2, 178.4, 211.2, 239.8, 269.8, 298.6, 339.2, 371.0, 401.6, 432.6, 455.0, 474.0, 496.8, 517.0, 538.2, 568.8, 597.2, 624.4, 647.6, 665.6, 685.2], \"y\": [42.44158493010251, 29.778344678580254, 27.779381331218175, 26.911778104273168, 25.55524845593115, 25.160646705871642, 24.69805769270522, 24.618279845681172, 24.39578999591923, 24.197187562924583, 24.163500180304055, 24.148876793757424, 24.18677509920552, 24.053709937854435, 24.042991225202442, 24.003638237323017, 23.9769945801595, 23.995905451766944, 23.92370726583249, 23.770889048308476, 23.758103155359322, 23.73995790608417, 23.722807965841, 23.742101648614565], \"type\": \"scatter\", \"uid\": \"3a72fbd2-9329-416a-8f85-503d3770b1f6\"}], {\"font\": {\"family\": \"CMU Serif\"}, \"legend\": {\"font\": {\"size\": 14}}, \"xaxis\": {\"tickfont\": {\"size\": 14}, \"title\": {\"font\": {\"size\": 18}, \"text\": \"Number of markers\"}}, \"yaxis\": {\"tickfont\": {\"size\": 14}, \"title\": {\"font\": {\"size\": 18}, \"text\": \"Percent error\"}}}, {\"showLink\": false, \"linkText\": \"Export to plot.ly\", \"plotlyServerURL\": \"https://plot.ly\"}); \n",
       "}\n",
       "});</script><script type=\"text/javascript\">window.addEventListener(\"resize\", function(){if (document.getElementById(\"8e2bdf27-6e96-42fe-870c-112d6d26d1b6\")) {window._Plotly.Plots.resize(document.getElementById(\"8e2bdf27-6e96-42fe-870c-112d6d26d1b6\"));};})</script>"
      ],
      "text/vnd.plotly.v1+html": [
       "<div id=\"8e2bdf27-6e96-42fe-870c-112d6d26d1b6\" style=\"height: 525px; width: 100%;\" class=\"plotly-graph-div\"></div><script type=\"text/javascript\">require([\"plotly\"], function(Plotly) { window.PLOTLYENV=window.PLOTLYENV || {};window.PLOTLYENV.BASE_URL=\"https://plot.ly\";\n",
       "if (document.getElementById(\"8e2bdf27-6e96-42fe-870c-112d6d26d1b6\")) {\n",
       "    Plotly.newPlot(\"8e2bdf27-6e96-42fe-870c-112d6d26d1b6\", [{\"mode\": \"lines+markers\", \"name\": \"RankCorr\", \"x\": [37.0, 77.6, 79.6, 84.0, 92.2, 104.2, 116.6, 134.8, 155.2, 181.8, 210.8, 241.8, 274.6, 311.2, 351.4, 396.8, 445.0, 492.2, 548.0, 606.6, 669.2], \"y\": [45.07034920800198, 34.82846614456328, 34.58760135882652, 33.67727640574002, 32.841216818885144, 31.72800194774321, 31.265336372343583, 30.614787076601274, 30.022961013745217, 28.820780827591804, 27.79798595389269, 27.301556433639306, 27.022410531288315, 26.59733701240384, 26.30249585224101, 26.00711875644558, 25.885308243379086, 25.74703685016847, 25.429380144503554, 25.25887605110377, 25.06900171269716], \"type\": \"scatter\", \"uid\": \"86d05591-7f55-41eb-85ee-5b673c929fbc\"}, {\"mode\": \"lines+markers\", \"name\": \"wilcoxon\", \"x\": [34.8, 86.2, 128.8, 176.0, 222.2, 261.6, 294.6, 331.0, 367.0, 398.0, 432.0, 456.6, 482.6, 502.2, 528.4, 554.2, 580.6, 610.4, 633.4, 657.6, 678.6], \"y\": [40.33076415999363, 30.667461893062466, 28.084711517333304, 26.86362045957246, 25.99509848582872, 25.656463728259197, 25.423408290311727, 25.207349668141006, 24.658781267059027, 24.566523776018727, 24.18424854550898, 24.18677509920552, 24.193053202330248, 24.110212865977047, 24.021170988732337, 23.998661692163168, 24.06779738876847, 24.05217869318986, 24.10355195168617, 24.044981843266385, 24.007619473450887], \"type\": \"scatter\", \"uid\": \"e9feb118-cce8-4fbc-8823-9c9f69ae8abb\"}, {\"mode\": \"lines+markers\", \"name\": \"t-test_overestim_var\", \"x\": [35.8, 95.4, 147.6, 192.0, 243.8, 295.2, 337.2, 366.0, 403.6, 446.8, 482.0, 519.2, 553.4, 583.6, 612.4, 637.0, 668.2], \"y\": [41.37078553616915, 29.991876747054462, 28.150708162376247, 27.046910445921412, 26.2312164131053, 25.865095813806775, 25.611292010654395, 25.384897486997815, 25.24226204649318, 25.218680878658816, 24.989147303439864, 24.834261905618675, 24.584056527428032, 24.41079619363201, 24.322519938719594, 24.28041071044393, 24.23761242206922], \"type\": \"scatter\", \"uid\": \"b50d0e5b-f145-48a2-80b3-ad99d9afc56d\"}, {\"mode\": \"lines+markers\", \"name\": \"logreg\", \"x\": [25.0, 83.4, 120.6, 144.2, 178.4, 211.2, 239.8, 269.8, 298.6, 339.2, 371.0, 401.6, 432.6, 455.0, 474.0, 496.8, 517.0, 538.2, 568.8, 597.2, 624.4, 647.6, 665.6, 685.2], \"y\": [42.44158493010251, 29.778344678580254, 27.779381331218175, 26.911778104273168, 25.55524845593115, 25.160646705871642, 24.69805769270522, 24.618279845681172, 24.39578999591923, 24.197187562924583, 24.163500180304055, 24.148876793757424, 24.18677509920552, 24.053709937854435, 24.042991225202442, 24.003638237323017, 23.9769945801595, 23.995905451766944, 23.92370726583249, 23.770889048308476, 23.758103155359322, 23.73995790608417, 23.722807965841, 23.742101648614565], \"type\": \"scatter\", \"uid\": \"3a72fbd2-9329-416a-8f85-503d3770b1f6\"}], {\"font\": {\"family\": \"CMU Serif\"}, \"legend\": {\"font\": {\"size\": 14}}, \"xaxis\": {\"tickfont\": {\"size\": 14}, \"title\": {\"font\": {\"size\": 18}, \"text\": \"Number of markers\"}}, \"yaxis\": {\"tickfont\": {\"size\": 14}, \"title\": {\"font\": {\"size\": 18}, \"text\": \"Percent error\"}}}, {\"showLink\": false, \"linkText\": \"Export to plot.ly\", \"plotlyServerURL\": \"https://plot.ly\"}); \n",
       "}\n",
       "});</script><script type=\"text/javascript\">window.addEventListener(\"resize\", function(){if (document.getElementById(\"8e2bdf27-6e96-42fe-870c-112d6d26d1b6\")) {window._Plotly.Plots.resize(document.getElementById(\"8e2bdf27-6e96-42fe-870c-112d6d26d1b6\"));};})</script>"
      ]
     },
     "metadata": {},
     "output_type": "display_data"
    }
   ],
   "source": [
    "iplot({'data': traces, 'layout': layout})"
   ]
  },
  {
   "cell_type": "code",
   "execution_count": 19,
   "metadata": {},
   "outputs": [],
   "source": [
    "pio.orca.config.executable = '/home/ahsvargo/bin/orca'"
   ]
  },
  {
   "cell_type": "code",
   "execution_count": 42,
   "metadata": {},
   "outputs": [],
   "source": [
    "pio.write_image({'data': traces, 'layout': layout}, '10x-NCerrs.png', format='png')"
   ]
  },
  {
   "cell_type": "code",
   "execution_count": 25,
   "metadata": {},
   "outputs": [
    {
     "data": {
      "text/plain": [
       "orca configuration\n",
       "------------------\n",
       "    executable: /home/ahsvargo/bin/orca\n",
       "    port: None\n",
       "    timeout: None\n",
       "    default_width: None\n",
       "    default_height: None\n",
       "    default_scale: 1\n",
       "    default_format: png\n",
       "    mathjax: https://cdnjs.cloudflare.com/ajax/libs/mathjax/2.7.5/MathJax.js\n",
       "    topojson: None\n",
       "    mapbox_access_token: None\n",
       "\n",
       "constants\n",
       "---------\n",
       "    plotlyjs: /home/ahsvargo/miniconda3/envs/r35py37/lib/python3.7/site-packages/plotly/package_data/plotly.min.js \n",
       "    config_file: /home/ahsvargo/.plotly/.orca\n"
      ]
     },
     "execution_count": 25,
     "metadata": {},
     "output_type": "execute_result"
    }
   ],
   "source": [
    "pio.orca.config"
   ]
  },
  {
   "cell_type": "code",
   "execution_count": 26,
   "metadata": {},
   "outputs": [
    {
     "data": {
      "text/plain": [
       "orca status\n",
       "-----------\n",
       "    state: running\n",
       "    executable: /home/ahsvargo/bin/orca\n",
       "    version: 1.2.1\n",
       "    port: 41183\n",
       "    pid: 6731\n",
       "    command: ['/home/ahsvargo/bin/orca', 'serve', '-p', '41183', '--plotly', '/home/ahsvargo/miniconda3/envs/r35py37/lib/python3.7/site-packages/plotly/package_data/plotly.min.js', '--graph-only', '--mathjax', 'https://cdnjs.cloudflare.com/ajax/libs/mathjax/2.7.5/MathJax.js']\n",
       "    "
      ]
     },
     "execution_count": 26,
     "metadata": {},
     "output_type": "execute_result"
    }
   ],
   "source": [
    "pio.orca.status"
   ]
  },
  {
   "cell_type": "markdown",
   "metadata": {},
   "source": [
    "## Plot the random forest clustering data along with the asymptotic NC 1bcs data"
   ]
  },
  {
   "cell_type": "code",
   "execution_count": 73,
   "metadata": {},
   "outputs": [],
   "source": [
    "cs_fullx = cs_xvals.copy()\n",
    "for stuff in bigXvals:\n",
    "    cs_fullx.append(np.array(stuff).mean())\n",
    "\n",
    "cs_fully = cs_errs.copy()\n",
    "for yhat in bigYhats:\n",
    "    cs_fully.append( np.where(yhat == yVec)[0].shape[0]/yVec.shape[0] )\n"
   ]
  },
  {
   "cell_type": "code",
   "execution_count": 74,
   "metadata": {},
   "outputs": [],
   "source": [
    "rf_yhats= []\n",
    "rf_xlists = []\n",
    "for sval in [1.0, 1.1, 1.2, 1.3, 1.4, 1.5, 1.6, 1.7, 1.8, 1.9, 2.7]:\n",
    "    rf_yhats.append( np.load(\"RF-1bcs-{}.npz\".format(sval))['yhat'] )\n",
    "    rf_xlists.append( [len(a) for a in findMarkers(svals, sval**2)] )\n",
    "    \n",
    "rf_xvals = list( map( lambda a: np.array(a).mean(), rf_xlists ) )\n",
    "rf_errs = list(map( lambda yhat: np.where(yhat == yVec)[0].shape[0]/yVec.shape[0], rf_yhats)) "
   ]
  },
  {
   "cell_type": "code",
   "execution_count": 75,
   "metadata": {},
   "outputs": [
    {
     "data": {
      "text/plain": [
       "[37.0, 79.6, 92.2, 116.6, 155.2, 210.8, 274.6, 351.4, 445.0, 548.0, 1580.2]"
      ]
     },
     "execution_count": 75,
     "metadata": {},
     "output_type": "execute_result"
    }
   ],
   "source": [
    "rf_xvals"
   ]
  },
  {
   "cell_type": "code",
   "execution_count": null,
   "metadata": {},
   "outputs": [],
   "source": []
  },
  {
   "cell_type": "code",
   "execution_count": 103,
   "metadata": {},
   "outputs": [],
   "source": [
    "traces = [\n",
    "    go.Scatter(x = cs_fullx[:-3], y=list(100-100*np.array(cs_fully[:-3])), name='NCC', mode='lines+markers'),\n",
    "    go.Scatter(x = rf_xvals, y=list(100-100*np.array(rf_errs)), name='RFC', mode='lines+markers')\n",
    "]\n",
    "\n",
    "layout = go.Layout(\n",
    "    xaxis=dict(\n",
    "        title='Number of markers',\n",
    "        titlefont=dict(\n",
    "            family='Computer Modern',\n",
    "            size=18,\n",
    "        ),\n",
    "        tickfont=dict(\n",
    "            family='Computer Modern',\n",
    "            size=14,\n",
    "        )\n",
    "    ),\n",
    "    yaxis=dict(\n",
    "        title='Percent error',\n",
    "        titlefont=dict(\n",
    "            family='Computer Modern',\n",
    "            size=18,\n",
    "        ),\n",
    "        tickfont=dict(\n",
    "            family='Computer Modern',\n",
    "            size=14,\n",
    "        )\n",
    "    ),\n",
    "    legend=dict(\n",
    "        #x=0,\n",
    "        #y=1,\n",
    "        #traceorder='normal',\n",
    "        font=dict(\n",
    "            family='Computer Modern',\n",
    "            size=14,\n",
    "            #color='#000'\n",
    "        ),\n",
    "        #bgcolor='#E2E2E2',\n",
    "        #bordercolor='#FFFFFF',\n",
    "        #borderwidth=2\n",
    "    )\n",
    ")\n",
    "\n",
    "fig = go.Figure(data=traces, layout=layout1)"
   ]
  },
  {
   "cell_type": "code",
   "execution_count": 104,
   "metadata": {},
   "outputs": [
    {
     "data": {
      "application/vnd.plotly.v1+json": {
       "config": {
        "linkText": "Export to plot.ly",
        "plotlyServerURL": "https://plot.ly",
        "showLink": false
       },
       "data": [
        {
         "mode": "lines+markers",
         "name": "NCC",
         "type": "scatter",
         "uid": "30aaf7d5-81c2-4398-a530-f1eec65809c1",
         "x": [
          37,
          77.6,
          79.6,
          84,
          92.2,
          104.2,
          116.6,
          134.8,
          155.2,
          181.8,
          210.8,
          241.8,
          274.6,
          311.2,
          351.4,
          396.8,
          445,
          492.2,
          548,
          606.6,
          669.2,
          783.8,
          910.8,
          1035.2,
          1166.4,
          1299.6,
          1439,
          1580.2
         ],
         "y": [
          45.07034920800198,
          34.82846614456328,
          34.58760135882652,
          33.67727640574002,
          32.841216818885144,
          31.72800194774321,
          31.265336372343583,
          30.614787076601274,
          30.022961013745217,
          28.820780827591804,
          27.79798595389269,
          27.301556433639306,
          27.022410531288315,
          26.59733701240384,
          26.30249585224101,
          26.00711875644558,
          25.885308243379086,
          25.74703685016847,
          25.429380144503554,
          25.25887605110377,
          25.06900171269716,
          24.67799838759936,
          24.56193004202501,
          24.461939765428625,
          24.433841425833776,
          24.412327438296572,
          24.275893538683448,
          24.160973626607515
         ]
        },
        {
         "mode": "lines+markers",
         "name": "RFC",
         "type": "scatter",
         "uid": "21eb947f-b9e7-4a76-be18-1709077b179d",
         "x": [
          37,
          79.6,
          92.2,
          116.6,
          155.2,
          210.8,
          274.6,
          351.4,
          445,
          548,
          1580.2
         ],
         "y": [
          35.17521649885501,
          24.30276688254665,
          22.485102903469567,
          21.43933935980192,
          20.2855465050489,
          18.76379555739986,
          18.279539432229782,
          17.943278103890364,
          17.65662910268297,
          17.5061077521558,
          16.9725455487866
         ]
        }
       ],
       "layout": {
        "colorway": [
         "#3366cc",
         "#d62728",
         "#ff9900",
         "#2ca02c"
        ],
        "font": {
         "family": "CMU Serif"
        },
        "legend": {
         "font": {
          "size": 24
         }
        },
        "margin": {
         "b": 90,
         "l": 100,
         "r": 20,
         "t": 10
        },
        "xaxis": {
         "mirror": "ticks",
         "range": [
          0,
          1620
         ],
         "showgrid": false,
         "showline": true,
         "tickfont": {
          "color": "#000",
          "size": 24
         },
         "ticks": "inside",
         "title": {
          "font": {
           "color": "#000",
           "size": 30
          },
          "text": "Number of markers"
         }
        },
        "yaxis": {
         "mirror": "ticks",
         "showgrid": false,
         "showline": true,
         "tickfont": {
          "color": "#000",
          "size": 24
         },
         "ticks": "inside",
         "title": {
          "font": {
           "color": "#000",
           "size": 30
          },
          "text": "Classification error rate"
         }
        }
       }
      },
      "text/html": [
       "<div id=\"da766f30-fd39-49e1-8f11-fa450991de59\" style=\"height: 525px; width: 100%;\" class=\"plotly-graph-div\"></div><script type=\"text/javascript\">require([\"plotly\"], function(Plotly) { window.PLOTLYENV=window.PLOTLYENV || {};window.PLOTLYENV.BASE_URL=\"https://plot.ly\";\n",
       "if (document.getElementById(\"da766f30-fd39-49e1-8f11-fa450991de59\")) {\n",
       "    Plotly.newPlot(\"da766f30-fd39-49e1-8f11-fa450991de59\", [{\"mode\": \"lines+markers\", \"name\": \"NCC\", \"x\": [37.0, 77.6, 79.6, 84.0, 92.2, 104.2, 116.6, 134.8, 155.2, 181.8, 210.8, 241.8, 274.6, 311.2, 351.4, 396.8, 445.0, 492.2, 548.0, 606.6, 669.2, 783.8, 910.8, 1035.2, 1166.4, 1299.6, 1439.0, 1580.2], \"y\": [45.07034920800198, 34.82846614456328, 34.58760135882652, 33.67727640574002, 32.841216818885144, 31.72800194774321, 31.265336372343583, 30.614787076601274, 30.022961013745217, 28.820780827591804, 27.79798595389269, 27.301556433639306, 27.022410531288315, 26.59733701240384, 26.30249585224101, 26.00711875644558, 25.885308243379086, 25.74703685016847, 25.429380144503554, 25.25887605110377, 25.06900171269716, 24.67799838759936, 24.56193004202501, 24.461939765428625, 24.433841425833776, 24.412327438296572, 24.275893538683448, 24.160973626607515], \"type\": \"scatter\", \"uid\": \"30aaf7d5-81c2-4398-a530-f1eec65809c1\"}, {\"mode\": \"lines+markers\", \"name\": \"RFC\", \"x\": [37.0, 79.6, 92.2, 116.6, 155.2, 210.8, 274.6, 351.4, 445.0, 548.0, 1580.2], \"y\": [35.17521649885501, 24.30276688254665, 22.485102903469567, 21.43933935980192, 20.2855465050489, 18.76379555739986, 18.279539432229782, 17.943278103890364, 17.65662910268297, 17.5061077521558, 16.9725455487866], \"type\": \"scatter\", \"uid\": \"21eb947f-b9e7-4a76-be18-1709077b179d\"}], {\"colorway\": [\"#3366cc\", \"#d62728\", \"#ff9900\", \"#2ca02c\"], \"font\": {\"family\": \"CMU Serif\"}, \"legend\": {\"font\": {\"size\": 24}}, \"margin\": {\"b\": 90, \"l\": 100, \"r\": 20, \"t\": 10}, \"xaxis\": {\"mirror\": \"ticks\", \"range\": [0, 1620], \"showgrid\": false, \"showline\": true, \"tickfont\": {\"color\": \"#000\", \"size\": 24}, \"ticks\": \"inside\", \"title\": {\"font\": {\"color\": \"#000\", \"size\": 30}, \"text\": \"Number of markers\"}}, \"yaxis\": {\"mirror\": \"ticks\", \"showgrid\": false, \"showline\": true, \"tickfont\": {\"color\": \"#000\", \"size\": 24}, \"ticks\": \"inside\", \"title\": {\"font\": {\"color\": \"#000\", \"size\": 30}, \"text\": \"Classification error rate\"}}}, {\"showLink\": false, \"linkText\": \"Export to plot.ly\", \"plotlyServerURL\": \"https://plot.ly\"}); \n",
       "}\n",
       "});</script><script type=\"text/javascript\">window.addEventListener(\"resize\", function(){if (document.getElementById(\"da766f30-fd39-49e1-8f11-fa450991de59\")) {window._Plotly.Plots.resize(document.getElementById(\"da766f30-fd39-49e1-8f11-fa450991de59\"));};})</script>"
      ],
      "text/vnd.plotly.v1+html": [
       "<div id=\"da766f30-fd39-49e1-8f11-fa450991de59\" style=\"height: 525px; width: 100%;\" class=\"plotly-graph-div\"></div><script type=\"text/javascript\">require([\"plotly\"], function(Plotly) { window.PLOTLYENV=window.PLOTLYENV || {};window.PLOTLYENV.BASE_URL=\"https://plot.ly\";\n",
       "if (document.getElementById(\"da766f30-fd39-49e1-8f11-fa450991de59\")) {\n",
       "    Plotly.newPlot(\"da766f30-fd39-49e1-8f11-fa450991de59\", [{\"mode\": \"lines+markers\", \"name\": \"NCC\", \"x\": [37.0, 77.6, 79.6, 84.0, 92.2, 104.2, 116.6, 134.8, 155.2, 181.8, 210.8, 241.8, 274.6, 311.2, 351.4, 396.8, 445.0, 492.2, 548.0, 606.6, 669.2, 783.8, 910.8, 1035.2, 1166.4, 1299.6, 1439.0, 1580.2], \"y\": [45.07034920800198, 34.82846614456328, 34.58760135882652, 33.67727640574002, 32.841216818885144, 31.72800194774321, 31.265336372343583, 30.614787076601274, 30.022961013745217, 28.820780827591804, 27.79798595389269, 27.301556433639306, 27.022410531288315, 26.59733701240384, 26.30249585224101, 26.00711875644558, 25.885308243379086, 25.74703685016847, 25.429380144503554, 25.25887605110377, 25.06900171269716, 24.67799838759936, 24.56193004202501, 24.461939765428625, 24.433841425833776, 24.412327438296572, 24.275893538683448, 24.160973626607515], \"type\": \"scatter\", \"uid\": \"30aaf7d5-81c2-4398-a530-f1eec65809c1\"}, {\"mode\": \"lines+markers\", \"name\": \"RFC\", \"x\": [37.0, 79.6, 92.2, 116.6, 155.2, 210.8, 274.6, 351.4, 445.0, 548.0, 1580.2], \"y\": [35.17521649885501, 24.30276688254665, 22.485102903469567, 21.43933935980192, 20.2855465050489, 18.76379555739986, 18.279539432229782, 17.943278103890364, 17.65662910268297, 17.5061077521558, 16.9725455487866], \"type\": \"scatter\", \"uid\": \"21eb947f-b9e7-4a76-be18-1709077b179d\"}], {\"colorway\": [\"#3366cc\", \"#d62728\", \"#ff9900\", \"#2ca02c\"], \"font\": {\"family\": \"CMU Serif\"}, \"legend\": {\"font\": {\"size\": 24}}, \"margin\": {\"b\": 90, \"l\": 100, \"r\": 20, \"t\": 10}, \"xaxis\": {\"mirror\": \"ticks\", \"range\": [0, 1620], \"showgrid\": false, \"showline\": true, \"tickfont\": {\"color\": \"#000\", \"size\": 24}, \"ticks\": \"inside\", \"title\": {\"font\": {\"color\": \"#000\", \"size\": 30}, \"text\": \"Number of markers\"}}, \"yaxis\": {\"mirror\": \"ticks\", \"showgrid\": false, \"showline\": true, \"tickfont\": {\"color\": \"#000\", \"size\": 24}, \"ticks\": \"inside\", \"title\": {\"font\": {\"color\": \"#000\", \"size\": 30}, \"text\": \"Classification error rate\"}}}, {\"showLink\": false, \"linkText\": \"Export to plot.ly\", \"plotlyServerURL\": \"https://plot.ly\"}); \n",
       "}\n",
       "});</script><script type=\"text/javascript\">window.addEventListener(\"resize\", function(){if (document.getElementById(\"da766f30-fd39-49e1-8f11-fa450991de59\")) {window._Plotly.Plots.resize(document.getElementById(\"da766f30-fd39-49e1-8f11-fa450991de59\"));};})</script>"
      ]
     },
     "metadata": {},
     "output_type": "display_data"
    }
   ],
   "source": [
    "iplot(fig)"
   ]
  },
  {
   "cell_type": "code",
   "execution_count": 105,
   "metadata": {},
   "outputs": [],
   "source": [
    "pio.write_json(fig, \"/home/ahsvargo/publicData/pics2/10x/10x-nc-vs-rf.json\")"
   ]
  },
  {
   "cell_type": "code",
   "execution_count": 23,
   "metadata": {},
   "outputs": [],
   "source": [
    "?pio.write_json"
   ]
  },
  {
   "cell_type": "code",
   "execution_count": 22,
   "metadata": {},
   "outputs": [],
   "source": [
    "pio.write_json(fig, \"10x-nc-vs-rf.json\")"
   ]
  },
  {
   "cell_type": "code",
   "execution_count": null,
   "metadata": {},
   "outputs": [],
   "source": []
  }
 ],
 "metadata": {
  "kernelspec": {
   "display_name": "Python r35py37",
   "language": "python",
   "name": "r35py37"
  },
  "language_info": {
   "codemirror_mode": {
    "name": "ipython",
    "version": 3
   },
   "file_extension": ".py",
   "mimetype": "text/x-python",
   "name": "python",
   "nbconvert_exporter": "python",
   "pygments_lexer": "ipython3",
   "version": "3.7.1"
  }
 },
 "nbformat": 4,
 "nbformat_minor": 2
}
