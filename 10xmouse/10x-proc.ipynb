{
 "cells": [
  {
   "cell_type": "code",
   "execution_count": 3,
   "metadata": {},
   "outputs": [
    {
     "name": "stdout",
     "output_type": "stream",
     "text": [
      "The autoreload extension is already loaded. To reload it, use:\n",
      "  %reload_ext autoreload\n"
     ]
    }
   ],
   "source": [
    "%load_ext autoreload\n",
    "%autoreload 2"
   ]
  },
  {
   "cell_type": "code",
   "execution_count": 4,
   "metadata": {},
   "outputs": [
    {
     "name": "stderr",
     "output_type": "stream",
     "text": [
      "/home/ahsvargo/miniconda3/envs/r35py37/lib/python3.7/site-packages/matplotlib/__init__.py:886: MatplotlibDeprecationWarning: \n",
      "examples.directory is deprecated; in the future, examples will be found relative to the 'datapath' directory.\n",
      "  \"found relative to the 'datapath' directory.\".format(key))\n"
     ]
    }
   ],
   "source": [
    "import numpy as np\n",
    "import pandas as pd\n",
    "import scanpy.api as sc"
   ]
  },
  {
   "cell_type": "code",
   "execution_count": 5,
   "metadata": {},
   "outputs": [],
   "source": [
    "import anndata"
   ]
  },
  {
   "cell_type": "code",
   "execution_count": 6,
   "metadata": {},
   "outputs": [],
   "source": [
    "import sys"
   ]
  },
  {
   "cell_type": "code",
   "execution_count": 7,
   "metadata": {},
   "outputs": [],
   "source": [
    "from scipy.stats import rankdata\n",
    "import scipy.sparse as spsp"
   ]
  },
  {
   "cell_type": "markdown",
   "metadata": {},
   "source": [
    "## Initial data loading and exploration"
   ]
  },
  {
   "cell_type": "markdown",
   "metadata": {},
   "source": [
    "Load the data from the `h5` file.  As written in the tutorial notebooks, expect this to take 32 GB of memory (though it might take around 70 GB to completely load everything)"
   ]
  },
  {
   "cell_type": "code",
   "execution_count": 5,
   "metadata": {},
   "outputs": [
    {
     "name": "stderr",
     "output_type": "stream",
     "text": [
      "Variable names are not unique. To make them unique, call `.var_names_make_unique`.\n"
     ]
    },
    {
     "name": "stdout",
     "output_type": "stream",
     "text": [
      "CPU times: user 1min 49s, sys: 14.4 s, total: 2min 4s\n",
      "Wall time: 2min 9s\n"
     ]
    }
   ],
   "source": [
    "%%time\n",
    "adata = sc.read_10x_h5(\"1M_neurons_filtered_gene_bc_matrices_h5.h5\")"
   ]
  },
  {
   "cell_type": "code",
   "execution_count": 6,
   "metadata": {},
   "outputs": [],
   "source": [
    "adata.var_names_make_unique()"
   ]
  },
  {
   "cell_type": "code",
   "execution_count": 7,
   "metadata": {},
   "outputs": [
    {
     "name": "stdout",
     "output_type": "stream",
     "text": [
      "Memory usage: current 31.28 GB, difference +31.28 GB\n"
     ]
    }
   ],
   "source": [
    "sc.logging.print_memory_usage()"
   ]
  },
  {
   "cell_type": "markdown",
   "metadata": {},
   "source": [
    "This was already run once."
   ]
  },
  {
   "cell_type": "code",
   "execution_count": 16,
   "metadata": {},
   "outputs": [],
   "source": [
    "#adata.write(filename=\"1M-full.h5ad\", force_dense=False)"
   ]
  },
  {
   "cell_type": "code",
   "execution_count": 15,
   "metadata": {},
   "outputs": [
    {
     "data": {
      "text/plain": [
       "anndata.base.AnnData"
      ]
     },
     "execution_count": 15,
     "metadata": {},
     "output_type": "execute_result"
    }
   ],
   "source": [
    "type(adata)"
   ]
  },
  {
   "cell_type": "code",
   "execution_count": 25,
   "metadata": {},
   "outputs": [
    {
     "data": {
      "text/plain": [
       "scipy.sparse.csr.csr_matrix"
      ]
     },
     "execution_count": 25,
     "metadata": {},
     "output_type": "execute_result"
    }
   ],
   "source": [
    "type(adata.X)"
   ]
  },
  {
   "cell_type": "code",
   "execution_count": 26,
   "metadata": {},
   "outputs": [
    {
     "data": {
      "text/plain": [
       "dtype('float32')"
      ]
     },
     "execution_count": 26,
     "metadata": {},
     "output_type": "execute_result"
    }
   ],
   "source": [
    "adata.X.dtype"
   ]
  },
  {
   "cell_type": "markdown",
   "metadata": {},
   "source": [
    "Sparsity:"
   ]
  },
  {
   "cell_type": "code",
   "execution_count": 39,
   "metadata": {},
   "outputs": [
    {
     "data": {
      "text/plain": [
       "0.0717775259310603"
      ]
     },
     "execution_count": 39,
     "metadata": {},
     "output_type": "execute_result"
    }
   ],
   "source": [
    "2624828308/(1306127 * 27998)"
   ]
  },
  {
   "cell_type": "code",
   "execution_count": 29,
   "metadata": {},
   "outputs": [
    {
     "data": {
      "text/plain": [
       "dtype('int32')"
      ]
     },
     "execution_count": 29,
     "metadata": {},
     "output_type": "execute_result"
    }
   ],
   "source": [
    "adata.X[0:10,0:10].astype('int32').dtype"
   ]
  },
  {
   "cell_type": "markdown",
   "metadata": {},
   "source": [
    "# Why does this take so much memory?"
   ]
  },
  {
   "cell_type": "markdown",
   "metadata": {},
   "source": [
    "Below is the full size of the data.X object.  31508388720 bytes is 31.5 GB."
   ]
  },
  {
   "cell_type": "code",
   "execution_count": 35,
   "metadata": {},
   "outputs": [
    {
     "data": {
      "text/plain": [
       "31508388720"
      ]
     },
     "execution_count": 35,
     "metadata": {},
     "output_type": "execute_result"
    }
   ],
   "source": [
    "adata.X.data.nbytes + adata.X.indptr.nbytes + adata.X.indices.nbytes"
   ]
  },
  {
   "cell_type": "markdown",
   "metadata": {},
   "source": [
    "Both the `indptr` and `indices` objects have type `int64` and I don't want to mess with those.  Thus, I'm not getting back any of that memory."
   ]
  },
  {
   "cell_type": "code",
   "execution_count": 34,
   "metadata": {},
   "outputs": [
    {
     "data": {
      "text/plain": [
       "dtype('int64')"
      ]
     },
     "execution_count": 34,
     "metadata": {},
     "output_type": "execute_result"
    }
   ],
   "source": [
    "adata.X.indices.dtype"
   ]
  },
  {
   "cell_type": "markdown",
   "metadata": {},
   "source": [
    "I could change the data to be of type `int16`.  This would only save me about 5 GB, however, since the `dtype` of `data.X` is `float32` by default."
   ]
  },
  {
   "cell_type": "code",
   "execution_count": 24,
   "metadata": {},
   "outputs": [
    {
     "data": {
      "text/plain": [
       "10528.0"
      ]
     },
     "execution_count": 24,
     "metadata": {},
     "output_type": "execute_result"
    }
   ],
   "source": [
    "adata.X.max()"
   ]
  },
  {
   "cell_type": "code",
   "execution_count": 36,
   "metadata": {},
   "outputs": [
    {
     "data": {
      "text/plain": [
       "10.499313232"
      ]
     },
     "execution_count": 36,
     "metadata": {},
     "output_type": "execute_result"
    }
   ],
   "source": [
    "adata.X.data.nbytes/10**9"
   ]
  },
  {
   "cell_type": "code",
   "execution_count": 38,
   "metadata": {},
   "outputs": [
    {
     "data": {
      "text/plain": [
       "dtype('float32')"
      ]
     },
     "execution_count": 38,
     "metadata": {},
     "output_type": "execute_result"
    }
   ],
   "source": [
    "adata.X.dtype"
   ]
  },
  {
   "cell_type": "markdown",
   "metadata": {},
   "source": [
    "This probably loads things as `float64`.  In any case, the following rips over 56GB of memory (so don't run it!)."
   ]
  },
  {
   "cell_type": "code",
   "execution_count": 5,
   "metadata": {},
   "outputs": [
    {
     "name": "stdout",
     "output_type": "stream",
     "text": [
      "CPU times: user 2min 47s, sys: 1min 22s, total: 4min 9s\n",
      "Wall time: 4min 9s\n"
     ]
    }
   ],
   "source": [
    "%%time\n",
    "adata= anndata.read_h5ad(\"1M-full.h5ad\")"
   ]
  },
  {
   "cell_type": "markdown",
   "metadata": {},
   "source": [
    "On `fluxm`, this ran.  It peaks at about 75GB of memory, but then the final object is actually slightly smaller (30GB).  Strange."
   ]
  },
  {
   "cell_type": "code",
   "execution_count": 7,
   "metadata": {},
   "outputs": [
    {
     "data": {
      "text/plain": [
       "31508388720"
      ]
     },
     "execution_count": 7,
     "metadata": {},
     "output_type": "execute_result"
    }
   ],
   "source": [
    "adata.X.data.nbytes + adata.X.indptr.nbytes + adata.X.indices.nbytes"
   ]
  },
  {
   "cell_type": "markdown",
   "metadata": {},
   "source": [
    "same number of bytes there so whatever."
   ]
  },
  {
   "cell_type": "markdown",
   "metadata": {},
   "source": [
    "## Do a little bit of preprocessing to maybe help\n",
    "\n",
    "Just eliminate the genes that are never observed.\n",
    "\n",
    "Strangely, this hits 90GB peak memory usage and levels off at 60GB afterwards."
   ]
  },
  {
   "cell_type": "code",
   "execution_count": 8,
   "metadata": {},
   "outputs": [
    {
     "name": "stdout",
     "output_type": "stream",
     "text": [
      "CPU times: user 1min 48s, sys: 35.1 s, total: 2min 23s\n",
      "Wall time: 2min 23s\n"
     ]
    }
   ],
   "source": [
    "%%time\n",
    "sc.pp.filter_genes(adata, min_counts=1)  # only consider genes with more than 1 count"
   ]
  },
  {
   "cell_type": "code",
   "execution_count": 9,
   "metadata": {},
   "outputs": [
    {
     "name": "stdout",
     "output_type": "stream",
     "text": [
      "Memory usage: current 60.62 GB, difference +29.33 GB\n"
     ]
    }
   ],
   "source": [
    "sc.logging.print_memory_usage()"
   ]
  },
  {
   "cell_type": "markdown",
   "metadata": {},
   "source": [
    "We only filter off around 3000 genes.  This is in all 1.3 million cells though so... that's not bad at all.  Of course, it shouldn't reduce the storage costs since we were only elminating 0s."
   ]
  },
  {
   "cell_type": "code",
   "execution_count": 10,
   "metadata": {},
   "outputs": [
    {
     "data": {
      "text/plain": [
       "(1306127, 24015)"
      ]
     },
     "execution_count": 10,
     "metadata": {},
     "output_type": "execute_result"
    }
   ],
   "source": [
    "adata.X.shape"
   ]
  },
  {
   "cell_type": "code",
   "execution_count": 12,
   "metadata": {},
   "outputs": [],
   "source": [
    "adata.X.eliminate_zeros()"
   ]
  },
  {
   "cell_type": "code",
   "execution_count": 13,
   "metadata": {},
   "outputs": [
    {
     "data": {
      "text/plain": [
       "2624828308"
      ]
     },
     "execution_count": 13,
     "metadata": {},
     "output_type": "execute_result"
    }
   ],
   "source": [
    "adata.X.nnz"
   ]
  },
  {
   "cell_type": "markdown",
   "metadata": {},
   "source": [
    "## Get the clustering\n",
    "\n",
    "Here I will use the graph based clustering that is provided by 10x as well as the graph based clustering generated by the scanpy team (https://github.com/theislab/scanpy_usage/tree/master/170522_visualizing_one_million_cells).  It is easy to obtain these clusterings."
   ]
  },
  {
   "cell_type": "code",
   "execution_count": 12,
   "metadata": {},
   "outputs": [],
   "source": [
    "louvain = pd.read_csv(\"louvain.csv\", dtype='category')\n",
    "graphclust = pd.read_csv(\"analysis/clustering/graphclust/clusters.csv\", dtype='category')"
   ]
  },
  {
   "cell_type": "code",
   "execution_count": 13,
   "metadata": {},
   "outputs": [],
   "source": [
    "adata.obs['louvain'] = louvain['x']"
   ]
  },
  {
   "cell_type": "code",
   "execution_count": 14,
   "metadata": {},
   "outputs": [
    {
     "data": {
      "text/plain": [
       "index\n",
       "AAACCTGAGATAGGAG-1      14\n",
       "AAACCTGAGCGGCTTC-1       1\n",
       "AAACCTGAGGAATCGC-1       7\n",
       "AAACCTGAGGACACCA-1       4\n",
       "AAACCTGAGGCCCGTT-1       0\n",
       "AAACCTGAGTCCGGTC-1      14\n",
       "AAACCTGCAACACGCC-1      11\n",
       "AAACCTGCACAGCGTC-1       5\n",
       "AAACCTGCAGCCACCA-1       0\n",
       "AAACCTGCAGGATTGG-1      11\n",
       "AAACCTGCAGGCGATA-1       0\n",
       "AAACCTGCATATGAGA-1      23\n",
       "AAACCTGGTACAGCAG-1       1\n",
       "AAACCTGGTATCAGTC-1      17\n",
       "AAACCTGGTCTCTTTA-1      23\n",
       "AAACCTGGTGGTCTCG-1      15\n",
       "AAACCTGGTTGGAGGT-1      10\n",
       "AAACCTGGTTTGTTTC-1      21\n",
       "AAACCTGTCAATCACG-1      20\n",
       "AAACCTGTCACGCGGT-1       1\n",
       "AAACCTGTCCGCTGTT-1       0\n",
       "AAACGGGAGAATTCCC-1       6\n",
       "AAACGGGAGACCACGA-1       0\n",
       "AAACGGGAGAGTCGGT-1       0\n",
       "AAACGGGAGCACGCCT-1       1\n",
       "AAACGGGAGTGTTGAA-1       0\n",
       "AAACGGGAGTTTGCGT-1       1\n",
       "AAACGGGCACAGGCCT-1       3\n",
       "AAACGGGCACGGCCAT-1      14\n",
       "AAACGGGCACGGTAGA-1      21\n",
       "                        ..\n",
       "TTTGGTTCATCACGTA-133    13\n",
       "TTTGGTTCATCGGTTA-133    15\n",
       "TTTGGTTGTCCATCCT-133     2\n",
       "TTTGGTTGTCTAGTCA-133    19\n",
       "TTTGGTTGTGCACTTA-133     8\n",
       "TTTGGTTGTTCCCGAG-133     1\n",
       "TTTGGTTTCACGACTA-133     1\n",
       "TTTGGTTTCCACGTTC-133    18\n",
       "TTTGGTTTCCTGCCAT-133    24\n",
       "TTTGGTTTCTTTAGTC-133     4\n",
       "TTTGTCAAGACGACGT-133     3\n",
       "TTTGTCAAGCACACAG-133     7\n",
       "TTTGTCAAGCCGGTAA-133     1\n",
       "TTTGTCAAGCGATGAC-133     1\n",
       "TTTGTCAAGGCTACGA-133     3\n",
       "TTTGTCAAGTACGCGA-133     9\n",
       "TTTGTCAAGTGAAGAG-133    13\n",
       "TTTGTCACAAGACGTG-133     1\n",
       "TTTGTCACAGCCAGAA-133     2\n",
       "TTTGTCACAGTATGCT-133    34\n",
       "TTTGTCACATATGGTC-133    11\n",
       "TTTGTCACATGCATGT-133    16\n",
       "TTTGTCACATGGTCAT-133     3\n",
       "TTTGTCAGTAAATGAC-133     5\n",
       "TTTGTCAGTACTCAAC-133     4\n",
       "TTTGTCAGTCCGACGT-133    11\n",
       "TTTGTCAGTGAAAGAG-133     9\n",
       "TTTGTCAGTGCGATAG-133     5\n",
       "TTTGTCAGTTAAAGTG-133    16\n",
       "TTTGTCATCTGAAAGA-133    14\n",
       "Name: louvain, Length: 1306127, dtype: category\n",
       "Categories (39, object): [0, 1, 10, 11, ..., 6, 7, 8, 9]"
      ]
     },
     "execution_count": 14,
     "metadata": {},
     "output_type": "execute_result"
    }
   ],
   "source": [
    "adata.obs['louvain']"
   ]
  },
  {
   "cell_type": "code",
   "execution_count": 30,
   "metadata": {},
   "outputs": [],
   "source": [
    "adata.obs['graphclust'] = graphclust.astype('category')"
   ]
  },
  {
   "cell_type": "markdown",
   "metadata": {},
   "source": [
    "Did this magically work?  It appears that it did..."
   ]
  },
  {
   "cell_type": "code",
   "execution_count": 12,
   "metadata": {},
   "outputs": [
    {
     "name": "stdout",
     "output_type": "stream",
     "text": [
      "0\n"
     ]
    }
   ],
   "source": [
    "wrong = 0\n",
    "for name in louvain.index.values:\n",
    "    if adata.obs.loc[name]['louvain'] != louvain.loc[name]['x']:\n",
    "        wrong += 1\n",
    "        \n",
    "print(wrong)"
   ]
  },
  {
   "cell_type": "code",
   "execution_count": 21,
   "metadata": {},
   "outputs": [
    {
     "name": "stdout",
     "output_type": "stream",
     "text": [
      "0\n",
      "CPU times: user 5min 7s, sys: 6.38 s, total: 5min 13s\n",
      "Wall time: 5min 13s\n"
     ]
    }
   ],
   "source": [
    "%%time\n",
    "wrong = 0\n",
    "for name in louvain.index.values:\n",
    "    if adata.obs.loc[name]['graphclust'] != graphclust.loc[name]['Cluster']:\n",
    "        wrong += 1\n",
    "        \n",
    "print(wrong)"
   ]
  },
  {
   "cell_type": "code",
   "execution_count": 13,
   "metadata": {},
   "outputs": [
    {
     "data": {
      "text/plain": [
       "10528.0"
      ]
     },
     "execution_count": 13,
     "metadata": {},
     "output_type": "execute_result"
    }
   ],
   "source": [
    "data.X.max()"
   ]
  },
  {
   "cell_type": "markdown",
   "metadata": {},
   "source": [
    "## Save the data \n",
    "\n",
    "Note that I never actually changed things to be `int16` in the `anndata` object.  I'm currently on `fluxm` with 160GB of memory so I'm not worried about it right now."
   ]
  },
  {
   "cell_type": "code",
   "execution_count": 14,
   "metadata": {},
   "outputs": [],
   "source": [
    "test = adata.X.astype('int16')"
   ]
  },
  {
   "cell_type": "code",
   "execution_count": 15,
   "metadata": {},
   "outputs": [],
   "source": [
    "# save the dataset as integers\n",
    "spsp.save_npz(\"1M-nzGenes-int16.npz\", test)"
   ]
  },
  {
   "cell_type": "code",
   "execution_count": 22,
   "metadata": {},
   "outputs": [],
   "source": [
    "adata.write(\"1M-nzGenes-clusts.h5ad\")"
   ]
  },
  {
   "cell_type": "markdown",
   "metadata": {},
   "source": [
    "Normalize the annData object and save it to a new file.  Only do this once and then load this new object.  You will need to change things if you want to change the library scaling factor."
   ]
  },
  {
   "cell_type": "code",
   "execution_count": 28,
   "metadata": {},
   "outputs": [
    {
     "name": "stdout",
     "output_type": "stream",
     "text": [
      "CPU times: user 2min 9s, sys: 1min 28s, total: 3min 38s\n",
      "Wall time: 3min 38s\n"
     ]
    }
   ],
   "source": [
    "%%time\n",
    "sc.pp.normalize_per_cell(adata, counts_per_cell_after=10000, min_counts=0)\n",
    "sc.pp.log1p( adata )"
   ]
  },
  {
   "cell_type": "code",
   "execution_count": 29,
   "metadata": {},
   "outputs": [],
   "source": [
    "adata.write(\"1M-10knorm-clusts.h5ad\")"
   ]
  },
  {
   "cell_type": "code",
   "execution_count": 35,
   "metadata": {},
   "outputs": [
    {
     "data": {
      "text/plain": [
       "AnnData object with n_obs × n_vars = 1306127 × 24015 \n",
       "    obs: 'louvain', 'graphclust', 'n_counts'\n",
       "    var: 'gene_ids', 'n_counts', 'ind'"
      ]
     },
     "execution_count": 35,
     "metadata": {},
     "output_type": "execute_result"
    }
   ],
   "source": [
    "adata"
   ]
  },
  {
   "cell_type": "markdown",
   "metadata": {},
   "source": [
    "## Make and save folds, run 1bcs"
   ]
  },
  {
   "cell_type": "code",
   "execution_count": 8,
   "metadata": {},
   "outputs": [],
   "source": [
    "import sys\n",
    "sys.path.append('/home/ahsvargo/xvalid')"
   ]
  },
  {
   "cell_type": "code",
   "execution_count": 9,
   "metadata": {},
   "outputs": [],
   "source": [
    "from picturedrocks import Rocks\n",
    "from picturedrocks.performance import FoldTester, PerformanceReport, NearestCentroidClassifier"
   ]
  },
  {
   "cell_type": "code",
   "execution_count": 11,
   "metadata": {},
   "outputs": [],
   "source": [
    "adata = sc.read_h5ad(\"1M-nzGenes-clusts.h5ad\")"
   ]
  },
  {
   "cell_type": "markdown",
   "metadata": {},
   "source": [
    "These folds created below"
   ]
  },
  {
   "cell_type": "code",
   "execution_count": 12,
   "metadata": {},
   "outputs": [],
   "source": [
    "folds = np.load(\"10x-5folds.npz\")\n",
    "folds = [folds[\"fold{}\".format(i)] for i in range(5)]"
   ]
  },
  {
   "cell_type": "code",
   "execution_count": 13,
   "metadata": {},
   "outputs": [],
   "source": [
    "yVec = np.array([int(val) for val in adata.obs['louvain']])"
   ]
  },
  {
   "cell_type": "code",
   "execution_count": 15,
   "metadata": {},
   "outputs": [
    {
     "data": {
      "text/plain": [
       "dtype('int64')"
      ]
     },
     "execution_count": 15,
     "metadata": {},
     "output_type": "execute_result"
    }
   ],
   "source": [
    "yVec.dtype"
   ]
  },
  {
   "cell_type": "markdown",
   "metadata": {},
   "source": [
    "Number of clusters"
   ]
  },
  {
   "cell_type": "code",
   "execution_count": 16,
   "metadata": {},
   "outputs": [
    {
     "data": {
      "text/plain": [
       "38"
      ]
     },
     "execution_count": 16,
     "metadata": {},
     "output_type": "execute_result"
    }
   ],
   "source": [
    "yVec.max()"
   ]
  },
  {
   "cell_type": "code",
   "execution_count": 17,
   "metadata": {},
   "outputs": [],
   "source": [
    "data = Rocks(adata.X, yVec)"
   ]
  },
  {
   "cell_type": "code",
   "execution_count": 18,
   "metadata": {},
   "outputs": [],
   "source": [
    "data.X = data.X.tocsc()\n",
    "data.cs_currX = data.X"
   ]
  },
  {
   "cell_type": "markdown",
   "metadata": {},
   "source": [
    "I killed it after 5 hours.  These all take a long time."
   ]
  },
  {
   "cell_type": "code",
   "execution_count": 16,
   "metadata": {
    "collapsed": true
   },
   "outputs": [
    {
     "name": "stdout",
     "output_type": "stream",
     "text": [
      "Converted to csc matrix for generating consts\n"
     ]
    },
    {
     "ename": "KeyboardInterrupt",
     "evalue": "",
     "output_type": "error",
     "traceback": [
      "\u001b[0;31m---------------------------------------------------------------------------\u001b[0m",
      "\u001b[0;31mKeyboardInterrupt\u001b[0m                         Traceback (most recent call last)",
      "\u001b[0;32m<timed eval>\u001b[0m in \u001b[0;36m<module>\u001b[0;34m\u001b[0m\n",
      "\u001b[0;32m~/xvalid/picturedrocks/rocks.py\u001b[0m in \u001b[0;36mCSrankMarkers\u001b[0;34m(self, lamb, writeOut, keepZeros, onlyNonZero)\u001b[0m\n\u001b[1;32m    837\u001b[0m \u001b[0;34m\u001b[0m\u001b[0m\n\u001b[1;32m    838\u001b[0m         \u001b[0;31m# create vectors of coeffs if not yet generated\u001b[0m\u001b[0;34m\u001b[0m\u001b[0;34m\u001b[0m\u001b[0m\n\u001b[0;32m--> 839\u001b[0;31m         \u001b[0mself\u001b[0m\u001b[0;34m.\u001b[0m\u001b[0m_CSrankConsts\u001b[0m\u001b[0;34m(\u001b[0m\u001b[0;34m)\u001b[0m\u001b[0;34m\u001b[0m\u001b[0m\n\u001b[0m\u001b[1;32m    840\u001b[0m \u001b[0;34m\u001b[0m\u001b[0m\n\u001b[1;32m    841\u001b[0m         \u001b[0;31m# find the markers.\u001b[0m\u001b[0;34m\u001b[0m\u001b[0;34m\u001b[0m\u001b[0m\n",
      "\u001b[0;32m~/xvalid/picturedrocks/rocks.py\u001b[0m in \u001b[0;36m_CSrankConsts\u001b[0;34m(self)\u001b[0m\n\u001b[1;32m    891\u001b[0m                 \u001b[0;32mfor\u001b[0m \u001b[0mclust\u001b[0m \u001b[0;32min\u001b[0m \u001b[0mrange\u001b[0m\u001b[0;34m(\u001b[0m\u001b[0;36m1\u001b[0m\u001b[0;34m,\u001b[0m \u001b[0mself\u001b[0m\u001b[0;34m.\u001b[0m\u001b[0mK\u001b[0m\u001b[0;34m+\u001b[0m\u001b[0;36m1\u001b[0m\u001b[0;34m)\u001b[0m\u001b[0;34m:\u001b[0m\u001b[0;34m\u001b[0m\u001b[0m\n\u001b[1;32m    892\u001b[0m                     \u001b[0mself\u001b[0m\u001b[0;34m.\u001b[0m\u001b[0m_debug\u001b[0m\u001b[0;34m(\u001b[0m\u001b[0;36m1\u001b[0m\u001b[0;34m,\u001b[0m \u001b[0;34m\"Generating coeffs for cluster {}\"\u001b[0m\u001b[0;34m.\u001b[0m\u001b[0mformat\u001b[0m\u001b[0;34m(\u001b[0m\u001b[0mclust\u001b[0m\u001b[0;34m)\u001b[0m\u001b[0;34m)\u001b[0m\u001b[0;34m\u001b[0m\u001b[0m\n\u001b[0;32m--> 893\u001b[0;31m                     \u001b[0mself\u001b[0m\u001b[0;34m.\u001b[0m\u001b[0mcs_OvA\u001b[0m\u001b[0;34m[\u001b[0m\u001b[0mclust\u001b[0m\u001b[0;34m-\u001b[0m\u001b[0;36m1\u001b[0m\u001b[0;34m]\u001b[0m \u001b[0;34m=\u001b[0m \u001b[0mself\u001b[0m\u001b[0;34m.\u001b[0m\u001b[0msparseCoeffs\u001b[0m\u001b[0;34m(\u001b[0m\u001b[0mclust\u001b[0m\u001b[0;34m-\u001b[0m\u001b[0;36m1\u001b[0m\u001b[0;34m)\u001b[0m\u001b[0;34m\u001b[0m\u001b[0m\n\u001b[0m\u001b[1;32m    894\u001b[0m \u001b[0;34m\u001b[0m\u001b[0m\n\u001b[1;32m    895\u001b[0m                     \u001b[0mrankvec\u001b[0m \u001b[0;34m=\u001b[0m \u001b[0mrankdata\u001b[0m\u001b[0;34m(\u001b[0m\u001b[0mself\u001b[0m\u001b[0;34m.\u001b[0m\u001b[0mclust2vec\u001b[0m\u001b[0;34m(\u001b[0m\u001b[0mclust\u001b[0m\u001b[0;34m)\u001b[0m\u001b[0;34m)\u001b[0m\u001b[0;34m\u001b[0m\u001b[0m\n",
      "\u001b[0;32m~/xvalid/picturedrocks/rocks.py\u001b[0m in \u001b[0;36msparseCoeffs\u001b[0;34m(self, clust, highval, lowval)\u001b[0m\n\u001b[1;32m    927\u001b[0m                 \u001b[0mself\u001b[0m\u001b[0;34m.\u001b[0m\u001b[0msparse_tau_dot\u001b[0m\u001b[0;34m\u001b[0m\u001b[0m\n\u001b[1;32m    928\u001b[0m                 ( \n\u001b[0;32m--> 929\u001b[0;31m                     \u001b[0mself\u001b[0m\u001b[0;34m.\u001b[0m\u001b[0mcs_currX\u001b[0m\u001b[0;34m[\u001b[0m\u001b[0;34m:\u001b[0m\u001b[0;34m,\u001b[0m \u001b[0mgene\u001b[0m\u001b[0;34m]\u001b[0m\u001b[0;34m,\u001b[0m\u001b[0;34m\u001b[0m\u001b[0m\n\u001b[0m\u001b[1;32m    930\u001b[0m                     \u001b[0mself\u001b[0m\u001b[0;34m.\u001b[0m\u001b[0mclusterindices\u001b[0m\u001b[0;34m[\u001b[0m\u001b[0mclust\u001b[0m\u001b[0;34m]\u001b[0m\u001b[0;34m,\u001b[0m\u001b[0;34m\u001b[0m\u001b[0m\n\u001b[1;32m    931\u001b[0m                     \u001b[0mhighval\u001b[0m\u001b[0;34m=\u001b[0m\u001b[0mhighval\u001b[0m\u001b[0;34m,\u001b[0m\u001b[0;34m\u001b[0m\u001b[0m\n",
      "\u001b[0;32m~/miniconda3/envs/r35py37/lib/python3.7/site-packages/scipy/sparse/csc.py\u001b[0m in \u001b[0;36m__getitem__\u001b[0;34m(self, key)\u001b[0m\n\u001b[1;32m    165\u001b[0m         if (isinstance(row, slice) or isinstance(col, slice) or\n\u001b[1;32m    166\u001b[0m                 isintlike(row) or isintlike(col)):\n\u001b[0;32m--> 167\u001b[0;31m             \u001b[0;32mreturn\u001b[0m \u001b[0mself\u001b[0m\u001b[0;34m.\u001b[0m\u001b[0mT\u001b[0m\u001b[0;34m[\u001b[0m\u001b[0mcol\u001b[0m\u001b[0;34m,\u001b[0m \u001b[0mrow\u001b[0m\u001b[0;34m]\u001b[0m\u001b[0;34m.\u001b[0m\u001b[0mT\u001b[0m\u001b[0;34m\u001b[0m\u001b[0m\n\u001b[0m\u001b[1;32m    168\u001b[0m         \u001b[0;31m# Things that return a sequence of values.\u001b[0m\u001b[0;34m\u001b[0m\u001b[0;34m\u001b[0m\u001b[0m\n\u001b[1;32m    169\u001b[0m         \u001b[0;32melse\u001b[0m\u001b[0;34m:\u001b[0m\u001b[0;34m\u001b[0m\u001b[0m\n",
      "\u001b[0;32m~/miniconda3/envs/r35py37/lib/python3.7/site-packages/scipy/sparse/base.py\u001b[0m in \u001b[0;36m__getattr__\u001b[0;34m(self, attr)\u001b[0m\n\u001b[1;32m    674\u001b[0m             \u001b[0;32mreturn\u001b[0m \u001b[0mself\u001b[0m\u001b[0;34m.\u001b[0m\u001b[0mtoarray\u001b[0m\u001b[0;34m(\u001b[0m\u001b[0;34m)\u001b[0m\u001b[0;34m\u001b[0m\u001b[0m\n\u001b[1;32m    675\u001b[0m         \u001b[0;32melif\u001b[0m \u001b[0mattr\u001b[0m \u001b[0;34m==\u001b[0m \u001b[0;34m'T'\u001b[0m\u001b[0;34m:\u001b[0m\u001b[0;34m\u001b[0m\u001b[0m\n\u001b[0;32m--> 676\u001b[0;31m             \u001b[0;32mreturn\u001b[0m \u001b[0mself\u001b[0m\u001b[0;34m.\u001b[0m\u001b[0mtranspose\u001b[0m\u001b[0;34m(\u001b[0m\u001b[0;34m)\u001b[0m\u001b[0;34m\u001b[0m\u001b[0m\n\u001b[0m\u001b[1;32m    677\u001b[0m         \u001b[0;32melif\u001b[0m \u001b[0mattr\u001b[0m \u001b[0;34m==\u001b[0m \u001b[0;34m'H'\u001b[0m\u001b[0;34m:\u001b[0m\u001b[0;34m\u001b[0m\u001b[0m\n\u001b[1;32m    678\u001b[0m             \u001b[0;32mreturn\u001b[0m \u001b[0mself\u001b[0m\u001b[0;34m.\u001b[0m\u001b[0mgetH\u001b[0m\u001b[0;34m(\u001b[0m\u001b[0;34m)\u001b[0m\u001b[0;34m\u001b[0m\u001b[0m\n",
      "\u001b[0;32m~/miniconda3/envs/r35py37/lib/python3.7/site-packages/scipy/sparse/csc.py\u001b[0m in \u001b[0;36mtranspose\u001b[0;34m(self, axes, copy)\u001b[0m\n\u001b[1;32m    119\u001b[0m         \u001b[0;32mfrom\u001b[0m \u001b[0;34m.\u001b[0m\u001b[0mcsr\u001b[0m \u001b[0;32mimport\u001b[0m \u001b[0mcsr_matrix\u001b[0m\u001b[0;34m\u001b[0m\u001b[0m\n\u001b[1;32m    120\u001b[0m         return csr_matrix((self.data, self.indices,\n\u001b[0;32m--> 121\u001b[0;31m                            self.indptr), (N, M), copy=copy)\n\u001b[0m\u001b[1;32m    122\u001b[0m \u001b[0;34m\u001b[0m\u001b[0m\n\u001b[1;32m    123\u001b[0m     \u001b[0mtranspose\u001b[0m\u001b[0;34m.\u001b[0m\u001b[0m__doc__\u001b[0m \u001b[0;34m=\u001b[0m \u001b[0mspmatrix\u001b[0m\u001b[0;34m.\u001b[0m\u001b[0mtranspose\u001b[0m\u001b[0;34m.\u001b[0m\u001b[0m__doc__\u001b[0m\u001b[0;34m\u001b[0m\u001b[0m\n",
      "\u001b[0;32m~/miniconda3/envs/r35py37/lib/python3.7/site-packages/scipy/sparse/compressed.py\u001b[0m in \u001b[0;36m__init__\u001b[0;34m(self, arg1, shape, dtype, copy)\u001b[0m\n\u001b[1;32m     60\u001b[0m                     \u001b[0;32mif\u001b[0m \u001b[0mshape\u001b[0m \u001b[0;32mis\u001b[0m \u001b[0;32mnot\u001b[0m \u001b[0;32mNone\u001b[0m\u001b[0;34m:\u001b[0m\u001b[0;34m\u001b[0m\u001b[0m\n\u001b[1;32m     61\u001b[0m                         \u001b[0mmaxval\u001b[0m \u001b[0;34m=\u001b[0m \u001b[0mmax\u001b[0m\u001b[0;34m(\u001b[0m\u001b[0mshape\u001b[0m\u001b[0;34m)\u001b[0m\u001b[0;34m\u001b[0m\u001b[0m\n\u001b[0;32m---> 62\u001b[0;31m                     \u001b[0midx_dtype\u001b[0m \u001b[0;34m=\u001b[0m \u001b[0mget_index_dtype\u001b[0m\u001b[0;34m(\u001b[0m\u001b[0;34m(\u001b[0m\u001b[0mindices\u001b[0m\u001b[0;34m,\u001b[0m \u001b[0mindptr\u001b[0m\u001b[0;34m)\u001b[0m\u001b[0;34m,\u001b[0m \u001b[0mmaxval\u001b[0m\u001b[0;34m=\u001b[0m\u001b[0mmaxval\u001b[0m\u001b[0;34m,\u001b[0m \u001b[0mcheck_contents\u001b[0m\u001b[0;34m=\u001b[0m\u001b[0;32mTrue\u001b[0m\u001b[0;34m)\u001b[0m\u001b[0;34m\u001b[0m\u001b[0m\n\u001b[0m\u001b[1;32m     63\u001b[0m \u001b[0;34m\u001b[0m\u001b[0m\n\u001b[1;32m     64\u001b[0m                     \u001b[0mself\u001b[0m\u001b[0;34m.\u001b[0m\u001b[0mindices\u001b[0m \u001b[0;34m=\u001b[0m \u001b[0mnp\u001b[0m\u001b[0;34m.\u001b[0m\u001b[0marray\u001b[0m\u001b[0;34m(\u001b[0m\u001b[0mindices\u001b[0m\u001b[0;34m,\u001b[0m \u001b[0mcopy\u001b[0m\u001b[0;34m=\u001b[0m\u001b[0mcopy\u001b[0m\u001b[0;34m,\u001b[0m \u001b[0mdtype\u001b[0m\u001b[0;34m=\u001b[0m\u001b[0midx_dtype\u001b[0m\u001b[0;34m)\u001b[0m\u001b[0;34m\u001b[0m\u001b[0m\n",
      "\u001b[0;32m~/miniconda3/envs/r35py37/lib/python3.7/site-packages/scipy/sparse/sputils.py\u001b[0m in \u001b[0;36mget_index_dtype\u001b[0;34m(arrays, maxval, check_contents)\u001b[0m\n\u001b[1;32m    159\u001b[0m                     \u001b[0;32mcontinue\u001b[0m\u001b[0;34m\u001b[0m\u001b[0m\n\u001b[1;32m    160\u001b[0m                 \u001b[0;32melif\u001b[0m \u001b[0mnp\u001b[0m\u001b[0;34m.\u001b[0m\u001b[0missubdtype\u001b[0m\u001b[0;34m(\u001b[0m\u001b[0marr\u001b[0m\u001b[0;34m.\u001b[0m\u001b[0mdtype\u001b[0m\u001b[0;34m,\u001b[0m \u001b[0mnp\u001b[0m\u001b[0;34m.\u001b[0m\u001b[0minteger\u001b[0m\u001b[0;34m)\u001b[0m\u001b[0;34m:\u001b[0m\u001b[0;34m\u001b[0m\u001b[0m\n\u001b[0;32m--> 161\u001b[0;31m                     \u001b[0mmaxval\u001b[0m \u001b[0;34m=\u001b[0m \u001b[0marr\u001b[0m\u001b[0;34m.\u001b[0m\u001b[0mmax\u001b[0m\u001b[0;34m(\u001b[0m\u001b[0;34m)\u001b[0m\u001b[0;34m\u001b[0m\u001b[0m\n\u001b[0m\u001b[1;32m    162\u001b[0m                     \u001b[0mminval\u001b[0m \u001b[0;34m=\u001b[0m \u001b[0marr\u001b[0m\u001b[0;34m.\u001b[0m\u001b[0mmin\u001b[0m\u001b[0;34m(\u001b[0m\u001b[0;34m)\u001b[0m\u001b[0;34m\u001b[0m\u001b[0m\n\u001b[1;32m    163\u001b[0m                     \u001b[0;32mif\u001b[0m \u001b[0mminval\u001b[0m \u001b[0;34m>=\u001b[0m \u001b[0mint32min\u001b[0m \u001b[0;32mand\u001b[0m \u001b[0mmaxval\u001b[0m \u001b[0;34m<=\u001b[0m \u001b[0mint32max\u001b[0m\u001b[0;34m:\u001b[0m\u001b[0;34m\u001b[0m\u001b[0m\n",
      "\u001b[0;32m~/miniconda3/envs/r35py37/lib/python3.7/site-packages/numpy/core/_methods.py\u001b[0m in \u001b[0;36m_amax\u001b[0;34m(a, axis, out, keepdims)\u001b[0m\n\u001b[1;32m     24\u001b[0m \u001b[0;31m# small reductions\u001b[0m\u001b[0;34m\u001b[0m\u001b[0;34m\u001b[0m\u001b[0m\n\u001b[1;32m     25\u001b[0m \u001b[0;32mdef\u001b[0m \u001b[0m_amax\u001b[0m\u001b[0;34m(\u001b[0m\u001b[0ma\u001b[0m\u001b[0;34m,\u001b[0m \u001b[0maxis\u001b[0m\u001b[0;34m=\u001b[0m\u001b[0;32mNone\u001b[0m\u001b[0;34m,\u001b[0m \u001b[0mout\u001b[0m\u001b[0;34m=\u001b[0m\u001b[0;32mNone\u001b[0m\u001b[0;34m,\u001b[0m \u001b[0mkeepdims\u001b[0m\u001b[0;34m=\u001b[0m\u001b[0;32mFalse\u001b[0m\u001b[0;34m)\u001b[0m\u001b[0;34m:\u001b[0m\u001b[0;34m\u001b[0m\u001b[0m\n\u001b[0;32m---> 26\u001b[0;31m     \u001b[0;32mreturn\u001b[0m \u001b[0mumr_maximum\u001b[0m\u001b[0;34m(\u001b[0m\u001b[0ma\u001b[0m\u001b[0;34m,\u001b[0m \u001b[0maxis\u001b[0m\u001b[0;34m,\u001b[0m \u001b[0;32mNone\u001b[0m\u001b[0;34m,\u001b[0m \u001b[0mout\u001b[0m\u001b[0;34m,\u001b[0m \u001b[0mkeepdims\u001b[0m\u001b[0;34m)\u001b[0m\u001b[0;34m\u001b[0m\u001b[0m\n\u001b[0m\u001b[1;32m     27\u001b[0m \u001b[0;34m\u001b[0m\u001b[0m\n\u001b[1;32m     28\u001b[0m \u001b[0;32mdef\u001b[0m \u001b[0m_amin\u001b[0m\u001b[0;34m(\u001b[0m\u001b[0ma\u001b[0m\u001b[0;34m,\u001b[0m \u001b[0maxis\u001b[0m\u001b[0;34m=\u001b[0m\u001b[0;32mNone\u001b[0m\u001b[0;34m,\u001b[0m \u001b[0mout\u001b[0m\u001b[0;34m=\u001b[0m\u001b[0;32mNone\u001b[0m\u001b[0;34m,\u001b[0m \u001b[0mkeepdims\u001b[0m\u001b[0;34m=\u001b[0m\u001b[0;32mFalse\u001b[0m\u001b[0;34m)\u001b[0m\u001b[0;34m:\u001b[0m\u001b[0;34m\u001b[0m\u001b[0m\n",
      "\u001b[0;31mKeyboardInterrupt\u001b[0m: "
     ]
    }
   ],
   "source": [
    "%%time\n",
    "data.CSrankMarkers(lamb=2.0)"
   ]
  },
  {
   "cell_type": "code",
   "execution_count": 38,
   "metadata": {},
   "outputs": [],
   "source": [
    "ft = FoldTester(data)"
   ]
  },
  {
   "cell_type": "code",
   "execution_count": 40,
   "metadata": {},
   "outputs": [],
   "source": [
    "#ft.makefolds(k=5, random=True)\n",
    "#ft.savefolds(\"./10x-5folds.npz\")"
   ]
  },
  {
   "cell_type": "code",
   "execution_count": null,
   "metadata": {},
   "outputs": [],
   "source": [
    "ft.loadfolds(\"./10x-5folds.npz\")"
   ]
  },
  {
   "cell_type": "markdown",
   "metadata": {},
   "source": [
    "## Optimize the 1bcs method"
   ]
  },
  {
   "cell_type": "markdown",
   "metadata": {},
   "source": [
    "With optimizations to the `sparse_dot_tau` method, the following should take about 7.5 seconds (down from 17 seconds).  This would mean that each cluster takes about $7.5 \\times 240/60 = 30$ minutes on one core.  That's a long time, but acceptable.  We can run on 10 cores to finish a fold (all 40 clusters) in less than 2 hours."
   ]
  },
  {
   "cell_type": "code",
   "execution_count": 120,
   "metadata": {},
   "outputs": [
    {
     "name": "stdout",
     "output_type": "stream",
     "text": [
      " "
     ]
    }
   ],
   "source": [
    "%%prun\n",
    "shoop = set(data.clusterindices[0])\n",
    "for gene in range(300,400):\n",
    "    data.sparse_tau_dot(data.cs_currX.getcol(gene), data.clusterindices[0], highval=1, lowval=-1, dim=data.N, setindices=shoop)"
   ]
  },
  {
   "cell_type": "markdown",
   "metadata": {},
   "source": [
    "The three lines below show that converting from `set` to `list` is much faster than converting from `list` to `set`.  Both conversions take a significant amount of time, however: one extra `set` to `list` conversion will take $.2 \\times 240/60 = .8$ minutes per cluster.  So we definitely want to avoid these conversions."
   ]
  },
  {
   "cell_type": "code",
   "execution_count": null,
   "metadata": {},
   "outputs": [],
   "source": [
    "shoop = set(data.clusterindices[0])"
   ]
  },
  {
   "cell_type": "code",
   "execution_count": 101,
   "metadata": {},
   "outputs": [
    {
     "name": "stdout",
     "output_type": "stream",
     "text": [
      "CPU times: user 215 ms, sys: 0 ns, total: 215 ms\n",
      "Wall time: 213 ms\n"
     ]
    }
   ],
   "source": [
    "%%time\n",
    "for i in range(100):\n",
    "    sutff = list(shoop)"
   ]
  },
  {
   "cell_type": "code",
   "execution_count": 102,
   "metadata": {},
   "outputs": [
    {
     "name": "stdout",
     "output_type": "stream",
     "text": [
      "CPU times: user 697 ms, sys: 973 µs, total: 698 ms\n",
      "Wall time: 697 ms\n"
     ]
    }
   ],
   "source": [
    "%%time\n",
    "for i in range(100):\n",
    "    shoop = set(sutff)"
   ]
  },
  {
   "cell_type": "markdown",
   "metadata": {},
   "source": [
    "Strangely, it looked like `sparse_tau_dot` was faster with floating points rather than integers.  My hypothesis was that this was because memory allocation is costly; thus, I attempted to eliminate some of the memory allocation in `sparse_tau_dot` to speed it up.  This may be an avenue for futher optimization if necessary, however."
   ]
  },
  {
   "cell_type": "code",
   "execution_count": 30,
   "metadata": {},
   "outputs": [],
   "source": [
    "yum = data.cs_currX.getcol(0).astype('int16')\n",
    "bum = data.cs_currX.getcol(0)"
   ]
  },
  {
   "cell_type": "markdown",
   "metadata": {},
   "source": [
    "The first time that we generated the constants for the first 100 genes in fold 0.  I extensively verified that `sparse_tau_dot` was correct when I first wrote it, so I am fairly confident that these values are correct.  Thus, use this to verify any changes that you make to `sparse_tau_dot`."
   ]
  },
  {
   "cell_type": "code",
   "execution_count": 28,
   "metadata": {},
   "outputs": [],
   "source": [
    "first = [6287.1794107465375,-1156.0851078572125,-6787.095057770366,-22144.221795874957,1193.7604637096958,-430.85144515221504,-25187.105995613114,-1598.4757607790975,-9667.266758859945,-53058.696381394526,-2116.6662213823784,10457.908788890396,-5904.591847924456,-3232.794370499311,31369.298954643808,-12938.947289044472,-694.9763999804626,-10746.409969135033,4490.151305822765,1932.4752505991335,-292.3169507701047,666.515683258755,-3227.190040248823,-24173.84256549451,25918.590574471884,-19138.071709879558,8079.593223863857,-3480.6179521187005,-20450.684238353882,-7303.30352495926,-29211.639080758032,-2810.853183706404,-5626.9584650570705,-15027.194683722355,-2584.903122562866,-5105.47518303952,-2274.2242906937195,-37430.52932793371,-11412.940070032539,-376.6036678671628,-413.39891279867606,-12109.198063790387,25269.97514995728,97.81837841203243,-5740.89436587098,-511.38380831564575,-31868.03893210871,-19764.458447066027,-876.9562236731431,-42446.091542626746,-4747.658002492089,-10594.463487845656,-1446.9211204563023, 19701.114340243454, -24482.705612243342, -5202.773130721975, 4943.660113173941, -44058.51956457996, -11333.088030161065, 896.7601089169984, 28587.714720870674, -338.2035489702048, 5422.635802236747, -18722.14151856173, -1368.282689957625, 11895.581465375903, -14343.966588034818, -13490.50780948552, -462.1942123548548, 29269.931164587742, 495.0380816230479, -3519.1422656841296, -1403.7217502495694, -3327.5978996248564, -6263.393733641591, -2680.1119647866003, -1205.2684287834686, -2364.6279939842952, -292.3169507701047, -3306.9569958831707, -3640.7149177365495, -4220.812230901144, -1093.7607644987204, -413.39891279867606, -358.01382332843866, -1720.991048557724, -56828.668642589415, -4362.617457458707, -29802.371039389946, -6151.944153763376, -25740.104609909955, -773.4015085608092, -20474.849790891767, -2038.6636118451997, -900.9872157797056, -716.0301136056983, -1012.6241495081275, -10437.934458573014, -1580.772107753235, 17860.117832102016]"
   ]
  },
  {
   "cell_type": "markdown",
   "metadata": {},
   "source": [
    "The cacluation which generated `first`.  I'm keeping it in case I fucked up `first` when I removed all of the extra newlines."
   ]
  },
  {
   "cell_type": "code",
   "execution_count": 68,
   "metadata": {
    "collapsed": true
   },
   "outputs": [
    {
     "data": {
      "text/plain": [
       "[6287.1794107465375,\n",
       " -1156.0851078572125,\n",
       " -6787.095057770366,\n",
       " -22144.221795874957,\n",
       " 1193.7604637096958,\n",
       " -430.85144515221504,\n",
       " -25187.105995613114,\n",
       " -1598.4757607790975,\n",
       " -9667.266758859945,\n",
       " -53058.696381394526,\n",
       " -2116.6662213823784,\n",
       " 10457.908788890396,\n",
       " -5904.591847924456,\n",
       " -3232.794370499311,\n",
       " 31369.298954643808,\n",
       " -12938.947289044472,\n",
       " -694.9763999804626,\n",
       " -10746.409969135033,\n",
       " 4490.151305822765,\n",
       " 1932.4752505991335,\n",
       " -292.3169507701047,\n",
       " 666.515683258755,\n",
       " -3227.190040248823,\n",
       " -24173.84256549451,\n",
       " 25918.590574471884,\n",
       " -19138.071709879558,\n",
       " 8079.593223863857,\n",
       " -3480.6179521187005,\n",
       " -20450.684238353882,\n",
       " -7303.30352495926,\n",
       " -29211.639080758032,\n",
       " -2810.853183706404,\n",
       " -5626.9584650570705,\n",
       " -15027.194683722355,\n",
       " -2584.903122562866,\n",
       " -5105.47518303952,\n",
       " -2274.2242906937195,\n",
       " -37430.52932793371,\n",
       " -11412.940070032539,\n",
       " -376.6036678671628,\n",
       " -413.39891279867606,\n",
       " -12109.198063790387,\n",
       " 25269.97514995728,\n",
       " 97.81837841203243,\n",
       " -5740.89436587098,\n",
       " -511.38380831564575,\n",
       " -31868.03893210871,\n",
       " -19764.458447066027,\n",
       " -876.9562236731431,\n",
       " -42446.091542626746,\n",
       " -4747.658002492089,\n",
       " -10594.463487845656,\n",
       " -1446.9211204563023,\n",
       " 19701.114340243454,\n",
       " -24482.705612243342,\n",
       " -5202.773130721975,\n",
       " 4943.660113173941,\n",
       " -44058.51956457996,\n",
       " -11333.088030161065,\n",
       " 896.7601089169984,\n",
       " 28587.714720870674,\n",
       " -338.2035489702048,\n",
       " 5422.635802236747,\n",
       " -18722.14151856173,\n",
       " -1368.282689957625,\n",
       " 11895.581465375903,\n",
       " -14343.966588034818,\n",
       " -13490.50780948552,\n",
       " -462.1942123548548,\n",
       " 29269.931164587742,\n",
       " 495.0380816230479,\n",
       " -3519.1422656841296,\n",
       " -1403.7217502495694,\n",
       " -3327.5978996248564,\n",
       " -6263.393733641591,\n",
       " -2680.1119647866003,\n",
       " -1205.2684287834686,\n",
       " -2364.6279939842952,\n",
       " -292.3169507701047,\n",
       " -3306.9569958831707,\n",
       " -3640.7149177365495,\n",
       " -4220.812230901144,\n",
       " -1093.7607644987204,\n",
       " -413.39891279867606,\n",
       " -358.01382332843866,\n",
       " -1720.991048557724,\n",
       " -56828.668642589415,\n",
       " -4362.617457458707,\n",
       " -29802.371039389946,\n",
       " -6151.944153763376,\n",
       " -25740.104609909955,\n",
       " -773.4015085608092,\n",
       " -20474.849790891767,\n",
       " -2038.6636118451997,\n",
       " -900.9872157797056,\n",
       " -716.0301136056983,\n",
       " -1012.6241495081275,\n",
       " -10437.934458573014,\n",
       " -1580.772107753235,\n",
       " 17860.117832102016]"
      ]
     },
     "execution_count": 68,
     "metadata": {},
     "output_type": "execute_result"
    }
   ],
   "source": [
    "list(map(fudge, range(100)))"
   ]
  },
  {
   "cell_type": "markdown",
   "metadata": {},
   "source": [
    "A test, also showing how to use `map` with a class method."
   ]
  },
  {
   "cell_type": "code",
   "execution_count": 94,
   "metadata": {},
   "outputs": [],
   "source": [
    "shoop = set(data.clusterindices[5])\n",
    "test = list(map( lambda x: Rocks.sparse_tau_dot(data, data.cs_currX.getcol(x), data.clusterindices[5], highval=1, lowval=-1, dim=data.N, setindices=shoop), range(10)))"
   ]
  },
  {
   "cell_type": "code",
   "execution_count": 95,
   "metadata": {},
   "outputs": [
    {
     "data": {
      "text/plain": [
       "[23612.663500827835,\n",
       " -157.78790586751435,\n",
       " -3679.604291596297,\n",
       " -11684.100903309936,\n",
       " 933.3103233016669,\n",
       " 6376.044582804206,\n",
       " -14587.302215939357,\n",
       " -1405.4648778217668,\n",
       " 10173.026531194588,\n",
       " -22718.731700285454]"
      ]
     },
     "execution_count": 95,
     "metadata": {},
     "output_type": "execute_result"
    }
   ],
   "source": [
    "test"
   ]
  },
  {
   "cell_type": "code",
   "execution_count": 50,
   "metadata": {},
   "outputs": [
    {
     "data": {
      "text/plain": [
       "array([0., 0., 0., 0., 0., 0., 0., 0., 0., 0.])"
      ]
     },
     "execution_count": 50,
     "metadata": {},
     "output_type": "execute_result"
    }
   ],
   "source": [
    "np.array(list(test)) - np.array(first[:10])"
   ]
  },
  {
   "cell_type": "code",
   "execution_count": 27,
   "metadata": {},
   "outputs": [],
   "source": [
    "shoop = set(data.clusterindices[0])\n",
    "def fudge(gene):\n",
    "    return data.sparse_tau_dot(data.cs_currX.getcol(gene), data.clusterindices[0], highval=1, lowval=-1, dim=data.N, setindices=shoop)"
   ]
  },
  {
   "cell_type": "code",
   "execution_count": 30,
   "metadata": {
    "collapsed": true
   },
   "outputs": [
    {
     "ename": "KeyboardInterrupt",
     "evalue": "",
     "output_type": "error",
     "traceback": [
      "\u001b[0;31m---------------------------------------------------------------------------\u001b[0m",
      "\u001b[0;31mKeyboardInterrupt\u001b[0m                         Traceback (most recent call last)",
      "\u001b[0;32m<timed eval>\u001b[0m in \u001b[0;36m<module>\u001b[0;34m\u001b[0m\n",
      "\u001b[0;32m<ipython-input-27-c44b56f8e3ef>\u001b[0m in \u001b[0;36mfudge\u001b[0;34m(gene)\u001b[0m\n\u001b[1;32m      1\u001b[0m \u001b[0mshoop\u001b[0m \u001b[0;34m=\u001b[0m \u001b[0mset\u001b[0m\u001b[0;34m(\u001b[0m\u001b[0mdata\u001b[0m\u001b[0;34m.\u001b[0m\u001b[0mclusterindices\u001b[0m\u001b[0;34m[\u001b[0m\u001b[0;36m0\u001b[0m\u001b[0;34m]\u001b[0m\u001b[0;34m)\u001b[0m\u001b[0;34m\u001b[0m\u001b[0m\n\u001b[1;32m      2\u001b[0m \u001b[0;32mdef\u001b[0m \u001b[0mfudge\u001b[0m\u001b[0;34m(\u001b[0m\u001b[0mgene\u001b[0m\u001b[0;34m)\u001b[0m\u001b[0;34m:\u001b[0m\u001b[0;34m\u001b[0m\u001b[0m\n\u001b[0;32m----> 3\u001b[0;31m     \u001b[0;32mreturn\u001b[0m \u001b[0mdata\u001b[0m\u001b[0;34m.\u001b[0m\u001b[0msparse_tau_dot\u001b[0m\u001b[0;34m(\u001b[0m\u001b[0mdata\u001b[0m\u001b[0;34m.\u001b[0m\u001b[0mcs_currX\u001b[0m\u001b[0;34m.\u001b[0m\u001b[0mgetcol\u001b[0m\u001b[0;34m(\u001b[0m\u001b[0mgene\u001b[0m\u001b[0;34m)\u001b[0m\u001b[0;34m,\u001b[0m \u001b[0mdata\u001b[0m\u001b[0;34m.\u001b[0m\u001b[0mclusterindices\u001b[0m\u001b[0;34m[\u001b[0m\u001b[0;36m0\u001b[0m\u001b[0;34m]\u001b[0m\u001b[0;34m,\u001b[0m \u001b[0mhighval\u001b[0m\u001b[0;34m=\u001b[0m\u001b[0;36m1\u001b[0m\u001b[0;34m,\u001b[0m \u001b[0mlowval\u001b[0m\u001b[0;34m=\u001b[0m\u001b[0;34m-\u001b[0m\u001b[0;36m1\u001b[0m\u001b[0;34m,\u001b[0m \u001b[0mdim\u001b[0m\u001b[0;34m=\u001b[0m\u001b[0mdata\u001b[0m\u001b[0;34m.\u001b[0m\u001b[0mN\u001b[0m\u001b[0;34m,\u001b[0m \u001b[0msetindices\u001b[0m\u001b[0;34m=\u001b[0m\u001b[0mshoop\u001b[0m\u001b[0;34m)\u001b[0m\u001b[0;34m\u001b[0m\u001b[0m\n\u001b[0m",
      "\u001b[0;32m~/miniconda3/envs/r35py37/lib/python3.7/site-packages/scipy/sparse/csr.py\u001b[0m in \u001b[0;36mgetcol\u001b[0;34m(self, i)\u001b[0m\n\u001b[1;32m    386\u001b[0m         \u001b[0mCSR\u001b[0m \u001b[0mmatrix\u001b[0m \u001b[0;34m(\u001b[0m\u001b[0mcolumn\u001b[0m \u001b[0mvector\u001b[0m\u001b[0;34m)\u001b[0m\u001b[0;34m.\u001b[0m\u001b[0;34m\u001b[0m\u001b[0m\n\u001b[1;32m    387\u001b[0m         \"\"\"\n\u001b[0;32m--> 388\u001b[0;31m         \u001b[0;32mreturn\u001b[0m \u001b[0mself\u001b[0m\u001b[0;34m.\u001b[0m\u001b[0m_get_submatrix\u001b[0m\u001b[0;34m(\u001b[0m\u001b[0mslice\u001b[0m\u001b[0;34m(\u001b[0m\u001b[0;32mNone\u001b[0m\u001b[0;34m)\u001b[0m\u001b[0;34m,\u001b[0m \u001b[0mi\u001b[0m\u001b[0;34m)\u001b[0m\u001b[0;34m\u001b[0m\u001b[0m\n\u001b[0m\u001b[1;32m    389\u001b[0m \u001b[0;34m\u001b[0m\u001b[0m\n\u001b[1;32m    390\u001b[0m     \u001b[0;32mdef\u001b[0m \u001b[0m_get_row_slice\u001b[0m\u001b[0;34m(\u001b[0m\u001b[0mself\u001b[0m\u001b[0;34m,\u001b[0m \u001b[0mi\u001b[0m\u001b[0;34m,\u001b[0m \u001b[0mcslice\u001b[0m\u001b[0;34m)\u001b[0m\u001b[0;34m:\u001b[0m\u001b[0;34m\u001b[0m\u001b[0m\n",
      "\u001b[0;32m~/miniconda3/envs/r35py37/lib/python3.7/site-packages/scipy/sparse/csr.py\u001b[0m in \u001b[0;36m_get_submatrix\u001b[0;34m(self, row_slice, col_slice)\u001b[0m\n\u001b[1;32m    457\u001b[0m \u001b[0;34m\u001b[0m\u001b[0m\n\u001b[1;32m    458\u001b[0m         indptr, indices, data = get_csr_submatrix(\n\u001b[0;32m--> 459\u001b[0;31m             M, N, self.indptr, self.indices, self.data, i0, i1, j0, j1)\n\u001b[0m\u001b[1;32m    460\u001b[0m \u001b[0;34m\u001b[0m\u001b[0m\n\u001b[1;32m    461\u001b[0m         \u001b[0mshape\u001b[0m \u001b[0;34m=\u001b[0m \u001b[0;34m(\u001b[0m\u001b[0mi1\u001b[0m \u001b[0;34m-\u001b[0m \u001b[0mi0\u001b[0m\u001b[0;34m,\u001b[0m \u001b[0mj1\u001b[0m \u001b[0;34m-\u001b[0m \u001b[0mj0\u001b[0m\u001b[0;34m)\u001b[0m\u001b[0;34m\u001b[0m\u001b[0m\n",
      "\u001b[0;31mKeyboardInterrupt\u001b[0m: "
     ]
    }
   ],
   "source": [
    "%%time\n",
    "np.array(list(map(fudge, range(100)))) - np.array(first)"
   ]
  },
  {
   "cell_type": "markdown",
   "metadata": {},
   "source": [
    "One more small bit of optimization - this is now gone from the `sparse_tau_dot` function, but I like seeing the timing here.  Using `enumerate` is faster than not using enumerate."
   ]
  },
  {
   "cell_type": "code",
   "execution_count": 34,
   "metadata": {},
   "outputs": [
    {
     "name": "stdout",
     "output_type": "stream",
     "text": [
      "CPU times: user 7.48 s, sys: 14.9 ms, total: 7.49 s\n",
      "Wall time: 7.48 s\n"
     ]
    }
   ],
   "source": [
    "%%time\n",
    "\n",
    "rawr = data.X.getcol(0)\n",
    "slurp = set(data.clusterindices[0])\n",
    "#indicesClust = set(rawr.indices) & set(data.clusterindices[0])\n",
    "inds = [i for i, ind in enumerate(rawr.indices) if ind in slurp]"
   ]
  },
  {
   "cell_type": "code",
   "execution_count": 32,
   "metadata": {},
   "outputs": [
    {
     "name": "stdout",
     "output_type": "stream",
     "text": [
      "CPU times: user 2.02 ms, sys: 2 µs, total: 2.02 ms\n",
      "Wall time: 2.03 ms\n"
     ]
    }
   ],
   "source": [
    "%%time\n",
    "inds = [i for i, ind in enumerate(rawr.indices) if ind in slurp]"
   ]
  },
  {
   "cell_type": "code",
   "execution_count": 33,
   "metadata": {},
   "outputs": [
    {
     "name": "stdout",
     "output_type": "stream",
     "text": [
      "CPU times: user 3.65 ms, sys: 0 ns, total: 3.65 ms\n",
      "Wall time: 3.66 ms\n"
     ]
    }
   ],
   "source": [
    "%%time\n",
    "inds = [i for i in range(rawr.indices.shape[0]) if rawr.indices[i] in slurp]"
   ]
  },
  {
   "cell_type": "markdown",
   "metadata": {},
   "source": [
    "## Setting up a multiprocessing pool to use with 1bcs"
   ]
  },
  {
   "cell_type": "code",
   "execution_count": 8,
   "metadata": {},
   "outputs": [],
   "source": [
    "from pathos.multiprocessing import ProcessingPool"
   ]
  },
  {
   "cell_type": "code",
   "execution_count": 9,
   "metadata": {},
   "outputs": [
    {
     "name": "stdout",
     "output_type": "stream",
     "text": [
      "Working on cluster 0\n",
      "Working on cluster 1\n",
      "Working on cluster 3\n",
      "Working on cluster 2\n",
      "Working on cluster 4\n",
      "Working on cluster 5\n",
      "Working on cluster 6\n",
      "Working on cluster 7\n",
      "Working on cluster 8\n",
      "Working on cluster 9\n",
      "Working on cluster 11\n",
      "Working on cluster 14\n",
      "Working on cluster 12\n",
      "Working on cluster 10\n",
      "Working on cluster 15\n",
      "Working on cluster 13\n",
      "Working on cluster 17\n",
      "Working on cluster 20\n",
      "Working on cluster 16\n",
      "Working on cluster 23\n",
      "Working on cluster 21\n",
      "Working on cluster 24\n",
      "Working on cluster 19\n",
      "Working on cluster 22\n",
      "Working on cluster 18\n",
      "Working on cluster 25\n",
      "Working on cluster 27\n",
      "Working on cluster 29\n",
      "Working on cluster 28\n",
      "Working on cluster 30\n",
      "Working on cluster 26\n",
      "Working on cluster 31\n",
      "Working on cluster 32\n",
      "Working on cluster 34\n",
      "Working on cluster 35\n",
      "Working on cluster 33\n",
      "Working on cluster 37\n",
      "Working on cluster 36\n",
      "Working on cluster 38\n",
      "Working on cluster 0\n",
      "Working on cluster 9\n",
      "Working on cluster 1\n",
      "Working on cluster 2\n",
      "Working on cluster 3\n",
      "Working on cluster 4\n",
      "Working on cluster 5\n",
      "Working on cluster 6\n",
      "Working on cluster 7\n",
      "Working on cluster 8\n",
      "Working on cluster 10\n",
      "Working on cluster 11\n",
      "Working on cluster 12\n",
      "Working on cluster 13\n",
      "Working on cluster 14\n",
      "Working on cluster 15\n",
      "Working on cluster 16\n",
      "Working on cluster 17\n",
      "Working on cluster 18\n",
      "Working on cluster 19\n",
      "Working on cluster 20\n",
      "Working on cluster 21\n",
      "Working on cluster 22\n",
      "Working on cluster 23\n",
      "Working on cluster 24\n",
      "Working on cluster 25\n",
      "Working on cluster 26\n",
      "Working on cluster 27\n",
      "Working on cluster 28\n",
      "Working on cluster 29\n",
      "Working on cluster 30\n",
      "Working on cluster 31\n",
      "Working on cluster 32\n",
      "Working on cluster 33\n",
      "Working on cluster 34\n",
      "Working on cluster 35\n",
      "Working on cluster 36\n",
      "Working on cluster 37\n",
      "Working on cluster 38\n",
      "Working on cluster 0\n",
      "Working on cluster 1\n",
      "Working on cluster 2\n",
      "Working on cluster 3\n",
      "Working on cluster 4\n",
      "Working on cluster 5\n",
      "Working on cluster 6\n",
      "Working on cluster 7\n",
      "Working on cluster 8\n",
      "Working on cluster 9\n",
      "Working on cluster 10\n",
      "Working on cluster 11\n",
      "Working on cluster 12\n",
      "Working on cluster 13\n",
      "Working on cluster 14\n",
      "Working on cluster 15\n",
      "Working on cluster 16\n",
      "Working on cluster 17\n",
      "Working on cluster 18\n",
      "Working on cluster 19\n",
      "Working on cluster 20\n",
      "Working on cluster 21\n",
      "Working on cluster 22\n",
      "Working on cluster 23\n",
      "Working on cluster 24\n",
      "Working on cluster 25\n",
      "Working on cluster 26\n",
      "Working on cluster 27\n",
      "Working on cluster 28\n",
      "Working on cluster 29\n",
      "Working on cluster 30\n",
      "Working on cluster 31\n",
      "Working on cluster 32\n",
      "Working on cluster 33\n",
      "Working on cluster 34\n",
      "Working on cluster 35\n",
      "Working on cluster 36\n",
      "Working on cluster 37\n",
      "Working on cluster 38\n",
      "Working on cluster 0\n",
      "Working on cluster 1\n",
      "Working on cluster 2\n",
      "Working on cluster 3\n",
      "Working on cluster 4\n",
      "Working on cluster 5\n",
      "Working on cluster 6\n",
      "Working on cluster 7\n",
      "Working on cluster 8\n",
      "Working on cluster 9\n",
      "Working on cluster 10\n",
      "Working on cluster 11\n",
      "Working on cluster 12\n",
      "Working on cluster 13\n",
      "Working on cluster 14\n",
      "Working on cluster 15\n",
      "Working on cluster 16\n",
      "Working on cluster 17\n",
      "Working on cluster 18\n",
      "Working on cluster 19\n",
      "Working on cluster 20\n",
      "Working on cluster 21\n",
      "Working on cluster 22\n",
      "Working on cluster 23\n",
      "Working on cluster 24\n",
      "Working on cluster 25\n",
      "Working on cluster 26\n",
      "Working on cluster 27\n",
      "Working on cluster 28\n",
      "Working on cluster 29\n",
      "Working on cluster 30\n",
      "Working on cluster 31\n",
      "Working on cluster 32\n",
      "Working on cluster 33\n",
      "Working on cluster 34\n",
      "Working on cluster 35\n",
      "Working on cluster 36\n",
      "Working on cluster 37\n",
      "Working on cluster 38\n",
      "Working on cluster 0\n",
      "Working on cluster 1\n",
      "Working on cluster 2\n",
      "Working on cluster 3\n",
      "Working on cluster 4\n",
      "Working on cluster 5\n",
      "Working on cluster 6\n",
      "Working on cluster 7\n",
      "Working on cluster 8\n",
      "Working on cluster 9\n",
      "Working on cluster 10\n",
      "Working on cluster 11\n",
      "Working on cluster 12\n",
      "Working on cluster 13\n",
      "Working on cluster 14\n",
      "Working on cluster 15\n",
      "Working on cluster 16\n",
      "Working on cluster 17\n",
      "Working on cluster 18\n",
      "Working on cluster 19\n",
      "Working on cluster 20\n",
      "Working on cluster 21\n",
      "Working on cluster 22\n",
      "Working on cluster 23\n",
      "Working on cluster 24\n",
      "Working on cluster 25\n",
      "Working on cluster 26\n",
      "Working on cluster 27\n",
      "Working on cluster 28\n",
      "Working on cluster 29\n",
      "Working on cluster 30\n",
      "Working on cluster 31\n",
      "Working on cluster 32\n",
      "Working on cluster 33\n",
      "Working on cluster 34\n",
      "Working on cluster 35\n",
      "Working on cluster 36\n",
      "Working on cluster 37\n",
      "Working on cluster 38\n"
     ]
    }
   ],
   "source": [
    "p = ProcessingPool(10)"
   ]
  },
  {
   "cell_type": "markdown",
   "metadata": {},
   "source": [
    "You don't want to use the `multiprocessing` library.  It is buggy.  Below is a quick example. "
   ]
  },
  {
   "cell_type": "code",
   "execution_count": 1,
   "metadata": {},
   "outputs": [],
   "source": [
    "from multiprocessing import Pool\n",
    "p = Pool(9)"
   ]
  },
  {
   "cell_type": "code",
   "execution_count": 5,
   "metadata": {},
   "outputs": [],
   "source": [
    "p.terminate()"
   ]
  },
  {
   "cell_type": "code",
   "execution_count": 6,
   "metadata": {},
   "outputs": [],
   "source": [
    "p.join()"
   ]
  },
  {
   "cell_type": "code",
   "execution_count": 7,
   "metadata": {},
   "outputs": [],
   "source": [
    "p.close()"
   ]
  },
  {
   "cell_type": "markdown",
   "metadata": {},
   "source": [
    "Sometimes the pool seems to malfunction.  Not sure why.  Hitting a combination of the following three lines seems to help.  See [this StackOverflow post](https://stackoverflow.com/questions/36403855/cant-stop-kill-all-processes-at-once-produced-by-multiprocessing-pool) or [the Pool documentation](https://docs.python.org/3/library/multiprocessing.html#multiprocessing.pool.Pool)."
   ]
  },
  {
   "cell_type": "code",
   "execution_count": 23,
   "metadata": {},
   "outputs": [],
   "source": [
    "p.close()"
   ]
  },
  {
   "cell_type": "code",
   "execution_count": 24,
   "metadata": {},
   "outputs": [],
   "source": [
    "p.terminate()"
   ]
  },
  {
   "cell_type": "code",
   "execution_count": 25,
   "metadata": {},
   "outputs": [],
   "source": [
    "del(p)"
   ]
  },
  {
   "cell_type": "code",
   "execution_count": 179,
   "metadata": {},
   "outputs": [],
   "source": [
    "def sparse_tau_dot2(gene):\n",
    "    return 2"
   ]
  },
  {
   "cell_type": "code",
   "execution_count": 180,
   "metadata": {},
   "outputs": [
    {
     "data": {
      "text/plain": [
       "[18889.419300916117,\n",
       " -615.702405483076,\n",
       " -2975.7100592428496,\n",
       " -9418.955244524006,\n",
       " 929.5238908126449,\n",
       " 30971.1261580768,\n",
       " -7683.496238822861,\n",
       " -1115.0174725527372,\n",
       " 23865.777979693157,\n",
       " -18444.97090145795]"
      ]
     },
     "execution_count": 180,
     "metadata": {},
     "output_type": "execute_result"
    }
   ],
   "source": [
    "list(p.map(sparse_tau_dot2, range(10)) )"
   ]
  },
  {
   "cell_type": "code",
   "execution_count": 18,
   "metadata": {},
   "outputs": [
    {
     "name": "stdout",
     "output_type": "stream",
     "text": [
      "Working on cluster 36\n",
      "Working on cluster 37\n",
      "Working on cluster 38\n"
     ]
    }
   ],
   "source": [
    "p.terminate()"
   ]
  },
  {
   "cell_type": "code",
   "execution_count": 20,
   "metadata": {},
   "outputs": [],
   "source": [
    "del(p)"
   ]
  },
  {
   "cell_type": "code",
   "execution_count": 17,
   "metadata": {},
   "outputs": [
    {
     "ename": "KeyboardInterrupt",
     "evalue": "",
     "output_type": "error",
     "traceback": [
      "\u001b[0;31m---------------------------------------------------------------------------\u001b[0m",
      "\u001b[0;31mKeyboardInterrupt\u001b[0m                         Traceback (most recent call last)",
      "\u001b[0;32m<ipython-input-17-26ca197cdd09>\u001b[0m in \u001b[0;36m<module>\u001b[0;34m\u001b[0m\n\u001b[1;32m      1\u001b[0m \u001b[0mp\u001b[0m\u001b[0;34m.\u001b[0m\u001b[0mclose\u001b[0m\u001b[0;34m(\u001b[0m\u001b[0;34m)\u001b[0m\u001b[0;34m\u001b[0m\u001b[0m\n\u001b[0;32m----> 2\u001b[0;31m \u001b[0mp\u001b[0m\u001b[0;34m.\u001b[0m\u001b[0mjoin\u001b[0m\u001b[0;34m(\u001b[0m\u001b[0;34m)\u001b[0m\u001b[0;34m\u001b[0m\u001b[0m\n\u001b[0m\u001b[1;32m      3\u001b[0m \u001b[0mp\u001b[0m\u001b[0;34m.\u001b[0m\u001b[0mterminate\u001b[0m\u001b[0;34m(\u001b[0m\u001b[0;34m)\u001b[0m\u001b[0;34m\u001b[0m\u001b[0m\n\u001b[1;32m      4\u001b[0m \u001b[0;32mdel\u001b[0m\u001b[0;34m(\u001b[0m\u001b[0mp\u001b[0m\u001b[0;34m)\u001b[0m\u001b[0;34m\u001b[0m\u001b[0m\n",
      "\u001b[0;32m~/miniconda3/envs/r35py37/lib/python3.7/multiprocessing/pool.py\u001b[0m in \u001b[0;36mjoin\u001b[0;34m(self)\u001b[0m\n\u001b[1;32m    554\u001b[0m         \u001b[0;32melif\u001b[0m \u001b[0mself\u001b[0m\u001b[0;34m.\u001b[0m\u001b[0m_state\u001b[0m \u001b[0;32mnot\u001b[0m \u001b[0;32min\u001b[0m \u001b[0;34m(\u001b[0m\u001b[0mCLOSE\u001b[0m\u001b[0;34m,\u001b[0m \u001b[0mTERMINATE\u001b[0m\u001b[0;34m)\u001b[0m\u001b[0;34m:\u001b[0m\u001b[0;34m\u001b[0m\u001b[0m\n\u001b[1;32m    555\u001b[0m             \u001b[0;32mraise\u001b[0m \u001b[0mValueError\u001b[0m\u001b[0;34m(\u001b[0m\u001b[0;34m\"In unknown state\"\u001b[0m\u001b[0;34m)\u001b[0m\u001b[0;34m\u001b[0m\u001b[0m\n\u001b[0;32m--> 556\u001b[0;31m         \u001b[0mself\u001b[0m\u001b[0;34m.\u001b[0m\u001b[0m_worker_handler\u001b[0m\u001b[0;34m.\u001b[0m\u001b[0mjoin\u001b[0m\u001b[0;34m(\u001b[0m\u001b[0;34m)\u001b[0m\u001b[0;34m\u001b[0m\u001b[0m\n\u001b[0m\u001b[1;32m    557\u001b[0m         \u001b[0mself\u001b[0m\u001b[0;34m.\u001b[0m\u001b[0m_task_handler\u001b[0m\u001b[0;34m.\u001b[0m\u001b[0mjoin\u001b[0m\u001b[0;34m(\u001b[0m\u001b[0;34m)\u001b[0m\u001b[0;34m\u001b[0m\u001b[0m\n\u001b[1;32m    558\u001b[0m         \u001b[0mself\u001b[0m\u001b[0;34m.\u001b[0m\u001b[0m_result_handler\u001b[0m\u001b[0;34m.\u001b[0m\u001b[0mjoin\u001b[0m\u001b[0;34m(\u001b[0m\u001b[0;34m)\u001b[0m\u001b[0;34m\u001b[0m\u001b[0m\n",
      "\u001b[0;32m~/miniconda3/envs/r35py37/lib/python3.7/threading.py\u001b[0m in \u001b[0;36mjoin\u001b[0;34m(self, timeout)\u001b[0m\n\u001b[1;32m   1030\u001b[0m \u001b[0;34m\u001b[0m\u001b[0m\n\u001b[1;32m   1031\u001b[0m         \u001b[0;32mif\u001b[0m \u001b[0mtimeout\u001b[0m \u001b[0;32mis\u001b[0m \u001b[0;32mNone\u001b[0m\u001b[0;34m:\u001b[0m\u001b[0;34m\u001b[0m\u001b[0m\n\u001b[0;32m-> 1032\u001b[0;31m             \u001b[0mself\u001b[0m\u001b[0;34m.\u001b[0m\u001b[0m_wait_for_tstate_lock\u001b[0m\u001b[0;34m(\u001b[0m\u001b[0;34m)\u001b[0m\u001b[0;34m\u001b[0m\u001b[0m\n\u001b[0m\u001b[1;32m   1033\u001b[0m         \u001b[0;32melse\u001b[0m\u001b[0;34m:\u001b[0m\u001b[0;34m\u001b[0m\u001b[0m\n\u001b[1;32m   1034\u001b[0m             \u001b[0;31m# the behavior of a negative timeout isn't documented, but\u001b[0m\u001b[0;34m\u001b[0m\u001b[0;34m\u001b[0m\u001b[0m\n",
      "\u001b[0;32m~/miniconda3/envs/r35py37/lib/python3.7/threading.py\u001b[0m in \u001b[0;36m_wait_for_tstate_lock\u001b[0;34m(self, block, timeout)\u001b[0m\n\u001b[1;32m   1046\u001b[0m         \u001b[0;32mif\u001b[0m \u001b[0mlock\u001b[0m \u001b[0;32mis\u001b[0m \u001b[0;32mNone\u001b[0m\u001b[0;34m:\u001b[0m  \u001b[0;31m# already determined that the C code is done\u001b[0m\u001b[0;34m\u001b[0m\u001b[0m\n\u001b[1;32m   1047\u001b[0m             \u001b[0;32massert\u001b[0m \u001b[0mself\u001b[0m\u001b[0;34m.\u001b[0m\u001b[0m_is_stopped\u001b[0m\u001b[0;34m\u001b[0m\u001b[0m\n\u001b[0;32m-> 1048\u001b[0;31m         \u001b[0;32melif\u001b[0m \u001b[0mlock\u001b[0m\u001b[0;34m.\u001b[0m\u001b[0macquire\u001b[0m\u001b[0;34m(\u001b[0m\u001b[0mblock\u001b[0m\u001b[0;34m,\u001b[0m \u001b[0mtimeout\u001b[0m\u001b[0;34m)\u001b[0m\u001b[0;34m:\u001b[0m\u001b[0;34m\u001b[0m\u001b[0m\n\u001b[0m\u001b[1;32m   1049\u001b[0m             \u001b[0mlock\u001b[0m\u001b[0;34m.\u001b[0m\u001b[0mrelease\u001b[0m\u001b[0;34m(\u001b[0m\u001b[0;34m)\u001b[0m\u001b[0;34m\u001b[0m\u001b[0m\n\u001b[1;32m   1050\u001b[0m             \u001b[0mself\u001b[0m\u001b[0;34m.\u001b[0m\u001b[0m_stop\u001b[0m\u001b[0;34m(\u001b[0m\u001b[0;34m)\u001b[0m\u001b[0;34m\u001b[0m\u001b[0m\n",
      "\u001b[0;31mKeyboardInterrupt\u001b[0m: "
     ]
    }
   ],
   "source": [
    "p.close()\n",
    "p.join()\n",
    "p.terminate()\n",
    "del(p)"
   ]
  },
  {
   "cell_type": "code",
   "execution_count": 182,
   "metadata": {},
   "outputs": [],
   "source": [
    "p=Pool(9)"
   ]
  },
  {
   "cell_type": "code",
   "execution_count": 183,
   "metadata": {},
   "outputs": [],
   "source": [
    "def sparse_tau_dot2(gene):\n",
    "    return 1"
   ]
  },
  {
   "cell_type": "code",
   "execution_count": 184,
   "metadata": {},
   "outputs": [
    {
     "data": {
      "text/plain": [
       "[2, 2, 2, 2, 2, 2, 2, 2, 2, 2]"
      ]
     },
     "execution_count": 184,
     "metadata": {},
     "output_type": "execute_result"
    }
   ],
   "source": [
    "list(p.map(sparse_tau_dot2, range(10)) )"
   ]
  },
  {
   "cell_type": "markdown",
   "metadata": {},
   "source": [
    "Buggy.  This is just wrong.  Make sure to use pathos.\n",
    "\n",
    "Turns out that it's all buggy.  You actually want ipyparallel.  That's not here right now though."
   ]
  },
  {
   "cell_type": "markdown",
   "metadata": {},
   "source": [
    "---"
   ]
  },
  {
   "cell_type": "markdown",
   "metadata": {},
   "source": [
    "Here's a test - the time it takes to generate the constants for cluster 0.  We need the definition of the function fudge so that we can map (can't `p.map` with a `lambda` function: see [here](https://stackoverflow.com/questions/4827432/how-to-let-pool-map-take-a-lambda-function)).\n",
    "\n",
    "Edit: now using the `pathos` library, using a `lambda` function shouldn't be a problem.  But I've already got the framework below, so I'm going to keep making extra function definitions for now."
   ]
  },
  {
   "cell_type": "code",
   "execution_count": 190,
   "metadata": {},
   "outputs": [],
   "source": [
    "shoop = set(data.clusterindices[0])\n",
    "def fudge(gene):\n",
    "    return data.sparse_tau_dot(data.cs_currX.getcol(gene), data.clusterindices[0], highval=1, lowval=-1, dim=data.N, setindices=shoop)"
   ]
  },
  {
   "cell_type": "code",
   "execution_count": 191,
   "metadata": {},
   "outputs": [
    {
     "name": "stdout",
     "output_type": "stream",
     "text": [
      "CPU times: user 613 ms, sys: 338 ms, total: 950 ms\n",
      "Wall time: 3min 24s\n"
     ]
    }
   ],
   "source": [
    "%%time\n",
    "\n",
    "stuff = list(p.map(fudge, range(data.P)))"
   ]
  },
  {
   "cell_type": "markdown",
   "metadata": {},
   "source": [
    "`pathos` doesn't slow us down"
   ]
  },
  {
   "cell_type": "markdown",
   "metadata": {},
   "source": [
    "### Run 1bcs on one fold and save the constants"
   ]
  },
  {
   "cell_type": "code",
   "execution_count": 50,
   "metadata": {},
   "outputs": [
    {
     "name": "stdout",
     "output_type": "stream",
     "text": [
      "Loaded data for fold 4, starting generation of constants\n",
      "CPU times: user 2min 19s, sys: 3min 6s, total: 5min 25s\n",
      "Wall time: 6min 16s\n"
     ]
    }
   ],
   "source": [
    "%%time\n",
    "foldNum = 4\n",
    "\n",
    "mask = np.zeros(data.N, dtype=bool)\n",
    "mask[folds[foldNum]] = True\n",
    "foldData = Rocks(data.X[~mask], data.y[~mask], verbose=1)\n",
    "foldData.cs_currX = foldData.X\n",
    "\n",
    "print(\"Loaded data for fold {}, starting generation of constants\".format(foldNum), flush=True)\n",
    "\n",
    "def clustConsts4(clust):\n",
    "    print(\"Working on cluster {}\".format(clust), flush=True)\n",
    "    setindices = set(foldData.clusterindices[clust])\n",
    "    \n",
    "    rankvec = rankdata(foldData.clust2vec(clust+1))\n",
    "    rankvec = rankvec - rankvec.mean()\n",
    "    \n",
    "    consts = list(\n",
    "        map( lambda x: Rocks.sparse_tau_dot(\n",
    "            foldData, \n",
    "            foldData.cs_currX.getcol(x), \n",
    "            foldData.clusterindices[clust], \n",
    "            #highval=1, \n",
    "            #lowval=-1, \n",
    "            highval=rankvec.max(), \n",
    "            lowval=rankvec.min(), \n",
    "            dim=foldData.N, \n",
    "            setindices=setindices\n",
    "            ),\n",
    "            range(data.P)\n",
    "        )\n",
    "    )\n",
    "    \n",
    "    return np.array(consts)\n",
    "\n"
   ]
  },
  {
   "cell_type": "code",
   "execution_count": 22,
   "metadata": {},
   "outputs": [
    {
     "name": "stdout",
     "output_type": "stream",
     "text": [
      "CPU times: user 1min 27s, sys: 21.1 s, total: 1min 48s\n",
      "Wall time: 1min 48s\n"
     ]
    }
   ],
   "source": [
    "%%time\n",
    "foldNum = 0\n",
    "\n",
    "mask = np.zeros(data.N, dtype=bool)\n",
    "mask[folds[foldNum]] = True\n",
    "foldData = Rocks(data.X[~mask], data.y[~mask], verbose=1)\n",
    "foldData.cs_currX = foldData.X"
   ]
  },
  {
   "cell_type": "markdown",
   "metadata": {},
   "source": [
    "Could save one second per cluster by doing some optimal stuff here... don't think that it matters right now."
   ]
  },
  {
   "cell_type": "code",
   "execution_count": 24,
   "metadata": {},
   "outputs": [
    {
     "name": "stdout",
     "output_type": "stream",
     "text": [
      "CPU times: user 1.35 s, sys: 12.1 ms, total: 1.36 s\n",
      "Wall time: 1.36 s\n"
     ]
    }
   ],
   "source": [
    "%%time\n",
    "rankvec = rankdata(foldData.clust2vec(1))\n",
    "rankvec = rankvec - rankvec.mean()\n",
    "highval = rankvec.max()\n",
    "lowval = rankvec.min()"
   ]
  },
  {
   "cell_type": "code",
   "execution_count": 25,
   "metadata": {},
   "outputs": [
    {
     "data": {
      "text/plain": [
       "475193.5"
      ]
     },
     "execution_count": 25,
     "metadata": {},
     "output_type": "execute_result"
    }
   ],
   "source": [
    "highval"
   ]
  },
  {
   "cell_type": "code",
   "execution_count": 26,
   "metadata": {},
   "outputs": [
    {
     "data": {
      "text/plain": [
       "-47257.0"
      ]
     },
     "execution_count": 26,
     "metadata": {},
     "output_type": "execute_result"
    }
   ],
   "source": [
    "lowval"
   ]
  },
  {
   "cell_type": "code",
   "execution_count": 37,
   "metadata": {},
   "outputs": [
    {
     "name": "stdout",
     "output_type": "stream",
     "text": [
      "CPU times: user 12 µs, sys: 4 µs, total: 16 µs\n",
      "Wall time: 23.1 µs\n"
     ]
    }
   ],
   "source": [
    "%%time\n",
    "mu = (foldData.N + 1)/2\n",
    "lowval = (foldData.N - foldData.clusterindices[0].shape[0] + 1)/2 - mu\n",
    "highval = (foldData.N - foldData.clusterindices[0].shape[0]) +  (foldData.clusterindices[0].shape[0] + 1)/2 - mu"
   ]
  },
  {
   "cell_type": "code",
   "execution_count": 38,
   "metadata": {},
   "outputs": [
    {
     "data": {
      "text/plain": [
       "475193.5"
      ]
     },
     "execution_count": 38,
     "metadata": {},
     "output_type": "execute_result"
    }
   ],
   "source": [
    "highval"
   ]
  },
  {
   "cell_type": "code",
   "execution_count": 39,
   "metadata": {},
   "outputs": [
    {
     "data": {
      "text/plain": [
       "-47257.0"
      ]
     },
     "execution_count": 39,
     "metadata": {},
     "output_type": "execute_result"
    }
   ],
   "source": [
    "lowval"
   ]
  },
  {
   "cell_type": "code",
   "execution_count": 21,
   "metadata": {},
   "outputs": [
    {
     "ename": "KeyboardInterrupt",
     "evalue": "",
     "output_type": "error",
     "traceback": [
      "\u001b[0;31m---------------------------------------------------------------------------\u001b[0m",
      "\u001b[0;31mKeyboardInterrupt\u001b[0m                         Traceback (most recent call last)",
      "\u001b[0;32m<timed exec>\u001b[0m in \u001b[0;36m<module>\u001b[0;34m\u001b[0m\n",
      "\u001b[0;32m~/miniconda3/envs/r35py37/lib/python3.7/multiprocessing/pool.py\u001b[0m in \u001b[0;36mmap\u001b[0;34m(self, func, iterable, chunksize)\u001b[0m\n\u001b[1;32m    288\u001b[0m         \u001b[0;32min\u001b[0m \u001b[0ma\u001b[0m \u001b[0mlist\u001b[0m \u001b[0mthat\u001b[0m \u001b[0;32mis\u001b[0m \u001b[0mreturned\u001b[0m\u001b[0;34m.\u001b[0m\u001b[0;34m\u001b[0m\u001b[0;34m\u001b[0m\u001b[0m\n\u001b[1;32m    289\u001b[0m         '''\n\u001b[0;32m--> 290\u001b[0;31m         \u001b[0;32mreturn\u001b[0m \u001b[0mself\u001b[0m\u001b[0;34m.\u001b[0m\u001b[0m_map_async\u001b[0m\u001b[0;34m(\u001b[0m\u001b[0mfunc\u001b[0m\u001b[0;34m,\u001b[0m \u001b[0miterable\u001b[0m\u001b[0;34m,\u001b[0m \u001b[0mmapstar\u001b[0m\u001b[0;34m,\u001b[0m \u001b[0mchunksize\u001b[0m\u001b[0;34m)\u001b[0m\u001b[0;34m.\u001b[0m\u001b[0mget\u001b[0m\u001b[0;34m(\u001b[0m\u001b[0;34m)\u001b[0m\u001b[0;34m\u001b[0m\u001b[0;34m\u001b[0m\u001b[0m\n\u001b[0m\u001b[1;32m    291\u001b[0m \u001b[0;34m\u001b[0m\u001b[0m\n\u001b[1;32m    292\u001b[0m     \u001b[0;32mdef\u001b[0m \u001b[0mstarmap\u001b[0m\u001b[0;34m(\u001b[0m\u001b[0mself\u001b[0m\u001b[0;34m,\u001b[0m \u001b[0mfunc\u001b[0m\u001b[0;34m,\u001b[0m \u001b[0miterable\u001b[0m\u001b[0;34m,\u001b[0m \u001b[0mchunksize\u001b[0m\u001b[0;34m=\u001b[0m\u001b[0;32mNone\u001b[0m\u001b[0;34m)\u001b[0m\u001b[0;34m:\u001b[0m\u001b[0;34m\u001b[0m\u001b[0;34m\u001b[0m\u001b[0m\n",
      "\u001b[0;32m~/miniconda3/envs/r35py37/lib/python3.7/multiprocessing/pool.py\u001b[0m in \u001b[0;36mget\u001b[0;34m(self, timeout)\u001b[0m\n\u001b[1;32m    675\u001b[0m \u001b[0;34m\u001b[0m\u001b[0m\n\u001b[1;32m    676\u001b[0m     \u001b[0;32mdef\u001b[0m \u001b[0mget\u001b[0m\u001b[0;34m(\u001b[0m\u001b[0mself\u001b[0m\u001b[0;34m,\u001b[0m \u001b[0mtimeout\u001b[0m\u001b[0;34m=\u001b[0m\u001b[0;32mNone\u001b[0m\u001b[0;34m)\u001b[0m\u001b[0;34m:\u001b[0m\u001b[0;34m\u001b[0m\u001b[0;34m\u001b[0m\u001b[0m\n\u001b[0;32m--> 677\u001b[0;31m         \u001b[0mself\u001b[0m\u001b[0;34m.\u001b[0m\u001b[0mwait\u001b[0m\u001b[0;34m(\u001b[0m\u001b[0mtimeout\u001b[0m\u001b[0;34m)\u001b[0m\u001b[0;34m\u001b[0m\u001b[0;34m\u001b[0m\u001b[0m\n\u001b[0m\u001b[1;32m    678\u001b[0m         \u001b[0;32mif\u001b[0m \u001b[0;32mnot\u001b[0m \u001b[0mself\u001b[0m\u001b[0;34m.\u001b[0m\u001b[0mready\u001b[0m\u001b[0;34m(\u001b[0m\u001b[0;34m)\u001b[0m\u001b[0;34m:\u001b[0m\u001b[0;34m\u001b[0m\u001b[0;34m\u001b[0m\u001b[0m\n\u001b[1;32m    679\u001b[0m             \u001b[0;32mraise\u001b[0m \u001b[0mTimeoutError\u001b[0m\u001b[0;34m\u001b[0m\u001b[0;34m\u001b[0m\u001b[0m\n",
      "\u001b[0;32m~/miniconda3/envs/r35py37/lib/python3.7/multiprocessing/pool.py\u001b[0m in \u001b[0;36mwait\u001b[0;34m(self, timeout)\u001b[0m\n\u001b[1;32m    672\u001b[0m \u001b[0;34m\u001b[0m\u001b[0m\n\u001b[1;32m    673\u001b[0m     \u001b[0;32mdef\u001b[0m \u001b[0mwait\u001b[0m\u001b[0;34m(\u001b[0m\u001b[0mself\u001b[0m\u001b[0;34m,\u001b[0m \u001b[0mtimeout\u001b[0m\u001b[0;34m=\u001b[0m\u001b[0;32mNone\u001b[0m\u001b[0;34m)\u001b[0m\u001b[0;34m:\u001b[0m\u001b[0;34m\u001b[0m\u001b[0;34m\u001b[0m\u001b[0m\n\u001b[0;32m--> 674\u001b[0;31m         \u001b[0mself\u001b[0m\u001b[0;34m.\u001b[0m\u001b[0m_event\u001b[0m\u001b[0;34m.\u001b[0m\u001b[0mwait\u001b[0m\u001b[0;34m(\u001b[0m\u001b[0mtimeout\u001b[0m\u001b[0;34m)\u001b[0m\u001b[0;34m\u001b[0m\u001b[0;34m\u001b[0m\u001b[0m\n\u001b[0m\u001b[1;32m    675\u001b[0m \u001b[0;34m\u001b[0m\u001b[0m\n\u001b[1;32m    676\u001b[0m     \u001b[0;32mdef\u001b[0m \u001b[0mget\u001b[0m\u001b[0;34m(\u001b[0m\u001b[0mself\u001b[0m\u001b[0;34m,\u001b[0m \u001b[0mtimeout\u001b[0m\u001b[0;34m=\u001b[0m\u001b[0;32mNone\u001b[0m\u001b[0;34m)\u001b[0m\u001b[0;34m:\u001b[0m\u001b[0;34m\u001b[0m\u001b[0;34m\u001b[0m\u001b[0m\n",
      "\u001b[0;32m~/miniconda3/envs/r35py37/lib/python3.7/threading.py\u001b[0m in \u001b[0;36mwait\u001b[0;34m(self, timeout)\u001b[0m\n\u001b[1;32m    550\u001b[0m             \u001b[0msignaled\u001b[0m \u001b[0;34m=\u001b[0m \u001b[0mself\u001b[0m\u001b[0;34m.\u001b[0m\u001b[0m_flag\u001b[0m\u001b[0;34m\u001b[0m\u001b[0;34m\u001b[0m\u001b[0m\n\u001b[1;32m    551\u001b[0m             \u001b[0;32mif\u001b[0m \u001b[0;32mnot\u001b[0m \u001b[0msignaled\u001b[0m\u001b[0;34m:\u001b[0m\u001b[0;34m\u001b[0m\u001b[0;34m\u001b[0m\u001b[0m\n\u001b[0;32m--> 552\u001b[0;31m                 \u001b[0msignaled\u001b[0m \u001b[0;34m=\u001b[0m \u001b[0mself\u001b[0m\u001b[0;34m.\u001b[0m\u001b[0m_cond\u001b[0m\u001b[0;34m.\u001b[0m\u001b[0mwait\u001b[0m\u001b[0;34m(\u001b[0m\u001b[0mtimeout\u001b[0m\u001b[0;34m)\u001b[0m\u001b[0;34m\u001b[0m\u001b[0;34m\u001b[0m\u001b[0m\n\u001b[0m\u001b[1;32m    553\u001b[0m             \u001b[0;32mreturn\u001b[0m \u001b[0msignaled\u001b[0m\u001b[0;34m\u001b[0m\u001b[0;34m\u001b[0m\u001b[0m\n\u001b[1;32m    554\u001b[0m \u001b[0;34m\u001b[0m\u001b[0m\n",
      "\u001b[0;32m~/miniconda3/envs/r35py37/lib/python3.7/threading.py\u001b[0m in \u001b[0;36mwait\u001b[0;34m(self, timeout)\u001b[0m\n\u001b[1;32m    294\u001b[0m         \u001b[0;32mtry\u001b[0m\u001b[0;34m:\u001b[0m    \u001b[0;31m# restore state no matter what (e.g., KeyboardInterrupt)\u001b[0m\u001b[0;34m\u001b[0m\u001b[0;34m\u001b[0m\u001b[0m\n\u001b[1;32m    295\u001b[0m             \u001b[0;32mif\u001b[0m \u001b[0mtimeout\u001b[0m \u001b[0;32mis\u001b[0m \u001b[0;32mNone\u001b[0m\u001b[0;34m:\u001b[0m\u001b[0;34m\u001b[0m\u001b[0;34m\u001b[0m\u001b[0m\n\u001b[0;32m--> 296\u001b[0;31m                 \u001b[0mwaiter\u001b[0m\u001b[0;34m.\u001b[0m\u001b[0macquire\u001b[0m\u001b[0;34m(\u001b[0m\u001b[0;34m)\u001b[0m\u001b[0;34m\u001b[0m\u001b[0;34m\u001b[0m\u001b[0m\n\u001b[0m\u001b[1;32m    297\u001b[0m                 \u001b[0mgotit\u001b[0m \u001b[0;34m=\u001b[0m \u001b[0;32mTrue\u001b[0m\u001b[0;34m\u001b[0m\u001b[0;34m\u001b[0m\u001b[0m\n\u001b[1;32m    298\u001b[0m             \u001b[0;32melse\u001b[0m\u001b[0;34m:\u001b[0m\u001b[0;34m\u001b[0m\u001b[0;34m\u001b[0m\u001b[0m\n",
      "\u001b[0;31mKeyboardInterrupt\u001b[0m: "
     ]
    }
   ],
   "source": [
    "%%time\n",
    "zam = np.array(list( p.map(clustConsts3, range(6)) ))"
   ]
  },
  {
   "cell_type": "code",
   "execution_count": 63,
   "metadata": {},
   "outputs": [
    {
     "name": "stdout",
     "output_type": "stream",
     "text": [
      "CPU times: user 8.24 s, sys: 6.07 s, total: 14.3 s\n",
      "Wall time: 1h 44min 51s\n"
     ]
    }
   ],
   "source": [
    "%%time\n",
    "bam = np.array(list( p.map(clustConsts4, range(foldData.K)) ))"
   ]
  },
  {
   "cell_type": "code",
   "execution_count": 77,
   "metadata": {},
   "outputs": [
    {
     "data": {
      "text/plain": [
       "(39, 24015)"
      ]
     },
     "execution_count": 77,
     "metadata": {},
     "output_type": "execute_result"
    }
   ],
   "source": [
    "bam.shape"
   ]
  },
  {
   "cell_type": "code",
   "execution_count": 73,
   "metadata": {},
   "outputs": [],
   "source": [
    "p.terminate()"
   ]
  },
  {
   "cell_type": "code",
   "execution_count": 74,
   "metadata": {},
   "outputs": [],
   "source": [
    "p.close()"
   ]
  },
  {
   "cell_type": "code",
   "execution_count": 75,
   "metadata": {},
   "outputs": [],
   "source": [
    "p.join()"
   ]
  },
  {
   "cell_type": "code",
   "execution_count": 76,
   "metadata": {},
   "outputs": [],
   "source": [
    "del(p)"
   ]
  },
  {
   "cell_type": "code",
   "execution_count": 37,
   "metadata": {},
   "outputs": [
    {
     "data": {
      "text/plain": [
       "array([  4613.45871887,  -1184.32667381,  -5381.66758987, -17723.41775877,\n",
       "          924.07810428,     92.51213699, -20087.73365042,  -1302.68201972,\n",
       "        -7446.95110748, -42428.04132737])"
      ]
     },
     "execution_count": 37,
     "metadata": {},
     "output_type": "execute_result"
    }
   ],
   "source": [
    "bam[0,:10]"
   ]
  },
  {
   "cell_type": "code",
   "execution_count": 65,
   "metadata": {},
   "outputs": [],
   "source": [
    "np.savez(\"1M-fold4-rankConsts.npz\", consts=bam)"
   ]
  },
  {
   "cell_type": "code",
   "execution_count": 71,
   "metadata": {},
   "outputs": [],
   "source": [
    "diff = np.load(\"1M-fold4-rankConsts.npz\")['consts']"
   ]
  },
  {
   "cell_type": "code",
   "execution_count": 39,
   "metadata": {},
   "outputs": [
    {
     "data": {
      "text/plain": [
       "(39, 24015)"
      ]
     },
     "execution_count": 39,
     "metadata": {},
     "output_type": "execute_result"
    }
   ],
   "source": [
    "diff.shape"
   ]
  },
  {
   "cell_type": "code",
   "execution_count": 70,
   "metadata": {},
   "outputs": [
    {
     "data": {
      "text/plain": [
       "(0,)"
      ]
     },
     "execution_count": 70,
     "metadata": {},
     "output_type": "execute_result"
    }
   ],
   "source": [
    "np.nonzero(bam[0,:100] - salv)[0].shape"
   ]
  },
  {
   "cell_type": "code",
   "execution_count": 72,
   "metadata": {},
   "outputs": [
    {
     "data": {
      "text/plain": [
       "(array([], dtype=int64),)"
      ]
     },
     "execution_count": 72,
     "metadata": {},
     "output_type": "execute_result"
    }
   ],
   "source": [
    "np.nonzero(diff[0,:100] - salv)"
   ]
  },
  {
   "cell_type": "code",
   "execution_count": 60,
   "metadata": {},
   "outputs": [
    {
     "data": {
      "text/plain": [
       "(39, 24015)"
      ]
     },
     "execution_count": 60,
     "metadata": {},
     "output_type": "execute_result"
    }
   ],
   "source": [
    "bam.shape"
   ]
  },
  {
   "cell_type": "code",
   "execution_count": 50,
   "metadata": {},
   "outputs": [],
   "source": [
    "p.close()"
   ]
  },
  {
   "cell_type": "code",
   "execution_count": 69,
   "metadata": {},
   "outputs": [],
   "source": [
    "p.close()"
   ]
  },
  {
   "cell_type": "code",
   "execution_count": null,
   "metadata": {},
   "outputs": [],
   "source": [
    "p.terminate()"
   ]
  },
  {
   "cell_type": "code",
   "execution_count": null,
   "metadata": {},
   "outputs": [],
   "source": [
    "del(p)"
   ]
  },
  {
   "cell_type": "markdown",
   "metadata": {},
   "source": [
    "Older testing/fighting with various parallel processing libraries... don't need to run"
   ]
  },
  {
   "cell_type": "code",
   "execution_count": 10,
   "metadata": {},
   "outputs": [
    {
     "name": "stdout",
     "output_type": "stream",
     "text": [
      "Memory usage: current 16.14 GB, difference +16.14 GB\n"
     ]
    }
   ],
   "source": [
    "fold_adata = sc.read_h5ad(\"scanpy/fold3/1M-fold3.h5ad\")\n",
    "yVec = np.array([int(val) for val in fold_adata.obs['louvain']])\n",
    "sc.logging.print_memory_usage()"
   ]
  },
  {
   "cell_type": "code",
   "execution_count": 11,
   "metadata": {},
   "outputs": [],
   "source": [
    "fold_adata.X = fold_adata.X.tocsc()"
   ]
  },
  {
   "cell_type": "code",
   "execution_count": 12,
   "metadata": {},
   "outputs": [],
   "source": [
    "foldData = Rocks(fold_adata.X, yVec)\n",
    "foldData.cs_currX = foldData.X"
   ]
  },
  {
   "cell_type": "code",
   "execution_count": 20,
   "metadata": {},
   "outputs": [
    {
     "data": {
      "text/plain": [
       "39"
      ]
     },
     "execution_count": 20,
     "metadata": {},
     "output_type": "execute_result"
    }
   ],
   "source": [
    "foldData.K"
   ]
  },
  {
   "cell_type": "code",
   "execution_count": 16,
   "metadata": {},
   "outputs": [
    {
     "data": {
      "text/plain": [
       "<picturedrocks.rocks.Rocks at 0x2b0e22d505c0>"
      ]
     },
     "execution_count": 16,
     "metadata": {},
     "output_type": "execute_result"
    }
   ],
   "source": [
    "foldData"
   ]
  },
  {
   "cell_type": "code",
   "execution_count": 69,
   "metadata": {},
   "outputs": [
    {
     "data": {
      "text/plain": [
       "(39, 24015)"
      ]
     },
     "execution_count": 69,
     "metadata": {},
     "output_type": "execute_result"
    }
   ],
   "source": [
    "bam.shape"
   ]
  },
  {
   "cell_type": "code",
   "execution_count": 70,
   "metadata": {},
   "outputs": [
    {
     "data": {
      "text/plain": [
       "array([0., 0., 0., 0., 0., 0., 0., 0., 0., 0.])"
      ]
     },
     "execution_count": 70,
     "metadata": {},
     "output_type": "execute_result"
    }
   ],
   "source": [
    "bam[0,:10] - stuff[2,0,:10]"
   ]
  },
  {
   "cell_type": "markdown",
   "metadata": {},
   "source": [
    "This makes no sense.  I changed the NAME of the function and everything.  I don't understand."
   ]
  },
  {
   "cell_type": "code",
   "execution_count": 68,
   "metadata": {},
   "outputs": [
    {
     "name": "stdout",
     "output_type": "stream",
     "text": [
      "CPU times: user 1.54 s, sys: 155 ms, total: 1.69 s\n",
      "Wall time: 1.68 s\n"
     ]
    }
   ],
   "source": [
    "%%time\n",
    "setindices = set(foldData.clusterindices[0])\n",
    "\n",
    "rankvec = rankdata(foldData.clust2vec(1))\n",
    "rankvec = rankvec - rankvec.mean()"
   ]
  },
  {
   "cell_type": "code",
   "execution_count": 69,
   "metadata": {},
   "outputs": [
    {
     "name": "stdout",
     "output_type": "stream",
     "text": [
      "CPU times: user 5.77 s, sys: 310 ms, total: 6.08 s\n",
      "Wall time: 6.05 s\n"
     ]
    }
   ],
   "source": [
    "%%time\n",
    "salv = list(map( lambda x: Rocks.sparse_tau_dot(\n",
    "        foldData, \n",
    "        foldData.cs_currX.getcol(x), \n",
    "        foldData.clusterindices[0], \n",
    "        highval=rankvec.max(), \n",
    "        lowval=rankvec.min(), \n",
    "        dim=foldData.N, \n",
    "        setindices=setindices\n",
    "        ),\n",
    "        range(100)\n",
    "    ))"
   ]
  },
  {
   "cell_type": "code",
   "execution_count": 54,
   "metadata": {},
   "outputs": [
    {
     "data": {
      "text/plain": [
       "0.0"
      ]
     },
     "execution_count": 54,
     "metadata": {},
     "output_type": "execute_result"
    }
   ],
   "source": [
    "rankvec = rankdata(foldData.clust2vec(1))\n",
    "rankvec = rankvec - rankvec.mean()\n",
    "\n",
    "foldData.sparse_tau_dot(\n",
    "    foldData.cs_currX.getcol(0),\n",
    "    foldData.clusterindices[0], \n",
    "    highval=rankvec.max(), \n",
    "    lowval=rankvec.min(), \n",
    "    dim=foldData.N\n",
    ") - salv[0]"
   ]
  },
  {
   "cell_type": "code",
   "execution_count": 72,
   "metadata": {},
   "outputs": [
    {
     "data": {
      "text/plain": [
       "array([  5192.89623578,   -899.79820618,  -5343.16963752, -17719.21974714,\n",
       "         1126.11230423,   -287.79380852, -20193.80149437,  -1301.14327524,\n",
       "        -8257.00716916, -42524.28747155])"
      ]
     },
     "execution_count": 72,
     "metadata": {},
     "output_type": "execute_result"
    }
   ],
   "source": [
    "bam[0,:10]"
   ]
  },
  {
   "cell_type": "code",
   "execution_count": 41,
   "metadata": {},
   "outputs": [],
   "source": [
    "stuff = [np.load(\"1M-fold{}-consts.npz\".format(i))['consts'] for i in range(5)]"
   ]
  },
  {
   "cell_type": "code",
   "execution_count": 42,
   "metadata": {},
   "outputs": [
    {
     "data": {
      "text/plain": [
       "array([[  5296.94113288,   -808.30365671,  -5490.02190093,\n",
       "        -17647.31017347,    948.39699087,   -572.74427196,\n",
       "        -20489.79414377,  -1400.25283949,  -7529.69551733,\n",
       "        -42312.75312821],\n",
       "       [  5125.9971411 ,   -917.52549398,  -5458.38318901,\n",
       "        -17775.49146906,   1048.53275752,   -764.59207149,\n",
       "        -20381.04450438,  -1248.98593285,  -7935.14396102,\n",
       "        -42470.80942293],\n",
       "       [  5192.89623578,   -899.79820618,  -5343.16963752,\n",
       "        -17719.21974714,   1126.11230423,   -287.79380852,\n",
       "        -20193.80149437,  -1301.14327524,  -8257.00716916,\n",
       "        -42524.28747155],\n",
       "       [  4613.45871887,  -1184.32667381,  -5381.66758987,\n",
       "        -17723.41775877,    924.07810428,     92.51213699,\n",
       "        -20087.73365042,  -1302.68201972,  -7446.95110748,\n",
       "        -42428.04132737],\n",
       "       [  4919.98950299,   -808.56829976,  -5474.74801012,\n",
       "        -17711.53871073,    737.10764331,   -190.61711616,\n",
       "        -19595.77306344,  -1142.23665154,  -7499.32093566,\n",
       "        -42498.47029174]])"
      ]
     },
     "execution_count": 42,
     "metadata": {},
     "output_type": "execute_result"
    }
   ],
   "source": [
    "np.array(stuff)[:,0,:10]"
   ]
  },
  {
   "cell_type": "code",
   "execution_count": 43,
   "metadata": {},
   "outputs": [],
   "source": [
    "stuff = np.array(stuff)"
   ]
  },
  {
   "cell_type": "markdown",
   "metadata": {},
   "source": [
    "After that mess, let's do a check to make sure that we actually get some of the correct constants."
   ]
  },
  {
   "cell_type": "code",
   "execution_count": 44,
   "metadata": {},
   "outputs": [
    {
     "name": "stdout",
     "output_type": "stream",
     "text": [
      "Loaded data for fold 0, starting generation of constants\n",
      "Loaded data for fold 1, starting generation of constants\n",
      "Loaded data for fold 2, starting generation of constants\n",
      "Loaded data for fold 3, starting generation of constants\n",
      "Loaded data for fold 4, starting generation of constants\n",
      "CPU times: user 7min 2s, sys: 18min 45s, total: 25min 48s\n",
      "Wall time: 21min 54s\n"
     ]
    }
   ],
   "source": [
    "%%time\n",
    "\n",
    "test = []\n",
    "\n",
    "for foldNum in range(5):\n",
    "\n",
    "    mask = np.zeros(data.N, dtype=bool)\n",
    "    mask[folds[foldNum]] = True\n",
    "    foldData = Rocks(data.X[~mask], data.y[~mask], verbose=1)\n",
    "    foldData.cs_currX = foldData.X\n",
    "\n",
    "    print(\"Loaded data for fold {}, starting generation of constants\".format(foldNum), flush=True)\n",
    "    setindices = set(foldData.clusterindices[0])\n",
    "    \n",
    "    test.append(\n",
    "        list(\n",
    "            map( lambda x: Rocks.sparse_tau_dot(\n",
    "                foldData, \n",
    "                foldData.cs_currX.getcol(x), \n",
    "                foldData.clusterindices[0], \n",
    "                highval=1, \n",
    "                lowval=-1, \n",
    "                dim=foldData.N, \n",
    "                setindices=setindices\n",
    "                ),\n",
    "                range(100)\n",
    "            )\n",
    "        )\n",
    "    )\n",
    "    \n",
    "test = np.array(test)\n",
    "\n"
   ]
  },
  {
   "cell_type": "code",
   "execution_count": 49,
   "metadata": {},
   "outputs": [
    {
     "data": {
      "text/plain": [
       "(array([], dtype=int64), array([], dtype=int64))"
      ]
     },
     "execution_count": 49,
     "metadata": {},
     "output_type": "execute_result"
    }
   ],
   "source": [
    "np.nonzero(stuff[:,0,:100] - test)"
   ]
  },
  {
   "cell_type": "markdown",
   "metadata": {},
   "source": [
    "Hooray!"
   ]
  },
  {
   "cell_type": "markdown",
   "metadata": {},
   "source": [
    "Another potential parallelizing technique"
   ]
  },
  {
   "cell_type": "code",
   "execution_count": 218,
   "metadata": {},
   "outputs": [],
   "source": [
    "import concurrent.futures"
   ]
  },
  {
   "cell_type": "code",
   "execution_count": 220,
   "metadata": {},
   "outputs": [
    {
     "data": {
      "text/plain": [
       "concurrent.futures.process.ProcessPoolExecutor"
      ]
     },
     "execution_count": 220,
     "metadata": {},
     "output_type": "execute_result"
    }
   ],
   "source": [
    "concurrent.futures.ProcessPoolExecutor"
   ]
  },
  {
   "cell_type": "markdown",
   "metadata": {},
   "source": [
    "This doesn't work for some reason:"
   ]
  },
  {
   "cell_type": "code",
   "execution_count": null,
   "metadata": {},
   "outputs": [],
   "source": [
    "for clust in range(data.K):\n",
    "    print(\"Working on cluster {}\".format(clust), flush=True)\n",
    "    \n",
    "    setindices = set(foldData.clusterindices[clust])\n",
    "    \n",
    "    def sparse_tau_dot(gene):\n",
    "        return Rocks.sparse_tau_dot(\n",
    "            foldData, \n",
    "            foldData.cs_currX.getcol(gene), \n",
    "            foldData.clusterindices[clust], \n",
    "            highval=1, \n",
    "            lowval=-1, \n",
    "            dim=foldData.N, \n",
    "            setindices=setindices\n",
    "        )\n",
    "    \n",
    "    consts = list( p.map(sparse_tau_dot, range(foldData.P)) )\n",
    "\n",
    "    foldData.cs_OvA[clust] = np.array(consts)"
   ]
  },
  {
   "cell_type": "code",
   "execution_count": 250,
   "metadata": {},
   "outputs": [
    {
     "data": {
      "text/plain": [
       "array([0., 0., 0., 0., 0., 0., 0., 0., 0., 0., 0., 0., 0., 0., 0., 0., 0.,\n",
       "       0., 0., 0.])"
      ]
     },
     "execution_count": 250,
     "metadata": {},
     "output_type": "execute_result"
    }
   ],
   "source": [
    "clust = 10\n",
    "setindices = set(foldData.clusterindices[clust])\n",
    "\n",
    "def sparse_tau_dot(gene):\n",
    "    return Rocks.sparse_tau_dot(\n",
    "        foldData, \n",
    "        foldData.cs_currX.getcol(gene), \n",
    "        foldData.clusterindices[clust], \n",
    "        highval=1, \n",
    "        lowval=-1, \n",
    "        dim=foldData.N, \n",
    "        setindices=setindices\n",
    "    )\n",
    "\n",
    "foldData.cs_OvA[clust,:20] - list( map(sparse_tau_dot, range(20)) )"
   ]
  },
  {
   "cell_type": "code",
   "execution_count": 251,
   "metadata": {},
   "outputs": [
    {
     "data": {
      "text/plain": [
       "[1854.4595558147462,\n",
       " -128.24245096925108,\n",
       " -2320.9912975450748,\n",
       " -7106.024145665475,\n",
       " 331.02999345871206,\n",
       " -10833.528068319602,\n",
       " -12820.987271304646,\n",
       " -151.83366843598108,\n",
       " -11937.960246046123,\n",
       " -15595.620156888213,\n",
       " -376.44316607784276,\n",
       " -8264.016581095753,\n",
       " -1824.3626259125767,\n",
       " -81.46279087247795,\n",
       " -616.2163718755385,\n",
       " -1734.5776345859838,\n",
       " 160.87341981144186,\n",
       " -9680.077349966758,\n",
       " -2185.4803671247314,\n",
       " -1206.8807244813256]"
      ]
     },
     "execution_count": 251,
     "metadata": {},
     "output_type": "execute_result"
    }
   ],
   "source": [
    "list( map(sparse_tau_dot, range(20)) )"
   ]
  },
  {
   "cell_type": "code",
   "execution_count": 79,
   "metadata": {},
   "outputs": [],
   "source": [
    "fold0 = np.load(\"1M-fold0-consts.npz\")['consts']"
   ]
  },
  {
   "cell_type": "code",
   "execution_count": 80,
   "metadata": {},
   "outputs": [
    {
     "data": {
      "text/plain": [
       "(39, 24015)"
      ]
     },
     "execution_count": 80,
     "metadata": {},
     "output_type": "execute_result"
    }
   ],
   "source": [
    "fold0.shape"
   ]
  },
  {
   "cell_type": "code",
   "execution_count": 195,
   "metadata": {},
   "outputs": [
    {
     "data": {
      "text/plain": [
       "array([  5296.94113288,   -808.30365671,  -5490.02190093, -17647.31017347,\n",
       "          948.39699087,   -572.74427196, -20489.79414377,  -1400.25283949,\n",
       "        -7529.69551733, -42312.75312821])"
      ]
     },
     "execution_count": 195,
     "metadata": {},
     "output_type": "execute_result"
    }
   ],
   "source": [
    "fold0[1,:10]"
   ]
  },
  {
   "cell_type": "code",
   "execution_count": 199,
   "metadata": {},
   "outputs": [
    {
     "data": {
      "text/plain": [
       "array([  5296.94113288,   -808.30365671,  -5490.02190093, -17647.31017347,\n",
       "          948.39699087,   -572.74427196, -20489.79414377,  -1400.25283949,\n",
       "        -7529.69551733, -42312.75312821])"
      ]
     },
     "execution_count": 199,
     "metadata": {},
     "output_type": "execute_result"
    }
   ],
   "source": [
    "foldData.cs_OvA[1,:10] "
   ]
  },
  {
   "cell_type": "code",
   "execution_count": 78,
   "metadata": {},
   "outputs": [],
   "source": [
    "def riiipFold(foldNum, pool=p, folds=folds, data=data):\n",
    "\n",
    "    mask = np.zeros(data.N, dtype=bool)\n",
    "    mask[folds[foldNum]] = True\n",
    "    foldData = Rocks(data.X[~mask], data.y[~mask], verbose=1)\n",
    "    foldData.cs_currX = foldData.X\n",
    "\n",
    "    print(\"Loaded data for fold {}, starting generation of constants\".format(foldNum), flush=True)\n",
    "\n",
    "    for clust in range(data.K):\n",
    "        print(\"Working on cluster {}\".format(clust), flush=True)\n",
    "\n",
    "        setindices = set(foldData.clusterindices[clust])\n",
    "\n",
    "        def sparse_tau_dot(gene):\n",
    "            return Rocks.sparse_tau_dot(\n",
    "                foldData, \n",
    "                foldData.cs_currX.getcol(gene), \n",
    "                foldData.clusterindices[clust], \n",
    "                highval=1, \n",
    "                lowval=-1, \n",
    "                dim=foldData.N, \n",
    "                setindices=setindices\n",
    "            )\n",
    "\n",
    "        consts = list( p.map(sparse_tau_dot, range(foldData.P)) )\n",
    "\n",
    "        foldData.cs_OvA[clust] = np.array(consts)\n",
    "    \n",
    "    np.savez(\"1M-fold{}-consts.npz\".format(foldNum), consts=foldData.cs_OvA)"
   ]
  },
  {
   "cell_type": "markdown",
   "metadata": {},
   "source": [
    "## Find p values using scanpy\n",
    "\n",
    "This was copied from `~/publicData/scanpy-pvals.ipynb` and appropriately edited on 13 February 2019.  All three of the scanpy methods take too long on the full data set for cross-validation: thus, we have made a separate file so that we can run in parallel.\n",
    "\n",
    "(Specifically - we don't run in a jupyter notebook.  See the extra scripts in this directory)"
   ]
  },
  {
   "cell_type": "code",
   "execution_count": 6,
   "metadata": {},
   "outputs": [],
   "source": [
    "def geneName2index(adata, name):\n",
    "    geneNames = np.array(adata.var.index)\n",
    "    inds = np.where(geneNames == name)[0]\n",
    "    if inds.size == 0:\n",
    "        print(\"Waring: gene name not found in adata variable index: returning 0\", flush=True)\n",
    "        return 0\n",
    "    else:\n",
    "        return inds[0]"
   ]
  },
  {
   "cell_type": "code",
   "execution_count": 8,
   "metadata": {},
   "outputs": [],
   "source": [
    "adata = sc.read_h5ad(\"1M-nzGenes-clusts.h5ad\")"
   ]
  },
  {
   "cell_type": "code",
   "execution_count": 9,
   "metadata": {},
   "outputs": [
    {
     "data": {
      "text/plain": [
       "AnnData object with n_obs × n_vars = 1306127 × 24015 \n",
       "    obs: 'louvain', 'graphclust'\n",
       "    var: 'gene_ids', 'n_counts'"
      ]
     },
     "execution_count": 9,
     "metadata": {},
     "output_type": "execute_result"
    }
   ],
   "source": [
    "adata"
   ]
  },
  {
   "cell_type": "markdown",
   "metadata": {},
   "source": [
    "Originally, the saved data didn't have the clustering as categorical.  Thus, need to redefine that."
   ]
  },
  {
   "cell_type": "code",
   "execution_count": 10,
   "metadata": {},
   "outputs": [],
   "source": [
    "louvain = pd.read_csv(\"louvain.csv\", dtype='category')\n",
    "graphclust = pd.read_csv(\"analysis/clustering/graphclust/clusters.csv\", dtype='category')\n",
    "\n",
    "adata.obs['louvain'] = louvain['x']\n",
    "adata.obs['graphclust'] = graphclust['Cluster']"
   ]
  },
  {
   "cell_type": "code",
   "execution_count": 11,
   "metadata": {},
   "outputs": [],
   "source": [
    "folds = np.load(\"10x-5folds.npz\")\n",
    "folds = [folds[\"fold{}\".format(i)] for i in range(5)]"
   ]
  },
  {
   "cell_type": "markdown",
   "metadata": {},
   "source": [
    "Save every fold since we are going to need to run them individually:"
   ]
  },
  {
   "cell_type": "code",
   "execution_count": null,
   "metadata": {},
   "outputs": [],
   "source": [
    "for ifold, fold in enumerate(folds):\n",
    "    \n",
    "    mask = np.zeros(adata.X.shape[0], dtype=bool)\n",
    "    mask[fold] = True\n",
    "    \n",
    "    foldAdata = adata[~mask]\n",
    "    foldAdata.write(\"1M-fold{}.h5ad\".format(ifold) )"
   ]
  },
  {
   "cell_type": "code",
   "execution_count": 10,
   "metadata": {},
   "outputs": [],
   "source": [
    "mask = np.zeros(adata.X.shape[0], dtype=bool)\n",
    "mask[folds[4]] = True\n",
    "\n",
    "foldAdata = adata[~mask]\n",
    "foldAdata.write(\"1M-fold{}.h5ad\".format(4) )"
   ]
  },
  {
   "cell_type": "markdown",
   "metadata": {},
   "source": [
    "Set up for running the scanpy methods"
   ]
  },
  {
   "cell_type": "code",
   "execution_count": 12,
   "metadata": {},
   "outputs": [],
   "source": [
    "methods = ['wilcoxon', 't-test_overestim_var', 'logreg']\n",
    "method = methods[1]"
   ]
  },
  {
   "cell_type": "markdown",
   "metadata": {},
   "source": [
    "Run on the full data set to get an indication of timing"
   ]
  },
  {
   "cell_type": "code",
   "execution_count": 17,
   "metadata": {},
   "outputs": [
    {
     "name": "stdout",
     "output_type": "stream",
     "text": [
      "After select_groups, groups_order = ['0' '1' '10' '11' '12' '13' '14' '15' '16' '17' '18' '19' '2' '20' '21'\n",
      " '22' '23' '24' '25' '26' '27' '28' '29' '3' '30' '31' '32' '33' '34' '35'\n",
      " '36' '37' '38' '4' '5' '6' '7' '8' '9']\n",
      "['0', '1', '10', '11', '12', '13', '14', '15', '16', '17', '18', '19', '2', '20', '21', '22', '23', '24', '25', '26', '27', '28', '29', '3', '30', '31', '32', '33', '34', '35', '36', '37', '38', '4', '5', '6', '7', '8', '9']\n",
      "CPU times: user 2h 22min 49s, sys: 2h 31min 20s, total: 4h 54min 9s\n",
      "Wall time: 4h 54min 7s\n"
     ]
    }
   ],
   "source": [
    "%%time\n",
    "sc.tl.rank_genes_groups(adata, groupby='louvain', n_genes=24015, method=method, rankby_abs=True, groups='all')"
   ]
  },
  {
   "cell_type": "markdown",
   "metadata": {},
   "source": [
    "**Running on all of the ~24000 genes**:\n",
    "\n",
    "Welp, this didn't finish running after about 3 hours 45 minutes using wilcoxon.  So... that's not good.  Not possible to cross validate that.  (It has also only been using 1 core for some reason).\n",
    "\n",
    "Even the t-test takes 5 hours.  That's not scalable at all.  I also think that something may wrong, since the example proivded by scanpy ([here](https://github.com/theislab/scanpy_usage/blob/master/170522_visualizing_one_million_cells/cluster.py)) takes only 8 minutes to rank_genes_groups (at least for 100 genes... perhaps it scales with the number of genes that you select)?  Hopefully it is not linear.  They also do the zheng17 recepie to select variable genes so they are working with a smaller number of genes (I think 1000) to begin with.  \n",
    "\n",
    "After this fails, I will try to select a smaller number of genes, but we should still need the scores for all of them."
   ]
  },
  {
   "cell_type": "code",
   "execution_count": null,
   "metadata": {},
   "outputs": [],
   "source": [
    "%%time\n",
    "nMarkers = 24015\n",
    "method = methods[1]\n",
    "print(\"Method is \" + method, flush=True)\n",
    "groupby = \"louvain\"\n",
    "# louvain or graphclust\n",
    "\n",
    "# mark this if you are comparing only two clusters.\n",
    "twoGroups = False\n",
    "\n",
    "pvals = []\n",
    "marks = []\n",
    "\n",
    "foldind = 0\n",
    "for fold in folds:\n",
    "    \n",
    "    # initialize\n",
    "    print(\"Finding markers for fold\" + str(foldind), flush=True)\n",
    "    foldind += 1\n",
    "    \n",
    "    foldPvals = []\n",
    "    foldMarkers = []\n",
    "\n",
    "    # run the method on the fold\n",
    "    if twoGroups: groups = [0,1]\n",
    "    else: groups = 'all'\n",
    "        \n",
    "    fold_adata = adata[fold]\n",
    "    sc.tl.rank_genes_groups(\n",
    "        fold_adata, \n",
    "        groupby=groupby, \n",
    "        n_genes=nMarkers, \n",
    "        method=method, \n",
    "        rankby_abs=True,\n",
    "        groups=groups\n",
    "    )\n",
    "    \n",
    "    \n",
    "    # fix this with an enumerate.  \n",
    "    # initialize the saved data so that I can refer to it by index later.\n",
    "    for index, name in enumerate(fold_adata.uns['rank_genes_groups']['names'].dtype.names):\n",
    "        foldPvals.append([])\n",
    "        foldMarkers.append([])\n",
    "    \n",
    "        foldPvals[index] = fold_adata.uns['rank_genes_groups']['scores'][name]\n",
    "        \n",
    "        currMarks = fold_adata.uns['rank_genes_groups']['names'][name]\n",
    "        foldMarkers[index] = np.array([ geneName2index(adata, gene) for gene in currMarks ])\n",
    "        \n",
    "    if (method == 'logreg' and twoGroups):\n",
    "        foldPvals.append(foldPvals[0])\n",
    "        foldMarkers.append(foldMarkers[0])\n",
    "        \n",
    "    pvals.append(foldPvals)\n",
    "    marks.append(foldMarkers)\n",
    "    \n",
    "pvals = np.array(pvals)\n",
    "marks = np.array(marks)"
   ]
  }
 ],
 "metadata": {
  "kernelspec": {
   "display_name": "Python r35py37",
   "language": "python",
   "name": "r35py37"
  },
  "language_info": {
   "codemirror_mode": {
    "name": "ipython",
    "version": 3
   },
   "file_extension": ".py",
   "mimetype": "text/x-python",
   "name": "python",
   "nbconvert_exporter": "python",
   "pygments_lexer": "ipython3",
   "version": "3.7.1"
  }
 },
 "nbformat": 4,
 "nbformat_minor": 2
}
